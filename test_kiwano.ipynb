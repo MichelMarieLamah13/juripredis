{
 "cells": [
  {
   "cell_type": "code",
   "execution_count": 1,
   "id": "initial_id",
   "metadata": {
    "collapsed": true,
    "ExecuteTime": {
     "end_time": "2023-10-27T07:59:18.736441677Z",
     "start_time": "2023-10-27T07:59:16.268536656Z"
    }
   },
   "outputs": [],
   "source": [
    "import torch"
   ]
  },
  {
   "cell_type": "code",
   "execution_count": 39,
   "outputs": [],
   "source": [
    "x = torch.randint(1,10, size=(3,2,2))"
   ],
   "metadata": {
    "collapsed": false,
    "ExecuteTime": {
     "end_time": "2023-10-27T09:43:47.020152282Z",
     "start_time": "2023-10-27T09:43:46.975655753Z"
    }
   },
   "id": "ed60510d5805c3fa"
  },
  {
   "cell_type": "code",
   "execution_count": 40,
   "outputs": [
    {
     "data": {
      "text/plain": "tensor([[[7, 9],\n         [3, 3]],\n\n        [[2, 5],\n         [4, 7]],\n\n        [[1, 2],\n         [2, 1]]])"
     },
     "execution_count": 40,
     "metadata": {},
     "output_type": "execute_result"
    }
   ],
   "source": [
    "x"
   ],
   "metadata": {
    "collapsed": false,
    "ExecuteTime": {
     "end_time": "2023-10-27T09:43:47.819090068Z",
     "start_time": "2023-10-27T09:43:47.818300828Z"
    }
   },
   "id": "b53173cff3713af5"
  },
  {
   "cell_type": "code",
   "execution_count": 47,
   "outputs": [
    {
     "data": {
      "text/plain": "torch.Size([3, 2, 2])"
     },
     "execution_count": 47,
     "metadata": {},
     "output_type": "execute_result"
    }
   ],
   "source": [
    "x.size()"
   ],
   "metadata": {
    "collapsed": false,
    "ExecuteTime": {
     "end_time": "2023-10-27T10:01:11.528810772Z",
     "start_time": "2023-10-27T10:01:11.524797112Z"
    }
   },
   "id": "dbb5779d51ac717c"
  },
  {
   "cell_type": "code",
   "execution_count": 49,
   "outputs": [
    {
     "data": {
      "text/plain": "2"
     },
     "execution_count": 49,
     "metadata": {},
     "output_type": "execute_result"
    }
   ],
   "source": [
    "x.shape[-1]"
   ],
   "metadata": {
    "collapsed": false,
    "ExecuteTime": {
     "end_time": "2023-10-27T10:01:29.007731580Z",
     "start_time": "2023-10-27T10:01:29.000584571Z"
    }
   },
   "id": "b088085a3459316c"
  },
  {
   "cell_type": "code",
   "execution_count": 41,
   "outputs": [],
   "source": [
    "x = x.to(torch.float)"
   ],
   "metadata": {
    "collapsed": false,
    "ExecuteTime": {
     "end_time": "2023-10-27T09:44:45.387314231Z",
     "start_time": "2023-10-27T09:44:45.378514391Z"
    }
   },
   "id": "e751860008268358"
  },
  {
   "cell_type": "code",
   "execution_count": 42,
   "outputs": [
    {
     "data": {
      "text/plain": "tensor([[[7., 9.],\n         [3., 3.]],\n\n        [[2., 5.],\n         [4., 7.]],\n\n        [[1., 2.],\n         [2., 1.]]])"
     },
     "execution_count": 42,
     "metadata": {},
     "output_type": "execute_result"
    }
   ],
   "source": [
    "x"
   ],
   "metadata": {
    "collapsed": false,
    "ExecuteTime": {
     "end_time": "2023-10-27T09:44:47.395209296Z",
     "start_time": "2023-10-27T09:44:47.347161324Z"
    }
   },
   "id": "6b89e567ba6bb25"
  },
  {
   "cell_type": "code",
   "execution_count": 43,
   "outputs": [
    {
     "data": {
      "text/plain": "tensor([[3.3333, 5.3333],\n        [3.0000, 3.6667]])"
     },
     "execution_count": 43,
     "metadata": {},
     "output_type": "execute_result"
    }
   ],
   "source": [
    "x.mean(dim=0)"
   ],
   "metadata": {
    "collapsed": false,
    "ExecuteTime": {
     "end_time": "2023-10-27T09:44:59.660097810Z",
     "start_time": "2023-10-27T09:44:59.621573921Z"
    }
   },
   "id": "a07dcade7e6ae769"
  },
  {
   "cell_type": "code",
   "execution_count": 44,
   "outputs": [
    {
     "data": {
      "text/plain": "tensor([[5.0000, 6.0000],\n        [3.0000, 6.0000],\n        [1.5000, 1.5000]])"
     },
     "execution_count": 44,
     "metadata": {},
     "output_type": "execute_result"
    }
   ],
   "source": [
    "x.mean(dim=1)"
   ],
   "metadata": {
    "collapsed": false,
    "ExecuteTime": {
     "end_time": "2023-10-27T09:49:55.780843582Z",
     "start_time": "2023-10-27T09:49:55.732274695Z"
    }
   },
   "id": "38400d448cbd32f8"
  },
  {
   "cell_type": "code",
   "execution_count": 45,
   "outputs": [
    {
     "data": {
      "text/plain": "tensor([[8.0000, 3.0000],\n        [3.5000, 5.5000],\n        [1.5000, 1.5000]])"
     },
     "execution_count": 45,
     "metadata": {},
     "output_type": "execute_result"
    }
   ],
   "source": [
    "x.mean(dim=2)"
   ],
   "metadata": {
    "collapsed": false,
    "ExecuteTime": {
     "end_time": "2023-10-27T09:53:00.343319253Z",
     "start_time": "2023-10-27T09:53:00.297610119Z"
    }
   },
   "id": "598dc2fa3e0c828a"
  },
  {
   "cell_type": "code",
   "execution_count": 50,
   "outputs": [
    {
     "data": {
      "text/plain": "tensor([[[7., 9.],\n         [3., 3.]],\n\n        [[2., 5.],\n         [4., 7.]],\n\n        [[1., 2.],\n         [2., 1.]]])"
     },
     "execution_count": 50,
     "metadata": {},
     "output_type": "execute_result"
    }
   ],
   "source": [
    "x"
   ],
   "metadata": {
    "collapsed": false,
    "ExecuteTime": {
     "end_time": "2023-10-27T10:15:06.440821834Z",
     "start_time": "2023-10-27T10:15:06.392783300Z"
    }
   },
   "id": "95c94e056de40a63"
  },
  {
   "cell_type": "code",
   "execution_count": 54,
   "outputs": [
    {
     "data": {
      "text/plain": "tensor([[[7., 9., 7., 9.],\n         [3., 3., 3., 3.],\n         [7., 9., 7., 9.],\n         [3., 3., 3., 3.]],\n\n        [[2., 5., 2., 5.],\n         [4., 7., 4., 7.],\n         [2., 5., 2., 5.],\n         [4., 7., 4., 7.]],\n\n        [[1., 2., 1., 2.],\n         [2., 1., 2., 1.],\n         [1., 2., 1., 2.],\n         [2., 1., 2., 1.]]])"
     },
     "execution_count": 54,
     "metadata": {},
     "output_type": "execute_result"
    }
   ],
   "source": [
    "x.repeat(1, 2, 2)"
   ],
   "metadata": {
    "collapsed": false,
    "ExecuteTime": {
     "end_time": "2023-10-27T10:17:44.591636949Z",
     "start_time": "2023-10-27T10:17:44.576471698Z"
    }
   },
   "id": "c7d43149b9d36716"
  },
  {
   "cell_type": "code",
   "execution_count": 57,
   "outputs": [],
   "source": [
    "a=torch.randn(size=(128, 1536, 1))"
   ],
   "metadata": {
    "collapsed": false,
    "ExecuteTime": {
     "end_time": "2023-10-27T10:30:44.956738997Z",
     "start_time": "2023-10-27T10:30:44.929655021Z"
    }
   },
   "id": "2555daa3567efe41"
  },
  {
   "cell_type": "code",
   "execution_count": 62,
   "outputs": [
    {
     "name": "stdout",
     "output_type": "stream",
     "text": [
      "tensor([[[-1.2382],\n",
      "         [-0.8453],\n",
      "         [ 1.5951],\n",
      "         ...,\n",
      "         [ 0.8996],\n",
      "         [-0.6091],\n",
      "         [-1.3157]],\n",
      "\n",
      "        [[ 1.8629],\n",
      "         [ 0.2420],\n",
      "         [-1.7652],\n",
      "         ...,\n",
      "         [-0.5787],\n",
      "         [ 0.5903],\n",
      "         [-1.4418]],\n",
      "\n",
      "        [[ 0.0467],\n",
      "         [ 0.4636],\n",
      "         [-0.1219],\n",
      "         ...,\n",
      "         [-0.0383],\n",
      "         [-0.0845],\n",
      "         [ 1.2769]],\n",
      "\n",
      "        ...,\n",
      "\n",
      "        [[-1.1970],\n",
      "         [ 1.0662],\n",
      "         [-0.5732],\n",
      "         ...,\n",
      "         [ 0.6709],\n",
      "         [ 1.3805],\n",
      "         [ 0.1732]],\n",
      "\n",
      "        [[-0.4507],\n",
      "         [ 0.3668],\n",
      "         [ 1.2422],\n",
      "         ...,\n",
      "         [ 0.7098],\n",
      "         [ 0.3054],\n",
      "         [-1.9290]],\n",
      "\n",
      "        [[ 0.6613],\n",
      "         [ 0.7667],\n",
      "         [ 1.0245],\n",
      "         ...,\n",
      "         [ 0.0166],\n",
      "         [-0.9222],\n",
      "         [-0.0791]]])\n"
     ]
    }
   ],
   "source": [
    "print(a)"
   ],
   "metadata": {
    "collapsed": false,
    "ExecuteTime": {
     "end_time": "2023-10-27T10:34:20.267610632Z",
     "start_time": "2023-10-27T10:34:20.250758621Z"
    }
   },
   "id": "5d9a6d2478aa76f8"
  },
  {
   "cell_type": "code",
   "execution_count": 63,
   "outputs": [
    {
     "name": "stdout",
     "output_type": "stream",
     "text": [
      "tensor([[[nan],\n",
      "         [nan],\n",
      "         [nan],\n",
      "         ...,\n",
      "         [nan],\n",
      "         [nan],\n",
      "         [nan]],\n",
      "\n",
      "        [[nan],\n",
      "         [nan],\n",
      "         [nan],\n",
      "         ...,\n",
      "         [nan],\n",
      "         [nan],\n",
      "         [nan]],\n",
      "\n",
      "        [[nan],\n",
      "         [nan],\n",
      "         [nan],\n",
      "         ...,\n",
      "         [nan],\n",
      "         [nan],\n",
      "         [nan]],\n",
      "\n",
      "        ...,\n",
      "\n",
      "        [[nan],\n",
      "         [nan],\n",
      "         [nan],\n",
      "         ...,\n",
      "         [nan],\n",
      "         [nan],\n",
      "         [nan]],\n",
      "\n",
      "        [[nan],\n",
      "         [nan],\n",
      "         [nan],\n",
      "         ...,\n",
      "         [nan],\n",
      "         [nan],\n",
      "         [nan]],\n",
      "\n",
      "        [[nan],\n",
      "         [nan],\n",
      "         [nan],\n",
      "         ...,\n",
      "         [nan],\n",
      "         [nan],\n",
      "         [nan]]])\n"
     ]
    }
   ],
   "source": [
    "print(a.var(dim=2, keepdim=True))"
   ],
   "metadata": {
    "collapsed": false,
    "ExecuteTime": {
     "end_time": "2023-10-27T10:34:54.968141705Z",
     "start_time": "2023-10-27T10:34:54.925532469Z"
    }
   },
   "id": "444579db774eef05"
  },
  {
   "cell_type": "code",
   "execution_count": 59,
   "outputs": [
    {
     "name": "stdout",
     "output_type": "stream",
     "text": [
      "tensor([[nan, nan, nan,  ..., nan, nan, nan],\n",
      "        [nan, nan, nan,  ..., nan, nan, nan],\n",
      "        [nan, nan, nan,  ..., nan, nan, nan],\n",
      "        ...,\n",
      "        [nan, nan, nan,  ..., nan, nan, nan],\n",
      "        [nan, nan, nan,  ..., nan, nan, nan],\n",
      "        [nan, nan, nan,  ..., nan, nan, nan]])\n"
     ]
    }
   ],
   "source": [
    "print(a.var(dim=2))"
   ],
   "metadata": {
    "collapsed": false,
    "ExecuteTime": {
     "end_time": "2023-10-27T10:31:02.821984014Z",
     "start_time": "2023-10-27T10:31:02.784528259Z"
    }
   },
   "id": "d87d75268ba0060d"
  },
  {
   "cell_type": "code",
   "execution_count": 60,
   "outputs": [
    {
     "name": "stdout",
     "output_type": "stream",
     "text": [
      "tensor([[[nan],\n",
      "         [nan],\n",
      "         [nan],\n",
      "         ...,\n",
      "         [nan],\n",
      "         [nan],\n",
      "         [nan]],\n",
      "\n",
      "        [[nan],\n",
      "         [nan],\n",
      "         [nan],\n",
      "         ...,\n",
      "         [nan],\n",
      "         [nan],\n",
      "         [nan]],\n",
      "\n",
      "        [[nan],\n",
      "         [nan],\n",
      "         [nan],\n",
      "         ...,\n",
      "         [nan],\n",
      "         [nan],\n",
      "         [nan]],\n",
      "\n",
      "        ...,\n",
      "\n",
      "        [[nan],\n",
      "         [nan],\n",
      "         [nan],\n",
      "         ...,\n",
      "         [nan],\n",
      "         [nan],\n",
      "         [nan]],\n",
      "\n",
      "        [[nan],\n",
      "         [nan],\n",
      "         [nan],\n",
      "         ...,\n",
      "         [nan],\n",
      "         [nan],\n",
      "         [nan]],\n",
      "\n",
      "        [[nan],\n",
      "         [nan],\n",
      "         [nan],\n",
      "         ...,\n",
      "         [nan],\n",
      "         [nan],\n",
      "         [nan]]])\n"
     ]
    }
   ],
   "source": [
    "print(a.var(dim=2, keepdim=True))"
   ],
   "metadata": {
    "collapsed": false,
    "ExecuteTime": {
     "end_time": "2023-10-27T10:32:38.346738045Z",
     "start_time": "2023-10-27T10:32:38.310569732Z"
    }
   },
   "id": "86da904d17c7b2f7"
  },
  {
   "cell_type": "code",
   "execution_count": 64,
   "outputs": [
    {
     "data": {
      "text/plain": "tensor(nan)"
     },
     "execution_count": 64,
     "metadata": {},
     "output_type": "execute_result"
    }
   ],
   "source": [
    "torch.var(torch.tensor([1.23]))"
   ],
   "metadata": {
    "collapsed": false,
    "ExecuteTime": {
     "end_time": "2023-10-27T10:35:44.271469745Z",
     "start_time": "2023-10-27T10:35:44.250740075Z"
    }
   },
   "id": "430966511f115241"
  },
  {
   "cell_type": "code",
   "execution_count": 65,
   "outputs": [
    {
     "name": "stdout",
     "output_type": "stream",
     "text": [
      "tensor([[[0.9789]],\n",
      "\n",
      "        [[1.0127]],\n",
      "\n",
      "        [[0.9717]],\n",
      "\n",
      "        [[1.0353]],\n",
      "\n",
      "        [[1.0555]],\n",
      "\n",
      "        [[0.9718]],\n",
      "\n",
      "        [[1.0382]],\n",
      "\n",
      "        [[0.9526]],\n",
      "\n",
      "        [[1.0082]],\n",
      "\n",
      "        [[1.0482]],\n",
      "\n",
      "        [[1.0244]],\n",
      "\n",
      "        [[1.0402]],\n",
      "\n",
      "        [[1.0356]],\n",
      "\n",
      "        [[0.9246]],\n",
      "\n",
      "        [[0.9685]],\n",
      "\n",
      "        [[0.9839]],\n",
      "\n",
      "        [[0.9991]],\n",
      "\n",
      "        [[1.0071]],\n",
      "\n",
      "        [[1.0136]],\n",
      "\n",
      "        [[1.0282]],\n",
      "\n",
      "        [[1.0473]],\n",
      "\n",
      "        [[1.0193]],\n",
      "\n",
      "        [[1.0191]],\n",
      "\n",
      "        [[1.0399]],\n",
      "\n",
      "        [[0.9900]],\n",
      "\n",
      "        [[1.0201]],\n",
      "\n",
      "        [[1.0095]],\n",
      "\n",
      "        [[0.9925]],\n",
      "\n",
      "        [[0.9732]],\n",
      "\n",
      "        [[0.9650]],\n",
      "\n",
      "        [[1.0085]],\n",
      "\n",
      "        [[1.0009]],\n",
      "\n",
      "        [[1.0239]],\n",
      "\n",
      "        [[0.9823]],\n",
      "\n",
      "        [[0.9809]],\n",
      "\n",
      "        [[0.9881]],\n",
      "\n",
      "        [[0.9357]],\n",
      "\n",
      "        [[0.9458]],\n",
      "\n",
      "        [[1.0036]],\n",
      "\n",
      "        [[1.0383]],\n",
      "\n",
      "        [[1.0402]],\n",
      "\n",
      "        [[1.0114]],\n",
      "\n",
      "        [[0.9910]],\n",
      "\n",
      "        [[0.9863]],\n",
      "\n",
      "        [[0.9790]],\n",
      "\n",
      "        [[0.9925]],\n",
      "\n",
      "        [[0.9407]],\n",
      "\n",
      "        [[0.9893]],\n",
      "\n",
      "        [[0.9998]],\n",
      "\n",
      "        [[1.0435]],\n",
      "\n",
      "        [[0.9922]],\n",
      "\n",
      "        [[0.9839]],\n",
      "\n",
      "        [[1.0326]],\n",
      "\n",
      "        [[0.9862]],\n",
      "\n",
      "        [[0.9612]],\n",
      "\n",
      "        [[1.0177]],\n",
      "\n",
      "        [[0.9506]],\n",
      "\n",
      "        [[0.9996]],\n",
      "\n",
      "        [[0.9538]],\n",
      "\n",
      "        [[1.0080]],\n",
      "\n",
      "        [[1.0041]],\n",
      "\n",
      "        [[0.9575]],\n",
      "\n",
      "        [[0.9441]],\n",
      "\n",
      "        [[1.0001]],\n",
      "\n",
      "        [[1.0428]],\n",
      "\n",
      "        [[1.0067]],\n",
      "\n",
      "        [[1.0189]],\n",
      "\n",
      "        [[0.9890]],\n",
      "\n",
      "        [[0.9496]],\n",
      "\n",
      "        [[0.9172]],\n",
      "\n",
      "        [[1.0320]],\n",
      "\n",
      "        [[0.9926]],\n",
      "\n",
      "        [[1.0139]],\n",
      "\n",
      "        [[0.9269]],\n",
      "\n",
      "        [[1.0402]],\n",
      "\n",
      "        [[0.9762]],\n",
      "\n",
      "        [[0.9498]],\n",
      "\n",
      "        [[1.0294]],\n",
      "\n",
      "        [[1.0294]],\n",
      "\n",
      "        [[1.0071]],\n",
      "\n",
      "        [[1.0144]],\n",
      "\n",
      "        [[1.0100]],\n",
      "\n",
      "        [[0.9944]],\n",
      "\n",
      "        [[0.9609]],\n",
      "\n",
      "        [[0.9678]],\n",
      "\n",
      "        [[0.9285]],\n",
      "\n",
      "        [[1.0245]],\n",
      "\n",
      "        [[0.9805]],\n",
      "\n",
      "        [[1.0025]],\n",
      "\n",
      "        [[0.9624]],\n",
      "\n",
      "        [[0.9906]],\n",
      "\n",
      "        [[1.0003]],\n",
      "\n",
      "        [[1.0055]],\n",
      "\n",
      "        [[1.0015]],\n",
      "\n",
      "        [[1.0454]],\n",
      "\n",
      "        [[1.0349]],\n",
      "\n",
      "        [[0.9710]],\n",
      "\n",
      "        [[0.9538]],\n",
      "\n",
      "        [[1.0696]],\n",
      "\n",
      "        [[0.9583]],\n",
      "\n",
      "        [[1.0805]],\n",
      "\n",
      "        [[0.9997]],\n",
      "\n",
      "        [[0.9953]],\n",
      "\n",
      "        [[0.9728]],\n",
      "\n",
      "        [[1.0471]],\n",
      "\n",
      "        [[1.0028]],\n",
      "\n",
      "        [[0.9642]],\n",
      "\n",
      "        [[1.0065]],\n",
      "\n",
      "        [[1.0009]],\n",
      "\n",
      "        [[1.0179]],\n",
      "\n",
      "        [[1.0300]],\n",
      "\n",
      "        [[0.9933]],\n",
      "\n",
      "        [[0.9985]],\n",
      "\n",
      "        [[1.0069]],\n",
      "\n",
      "        [[1.0189]],\n",
      "\n",
      "        [[0.9476]],\n",
      "\n",
      "        [[1.0663]],\n",
      "\n",
      "        [[0.9422]],\n",
      "\n",
      "        [[0.9640]],\n",
      "\n",
      "        [[1.0240]],\n",
      "\n",
      "        [[0.9528]],\n",
      "\n",
      "        [[0.9950]],\n",
      "\n",
      "        [[0.9589]],\n",
      "\n",
      "        [[1.0098]],\n",
      "\n",
      "        [[0.9811]],\n",
      "\n",
      "        [[1.0200]],\n",
      "\n",
      "        [[0.9952]],\n",
      "\n",
      "        [[0.9591]]])\n"
     ]
    }
   ],
   "source": [
    "print(a.var(dim=1, keepdim=True))"
   ],
   "metadata": {
    "collapsed": false,
    "ExecuteTime": {
     "end_time": "2023-10-27T10:47:03.597607601Z",
     "start_time": "2023-10-27T10:47:03.540447623Z"
    }
   },
   "id": "87ca14b95dd2c0ec"
  },
  {
   "cell_type": "code",
   "execution_count": 1,
   "outputs": [],
   "source": [
    "import pandas as pd\n",
    "\n",
    "# Create a sample DataFrame\n",
    "data = {'A': [1, 2, 3, 4, 5],\n",
    "        'B': [10, 20, 30, 40, 50]}\n",
    "df = pd.DataFrame(data)"
   ],
   "metadata": {
    "collapsed": false,
    "ExecuteTime": {
     "end_time": "2023-11-02T23:09:58.431124Z",
     "start_time": "2023-11-02T23:09:57.814202Z"
    }
   },
   "id": "1dbb055c1df17b75"
  },
  {
   "cell_type": "code",
   "execution_count": 2,
   "outputs": [
    {
     "data": {
      "text/plain": "   A   B\n0  1  10\n1  2  20\n2  3  30\n3  4  40\n4  5  50",
      "text/html": "<div>\n<style scoped>\n    .dataframe tbody tr th:only-of-type {\n        vertical-align: middle;\n    }\n\n    .dataframe tbody tr th {\n        vertical-align: top;\n    }\n\n    .dataframe thead th {\n        text-align: right;\n    }\n</style>\n<table border=\"1\" class=\"dataframe\">\n  <thead>\n    <tr style=\"text-align: right;\">\n      <th></th>\n      <th>A</th>\n      <th>B</th>\n    </tr>\n  </thead>\n  <tbody>\n    <tr>\n      <th>0</th>\n      <td>1</td>\n      <td>10</td>\n    </tr>\n    <tr>\n      <th>1</th>\n      <td>2</td>\n      <td>20</td>\n    </tr>\n    <tr>\n      <th>2</th>\n      <td>3</td>\n      <td>30</td>\n    </tr>\n    <tr>\n      <th>3</th>\n      <td>4</td>\n      <td>40</td>\n    </tr>\n    <tr>\n      <th>4</th>\n      <td>5</td>\n      <td>50</td>\n    </tr>\n  </tbody>\n</table>\n</div>"
     },
     "execution_count": 2,
     "metadata": {},
     "output_type": "execute_result"
    }
   ],
   "source": [
    "df"
   ],
   "metadata": {
    "collapsed": false,
    "ExecuteTime": {
     "end_time": "2023-11-02T23:10:07.308938Z",
     "start_time": "2023-11-02T23:10:07.295897Z"
    }
   }
  },
  {
   "cell_type": "code",
   "execution_count": 3,
   "outputs": [
    {
     "data": {
      "text/plain": "   A   B\n3  4  40\n4  5  50",
      "text/html": "<div>\n<style scoped>\n    .dataframe tbody tr th:only-of-type {\n        vertical-align: middle;\n    }\n\n    .dataframe tbody tr th {\n        vertical-align: top;\n    }\n\n    .dataframe thead th {\n        text-align: right;\n    }\n</style>\n<table border=\"1\" class=\"dataframe\">\n  <thead>\n    <tr style=\"text-align: right;\">\n      <th></th>\n      <th>A</th>\n      <th>B</th>\n    </tr>\n  </thead>\n  <tbody>\n    <tr>\n      <th>3</th>\n      <td>4</td>\n      <td>40</td>\n    </tr>\n    <tr>\n      <th>4</th>\n      <td>5</td>\n      <td>50</td>\n    </tr>\n  </tbody>\n</table>\n</div>"
     },
     "execution_count": 3,
     "metadata": {},
     "output_type": "execute_result"
    }
   ],
   "source": [
    "df[3:500]"
   ],
   "metadata": {
    "collapsed": false,
    "ExecuteTime": {
     "end_time": "2023-11-02T23:10:30.220697Z",
     "start_time": "2023-11-02T23:10:30.215526Z"
    }
   }
  },
  {
   "cell_type": "code",
   "execution_count": null,
   "outputs": [],
   "source": [],
   "metadata": {
    "collapsed": false
   }
  }
 ],
 "metadata": {
  "kernelspec": {
   "display_name": "Python 3",
   "language": "python",
   "name": "python3"
  },
  "language_info": {
   "codemirror_mode": {
    "name": "ipython",
    "version": 2
   },
   "file_extension": ".py",
   "mimetype": "text/x-python",
   "name": "python",
   "nbconvert_exporter": "python",
   "pygments_lexer": "ipython2",
   "version": "2.7.6"
  }
 },
 "nbformat": 4,
 "nbformat_minor": 5
}
