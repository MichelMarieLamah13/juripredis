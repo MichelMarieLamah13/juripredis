{
 "cells": [
  {
   "cell_type": "code",
   "execution_count": 851,
   "outputs": [],
   "source": [
    "import pandas as pd"
   ],
   "metadata": {
    "collapsed": false,
    "ExecuteTime": {
     "end_time": "2023-10-20T03:45:22.055830Z",
     "start_time": "2023-10-20T03:45:21.674014Z"
    }
   }
  },
  {
   "cell_type": "code",
   "execution_count": 852,
   "metadata": {
    "collapsed": true,
    "ExecuteTime": {
     "end_time": "2023-10-20T03:45:22.072852Z",
     "start_time": "2023-10-20T03:45:21.676102Z"
    }
   },
   "outputs": [],
   "source": [
    "filename_1 = 'JURITEXT646f012c3fdabad0f888ec39.tsv'"
   ]
  },
  {
   "cell_type": "code",
   "execution_count": 853,
   "outputs": [],
   "source": [
    "def read_file(filename):\n",
    "    \"\"\"\n",
    "    To read the file\n",
    "    :param filename: string the name of the file\n",
    "    :return: string  the content of the file\n",
    "    \"\"\"\n",
    "    with open(f'judilibre_json/{filename}') as file:\n",
    "        content = file.read()\n",
    "    return content"
   ],
   "metadata": {
    "collapsed": false,
    "ExecuteTime": {
     "end_time": "2023-10-20T03:45:22.073016Z",
     "start_time": "2023-10-20T03:45:21.678665Z"
    }
   }
  },
  {
   "cell_type": "code",
   "execution_count": 854,
   "outputs": [],
   "source": [
    "content_1 = read_file(filename_1)"
   ],
   "metadata": {
    "collapsed": false,
    "ExecuteTime": {
     "end_time": "2023-10-20T03:45:22.073064Z",
     "start_time": "2023-10-20T03:45:21.682732Z"
    }
   }
  },
  {
   "cell_type": "code",
   "execution_count": 855,
   "outputs": [
    {
     "name": "stdout",
     "output_type": "stream",
     "text": [
      "REPUBLIQUE FRANCAISE\n",
      "AU NOM DU PEUPLE FRANCAIS\n",
      "COUR D'APPEL DE PARIS\n",
      "Pôle 6 - Chambre 3\n",
      "ARRET DU 24 MAI 2023\n",
      "(n° , 4 pages)\n",
      "Numéro d'inscription au répertoire général : N° RG 20/01856 - N° Portalis 35L7-V-B7E-CBRG5\n",
      "Décision déférée à la Cour : Jugement du 28 Juin 2019 - Conseil de Prud'hommes - Formation de départage de BOBIGNY - RG n° 15/03475\n",
      "APPELANT\n",
      "Syndicat ALTER, prise en la personne de son représentant légal\n",
      "[Adresse 2]\n",
      "[Localité 3]\n",
      "Représenté par Me Chanel DESSEIGNE, avocat au barreau de PARIS, toque : B0372\n",
      "INTIMEE\n",
      "SA AIR FRANCE, prise en la personne de son représentant légal\n",
      "[Adresse 1]\n",
      "[Localité 4]\n",
      "Représentée par Me Harold HERMAN, avocat au barreau de PARIS, toque : T03\n",
      "COMPOSITION DE LA COUR :\n",
      "En application des dispositions des articles 805 et 907 du code de procédure civile, l'affaire a été débattue le 08 Mars 2023, en audience publique, les avocats ne s'étant pas opposés à la composition non collégiale de la formation, devant Mme Anne MENARD, Présidente de chambre, chargée du rapport.\n",
      "Ce magistrat a rendu compte des plaidoiries dans le délibéré de la Cour, entendu en son rapport, composée de :\n",
      "Madame Anne MENARD, présidente\n",
      "Madame Fabienne ROUGE, présidente\n",
      "Madame Véronique MARMORAT, présidente\n",
      "Lors des débats : Mme Sarah SEBBAK, greffière\n",
      "ARRET :\n",
      "- CONTRADICTOIRE\n",
      "- mise à disposition de l'arrêt au greffe de la Cour le 24 mai 2023, les parties en ayant été préalablement avisées dans les conditions prévues au deuxième alinéa de l'article 450 du Code de procédure civile,\n",
      "- signé par Madame Anne MENARD, présidente et par Camille BESSON, Greffière en pré-affectation sur poste, à laquelle la minute de la décision a été remise par le magistrat signataire.\n",
      "EXPOSÉ DU LITIGE\n",
      "Monsieur [F] est pilote au sein de la société Air France.\n",
      "En 2011, la compagnie a décidé d'opérer une refonte de sa documentation opérationnelle à destination des pilotes. Cette refonte des manuels d'exploitation (Manex) consistait notamment à les aligner sur la documentation constructeur. Les manuels qui étaient rédigés en français et en anglais ont fait place à une documentation intégralement rédigée en anglais. Par ailleurs, cette documentation a été rapidement dématérialisée, une tablette s'étant substituée aux classeurs papiers. La mise en place de cette documentation s'est opérée de 2012 à 2014, et elle a fait suite à une mission d'expertise externe consécutive à l'accident du vol AF447 le 1er juin 2009.\n",
      "Monsieur [F] a saisi le conseil de prud'hommes de Bobigny afin d'obtenir le paiement de rappels de salaires et de dommages et intérêts pour le temps qu'il a consacré sur ses heures de repos à la formation, afin d'assimiler ce changement de documentation.\n",
      "Le syndicat Alter est intervenu à l'instance pour solliciter des dommages et intérêts en raison de l'atteinte à l'intérêt collectif de la profession.\n",
      "Ils ont été déboutés de leurs demandes et monsieur [F] a été condamné au paiement d'une somme de 50 euros sur le fondement des dispositions de l'article 700 du code de procédure civile par jugement du 28 juin 2019, rendu en formation de départage.\n",
      "Le syndicat Alter a régulièrement interjeté appel de ce jugement.\n",
      "Par conclusions récapitulatives du 20 juillet 2020, auxquelles il convient de se reporter en ce qui concerne ses moyens, le syndicat Alter demande à la cour d'infirmer le jugement, de déclarer son intervention recevable, de faire droit aux demandes du salarié, et de condamner la société Air france à lui payer au titre du préjudice subi par la profession la somme de 30.000 euros (somme globale), ainsi que la somme de 4.000 euros sur le fondement des dispositions de l'article 700 du code de procédure civile (somme globale).\n",
      "Par conclusions récapitulatives du 19 août 2020, auxquelles il convient de se reporter en ce qui concerne ses moyens, la société Air France demande à la cour de déclarer le syndicat Alter irrecevable, ou subsidiairement de le débouter.\n",
      "La Cour se réfère, pour un plus ample exposé des faits, de la procédure, des moyens et des prétentions des parties, à la décision déférée et aux dernières conclusions échangées en appel.\n",
      "MOTIFS\n",
      "L'action portant sur la rémunération du temps consacré à la formation, elle concerne des faits susceptibles de porter un préjudice direct ou indirect à l'intérêt collectif de la profession, de sorte que l'intervention du syndicat Alter est recevable.\n",
      "Le syndicat Alter expose que le temps considérable consacré par les pilotes aux modifications et adaptations de la documentation, dans une langue non native, constitue en raison de son ampleur un travail exceptionnel de formation, qui ne peut être considéré comme s'inscrivant dans la formation continue rémunérée par l'employeur. Il soutient que le déploiement de la documentation constructeur ne peut s'inscrire dans le maitien à jour de ses connaissances par le salarié pilote, et que l'ampleur de ce changement de philosophie et de méthodes, ainsi que le recours à l'anglais, sont allés bien au-delà d'un simple maintien des compétences.\n",
      "La compagnie Air France expose que la profession de pilote échappe au droit commun en ce qui concerne la durée du travail, et que la rémunération est exprimée en heures de vol; que pour les activités qui ne sont pas des heures de vol, une rémunération appelée 'traitement mensuel fixe' est versée ; qu'enfin, l'accord de réduction du temps de travail prévoit le versement de primes de vol fictives pour certaines activités au sol énumérées par l'accord. Elle fait valoir que le travail de formation réalisé par le pilote à son domicile pour maintenir ses compétences est rémunéré par le traitement mensuel fixe.\n",
      "Aux termes de l'article 6321-1 du code du travail, 'l'employeur assure l'adaptation des salariés à leur poste de travail.\n",
      "Il veille au maintien de leur capacité à occuper un emploi, au regard notamment de l'évolution des emplois, des technologies et des organisations'.\n",
      "Aux termes de l'article 6321-2 du code du travail dans sa rédaction applicable, 'toute action de formation suivie par un salarié pour assurer son adaptation au poste de travail ou liée à l'évolution ou au maintien dans l'emploi dans l'entreprise constitue un temps de travail effectif et donne lieu pendant sa réalisation au maintien par l'entreprise de la rémunération'.\n",
      "En l'espèce, il est acquis et non contesté que la rémunération des pilotes comporte, outre la rémunération des heures de vol, un salaire complémentaire pour le travail au sol, représentant environ le quart de la rémunératoin totale des pilotes. Ce travail au sol est constitué de la préparation du vol, mais aussi du temps consacré au maintien des compétences pour pouvoir voler : maintien à jour de ses connaissances, assimilation des mises à jours opérationnelles, préparations des contrôles sur simulateurs ou examens de maîtrise de l'anglais notamment.\n",
      "La question qui est posée est donc de savoir si le travail réalisé par les pilotes pour acquérir cette refonte du Manex est susceptible de s'inscrire ou non dans cette formation continue rémunérée.\n",
      "En premier lieu, la cour observe qu'un certain nombre de journées de formation ont été organisées par l'employeur, et rémunérées comme telles: notamment une journée de présentation de chacune des phases 1 et 2 du Manex B, des sécances en simulateurs (4 ou 5 dont une de contrôle), une présentation du système Optima, deux jours de présentation de la documentation électronique, et deux jours de stage en anglais. Sur ce dernier point, il était proposé par l'employeur une formation complémentaire.\n",
      "Pour autant, une large partie du travail a été réalisée par les pilotes de manière personelle, hors toute action de formation spécifique.\n",
      "Le syndicat relève que la nouvelle documentation, qui est la documentation constructeur, est désormais exclusivement en anglais, à l'exception du Manex A.\n",
      "Toutefois, il convient de rappeler que les documents liés à l'activité d'une entreprise de transport aérien échappent à l'obligation de rédiger en anglais les documents dont la connaissance est nécessaire au salarié pour l'exécution de son contrat de travail. Cette exception s'explique par le caractère international de l'activité qui rend nécessaire pour la sécurité des vols l'utilisation d'une langue commune.\n",
      "Dans ce contexte, l'obtention de la licence de pilote et son maintien sont conditionnés par la maîtrise de l'anglais opérationnel.\n",
      "Dans ces conditions, il ne peut être soutenu que la maîtrise attendue des pilotes de la nouvelle documentation ait été rendue plus difficile en raison du recours à l'anglais.\n",
      "Par ailleurs, en ce qui concerne l'ampleur des modifications apportées aux procédures, il est versé aux débats en cause d'appel une pièce 46 intitulée 'Pour bien comprendre ce qui change entre les anciennes et les nouvelles méthodes de production'. Il s'agit d'un 'avant/après' élaboré par les pilotes. La cour ne peut qu'observer que ce document ne comporte qu'une quinzaine de pages, étant précisé que s'agissant du Manex B concerné, le changement de documentation s'est opéré entre l'automne 2012 et l'hiver 2013, soit sur plus d'une année, ce qui permettait l'assimilation des données de manière progressive.\n",
      "Par ailleurs, les pilotes connaissaient déjà parfaitement les avions sur lesquels ils volaient, de sorte que l'assimilation de la documentation constructeur, même en anglais et avec une modification de certaines procédures, ne constituait pas un apprentissage nouveau.\n",
      "Cette charge de travail n'apparaît en rien disproportionnée avec le temps de formation qui est rémunéré par l'employeur au titre du maintien des compétences, de sorte que le jugement doit être confirmé en ce qu'il a retenu que le temps passé à préparer les formations organisées par la compagnie et à assimilier la nouvelle documentation n'avait pas à être rémunéré par des heures supplémentaires.\n",
      "Le syndicat soutient également que la mise en oeuvre de cette documentation entraînait une modification de l'organisation du travail, et des techniques de travail, qui aurait nécessité la consultation du comité d'établissement et du CHSCT.\n",
      "Toutefois, les éléments du dossier ne permettent pas de retenir que le remaniement du Manex ait impliqué une modification de l'organisation du travail entrant dans le champ des dispositions légales relatives à la consultation des institutions représentatives du personnel. Le syndicat Alter ne donne aucune précision sur les modifications de l'organisation et des techniques de travail auxquelles il se réfère.\n",
      "Le jugement sera donc confirmé en ce qu'il a débouté le salarié de ses demandes.\n",
      "PAR CES MOTIFS\n",
      "La Cour,\n",
      "CONFIRME le jugement.\n",
      "Vu l'article 700 du code de procédure civile,\n",
      "CONDAMNE le syndicat Alter à payer à la société Air France en cause d'appel la somme de 200 euros sur le fondement des dispositions de l'article 700 du code de procédure civile.\n",
      "DÉBOUTE les parties du surplus de leurs demandes.\n",
      "CONDAMNE le syndicat Alter aux dépens d'appel.\n",
      "La Greffière, La Présidente,\n"
     ]
    }
   ],
   "source": [
    "print(content_1)"
   ],
   "metadata": {
    "collapsed": false,
    "ExecuteTime": {
     "end_time": "2023-10-20T03:45:22.073198Z",
     "start_time": "2023-10-20T03:45:21.688120Z"
    }
   }
  },
  {
   "cell_type": "code",
   "execution_count": 856,
   "outputs": [],
   "source": [
    "def split_text_into_passages(text, max_chars_per_section=128, prev_include=2):\n",
    "    passages = []\n",
    "    current_passage = []\n",
    "    passage_ends = []\n",
    "    lines = text.splitlines()\n",
    "    char_counts = []\n",
    "    for i, line in enumerate(lines):\n",
    "        words = line.split()\n",
    "        for j, word in enumerate(words):\n",
    "            if len(\" \".join(current_passage)) + len(word) + 1 <= max_chars_per_section:\n",
    "                current_passage.append(word)\n",
    "            else:\n",
    "                passages.append(\" \".join(current_passage))\n",
    "                char_counts.append(len(passages[-1]))\n",
    "                passage_ends.append(i + 1)\n",
    "                if prev_include > 0:\n",
    "                    current_passage = passages[-1].split()[-prev_include:]\n",
    "    if current_passage:\n",
    "        passages.append(\" \".join(current_passage))\n",
    "        char_counts.append(len(passages[-1]))\n",
    "        passage_ends.append(len(lines))\n",
    "\n",
    "    chunks = list(range(1, len(passages) + 1))\n",
    "\n",
    "    df = pd.DataFrame({'chunck': chunks, 'line': passage_ends, 'passage': passages, 'length': char_counts})\n",
    "\n",
    "    return df\n"
   ],
   "metadata": {
    "collapsed": false,
    "ExecuteTime": {
     "end_time": "2023-10-20T03:45:22.073254Z",
     "start_time": "2023-10-20T03:45:21.697192Z"
    }
   }
  },
  {
   "cell_type": "code",
   "execution_count": 857,
   "outputs": [],
   "source": [
    "df_content_1 = split_text_into_passages(content_1, prev_include=2)"
   ],
   "metadata": {
    "collapsed": false,
    "ExecuteTime": {
     "end_time": "2023-10-20T03:45:22.073287Z",
     "start_time": "2023-10-20T03:45:21.702240Z"
    }
   }
  },
  {
   "cell_type": "code",
   "execution_count": 858,
   "outputs": [
    {
     "data": {
      "text/plain": "    chunck  line                                            passage  length\n0        1     7  REPUBLIQUE FRANCAISE AU NOM DU PEUPLE FRANCAIS...     123\n1        2     8  4 pages) d'inscription au répertoire général :...     121\n2        3    10  Cour : du 28 Juin 2019 - Conseil de Prud'homme...     125\n3        4    13  Syndicat ALTER, en la personne de son représen...     124\n4        5    16  DESSEIGNE, avocat barreau de PARIS, toque : B0...     119\n..     ...   ...                                                ...     ...\n87      88    60  donne aucune sur les modifications de l'organi...     123\n88      89    64  jugement sera confirmé en ce qu'il a débouté l...     121\n89      90    65  jugement. Vu 700 du code de procédure civile, ...     124\n90      91    66  d'appel la de 200 euros sur le fondement des d...     123\n91      92    68  les parties surplus de leurs demandes. CONDAMN...     114\n\n[92 rows x 4 columns]",
      "text/html": "<div>\n<style scoped>\n    .dataframe tbody tr th:only-of-type {\n        vertical-align: middle;\n    }\n\n    .dataframe tbody tr th {\n        vertical-align: top;\n    }\n\n    .dataframe thead th {\n        text-align: right;\n    }\n</style>\n<table border=\"1\" class=\"dataframe\">\n  <thead>\n    <tr style=\"text-align: right;\">\n      <th></th>\n      <th>chunck</th>\n      <th>line</th>\n      <th>passage</th>\n      <th>length</th>\n    </tr>\n  </thead>\n  <tbody>\n    <tr>\n      <th>0</th>\n      <td>1</td>\n      <td>7</td>\n      <td>REPUBLIQUE FRANCAISE AU NOM DU PEUPLE FRANCAIS...</td>\n      <td>123</td>\n    </tr>\n    <tr>\n      <th>1</th>\n      <td>2</td>\n      <td>8</td>\n      <td>4 pages) d'inscription au répertoire général :...</td>\n      <td>121</td>\n    </tr>\n    <tr>\n      <th>2</th>\n      <td>3</td>\n      <td>10</td>\n      <td>Cour : du 28 Juin 2019 - Conseil de Prud'homme...</td>\n      <td>125</td>\n    </tr>\n    <tr>\n      <th>3</th>\n      <td>4</td>\n      <td>13</td>\n      <td>Syndicat ALTER, en la personne de son représen...</td>\n      <td>124</td>\n    </tr>\n    <tr>\n      <th>4</th>\n      <td>5</td>\n      <td>16</td>\n      <td>DESSEIGNE, avocat barreau de PARIS, toque : B0...</td>\n      <td>119</td>\n    </tr>\n    <tr>\n      <th>...</th>\n      <td>...</td>\n      <td>...</td>\n      <td>...</td>\n      <td>...</td>\n    </tr>\n    <tr>\n      <th>87</th>\n      <td>88</td>\n      <td>60</td>\n      <td>donne aucune sur les modifications de l'organi...</td>\n      <td>123</td>\n    </tr>\n    <tr>\n      <th>88</th>\n      <td>89</td>\n      <td>64</td>\n      <td>jugement sera confirmé en ce qu'il a débouté l...</td>\n      <td>121</td>\n    </tr>\n    <tr>\n      <th>89</th>\n      <td>90</td>\n      <td>65</td>\n      <td>jugement. Vu 700 du code de procédure civile, ...</td>\n      <td>124</td>\n    </tr>\n    <tr>\n      <th>90</th>\n      <td>91</td>\n      <td>66</td>\n      <td>d'appel la de 200 euros sur le fondement des d...</td>\n      <td>123</td>\n    </tr>\n    <tr>\n      <th>91</th>\n      <td>92</td>\n      <td>68</td>\n      <td>les parties surplus de leurs demandes. CONDAMN...</td>\n      <td>114</td>\n    </tr>\n  </tbody>\n</table>\n<p>92 rows × 4 columns</p>\n</div>"
     },
     "execution_count": 858,
     "metadata": {},
     "output_type": "execute_result"
    }
   ],
   "source": [
    "df_content_1"
   ],
   "metadata": {
    "collapsed": false,
    "ExecuteTime": {
     "end_time": "2023-10-20T03:45:22.073404Z",
     "start_time": "2023-10-20T03:45:21.706401Z"
    }
   }
  },
  {
   "cell_type": "code",
   "execution_count": 859,
   "outputs": [],
   "source": [
    "def print_data(df):\n",
    "    for i, row in df.iterrows():\n",
    "        print(f\"========= BEGIN {i + 1} [{row['length']}] ===========\")\n",
    "        print(f\"{row['passage']}\")\n",
    "        print(f\"========= END {i + 1} =========================\\n\")"
   ],
   "metadata": {
    "collapsed": false,
    "ExecuteTime": {
     "end_time": "2023-10-20T03:45:22.073436Z",
     "start_time": "2023-10-20T03:45:21.717867Z"
    }
   }
  },
  {
   "cell_type": "code",
   "execution_count": 860,
   "outputs": [
    {
     "name": "stdout",
     "output_type": "stream",
     "text": [
      "REPUBLIQUE FRANCAISE\n",
      "AU NOM DU PEUPLE FRANCAIS\n",
      "COUR D'APPEL DE PARIS\n",
      "Pôle 6 - Chambre 3\n",
      "ARRET DU 24 MAI 2023\n",
      "(n° , 4 pages)\n",
      "Numéro d'inscription au répertoire général : N° RG 20/01856 - N° Portalis 35L7-V-B7E-CBRG5\n",
      "Décision déférée à la Cour : Jugement du 28 Juin 2019 - Conseil de Prud'hommes - Formation de départage de BOBIGNY - RG n° 15/03475\n",
      "APPELANT\n",
      "Syndicat ALTER, prise en la personne de son représentant légal\n",
      "[Adresse 2]\n",
      "[Localité 3]\n",
      "Représenté par Me Chanel DESSEIGNE, avocat au barreau de PARIS, toque : B0372\n",
      "INTIMEE\n",
      "SA AIR FRANCE, prise en la personne de son représentant légal\n",
      "[Adresse 1]\n",
      "[Localité 4]\n",
      "Représentée par Me Harold HERMAN, avocat au barreau de PARIS, toque : T03\n",
      "COMPOSITION DE LA COUR :\n",
      "En application des dispositions des articles 805 et 907 du code de procédure civile, l'affaire a été débattue le 08 Mars 2023, en audience publique, les avocats ne s'étant pas opposés à la composition non collégiale de la formation, devant Mme Anne MENARD, Présidente de chambre, chargée du rapport.\n",
      "Ce magistrat a rendu compte des plaidoiries dans le délibéré de la Cour, entendu en son rapport, composée de :\n",
      "Madame Anne MENARD, présidente\n",
      "Madame Fabienne ROUGE, présidente\n",
      "Madame Véronique MARMORAT, présidente\n",
      "Lors des débats : Mme Sarah SEBBAK, greffière\n",
      "ARRET :\n",
      "- CONTRADICTOIRE\n",
      "- mise à disposition de l'arrêt au greffe de la Cour le 24 mai 2023, les parties en ayant été préalablement avisées dans les conditions prévues au deuxième alinéa de l'article 450 du Code de procédure civile,\n",
      "- signé par Madame Anne MENARD, présidente et par Camille BESSON, Greffière en pré-affectation sur poste, à laquelle la minute de la décision a été remise par le magistrat signataire.\n",
      "EXPOSÉ DU LITIGE\n",
      "Monsieur [F] est pilote au sein de la société Air France.\n",
      "En 2011, la compagnie a décidé d'opérer une refonte de sa documentation opérationnelle à destination des pilotes. Cette refonte des manuels d'exploitation (Manex) consistait notamment à les aligner sur la documentation constructeur. Les manuels qui étaient rédigés en français et en anglais ont fait place à une documentation intégralement rédigée en anglais. Par ailleurs, cette documentation a été rapidement dématérialisée, une tablette s'étant substituée aux classeurs papiers. La mise en place de cette documentation s'est opérée de 2012 à 2014, et elle a fait suite à une mission d'expertise externe consécutive à l'accident du vol AF447 le 1er juin 2009.\n",
      "Monsieur [F] a saisi le conseil de prud'hommes de Bobigny afin d'obtenir le paiement de rappels de salaires et de dommages et intérêts pour le temps qu'il a consacré sur ses heures de repos à la formation, afin d'assimiler ce changement de documentation.\n",
      "Le syndicat Alter est intervenu à l'instance pour solliciter des dommages et intérêts en raison de l'atteinte à l'intérêt collectif de la profession.\n",
      "Ils ont été déboutés de leurs demandes et monsieur [F] a été condamné au paiement d'une somme de 50 euros sur le fondement des dispositions de l'article 700 du code de procédure civile par jugement du 28 juin 2019, rendu en formation de départage.\n",
      "Le syndicat Alter a régulièrement interjeté appel de ce jugement.\n",
      "Par conclusions récapitulatives du 20 juillet 2020, auxquelles il convient de se reporter en ce qui concerne ses moyens, le syndicat Alter demande à la cour d'infirmer le jugement, de déclarer son intervention recevable, de faire droit aux demandes du salarié, et de condamner la société Air france à lui payer au titre du préjudice subi par la profession la somme de 30.000 euros (somme globale), ainsi que la somme de 4.000 euros sur le fondement des dispositions de l'article 700 du code de procédure civile (somme globale).\n",
      "Par conclusions récapitulatives du 19 août 2020, auxquelles il convient de se reporter en ce qui concerne ses moyens, la société Air France demande à la cour de déclarer le syndicat Alter irrecevable, ou subsidiairement de le débouter.\n",
      "La Cour se réfère, pour un plus ample exposé des faits, de la procédure, des moyens et des prétentions des parties, à la décision déférée et aux dernières conclusions échangées en appel.\n",
      "MOTIFS\n",
      "L'action portant sur la rémunération du temps consacré à la formation, elle concerne des faits susceptibles de porter un préjudice direct ou indirect à l'intérêt collectif de la profession, de sorte que l'intervention du syndicat Alter est recevable.\n",
      "Le syndicat Alter expose que le temps considérable consacré par les pilotes aux modifications et adaptations de la documentation, dans une langue non native, constitue en raison de son ampleur un travail exceptionnel de formation, qui ne peut être considéré comme s'inscrivant dans la formation continue rémunérée par l'employeur. Il soutient que le déploiement de la documentation constructeur ne peut s'inscrire dans le maitien à jour de ses connaissances par le salarié pilote, et que l'ampleur de ce changement de philosophie et de méthodes, ainsi que le recours à l'anglais, sont allés bien au-delà d'un simple maintien des compétences.\n",
      "La compagnie Air France expose que la profession de pilote échappe au droit commun en ce qui concerne la durée du travail, et que la rémunération est exprimée en heures de vol; que pour les activités qui ne sont pas des heures de vol, une rémunération appelée 'traitement mensuel fixe' est versée ; qu'enfin, l'accord de réduction du temps de travail prévoit le versement de primes de vol fictives pour certaines activités au sol énumérées par l'accord. Elle fait valoir que le travail de formation réalisé par le pilote à son domicile pour maintenir ses compétences est rémunéré par le traitement mensuel fixe.\n",
      "Aux termes de l'article 6321-1 du code du travail, 'l'employeur assure l'adaptation des salariés à leur poste de travail.\n",
      "Il veille au maintien de leur capacité à occuper un emploi, au regard notamment de l'évolution des emplois, des technologies et des organisations'.\n",
      "Aux termes de l'article 6321-2 du code du travail dans sa rédaction applicable, 'toute action de formation suivie par un salarié pour assurer son adaptation au poste de travail ou liée à l'évolution ou au maintien dans l'emploi dans l'entreprise constitue un temps de travail effectif et donne lieu pendant sa réalisation au maintien par l'entreprise de la rémunération'.\n",
      "En l'espèce, il est acquis et non contesté que la rémunération des pilotes comporte, outre la rémunération des heures de vol, un salaire complémentaire pour le travail au sol, représentant environ le quart de la rémunératoin totale des pilotes. Ce travail au sol est constitué de la préparation du vol, mais aussi du temps consacré au maintien des compétences pour pouvoir voler : maintien à jour de ses connaissances, assimilation des mises à jours opérationnelles, préparations des contrôles sur simulateurs ou examens de maîtrise de l'anglais notamment.\n",
      "La question qui est posée est donc de savoir si le travail réalisé par les pilotes pour acquérir cette refonte du Manex est susceptible de s'inscrire ou non dans cette formation continue rémunérée.\n",
      "En premier lieu, la cour observe qu'un certain nombre de journées de formation ont été organisées par l'employeur, et rémunérées comme telles: notamment une journée de présentation de chacune des phases 1 et 2 du Manex B, des sécances en simulateurs (4 ou 5 dont une de contrôle), une présentation du système Optima, deux jours de présentation de la documentation électronique, et deux jours de stage en anglais. Sur ce dernier point, il était proposé par l'employeur une formation complémentaire.\n",
      "Pour autant, une large partie du travail a été réalisée par les pilotes de manière personelle, hors toute action de formation spécifique.\n",
      "Le syndicat relève que la nouvelle documentation, qui est la documentation constructeur, est désormais exclusivement en anglais, à l'exception du Manex A.\n",
      "Toutefois, il convient de rappeler que les documents liés à l'activité d'une entreprise de transport aérien échappent à l'obligation de rédiger en anglais les documents dont la connaissance est nécessaire au salarié pour l'exécution de son contrat de travail. Cette exception s'explique par le caractère international de l'activité qui rend nécessaire pour la sécurité des vols l'utilisation d'une langue commune.\n",
      "Dans ce contexte, l'obtention de la licence de pilote et son maintien sont conditionnés par la maîtrise de l'anglais opérationnel.\n",
      "Dans ces conditions, il ne peut être soutenu que la maîtrise attendue des pilotes de la nouvelle documentation ait été rendue plus difficile en raison du recours à l'anglais.\n",
      "Par ailleurs, en ce qui concerne l'ampleur des modifications apportées aux procédures, il est versé aux débats en cause d'appel une pièce 46 intitulée 'Pour bien comprendre ce qui change entre les anciennes et les nouvelles méthodes de production'. Il s'agit d'un 'avant/après' élaboré par les pilotes. La cour ne peut qu'observer que ce document ne comporte qu'une quinzaine de pages, étant précisé que s'agissant du Manex B concerné, le changement de documentation s'est opéré entre l'automne 2012 et l'hiver 2013, soit sur plus d'une année, ce qui permettait l'assimilation des données de manière progressive.\n",
      "Par ailleurs, les pilotes connaissaient déjà parfaitement les avions sur lesquels ils volaient, de sorte que l'assimilation de la documentation constructeur, même en anglais et avec une modification de certaines procédures, ne constituait pas un apprentissage nouveau.\n",
      "Cette charge de travail n'apparaît en rien disproportionnée avec le temps de formation qui est rémunéré par l'employeur au titre du maintien des compétences, de sorte que le jugement doit être confirmé en ce qu'il a retenu que le temps passé à préparer les formations organisées par la compagnie et à assimilier la nouvelle documentation n'avait pas à être rémunéré par des heures supplémentaires.\n",
      "Le syndicat soutient également que la mise en oeuvre de cette documentation entraînait une modification de l'organisation du travail, et des techniques de travail, qui aurait nécessité la consultation du comité d'établissement et du CHSCT.\n",
      "Toutefois, les éléments du dossier ne permettent pas de retenir que le remaniement du Manex ait impliqué une modification de l'organisation du travail entrant dans le champ des dispositions légales relatives à la consultation des institutions représentatives du personnel. Le syndicat Alter ne donne aucune précision sur les modifications de l'organisation et des techniques de travail auxquelles il se réfère.\n",
      "Le jugement sera donc confirmé en ce qu'il a débouté le salarié de ses demandes.\n",
      "PAR CES MOTIFS\n",
      "La Cour,\n",
      "CONFIRME le jugement.\n",
      "Vu l'article 700 du code de procédure civile,\n",
      "CONDAMNE le syndicat Alter à payer à la société Air France en cause d'appel la somme de 200 euros sur le fondement des dispositions de l'article 700 du code de procédure civile.\n",
      "DÉBOUTE les parties du surplus de leurs demandes.\n",
      "CONDAMNE le syndicat Alter aux dépens d'appel.\n",
      "La Greffière, La Présidente,\n"
     ]
    }
   ],
   "source": [
    "print(content_1)"
   ],
   "metadata": {
    "collapsed": false,
    "ExecuteTime": {
     "end_time": "2023-10-20T03:45:22.073522Z",
     "start_time": "2023-10-20T03:45:21.722277Z"
    }
   }
  },
  {
   "cell_type": "code",
   "execution_count": 861,
   "outputs": [
    {
     "data": {
      "text/plain": "\"REPUBLIQUE FRANCAISE AU NOM DU PEUPLE FRANCAIS COUR D'APPEL DE PARIS Pôle 6 - Chambre 3 ARRET DU 24 MAI 2023 (n° , 4 pages)\""
     },
     "execution_count": 861,
     "metadata": {},
     "output_type": "execute_result"
    }
   ],
   "source": [
    "df_content_1['passage'][0]"
   ],
   "metadata": {
    "collapsed": false,
    "ExecuteTime": {
     "end_time": "2023-10-20T03:45:22.073612Z",
     "start_time": "2023-10-20T03:45:21.724996Z"
    }
   }
  },
  {
   "cell_type": "code",
   "execution_count": 862,
   "outputs": [
    {
     "data": {
      "text/plain": "123"
     },
     "execution_count": 862,
     "metadata": {},
     "output_type": "execute_result"
    }
   ],
   "source": [
    "df_content_1['length'][0]"
   ],
   "metadata": {
    "collapsed": false,
    "ExecuteTime": {
     "end_time": "2023-10-20T03:45:22.073668Z",
     "start_time": "2023-10-20T03:45:21.729821Z"
    }
   }
  },
  {
   "cell_type": "code",
   "execution_count": 863,
   "outputs": [
    {
     "name": "stdout",
     "output_type": "stream",
     "text": [
      "REPUBLIQUE FRANCAISE AU NOM DU PEUPLE FRANCAIS COUR D'APPEL DE PARIS Pôle 6 - Chambre 3 ARRET DU 24 MAI 2023 (n° , 4 pages)\n"
     ]
    }
   ],
   "source": [
    "print(df_content_1['passage'][0])"
   ],
   "metadata": {
    "collapsed": false,
    "ExecuteTime": {
     "end_time": "2023-10-20T03:45:22.073720Z",
     "start_time": "2023-10-20T03:45:21.732889Z"
    }
   }
  },
  {
   "cell_type": "code",
   "execution_count": 864,
   "outputs": [
    {
     "name": "stdout",
     "output_type": "stream",
     "text": [
      "========= BEGIN 1 [123] ===========\n",
      "REPUBLIQUE FRANCAISE AU NOM DU PEUPLE FRANCAIS COUR D'APPEL DE PARIS Pôle 6 - Chambre 3 ARRET DU 24 MAI 2023 (n° , 4 pages)\n",
      "========= END 1 =========================\n",
      "\n",
      "========= BEGIN 2 [121] ===========\n",
      "4 pages) d'inscription au répertoire général : N° RG 20/01856 - N° Portalis 35L7-V-B7E-CBRG5 Décision déférée à la Cour :\n",
      "========= END 2 =========================\n",
      "\n",
      "========= BEGIN 3 [125] ===========\n",
      "Cour : du 28 Juin 2019 - Conseil de Prud'hommes - Formation de départage de BOBIGNY - RG n° 15/03475 APPELANT Syndicat ALTER,\n",
      "========= END 3 =========================\n",
      "\n",
      "========= BEGIN 4 [124] ===========\n",
      "Syndicat ALTER, en la personne de son représentant légal [Adresse 2] [Localité 3] Représenté par Me Chanel DESSEIGNE, avocat\n",
      "========= END 4 =========================\n",
      "\n",
      "========= BEGIN 5 [119] ===========\n",
      "DESSEIGNE, avocat barreau de PARIS, toque : B0372 INTIMEE SA AIR FRANCE, prise en la personne de son représentant légal\n",
      "========= END 5 =========================\n",
      "\n",
      "========= BEGIN 6 [123] ===========\n",
      "représentant légal 1] [Localité 4] Représentée par Me Harold HERMAN, avocat au barreau de PARIS, toque : T03 COMPOSITION DE\n",
      "========= END 6 =========================\n",
      "\n",
      "========= BEGIN 7 [122] ===========\n",
      "COMPOSITION DE COUR : En application des dispositions des articles 805 et 907 du code de procédure civile, l'affaire a été\n",
      "========= END 7 =========================\n",
      "\n",
      "========= BEGIN 8 [117] ===========\n",
      "a été le 08 Mars 2023, en audience publique, les avocats ne s'étant pas opposés à la composition non collégiale de la\n",
      "========= END 8 =========================\n",
      "\n",
      "========= BEGIN 9 [124] ===========\n",
      "de la devant Mme Anne MENARD, Présidente de chambre, chargée du rapport. Ce magistrat a rendu compte des plaidoiries dans le\n",
      "========= END 9 =========================\n",
      "\n",
      "========= BEGIN 10 [122] ===========\n",
      "dans le de la Cour, entendu en son rapport, composée de : Madame Anne MENARD, présidente Madame Fabienne ROUGE, présidente\n",
      "========= END 10 =========================\n",
      "\n",
      "========= BEGIN 11 [121] ===========\n",
      "ROUGE, présidente Véronique MARMORAT, présidente Lors des débats : Mme Sarah SEBBAK, greffière ARRET : - CONTRADICTOIRE -\n",
      "========= END 11 =========================\n",
      "\n",
      "========= BEGIN 12 [125] ===========\n",
      "CONTRADICTOIRE - à disposition de l'arrêt au greffe de la Cour le 24 mai 2023, les parties en ayant été préalablement avisées\n",
      "========= END 12 =========================\n",
      "\n",
      "========= BEGIN 13 [121] ===========\n",
      "préalablement avisées les conditions prévues au deuxième alinéa de l'article 450 du Code de procédure civile, - signé par\n",
      "========= END 13 =========================\n",
      "\n",
      "========= BEGIN 14 [123] ===========\n",
      "signé par Anne MENARD, présidente et par Camille BESSON, Greffière en pré-affectation sur poste, à laquelle la minute de la\n",
      "========= END 14 =========================\n",
      "\n",
      "========= BEGIN 15 [125] ===========\n",
      "de la a été remise par le magistrat signataire. EXPOSÉ DU LITIGE Monsieur [F] est pilote au sein de la société Air France. En\n",
      "========= END 15 =========================\n",
      "\n",
      "========= BEGIN 16 [121] ===========\n",
      "France. En la compagnie a décidé d'opérer une refonte de sa documentation opérationnelle à destination des pilotes. Cette\n",
      "========= END 16 =========================\n",
      "\n",
      "========= BEGIN 17 [123] ===========\n",
      "pilotes. Cette des manuels d'exploitation (Manex) consistait notamment à les aligner sur la documentation constructeur. Les\n",
      "========= END 17 =========================\n",
      "\n",
      "========= BEGIN 18 [123] ===========\n",
      "constructeur. Les qui étaient rédigés en français et en anglais ont fait place à une documentation intégralement rédigée en\n",
      "========= END 18 =========================\n",
      "\n",
      "========= BEGIN 19 [123] ===========\n",
      "rédigée en Par ailleurs, cette documentation a été rapidement dématérialisée, une tablette s'étant substituée aux classeurs\n",
      "========= END 19 =========================\n",
      "\n",
      "========= BEGIN 20 [117] ===========\n",
      "aux classeurs La mise en place de cette documentation s'est opérée de 2012 à 2014, et elle a fait suite à une mission\n",
      "========= END 20 =========================\n",
      "\n",
      "========= BEGIN 21 [125] ===========\n",
      "une mission externe consécutive à l'accident du vol AF447 le 1er juin 2009. Monsieur [F] a saisi le conseil de prud'hommes de\n",
      "========= END 21 =========================\n",
      "\n",
      "========= BEGIN 22 [122] ===========\n",
      "prud'hommes de afin d'obtenir le paiement de rappels de salaires et de dommages et intérêts pour le temps qu'il a consacré\n",
      "========= END 22 =========================\n",
      "\n",
      "========= BEGIN 23 [117] ===========\n",
      "a consacré ses heures de repos à la formation, afin d'assimiler ce changement de documentation. Le syndicat Alter est\n",
      "========= END 23 =========================\n",
      "\n",
      "========= BEGIN 24 [115] ===========\n",
      "Alter est à l'instance pour solliciter des dommages et intérêts en raison de l'atteinte à l'intérêt collectif de la\n",
      "========= END 24 =========================\n",
      "\n",
      "========= BEGIN 25 [118] ===========\n",
      "de la Ils ont été déboutés de leurs demandes et monsieur [F] a été condamné au paiement d'une somme de 50 euros sur le\n",
      "========= END 25 =========================\n",
      "\n",
      "========= BEGIN 26 [120] ===========\n",
      "sur le des dispositions de l'article 700 du code de procédure civile par jugement du 28 juin 2019, rendu en formation de\n",
      "========= END 26 =========================\n",
      "\n",
      "========= BEGIN 27 [124] ===========\n",
      "formation de Le syndicat Alter a régulièrement interjeté appel de ce jugement. Par conclusions récapitulatives du 20 juillet\n",
      "========= END 27 =========================\n",
      "\n",
      "========= BEGIN 28 [115] ===========\n",
      "20 juillet auxquelles il convient de se reporter en ce qui concerne ses moyens, le syndicat Alter demande à la cour\n",
      "========= END 28 =========================\n",
      "\n",
      "========= BEGIN 29 [119] ===========\n",
      "la cour le jugement, de déclarer son intervention recevable, de faire droit aux demandes du salarié, et de condamner la\n",
      "========= END 29 =========================\n",
      "\n",
      "========= BEGIN 30 [122] ===========\n",
      "condamner la Air france à lui payer au titre du préjudice subi par la profession la somme de 30.000 euros (somme globale),\n",
      "========= END 30 =========================\n",
      "\n",
      "========= BEGIN 31 [123] ===========\n",
      "(somme globale), que la somme de 4.000 euros sur le fondement des dispositions de l'article 700 du code de procédure civile\n",
      "========= END 31 =========================\n",
      "\n",
      "========= BEGIN 32 [123] ===========\n",
      "procédure civile globale). Par conclusions récapitulatives du 19 août 2020, auxquelles il convient de se reporter en ce qui\n",
      "========= END 32 =========================\n",
      "\n",
      "========= BEGIN 33 [123] ===========\n",
      "ce qui ses moyens, la société Air France demande à la cour de déclarer le syndicat Alter irrecevable, ou subsidiairement de\n",
      "========= END 33 =========================\n",
      "\n",
      "========= BEGIN 34 [119] ===========\n",
      "subsidiairement de débouter. La Cour se réfère, pour un plus ample exposé des faits, de la procédure, des moyens et des\n",
      "========= END 34 =========================\n",
      "\n",
      "========= BEGIN 35 [121] ===========\n",
      "et des des parties, à la décision déférée et aux dernières conclusions échangées en appel. MOTIFS L'action portant sur la\n",
      "========= END 35 =========================\n",
      "\n",
      "========= BEGIN 36 [121] ===========\n",
      "sur la du temps consacré à la formation, elle concerne des faits susceptibles de porter un préjudice direct ou indirect à\n",
      "========= END 36 =========================\n",
      "\n",
      "========= BEGIN 37 [124] ===========\n",
      "indirect à collectif de la profession, de sorte que l'intervention du syndicat Alter est recevable. Le syndicat Alter expose\n",
      "========= END 37 =========================\n",
      "\n",
      "========= BEGIN 38 [122] ===========\n",
      "Alter expose le temps considérable consacré par les pilotes aux modifications et adaptations de la documentation, dans une\n",
      "========= END 38 =========================\n",
      "\n",
      "========= BEGIN 39 [120] ===========\n",
      "dans une non native, constitue en raison de son ampleur un travail exceptionnel de formation, qui ne peut être considéré\n",
      "========= END 39 =========================\n",
      "\n",
      "========= BEGIN 40 [118] ===========\n",
      "être considéré s'inscrivant dans la formation continue rémunérée par l'employeur. Il soutient que le déploiement de la\n",
      "========= END 40 =========================\n",
      "\n",
      "========= BEGIN 41 [124] ===========\n",
      "de la constructeur ne peut s'inscrire dans le maitien à jour de ses connaissances par le salarié pilote, et que l'ampleur de\n",
      "========= END 41 =========================\n",
      "\n",
      "========= BEGIN 42 [124] ===========\n",
      "l'ampleur de changement de philosophie et de méthodes, ainsi que le recours à l'anglais, sont allés bien au-delà d'un simple\n",
      "========= END 42 =========================\n",
      "\n",
      "========= BEGIN 43 [121] ===========\n",
      "d'un simple des compétences. La compagnie Air France expose que la profession de pilote échappe au droit commun en ce qui\n",
      "========= END 43 =========================\n",
      "\n",
      "========= BEGIN 44 [124] ===========\n",
      "ce qui la durée du travail, et que la rémunération est exprimée en heures de vol; que pour les activités qui ne sont pas des\n",
      "========= END 44 =========================\n",
      "\n",
      "========= BEGIN 45 [123] ===========\n",
      "pas des de vol, une rémunération appelée 'traitement mensuel fixe' est versée ; qu'enfin, l'accord de réduction du temps de\n",
      "========= END 45 =========================\n",
      "\n",
      "========= BEGIN 46 [121] ===========\n",
      "temps de prévoit le versement de primes de vol fictives pour certaines activités au sol énumérées par l'accord. Elle fait\n",
      "========= END 46 =========================\n",
      "\n",
      "========= BEGIN 47 [125] ===========\n",
      "Elle fait que le travail de formation réalisé par le pilote à son domicile pour maintenir ses compétences est rémunéré par le\n",
      "========= END 47 =========================\n",
      "\n",
      "========= BEGIN 48 [124] ===========\n",
      "par le mensuel fixe. Aux termes de l'article 6321-1 du code du travail, 'l'employeur assure l'adaptation des salariés à leur\n",
      "========= END 48 =========================\n",
      "\n",
      "========= BEGIN 49 [117] ===========\n",
      "à leur de travail. Il veille au maintien de leur capacité à occuper un emploi, au regard notamment de l'évolution des\n",
      "========= END 49 =========================\n",
      "\n",
      "========= BEGIN 50 [123] ===========\n",
      "l'évolution des des technologies et des organisations'. Aux termes de l'article 6321-2 du code du travail dans sa rédaction\n",
      "========= END 50 =========================\n",
      "\n",
      "========= BEGIN 51 [119] ===========\n",
      "sa rédaction 'toute action de formation suivie par un salarié pour assurer son adaptation au poste de travail ou liée à\n",
      "========= END 51 =========================\n",
      "\n",
      "========= BEGIN 52 [117] ===========\n",
      "liée à ou au maintien dans l'emploi dans l'entreprise constitue un temps de travail effectif et donne lieu pendant sa\n",
      "========= END 52 =========================\n",
      "\n",
      "========= BEGIN 53 [123] ===========\n",
      "pendant sa au maintien par l'entreprise de la rémunération'. En l'espèce, il est acquis et non contesté que la rémunération\n",
      "========= END 53 =========================\n",
      "\n",
      "========= BEGIN 54 [124] ===========\n",
      "la rémunération pilotes comporte, outre la rémunération des heures de vol, un salaire complémentaire pour le travail au sol,\n",
      "========= END 54 =========================\n",
      "\n",
      "========= BEGIN 55 [121] ===========\n",
      "au sol, environ le quart de la rémunératoin totale des pilotes. Ce travail au sol est constitué de la préparation du vol,\n",
      "========= END 55 =========================\n",
      "\n",
      "========= BEGIN 56 [118] ===========\n",
      "du vol, aussi du temps consacré au maintien des compétences pour pouvoir voler : maintien à jour de ses connaissances,\n",
      "========= END 56 =========================\n",
      "\n",
      "========= BEGIN 57 [122] ===========\n",
      "ses connaissances, des mises à jours opérationnelles, préparations des contrôles sur simulateurs ou examens de maîtrise de\n",
      "========= END 57 =========================\n",
      "\n",
      "========= BEGIN 58 [125] ===========\n",
      "maîtrise de notamment. La question qui est posée est donc de savoir si le travail réalisé par les pilotes pour acquérir cette\n",
      "========= END 58 =========================\n",
      "\n",
      "========= BEGIN 59 [121] ===========\n",
      "acquérir cette du Manex est susceptible de s'inscrire ou non dans cette formation continue rémunérée. En premier lieu, la\n",
      "========= END 59 =========================\n",
      "\n",
      "========= BEGIN 60 [118] ===========\n",
      "lieu, la observe qu'un certain nombre de journées de formation ont été organisées par l'employeur, et rémunérées comme\n",
      "========= END 60 =========================\n",
      "\n",
      "========= BEGIN 61 [123] ===========\n",
      "rémunérées comme notamment une journée de présentation de chacune des phases 1 et 2 du Manex B, des sécances en simulateurs\n",
      "========= END 61 =========================\n",
      "\n",
      "========= BEGIN 62 [125] ===========\n",
      "en simulateurs ou 5 dont une de contrôle), une présentation du système Optima, deux jours de présentation de la documentation\n",
      "========= END 62 =========================\n",
      "\n",
      "========= BEGIN 63 [120] ===========\n",
      "la documentation et deux jours de stage en anglais. Sur ce dernier point, il était proposé par l'employeur une formation\n",
      "========= END 63 =========================\n",
      "\n",
      "========= BEGIN 64 [119] ===========\n",
      "une formation Pour autant, une large partie du travail a été réalisée par les pilotes de manière personelle, hors toute\n",
      "========= END 64 =========================\n",
      "\n",
      "========= BEGIN 65 [124] ===========\n",
      "hors toute de formation spécifique. Le syndicat relève que la nouvelle documentation, qui est la documentation constructeur,\n",
      "========= END 65 =========================\n",
      "\n",
      "========= BEGIN 66 [124] ===========\n",
      "documentation constructeur, désormais exclusivement en anglais, à l'exception du Manex A. Toutefois, il convient de rappeler\n",
      "========= END 66 =========================\n",
      "\n",
      "========= BEGIN 67 [119] ===========\n",
      "de rappeler les documents liés à l'activité d'une entreprise de transport aérien échappent à l'obligation de rédiger en\n",
      "========= END 67 =========================\n",
      "\n",
      "========= BEGIN 68 [121] ===========\n",
      "rédiger en les documents dont la connaissance est nécessaire au salarié pour l'exécution de son contrat de travail. Cette\n",
      "========= END 68 =========================\n",
      "\n",
      "========= BEGIN 69 [116] ===========\n",
      "travail. Cette s'explique par le caractère international de l'activité qui rend nécessaire pour la sécurité des vols\n",
      "========= END 69 =========================\n",
      "\n",
      "========= BEGIN 70 [125] ===========\n",
      "des vols d'une langue commune. Dans ce contexte, l'obtention de la licence de pilote et son maintien sont conditionnés par la\n",
      "========= END 70 =========================\n",
      "\n",
      "========= BEGIN 71 [121] ===========\n",
      "par la de l'anglais opérationnel. Dans ces conditions, il ne peut être soutenu que la maîtrise attendue des pilotes de la\n",
      "========= END 71 =========================\n",
      "\n",
      "========= BEGIN 72 [116] ===========\n",
      "de la documentation ait été rendue plus difficile en raison du recours à l'anglais. Par ailleurs, en ce qui concerne\n",
      "========= END 72 =========================\n",
      "\n",
      "========= BEGIN 73 [120] ===========\n",
      "qui concerne des modifications apportées aux procédures, il est versé aux débats en cause d'appel une pièce 46 intitulée\n",
      "========= END 73 =========================\n",
      "\n",
      "========= BEGIN 74 [119] ===========\n",
      "46 intitulée bien comprendre ce qui change entre les anciennes et les nouvelles méthodes de production'. Il s'agit d'un\n",
      "========= END 74 =========================\n",
      "\n",
      "========= BEGIN 75 [125] ===========\n",
      "s'agit d'un élaboré par les pilotes. La cour ne peut qu'observer que ce document ne comporte qu'une quinzaine de pages, étant\n",
      "========= END 75 =========================\n",
      "\n",
      "========= BEGIN 76 [123] ===========\n",
      "pages, étant que s'agissant du Manex B concerné, le changement de documentation s'est opéré entre l'automne 2012 et l'hiver\n",
      "========= END 76 =========================\n",
      "\n",
      "========= BEGIN 77 [124] ===========\n",
      "et l'hiver soit sur plus d'une année, ce qui permettait l'assimilation des données de manière progressive. Par ailleurs, les\n",
      "========= END 77 =========================\n",
      "\n",
      "========= BEGIN 78 [117] ===========\n",
      "ailleurs, les connaissaient déjà parfaitement les avions sur lesquels ils volaient, de sorte que l'assimilation de la\n",
      "========= END 78 =========================\n",
      "\n",
      "========= BEGIN 79 [121] ===========\n",
      "de la constructeur, même en anglais et avec une modification de certaines procédures, ne constituait pas un apprentissage\n",
      "========= END 79 =========================\n",
      "\n",
      "========= BEGIN 80 [124] ===========\n",
      "un apprentissage Cette charge de travail n'apparaît en rien disproportionnée avec le temps de formation qui est rémunéré par\n",
      "========= END 80 =========================\n",
      "\n",
      "========= BEGIN 81 [122] ===========\n",
      "rémunéré par au titre du maintien des compétences, de sorte que le jugement doit être confirmé en ce qu'il a retenu que le\n",
      "========= END 81 =========================\n",
      "\n",
      "========= BEGIN 82 [122] ===========\n",
      "que le passé à préparer les formations organisées par la compagnie et à assimilier la nouvelle documentation n'avait pas à\n",
      "========= END 82 =========================\n",
      "\n",
      "========= BEGIN 83 [122] ===========\n",
      "pas à rémunéré par des heures supplémentaires. Le syndicat soutient également que la mise en oeuvre de cette documentation\n",
      "========= END 83 =========================\n",
      "\n",
      "========= BEGIN 84 [120] ===========\n",
      "cette documentation une modification de l'organisation du travail, et des techniques de travail, qui aurait nécessité la\n",
      "========= END 84 =========================\n",
      "\n",
      "========= BEGIN 85 [122] ===========\n",
      "nécessité la du comité d'établissement et du CHSCT. Toutefois, les éléments du dossier ne permettent pas de retenir que le\n",
      "========= END 85 =========================\n",
      "\n",
      "========= BEGIN 86 [121] ===========\n",
      "que le du Manex ait impliqué une modification de l'organisation du travail entrant dans le champ des dispositions légales\n",
      "========= END 86 =========================\n",
      "\n",
      "========= BEGIN 87 [119] ===========\n",
      "dispositions légales à la consultation des institutions représentatives du personnel. Le syndicat Alter ne donne aucune\n",
      "========= END 87 =========================\n",
      "\n",
      "========= BEGIN 88 [123] ===========\n",
      "donne aucune sur les modifications de l'organisation et des techniques de travail auxquelles il se réfère. Le jugement sera\n",
      "========= END 88 =========================\n",
      "\n",
      "========= BEGIN 89 [121] ===========\n",
      "jugement sera confirmé en ce qu'il a débouté le salarié de ses demandes. PAR CES MOTIFS La Cour, CONFIRME le jugement. Vu\n",
      "========= END 89 =========================\n",
      "\n",
      "========= BEGIN 90 [124] ===========\n",
      "jugement. Vu 700 du code de procédure civile, CONDAMNE le syndicat Alter à payer à la société Air France en cause d'appel la\n",
      "========= END 90 =========================\n",
      "\n",
      "========= BEGIN 91 [123] ===========\n",
      "d'appel la de 200 euros sur le fondement des dispositions de l'article 700 du code de procédure civile. DÉBOUTE les parties\n",
      "========= END 91 =========================\n",
      "\n",
      "========= BEGIN 92 [114] ===========\n",
      "les parties surplus de leurs demandes. CONDAMNE le syndicat Alter aux dépens d'appel. La Greffière, La Présidente,\n",
      "========= END 92 =========================\n"
     ]
    }
   ],
   "source": [
    "print_data(df_content_1)"
   ],
   "metadata": {
    "collapsed": false,
    "ExecuteTime": {
     "end_time": "2023-10-20T03:45:22.073832Z",
     "start_time": "2023-10-20T03:45:21.741333Z"
    }
   }
  },
  {
   "cell_type": "code",
   "execution_count": 865,
   "outputs": [],
   "source": [
    "filename_2 = 'JURITEXT648d4ed994daad05db3582e3.tsv'"
   ],
   "metadata": {
    "collapsed": false,
    "ExecuteTime": {
     "end_time": "2023-10-20T03:45:22.073867Z",
     "start_time": "2023-10-20T03:45:21.744896Z"
    }
   }
  },
  {
   "cell_type": "code",
   "execution_count": 866,
   "outputs": [],
   "source": [
    "content_2 = read_file(filename_2)"
   ],
   "metadata": {
    "collapsed": false,
    "ExecuteTime": {
     "end_time": "2023-10-20T03:45:22.073898Z",
     "start_time": "2023-10-20T03:45:21.747953Z"
    }
   }
  },
  {
   "cell_type": "code",
   "execution_count": 867,
   "outputs": [
    {
     "name": "stdout",
     "output_type": "stream",
     "text": [
      "COUR D'APPEL D'AIX-EN-PROVENCE\n",
      "Chambres sociales\n",
      "Antenne des Milles\n",
      "[Adresse 1]\n",
      "[Adresse 3]\n",
      "[Localité 2]\n",
      "Chambre 4-6\n",
      "N° RG 19/12694 - N° Portalis DBVB-V-B7D-BEW3M\n",
      "Ordonnance n° 2023/M70\n",
      "ORDONNANCE DE RADIATION\n",
      "Nous, Philippe SILVAN, magistrat de la mise en état de la Chambre 4-6 de la cour d'appel d'Aix- en-Provence, assisté de Suzie BRETER, Greffier,\n",
      "Vu l'instance opposant :\n",
      "SCP BR & ASSOCIES prise en la personne de Me [M] [U] es-qualitès de mandataire liquidateur de SAS MACONNERIE RAVALEMENT REVETEMENT\n",
      "Représentant : Me Olivier AVRAMO, avocat au barreau de TOULON\n",
      "Appelants\n",
      "à\n",
      "M. [K] [J]\n",
      "Représentant : Me Marjorie MEUNIER, avocat au barreau de TOULON\n",
      "Intimé\n",
      "Vu l'article 381 du code de procédure civile,\n",
      "Attendu que le 21 Février 2023 par avis de renvoi de clôture et de fixation des plaidoirie il a été demandé aux parties d'appeler dans la cause, par voie d'huissier, l'Association AGS-CGEA de Marseille ;\n",
      "Attendu qu'à ce jour il n'a pas été donné suite à cette injonction ;\n",
      "Il y a lieu par conséquent à radiation de l'instance pour absence de diligences des parties en application de l'article 381 du code de procédure civile ;\n",
      "PAR CES MOTIFS\n",
      "Prononçons la radiation de l'instance et sa suppression du rang des affaires en cours,\n",
      "Disons qu'elle ne sera rétablie que sur justification de l'accomplissement de la diligence omise.\n",
      "Fait à [Localité 2], le 16 Juin 2023\n",
      "Le greffier Le magistrat de la mise en état\n",
      "copie délivrée aux avocats des parties le : 16/06/2023\n",
      "Le greffier\n"
     ]
    }
   ],
   "source": [
    "print(content_2)"
   ],
   "metadata": {
    "collapsed": false,
    "ExecuteTime": {
     "end_time": "2023-10-20T03:45:22.073954Z",
     "start_time": "2023-10-20T03:45:21.751258Z"
    }
   }
  },
  {
   "cell_type": "code",
   "execution_count": 868,
   "outputs": [],
   "source": [
    "df_content_2 = split_text_into_passages(content_2, prev_include=2)"
   ],
   "metadata": {
    "collapsed": false,
    "ExecuteTime": {
     "end_time": "2023-10-20T03:45:22.073984Z",
     "start_time": "2023-10-20T03:45:21.754058Z"
    }
   }
  },
  {
   "cell_type": "code",
   "execution_count": 869,
   "outputs": [
    {
     "data": {
      "text/plain": "    chunck  line                                            passage  length\n0        1     8  COUR D'APPEL D'AIX-EN-PROVENCE Chambres social...     122\n1        2    11  N° RG - N° Portalis DBVB-V-B7D-BEW3M Ordonnanc...     122\n2        3    12  de la en état de la Chambre 4-6 de la cour d'a...     119\n3        4    13  Vu l'instance : SCP BR & ASSOCIES prise en la ...     124\n4        5    18  SAS MACONNERIE REVETEMENT Représentant : Me Ol...     125\n5        6    21  Représentant : Marjorie MEUNIER, avocat au bar...     125\n6        7    21  Attendu que 21 Février 2023 par avis de renvoi...     116\n7        8    22  aux parties dans la cause, par voie d'huissier...     121\n8        9    23  pas été suite à cette injonction ; Il y a lieu...     118\n9       10    25  diligences des en application de l'article 381...     118\n10      11    26  radiation de et sa suppression du rang des aff...     118\n11      12    29  justification de de la diligence omise. Fait à...     120\n12      13    30  en état délivrée aux avocats des parties le : ...      68",
      "text/html": "<div>\n<style scoped>\n    .dataframe tbody tr th:only-of-type {\n        vertical-align: middle;\n    }\n\n    .dataframe tbody tr th {\n        vertical-align: top;\n    }\n\n    .dataframe thead th {\n        text-align: right;\n    }\n</style>\n<table border=\"1\" class=\"dataframe\">\n  <thead>\n    <tr style=\"text-align: right;\">\n      <th></th>\n      <th>chunck</th>\n      <th>line</th>\n      <th>passage</th>\n      <th>length</th>\n    </tr>\n  </thead>\n  <tbody>\n    <tr>\n      <th>0</th>\n      <td>1</td>\n      <td>8</td>\n      <td>COUR D'APPEL D'AIX-EN-PROVENCE Chambres social...</td>\n      <td>122</td>\n    </tr>\n    <tr>\n      <th>1</th>\n      <td>2</td>\n      <td>11</td>\n      <td>N° RG - N° Portalis DBVB-V-B7D-BEW3M Ordonnanc...</td>\n      <td>122</td>\n    </tr>\n    <tr>\n      <th>2</th>\n      <td>3</td>\n      <td>12</td>\n      <td>de la en état de la Chambre 4-6 de la cour d'a...</td>\n      <td>119</td>\n    </tr>\n    <tr>\n      <th>3</th>\n      <td>4</td>\n      <td>13</td>\n      <td>Vu l'instance : SCP BR &amp; ASSOCIES prise en la ...</td>\n      <td>124</td>\n    </tr>\n    <tr>\n      <th>4</th>\n      <td>5</td>\n      <td>18</td>\n      <td>SAS MACONNERIE REVETEMENT Représentant : Me Ol...</td>\n      <td>125</td>\n    </tr>\n    <tr>\n      <th>5</th>\n      <td>6</td>\n      <td>21</td>\n      <td>Représentant : Marjorie MEUNIER, avocat au bar...</td>\n      <td>125</td>\n    </tr>\n    <tr>\n      <th>6</th>\n      <td>7</td>\n      <td>21</td>\n      <td>Attendu que 21 Février 2023 par avis de renvoi...</td>\n      <td>116</td>\n    </tr>\n    <tr>\n      <th>7</th>\n      <td>8</td>\n      <td>22</td>\n      <td>aux parties dans la cause, par voie d'huissier...</td>\n      <td>121</td>\n    </tr>\n    <tr>\n      <th>8</th>\n      <td>9</td>\n      <td>23</td>\n      <td>pas été suite à cette injonction ; Il y a lieu...</td>\n      <td>118</td>\n    </tr>\n    <tr>\n      <th>9</th>\n      <td>10</td>\n      <td>25</td>\n      <td>diligences des en application de l'article 381...</td>\n      <td>118</td>\n    </tr>\n    <tr>\n      <th>10</th>\n      <td>11</td>\n      <td>26</td>\n      <td>radiation de et sa suppression du rang des aff...</td>\n      <td>118</td>\n    </tr>\n    <tr>\n      <th>11</th>\n      <td>12</td>\n      <td>29</td>\n      <td>justification de de la diligence omise. Fait à...</td>\n      <td>120</td>\n    </tr>\n    <tr>\n      <th>12</th>\n      <td>13</td>\n      <td>30</td>\n      <td>en état délivrée aux avocats des parties le : ...</td>\n      <td>68</td>\n    </tr>\n  </tbody>\n</table>\n</div>"
     },
     "execution_count": 869,
     "metadata": {},
     "output_type": "execute_result"
    }
   ],
   "source": [
    "df_content_2"
   ],
   "metadata": {
    "collapsed": false,
    "ExecuteTime": {
     "end_time": "2023-10-20T03:45:22.074053Z",
     "start_time": "2023-10-20T03:45:21.758015Z"
    }
   }
  },
  {
   "cell_type": "code",
   "execution_count": 870,
   "outputs": [
    {
     "name": "stdout",
     "output_type": "stream",
     "text": [
      "========= BEGIN 1 [122] ===========\n",
      "COUR D'APPEL D'AIX-EN-PROVENCE Chambres sociales Antenne des Milles [Adresse 1] [Adresse 3] [Localité 2] Chambre 4-6 N° RG\n",
      "========= END 1 =========================\n",
      "\n",
      "========= BEGIN 2 [122] ===========\n",
      "N° RG - N° Portalis DBVB-V-B7D-BEW3M Ordonnance n° 2023/M70 ORDONNANCE DE RADIATION Nous, Philippe SILVAN, magistrat de la\n",
      "========= END 2 =========================\n",
      "\n",
      "========= BEGIN 3 [119] ===========\n",
      "de la en état de la Chambre 4-6 de la cour d'appel d'Aix- en-Provence, assisté de Suzie BRETER, Greffier, Vu l'instance\n",
      "========= END 3 =========================\n",
      "\n",
      "========= BEGIN 4 [124] ===========\n",
      "Vu l'instance : SCP BR & ASSOCIES prise en la personne de Me [M] [U] es-qualitès de mandataire liquidateur de SAS MACONNERIE\n",
      "========= END 4 =========================\n",
      "\n",
      "========= BEGIN 5 [125] ===========\n",
      "SAS MACONNERIE REVETEMENT Représentant : Me Olivier AVRAMO, avocat au barreau de TOULON Appelants à M. [K] [J] Représentant :\n",
      "========= END 5 =========================\n",
      "\n",
      "========= BEGIN 6 [125] ===========\n",
      "Représentant : Marjorie MEUNIER, avocat au barreau de TOULON Intimé Vu l'article 381 du code de procédure civile, Attendu que\n",
      "========= END 6 =========================\n",
      "\n",
      "========= BEGIN 7 [116] ===========\n",
      "Attendu que 21 Février 2023 par avis de renvoi de clôture et de fixation des plaidoirie il a été demandé aux parties\n",
      "========= END 7 =========================\n",
      "\n",
      "========= BEGIN 8 [121] ===========\n",
      "aux parties dans la cause, par voie d'huissier, l'Association AGS-CGEA de Marseille ; Attendu qu'à ce jour il n'a pas été\n",
      "========= END 8 =========================\n",
      "\n",
      "========= BEGIN 9 [118] ===========\n",
      "pas été suite à cette injonction ; Il y a lieu par conséquent à radiation de l'instance pour absence de diligences des\n",
      "========= END 9 =========================\n",
      "\n",
      "========= BEGIN 10 [118] ===========\n",
      "diligences des en application de l'article 381 du code de procédure civile ; PAR CES MOTIFS Prononçons la radiation de\n",
      "========= END 10 =========================\n",
      "\n",
      "========= BEGIN 11 [118] ===========\n",
      "radiation de et sa suppression du rang des affaires en cours, Disons qu'elle ne sera rétablie que sur justification de\n",
      "========= END 11 =========================\n",
      "\n",
      "========= BEGIN 12 [120] ===========\n",
      "justification de de la diligence omise. Fait à [Localité 2], le 16 Juin 2023 Le greffier Le magistrat de la mise en état\n",
      "========= END 12 =========================\n",
      "\n",
      "========= BEGIN 13 [68] ===========\n",
      "en état délivrée aux avocats des parties le : 16/06/2023 Le greffier\n",
      "========= END 13 =========================\n"
     ]
    }
   ],
   "source": [
    "print_data(df_content_2)"
   ],
   "metadata": {
    "collapsed": false,
    "ExecuteTime": {
     "end_time": "2023-10-20T03:45:22.074188Z",
     "start_time": "2023-10-20T03:45:21.761922Z"
    }
   }
  },
  {
   "cell_type": "code",
   "execution_count": 871,
   "outputs": [],
   "source": [
    "filename_3 = 'JURITEXT646713a1b1f82ad0f8d9f91a.tsv'"
   ],
   "metadata": {
    "collapsed": false,
    "ExecuteTime": {
     "end_time": "2023-10-20T03:45:22.074218Z",
     "start_time": "2023-10-20T03:45:21.764787Z"
    }
   }
  },
  {
   "cell_type": "code",
   "execution_count": 872,
   "outputs": [],
   "source": [
    "content_3 = read_file(filename_3)"
   ],
   "metadata": {
    "collapsed": false,
    "ExecuteTime": {
     "end_time": "2023-10-20T03:45:22.074247Z",
     "start_time": "2023-10-20T03:45:21.767593Z"
    }
   }
  },
  {
   "cell_type": "code",
   "execution_count": 873,
   "outputs": [
    {
     "name": "stdout",
     "output_type": "stream",
     "text": [
      "RÉPUBLIQUE FRANÇAISE\n",
      "AU NOM DU PEUPLE FRANÇAIS\n",
      "COUR D'APPEL DE PARIS\n",
      "L. 340-1 et suivants du Code de l'entrée et du séjour\n",
      "des étrangers et du droit d'asile\n",
      "ORDONNANCE DU 18 MAI 2023\n",
      "(1 pages)\n",
      "Numéro d'inscription au répertoire général et de décision : Q N° RG 23/01992 - N° Portalis 35L7-V-B7H-CHSOZ\n",
      "Décision déférée : ordonnance rendue le 15 mai 2023, à 16h11, par le juge des libertés et de la détention du tribunal judiciaire de Bobigny\n",
      "Nous, Stéphanie Gargoullaud, présidente de chambre à la cour d'appel de Paris, agissant par délégation du premier président de cette cour, assistée de Roxane Aubin, greffière aux débats et au prononcé de l'ordonnance\n",
      "APPELANT\n",
      "LE MINISTRE DE L'INTÉRIEUR REPRÉSENTÉ PAR LE PRÉFET DE POLICE\n",
      "représenté par Me Géraldine Lesieur du cabinet Lesieur, avocats au barreau de Paris,\n",
      "INTIMÉ\n",
      "M. Xsd [Y] [W] [J]\n",
      "né le 04 Octobre 1985 à [Localité 2], de nationalité non précisée\n",
      "Libre, non comparant, non représenté, convoqué en zone d'attente à l'aéroport de [1], dernier domicile connu\n",
      "MINISTÈRE PUBLIC, avisé de la date et de l'heure de l'audience\n",
      "ORDONNANCE :\n",
      "- réputée contradictoire\n",
      "- prononcée en audience publique\n",
      "-Vu l'ordonnance du juge des libertés et de la détention du tribunal judiciaire de Bobigny du 15 mai 2023 à 16h11 déclarant la procédure irrégulière, disant n'y avoir lieu de prolonger le maintien de M. Xsd [Y] [W] [J], en zone d'attente de l'aéroport de [1] et rappelant que l'administration doit restituer à l'intéressé l'intégralité de ses affaires personnelles, y compris son passeport et ses documents de voyage ;\n",
      "- Vu l'appel motivé interjeté le 16 mai 2023, à 14h51, par le conseil du préfet de police ;\n",
      "- Après avoir entendu les observations du conseil du préfet de police tendant à l'infirmation de l'ordonnance ;\n",
      "SUR QUOI,\n",
      "Il résulte des articles L 342-1 et L 342-10 du code de l'entrée et du séjour des étrangers et du droit d'asile que 'le maintien en zone d'attente au-delà de quatre jours à compter de la décision initiale peut être autorisé, par le juge des libertés et de la détention statuant sur l'exercice effectif des droits reconnus à l'étranger, pour une durée qui ne peut être supérieure à huit jours' et que ' l'existence de garanties de représentation de l'étranger n'est pas à elle seule susceptible de justifier le refus de prolongation de son maintien en zone d'attente'.\n",
      "Il appartient au juge judiciaire, en sa qualité de gardien de la liberté individuelle, de se prononcer sur les irrégularités invoquées par l'étranger, attentatoires à sa liberté individuelle pendant la période qui précède la notification de la décision de placement en zone d'attente (2e Civ., 5 juillet 2001, pourvoi n° 99-50.072, Bull. II, n° 131, 2e Civ., 22 mai 2003, pourvoi n° 01-50.104, Bulletin civil 2003, II, n° 151).\n",
      "Pour autant, les investigations auxquelles il doit être procédé pour s'assurer de l'identité d'une personne qui présente de faux papiers peut justifier un délai entre l'instant du contrôle et la notification des droits sans que soit constituée une irrégularité (1re Civ., 14 juin 2005, pourvoi n° 04-50.078 pour un délai s'étant écoulé de 8 heures à 10 heures 45).\n",
      "Aux termes de l'article L. 742-9 du code de l'entrée et du séjour des étrangers et du droit d'asile, en cas de violation des formes prescrites par la loi à peine de nullité ou d'inobservation des formalités substantielles, toute juridiction, y compris la Cour de cassation, qui est saisie d'une demande d'annulation ou qui relève d'office une telle irrégularité ne peut prononcer la mainlevée du maintien en zone d'attente que lorsque celui-ci a eu pour effet de porter atteinte aux droits de l'étranger.\n",
      "Enfin, aux termes de l'article R. 342-2 du même code, \" à peine d'irrecevabilité, la requête est motivée, datée, signée et accompagnée de toutes pièces justificatives utiles, notamment d'une copie du registre prévu au second alinéa de l'article L. 341-2 \".\n",
      "En l'espèce, en premier lieu, un rapport 'de mise à disposition' ou de 'description de contrôle' n'est imposé par aucune disposition du code et ne correspond pas nécessairement à une réalité, notamment lorsqu'une personne se présente spontanément avant tout contrôle.\n",
      "En second lieu, le préfet expose, sans être contredit, que pour satisfaire aux obligations du contrôle que la loi confie au juge judiciaire, les formulaires des décisions de refus d'entrée ont été modifiées ces derniers jours afin de laisser apparaître, lorsque la situation de l'étranger a justifié de telles mesures et décisions, d'une part, l'heure de la première présentation aux aubettes, d'autre part, l'heure de la mise à disposition dans le document signé par l'officier. Aucune disposition légale ou règlementaire n'impose la présence d'un interprète à l'instant du contrôle mais seulement, le cas échéant, lors de la notification des droits, ce qui a bien été le cas dans ce dossier.\n",
      "En l'espèce, il résulte des pièces du dossier que les heures notées pour le premier contrôle puis la mise à disposition de l'officier sont respectivement les suivantes : 11h15 et 11h25.\n",
      "Il s'en déduit que le délai de quelques minutes entre ce premier contrôle et la présentation à l'officier qui a, en suivant, notifié un refus d'entrée puis un placement en zone d'attente (décisions dont il n'appartient pas au juge judiciaire de contrôler la légalité) ne saurait être considéré comme irrégulier ou de nature à porter atteinte à l'exercice effectif des droits de l'étranger. Il convient donc d'infirmer l'ordonnance querellée et, statuant à nouveau, à défaut d'autre moyens soulevés en cause d'appel et au regard de la régularité de la procédure et de la requête en prolongation, d'ordonner le maintien en zone d'attente pour une durée de 8 jours.\n",
      "PAR CES MOTIFS\n",
      "INFIRMONS l'ordonnance,\n",
      "STATUONS à nouveau,\n",
      "ORDONNONS la prolongation de l'intéressé en zone d'attente de l'aéroport de [1] pour une durée de huit jours,\n",
      "ORDONNONS la remise immédiate au procureur général d'une expédition de la présente ordonnance.\n",
      "Fait à Paris, le 18 mai 2023 à\n",
      "LE GREFFIER, LE PRÉSIDENT,\n",
      "REÇU NOTIFICATION DE L'ORDONNANCE ET DE L'EXERCICE DES VOIES DE RECOURS :\n",
      "Pour information :\n",
      "L'ordonnance n'est pas susceptible d'opposition.\n",
      "Le pourvoi en cassation est ouvert à l'étranger, à l'autorité administrative qui a prononcé le maintien en zone d'attente ou la rétention et au ministère public.\n",
      "Le délai de pourvoi en cassation est de deux mois à compter de la notification.\n",
      "Le pourvoi est formé par déclaration écrite remise au secrétariat greffe de la Cour de cassation par l'avocat au Conseil d'Etat et à la Cour de cassation constitué par le demandeur.\n",
      "Le préfet ou son représentant\n"
     ]
    }
   ],
   "source": [
    "print(content_3)"
   ],
   "metadata": {
    "collapsed": false,
    "ExecuteTime": {
     "end_time": "2023-10-20T03:45:22.074315Z",
     "start_time": "2023-10-20T03:45:21.770610Z"
    }
   }
  },
  {
   "cell_type": "code",
   "execution_count": 874,
   "outputs": [],
   "source": [
    "df_content_3 = split_text_into_passages(content_3, prev_include=2)"
   ],
   "metadata": {
    "collapsed": false,
    "ExecuteTime": {
     "end_time": "2023-10-20T03:45:22.074345Z",
     "start_time": "2023-10-20T03:45:21.774676Z"
    }
   }
  },
  {
   "cell_type": "code",
   "execution_count": 875,
   "outputs": [
    {
     "name": "stdout",
     "output_type": "stream",
     "text": [
      "========= BEGIN 1 [122] ===========\n",
      "RÉPUBLIQUE FRANÇAISE AU NOM DU PEUPLE FRANÇAIS COUR D'APPEL DE PARIS L. 340-1 et suivants du Code de l'entrée et du séjour\n",
      "========= END 1 =========================\n",
      "\n",
      "========= BEGIN 2 [124] ===========\n",
      "du séjour étrangers et du droit d'asile ORDONNANCE DU 18 MAI 2023 (1 pages) Numéro d'inscription au répertoire général et de\n",
      "========= END 2 =========================\n",
      "\n",
      "========= BEGIN 3 [124] ===========\n",
      "et de : Q N° RG 23/01992 - N° Portalis 35L7-V-B7H-CHSOZ Décision déférée : ordonnance rendue le 15 mai 2023, à 16h11, par le\n",
      "========= END 3 =========================\n",
      "\n",
      "========= BEGIN 4 [125] ===========\n",
      "par le des libertés et de la détention du tribunal judiciaire de Bobigny Nous, Stéphanie Gargoullaud, présidente de chambre à\n",
      "========= END 4 =========================\n",
      "\n",
      "========= BEGIN 5 [118] ===========\n",
      "chambre à cour d'appel de Paris, agissant par délégation du premier président de cette cour, assistée de Roxane Aubin,\n",
      "========= END 5 =========================\n",
      "\n",
      "========= BEGIN 6 [119] ===========\n",
      "Roxane Aubin, aux débats et au prononcé de l'ordonnance APPELANT LE MINISTRE DE L'INTÉRIEUR REPRÉSENTÉ PAR LE PRÉFET DE\n",
      "========= END 6 =========================\n",
      "\n",
      "========= BEGIN 7 [123] ===========\n",
      "PRÉFET DE représenté par Me Géraldine Lesieur du cabinet Lesieur, avocats au barreau de Paris, INTIMÉ M. Xsd [Y] [W] [J] né\n",
      "========= END 7 =========================\n",
      "\n",
      "========= BEGIN 8 [121] ===========\n",
      "[J] né 04 Octobre 1985 à [Localité 2], de nationalité non précisée Libre, non comparant, non représenté, convoqué en zone\n",
      "========= END 8 =========================\n",
      "\n",
      "========= BEGIN 9 [125] ===========\n",
      "en zone à l'aéroport de [1], dernier domicile connu MINISTÈRE PUBLIC, avisé de la date et de l'heure de l'audience ORDONNANCE\n",
      "========= END 9 =========================\n",
      "\n",
      "========= BEGIN 10 [123] ===========\n",
      "l'audience ORDONNANCE - réputée contradictoire - prononcée en audience publique -Vu l'ordonnance du juge des libertés et de\n",
      "========= END 10 =========================\n",
      "\n",
      "========= BEGIN 11 [125] ===========\n",
      "et de détention du tribunal judiciaire de Bobigny du 15 mai 2023 à 16h11 déclarant la procédure irrégulière, disant n'y avoir\n",
      "========= END 11 =========================\n",
      "\n",
      "========= BEGIN 12 [113] ===========\n",
      "n'y avoir de prolonger le maintien de M. Xsd [Y] [W] [J], en zone d'attente de l'aéroport de [1] et rappelant que\n",
      "========= END 12 =========================\n",
      "\n",
      "========= BEGIN 13 [117] ===========\n",
      "rappelant que doit restituer à l'intéressé l'intégralité de ses affaires personnelles, y compris son passeport et ses\n",
      "========= END 13 =========================\n",
      "\n",
      "========= BEGIN 14 [124] ===========\n",
      "et ses de voyage ; - Vu l'appel motivé interjeté le 16 mai 2023, à 14h51, par le conseil du préfet de police ; - Après avoir\n",
      "========= END 14 =========================\n",
      "\n",
      "========= BEGIN 15 [122] ===========\n",
      "Après avoir les observations du conseil du préfet de police tendant à l'infirmation de l'ordonnance ; SUR QUOI, Il résulte\n",
      "========= END 15 =========================\n",
      "\n",
      "========= BEGIN 16 [123] ===========\n",
      "Il résulte articles L 342-1 et L 342-10 du code de l'entrée et du séjour des étrangers et du droit d'asile que 'le maintien\n",
      "========= END 16 =========================\n",
      "\n",
      "========= BEGIN 17 [121] ===========\n",
      "'le maintien zone d'attente au-delà de quatre jours à compter de la décision initiale peut être autorisé, par le juge des\n",
      "========= END 17 =========================\n",
      "\n",
      "========= BEGIN 18 [121] ===========\n",
      "juge des et de la détention statuant sur l'exercice effectif des droits reconnus à l'étranger, pour une durée qui ne peut\n",
      "========= END 18 =========================\n",
      "\n",
      "========= BEGIN 19 [121] ===========\n",
      "ne peut supérieure à huit jours' et que ' l'existence de garanties de représentation de l'étranger n'est pas à elle seule\n",
      "========= END 19 =========================\n",
      "\n",
      "========= BEGIN 20 [124] ===========\n",
      "elle seule de justifier le refus de prolongation de son maintien en zone d'attente'. Il appartient au juge judiciaire, en sa\n",
      "========= END 20 =========================\n",
      "\n",
      "========= BEGIN 21 [124] ===========\n",
      "en sa de gardien de la liberté individuelle, de se prononcer sur les irrégularités invoquées par l'étranger, attentatoires à\n",
      "========= END 21 =========================\n",
      "\n",
      "========= BEGIN 22 [119] ===========\n",
      "attentatoires à liberté individuelle pendant la période qui précède la notification de la décision de placement en zone\n",
      "========= END 22 =========================\n",
      "\n",
      "========= BEGIN 23 [117] ===========\n",
      "en zone (2e Civ., 5 juillet 2001, pourvoi n° 99-50.072, Bull. II, n° 131, 2e Civ., 22 mai 2003, pourvoi n° 01-50.104,\n",
      "========= END 23 =========================\n",
      "\n",
      "========= BEGIN 24 [120] ===========\n",
      "n° 01-50.104, civil 2003, II, n° 151). Pour autant, les investigations auxquelles il doit être procédé pour s'assurer de\n",
      "========= END 24 =========================\n",
      "\n",
      "========= BEGIN 25 [114] ===========\n",
      "s'assurer de d'une personne qui présente de faux papiers peut justifier un délai entre l'instant du contrôle et la\n",
      "========= END 25 =========================\n",
      "\n",
      "========= BEGIN 26 [118] ===========\n",
      "et la des droits sans que soit constituée une irrégularité (1re Civ., 14 juin 2005, pourvoi n° 04-50.078 pour un délai\n",
      "========= END 26 =========================\n",
      "\n",
      "========= BEGIN 27 [124] ===========\n",
      "un délai écoulé de 8 heures à 10 heures 45). Aux termes de l'article L. 742-9 du code de l'entrée et du séjour des étrangers\n",
      "========= END 27 =========================\n",
      "\n",
      "========= BEGIN 28 [122] ===========\n",
      "des étrangers du droit d'asile, en cas de violation des formes prescrites par la loi à peine de nullité ou d'inobservation\n",
      "========= END 28 =========================\n",
      "\n",
      "========= BEGIN 29 [125] ===========\n",
      "ou d'inobservation formalités substantielles, toute juridiction, y compris la Cour de cassation, qui est saisie d'une demande\n",
      "========= END 29 =========================\n",
      "\n",
      "========= BEGIN 30 [124] ===========\n",
      "d'une demande ou qui relève d'office une telle irrégularité ne peut prononcer la mainlevée du maintien en zone d'attente que\n",
      "========= END 30 =========================\n",
      "\n",
      "========= BEGIN 31 [123] ===========\n",
      "d'attente que celui-ci a eu pour effet de porter atteinte aux droits de l'étranger. Enfin, aux termes de l'article R. 342-2\n",
      "========= END 31 =========================\n",
      "\n",
      "========= BEGIN 32 [117] ===========\n",
      "R. 342-2 même code, \" à peine d'irrecevabilité, la requête est motivée, datée, signée et accompagnée de toutes pièces\n",
      "========= END 32 =========================\n",
      "\n",
      "========= BEGIN 33 [119] ===========\n",
      "toutes pièces utiles, notamment d'une copie du registre prévu au second alinéa de l'article L. 341-2 \". En l'espèce, en\n",
      "========= END 33 =========================\n",
      "\n",
      "========= BEGIN 34 [124] ===========\n",
      "l'espèce, en lieu, un rapport 'de mise à disposition' ou de 'description de contrôle' n'est imposé par aucune disposition du\n",
      "========= END 34 =========================\n",
      "\n",
      "========= BEGIN 35 [120] ===========\n",
      "disposition du et ne correspond pas nécessairement à une réalité, notamment lorsqu'une personne se présente spontanément\n",
      "========= END 35 =========================\n",
      "\n",
      "========= BEGIN 36 [115] ===========\n",
      "présente spontanément tout contrôle. En second lieu, le préfet expose, sans être contredit, que pour satisfaire aux\n",
      "========= END 36 =========================\n",
      "\n",
      "========= BEGIN 37 [120] ===========\n",
      "satisfaire aux du contrôle que la loi confie au juge judiciaire, les formulaires des décisions de refus d'entrée ont été\n",
      "========= END 37 =========================\n",
      "\n",
      "========= BEGIN 38 [121] ===========\n",
      "ont été ces derniers jours afin de laisser apparaître, lorsque la situation de l'étranger a justifié de telles mesures et\n",
      "========= END 38 =========================\n",
      "\n",
      "========= BEGIN 39 [124] ===========\n",
      "mesures et d'une part, l'heure de la première présentation aux aubettes, d'autre part, l'heure de la mise à disposition dans\n",
      "========= END 39 =========================\n",
      "\n",
      "========= BEGIN 40 [116] ===========\n",
      "disposition dans document signé par l'officier. Aucune disposition légale ou règlementaire n'impose la présence d'un\n",
      "========= END 40 =========================\n",
      "\n",
      "========= BEGIN 41 [123] ===========\n",
      "présence d'un à l'instant du contrôle mais seulement, le cas échéant, lors de la notification des droits, ce qui a bien été\n",
      "========= END 41 =========================\n",
      "\n",
      "========= BEGIN 42 [122] ===========\n",
      "bien été cas dans ce dossier. En l'espèce, il résulte des pièces du dossier que les heures notées pour le premier contrôle\n",
      "========= END 42 =========================\n",
      "\n",
      "========= BEGIN 43 [123] ===========\n",
      "premier contrôle la mise à disposition de l'officier sont respectivement les suivantes : 11h15 et 11h25. Il s'en déduit que\n",
      "========= END 43 =========================\n",
      "\n",
      "========= BEGIN 44 [124] ===========\n",
      "déduit que délai de quelques minutes entre ce premier contrôle et la présentation à l'officier qui a, en suivant, notifié un\n",
      "========= END 44 =========================\n",
      "\n",
      "========= BEGIN 45 [123] ===========\n",
      "notifié un d'entrée puis un placement en zone d'attente (décisions dont il n'appartient pas au juge judiciaire de contrôler\n",
      "========= END 45 =========================\n",
      "\n",
      "========= BEGIN 46 [122] ===========\n",
      "de contrôler légalité) ne saurait être considéré comme irrégulier ou de nature à porter atteinte à l'exercice effectif des\n",
      "========= END 46 =========================\n",
      "\n",
      "========= BEGIN 47 [119] ===========\n",
      "effectif des de l'étranger. Il convient donc d'infirmer l'ordonnance querellée et, statuant à nouveau, à défaut d'autre\n",
      "========= END 47 =========================\n",
      "\n",
      "========= BEGIN 48 [120] ===========\n",
      "défaut d'autre soulevés en cause d'appel et au regard de la régularité de la procédure et de la requête en prolongation,\n",
      "========= END 48 =========================\n",
      "\n",
      "========= BEGIN 49 [123] ===========\n",
      "en prolongation, le maintien en zone d'attente pour une durée de 8 jours. PAR CES MOTIFS INFIRMONS l'ordonnance, STATUONS à\n",
      "========= END 49 =========================\n",
      "\n",
      "========= BEGIN 50 [120] ===========\n",
      "STATUONS à ORDONNONS la prolongation de l'intéressé en zone d'attente de l'aéroport de [1] pour une durée de huit jours,\n",
      "========= END 50 =========================\n",
      "\n",
      "========= BEGIN 51 [125] ===========\n",
      "huit jours, la remise immédiate au procureur général d'une expédition de la présente ordonnance. Fait à Paris, le 18 mai 2023\n",
      "========= END 51 =========================\n",
      "\n",
      "========= BEGIN 52 [114] ===========\n",
      "mai 2023 LE GREFFIER, LE PRÉSIDENT, REÇU NOTIFICATION DE L'ORDONNANCE ET DE L'EXERCICE DES VOIES DE RECOURS : Pour\n",
      "========= END 52 =========================\n",
      "\n",
      "========= BEGIN 53 [119] ===========\n",
      ": Pour : L'ordonnance n'est pas susceptible d'opposition. Le pourvoi en cassation est ouvert à l'étranger, à l'autorité\n",
      "========= END 53 =========================\n",
      "\n",
      "========= BEGIN 54 [120] ===========\n",
      "à l'autorité qui a prononcé le maintien en zone d'attente ou la rétention et au ministère public. Le délai de pourvoi en\n",
      "========= END 54 =========================\n",
      "\n",
      "========= BEGIN 55 [123] ===========\n",
      "pourvoi en est de deux mois à compter de la notification. Le pourvoi est formé par déclaration écrite remise au secrétariat\n",
      "========= END 55 =========================\n",
      "\n",
      "========= BEGIN 56 [123] ===========\n",
      "au secrétariat de la Cour de cassation par l'avocat au Conseil d'Etat et à la Cour de cassation constitué par le demandeur.\n",
      "========= END 56 =========================\n",
      "\n",
      "========= BEGIN 57 [40] ===========\n",
      "le demandeur. préfet ou son représentant\n",
      "========= END 57 =========================\n"
     ]
    }
   ],
   "source": [
    "print_data(df_content_3)"
   ],
   "metadata": {
    "collapsed": false,
    "ExecuteTime": {
     "end_time": "2023-10-20T03:45:22.074431Z",
     "start_time": "2023-10-20T03:45:21.778699Z"
    }
   }
  },
  {
   "cell_type": "code",
   "execution_count": 876,
   "outputs": [],
   "source": [
    "filename_4 = 'JURITEXT648021f7f17e00d0f8b5746e.tsv'"
   ],
   "metadata": {
    "collapsed": false,
    "ExecuteTime": {
     "end_time": "2023-10-20T03:45:22.074463Z",
     "start_time": "2023-10-20T03:45:21.781974Z"
    }
   }
  },
  {
   "cell_type": "code",
   "execution_count": 877,
   "outputs": [],
   "source": [
    "content_4 = read_file(filename_4)"
   ],
   "metadata": {
    "collapsed": false,
    "ExecuteTime": {
     "end_time": "2023-10-20T03:45:22.074494Z",
     "start_time": "2023-10-20T03:45:21.784631Z"
    }
   }
  },
  {
   "cell_type": "code",
   "execution_count": 878,
   "outputs": [
    {
     "name": "stdout",
     "output_type": "stream",
     "text": [
      "AFFAIRE : N° RG 17/01969 -\n",
      "N° Portalis DBVC-V-B7B-F3MH\n",
      "ARRÊT N°\n",
      "JB.\n",
      "ORIGINE : DÉCISION du Tribunal de Grande Instance de COUTANCES du 04 Mai 2017\n",
      "RG n° 14/01070\n",
      "COUR D'APPEL DE CAEN\n",
      "PREMIÈRE CHAMBRE CIVILE\n",
      "ARRÊT DU 06 JUIN 2023\n",
      "APPELANTE :\n",
      "Madame [P] [D] [J] épouse [R]\n",
      "née le 03 Avril 1972 à [Localité 5]\n",
      "[Adresse 1]\n",
      "[Localité 3]\n",
      "représentée et assistée de Me Laurent MARIN, avocat au barreau de COUTANCES\n",
      "INTIMÉ :\n",
      "Monsieur [U] [I] [L] [G]\n",
      "né le 15 Mars 1952 à [Localité 4]\n",
      "[Adresse 7]\n",
      "[Adresse 7]\n",
      "[Localité 2]\n",
      "PORTUGAL\n",
      "représenté et assisté de Me Mickaôl DARTOIS, avocat au barreau de CAEN\n",
      "COMPOSITION DE LA COUR LORS DES DÉBATS ET DU DÉLIBÉRÉ :\n",
      "M. GUIGUESSON, Président de chambre,\n",
      "M. GARET, Président de chambre,\n",
      "Mme VELMANS, Conseillère,\n",
      "DÉBATS : A l'audience publique du 04 avril 2023\n",
      "GREFFIER : Mme COLLET\n",
      "ARRÊT : rendu publiquement par mise à disposition au greffe, les parties en ayant été préalablement avisées dans les conditions prévues au deuxième alinéa de l'article 450 du code de procédure civile le 06 Juin 2023 et signé par M. GUIGUESSON, président, et Mme COLLET, greffier\n",
      "EXPOSE DU LITIGE\n",
      "Madame [O] [G] veuve [D] [J] est décédée le 19 janvier 2013, laissant pour lui succéder ses deux enfants, nés de deux unions différentes, Monsieur [U] [G] et Madame [P] [D] [J] épouse [R].\n",
      "Par jugement du 4 mai 2017, le tribunal de grande instance de Coutances a ordonné l'ouverture des opérations de compte, liquidation, partage de sa succession et ordonné avant-dire-droit une expertise comptable afin de reconstituer l'ensemble des mouvements et transferts de fonds ayant eu lieu sur la période de mars 2008 jusqu'au 20 avril 2011, comparer les retraits et mouvements de comptes avec les comptes de Madame [P] [R] et dire si cette dernière a pu bénéficier directement ou indirectement de chèques, retraits ou mouvements d'argent.\n",
      "Par arrêt du 21 janvier 2020, la cour de céans, sur appel de Madame [R] portant uniquement sur l'expertise financière a :\n",
      "- confirmé le jugement entrepris en ce qu'il avait ordonné une telle expertise, tout en modifiant la mission de l'expert,\n",
      "- sursis à statuer dans l'attente du dépôt du rapport d'expertise sur les demandes de Monsieur [G] tendant à la reconstitution du patrimoine mobilier de sa mère aux fins d'inventaire, à la réintégration des avantages liés à l'usufruit par Madame [R] des propriétés d'[Localité 3] et d'[Localité 6] et à l'existence d'un recel successoral avec pour conséquence l'exclusion du partage pour l'ensemble des biens recélés, et à titre infiniment subsidiaire, sur la prise en charge par la seule Madame [R] des éventuels dommages-intérêts dus à Madame [V] [C] dans le cadre de la procédure prud'homale en cours,\n",
      "- débouté Madame [P] [R] de ses autres demandes,\n",
      "- condamné Madame [P] [R] à payer à Monsieur [U] [G] une somme de 1.500,00 € sur le fondement de l'article 700 du code de procédure civile,\n",
      "- réservé les dépens.\n",
      "L'expert judiciaire n'a pu obtenir la communication par le CIC, des relevés de comptes de Madame [O] [D] [J], celui-ci lui opposant le secret bancaire.\n",
      "Il a donc déposé un procès-verbal de carence le 13 décembre 2021.\n",
      "Par arrêt du 22 mars 2022, la cour au vu de ce procès-verbal de carence a :\n",
      "- déclaré sans objet la requête en rectification d'omission matérielle présentée ainsi que la demande formée en mesure d'astreinte,\n",
      "- mis un terme à la mesure d'instruction ordonnée,\n",
      "- renvoyé l'affaire pour fixation à la mise en état,\n",
      "- réservé les dépens et rejeté toutes autres demandes en ce compris celles présentées en application des dispositions de l'article 700 du code de procédure civile.\n",
      "Un avis de fixation en date du 19 octobre 2022 a été notifié aux parties, indiquant que l'affaire était fixée pour plaider à l'audience du 4 avril 2023 avec une clôture le 8 mars 2023.\n",
      "Madame [P] [R] a signifié les 7 mars et 20 mars des conclusions récapitulatives aux termes desquelles elle demande à la cour au visa de l'article 778 du code civil, de :\n",
      "- débouter Monsieur [G] de ses demandes de reconstitution du patrimoine mobilier de Madame [D] [J],\n",
      "- le débouter également de ses demandes relatives à la prise en charge des dommages-intérêts de la procédure prud'homale [C],\n",
      "- le débouter de ses demandes relatives à la gestion d'affaires,\n",
      "- dire que le notaire désigné aura à prendre en compte la créance de Madame [R] pour les droits de succession qu'elle a supportés en excédent de sa part, de même que la créance d'usufruit mise dans son lot à l'occasion de la succession de son père et dont elle est fondée à faire état dans le cadre de la succession de Madame [O] [G],\n",
      "- condamner Monsieur [G] au paiement d'une indemnité de 5.000,00 € en application des dispositions de l'article 700 du code de procédure civile ainsi qu'aux dépens avec droit de recouvrement direct au profit de son conseil.\n",
      "Aux termes de ses dernières écritures au fond en date du 10 octobre 2019, Monsieur [G] concluait à la confirmation du jugement en ce qu'il a ordonné l'ouverture des opérations de liquidation, partage de la succession de sa mère avec désignation d'un notaire et d'un juge commis et ordonné une expertise comptable, et demandait à la cour de :\n",
      "- donner également mission au notaire désigné de reconstituer l'ensemble des biens mobiliers ayant appartenu à feue Madame [D] [J], (tableaux, meubles, bijoux), aux fins d'inventaire définitif de ses biens ; lequel notaire pourra s'adjoindre tout sapiteur de son choix,\n",
      "- voir, dire et juger que seront réintégrés les avantages liés à l'usufruit par [P] [R] des propriétés d'[Localité 3] (50) et d'[Localité 6] (14),\n",
      "- déclarer Madame [P] [R] coupable de recel, dire qu'elle sera en conséquence exclue du partage pour l'ensemble des biens recelés,\n",
      "A titre infiniment subsidiaire,\n",
      "- voir dire et juger qu'il y aura lieu de considérer que l'embauche par Madame [P] [R] de Madame [V] [C] constituerait une gestion d'affaires et en conséquence, dire et juger que celle-ci est fautive et négligente engageant ainsi la responsabilité de ladite Madame [R] laquelle sera tenue à titre personnel de supporter au besoin à titre de dommages-intérêts, l'ensemble des condamnations pouvant bénéficier à Madame [C] de telle sorte que la succession ne puisse en aucune façon être tenue desdites sommes,\n",
      "- débouter Madame [P] [R] de toutes ses demandes,\n",
      "- réserver les dépens.\n",
      "Pour l'exposé complet des prétentions et de l'argumentaire des parties, il est expressément renvoyé à leurs dernières écritures susvisées conformément à l'article 455 du code de procédure civile.\n",
      "L'ordonnance de clôture est intervenue le 22 mars 2023 à 9 H, le conseil de Monsieur [G] ayant sollicité son report.\n",
      "Par conclusions de procédure du 22 mars 2023 à 18 H 39, Monsieur [G] a sollicité le rejet pur et simple des conclusions, bordereau et pièces 113 à 115, signifiées le 20 mars 2023 par Madame [P] [R].\n",
      "Par conclusions de procédure du 4 avril 2023, Madame [R] a conclu à la recevabilité desdites conclusions.\n",
      "MOTIFS DE LA DÉCISION\n",
      "Sur la demande de rejet des conclusions de Madame [R] du 20 mars 2023\n",
      "Un avis de fixation de l'affaire à l'audience du 4 avril 2023, a été adressé aux parties le 19 octobre 2022, leur indiquant que la clôture serait fixée le 8 mars 2023.\n",
      "Madame [R] ayant conclu le 7 mars 2023, l'ordonnance de clôture a été finalement rendue le 22 mars 2023.\n",
      "Dès lors ses conclusions signifiées le 20 mars 2023, à deux jours de la clôture doivent être considérées comme tardives et seront rejetées, tout comme les pièces supplémentaires qu'elles visent (pièces 113 à 115).\n",
      "Sur les dire et juger\n",
      "A titre liminaire, il convient de rappeler que les demandes de 'dire' et 'dire et juger' ne constituent pas des prétentions au sens de l'article 768 du code de procédure civile, et ne seront donc pas examinées par la cour.\n",
      "Sur l'autorité de la chose jugée de certaines créances revendiquées par Madame [R]\n",
      "Dans ses dernières écritures , Madame [R] demande que le notaire désigné prenne en compte sa créance relative aux droits de succession qu'elle a supportés en excédent de sa part suite à l'annulation des contrats d'assurance-vie dont elle était bénéficiaire, de même que la créance de quasi-usufruit mise dans son lot à l'occasion de la succession de son père.\n",
      "La cour dans son arrêt du 21 janvier 2020, a d'ores et déjà statué par un arrêt définitif, sur ces demandes qu'il a rejetées.\n",
      "Elles sont donc irrecevables comme se heurtant à l'autorité de la chose jugée.\n",
      "La cour n'examinera donc que les demandes ayant fait l'objet du sursis à statuer dans cet arrêt.\n",
      "Sur la reconstitution du patrimoine mobilier de Madame [D] [J]\n",
      "La cour constate d'une part que l'expert qu'elle a désigné, n'a pas été en mesure de reconstituer les mouvements de fonds, ni d'indiquer les bénéficiaires des transferts de fonds et de chèques émis sur les comptes de Madame [O] [R] pour la période de mars 2008 au 20 avril 2011, et d'autre part, que Monsieur [G], qui n'a pas conclu après dépôt du rapport de carence de l'expert, ne formule aucune demande à l'encontre de Madame [R] relativement à ces mouvements de fonds.\n",
      "Quant à la reconstitution des biens mobiliers (tableaux, meubles, bijoux), il n'y a pas lieu de donner spécialement mission au notaire désigné d'en faire un inventaire définitif, puisqu'il devra nécessairement le faire dans le cadre des opérations de compte, liquidation, partage, évaluer les biens mobiliers de Madame [D] [J] en fonction des pièces en sa possession.\n",
      "Monsieur [G] sera donc débouté de sa demande à ce titre.\n",
      "Sur la réintégration des avantages liés à l'usufruit de Madame [R] sur les propriétés d'[Localité 3] et [Localité 6]\n",
      "La cour constate que Monsieur [G] ne développe dans ses écritures aucun moyen relatif à l'existence d'avantages dont aurait bénéficié Madame [R] en rapport avec l'usufruit de propriétés situées à [Localité 3] et [Localité 6], étant en outre relevé que la mention 'dire et juger' énoncée dans le dispositif de ses conclusions ne constitue pas une prétention comme il a été rappelé ci-dessus et n'a donc pas à être examinée.\n",
      "En tout état de cause, Madame [R] produit les actes notariés en date des 30 septembre 1999 et 20 décembre 2000, aux termes desquels, Madame [O] [D] [J] lui a fait donation à titre préciputaire de l'usufruit de ces deux propriétés, qui sont mentionnées dans le projet de partage qu'elle verse aux débats (Cf. Pièce N°8) ainsi que dans la déclaration de succession (Cf. Pièce N°9).\n",
      "Sur le recel successoral\n",
      "En vertu de l'article 778 du code civil, le recel successoral vise toutes les fraudes au moyen desquelles un héritier cherche, au détriment de ses cohéritiers, à rompre l'égalité du partage, soit qu'il divertisse des effets de la succession en se les appropriant indûment, soit qu'il les recèle en dissimulant sa possession dans des circonstances où il serait selon la loi, tenu des les déclarer.\n",
      "Le recel comporte à la fois un élément matériel et un élément intentionnel dont la preuve incombe à celui qui s'en prévaut.\n",
      "Il n'appartient pas à l'héritier auquel le recel est reproché de démontrer sa bonne foi.\n",
      "Monsieur [G] demande à la cour de déclarer Madame [R] coupable de recel et de dire qu'elle sera exclue du partage pour l'ensemble des biens recelés.\n",
      "Comme il a été dit ci-dessus, l'expertise comptable s'étant soldée par un rapport de carence de l'expert qui n'a pu obtenir les pièces nécessaires pour mener à bien sa mission, et en l'absence de toute autre pièce probante, il ne peut être retenu un recel à l'encontre de Madame [R], s'agissant des mouvements réalisés sur les comptes de sa mère.\n",
      "Il en va de même s'agissant des biens mobiliers (tableaux, bijoux, meubles) puisqu'aucun inventaire n'a été dressé à ce jour et que Monsieur [G] n'établit pas que les biens dont il affirme qu'ils auraient disparu, aient bénéficié à sa soeur.\n",
      "Il résulte certes d'un arrêt de la chambre des appels correctionnels de cette cour en date du 10 février 2014 (Cf. Pièce N°9), que Madame [R] a été condamnée pour escroquerie au jugement pour avoir présenté au juge des tutelles du tribunal d'instance d'Avranches le 10 juillet 2008 des pièces falsifiées censées démontrer que les dépenses effectuées par sa mère l'avaient bien été l'intérêt de cette dernière, ceci, afin d'obtenir d'être désignée comme tutrice, alors que son frère s'y opposait.\n",
      "Si elle a reconnu dans le cadre de cette procédure que certaines factures libellées au nom de sa mère, correspondaient à des travaux ou des achats effectués pour son propre compte, ces faits ont été découverts dans le cadre de la procédure de tutelle, et avant le décès de sa mère, de telle sorte que le recel qui suppose une dissimulation au moment de la succession ne peut être retenu.\n",
      "La cour relève par ailleurs qu'aucune demande n'a été présentée par Monsieur [G] afin de voir réintégrer les sommes dont Madame [R] a ainsi bénéficié, au titre de donations indirectes.\n",
      "Monsieur [G] sera donc débouté de sa demande au titre du recel successoral.\n",
      "Sur la prise en charge par Madame [R] de la créance de Madame [V] [C]\n",
      "Madame [V] [C] a été embauchée en qualité d'aide-soignante auprès de Madame [O] [D] [J] dont la santé mentale était déjà altérée, après avoir répondu à une annonce passée dans le journal par sa fille, Madame [R].\n",
      "Madame [C] n'ayant pu obtenir la régularisation écrite de son contrat de travail, a quitté ses fonctions le 29 novembre 2007.\n",
      "Par arrêt de la présente cour du 29 avril 2016, la chambre sociale a dit que la rupture du contrat de travail ayant existé entre Madame [C] et Madame [O] [D] [J] prenait les effets d'un licenciement abusif et a condamné Madame [R] et Monsieur [G] en leur qualité d'ayants-droits de leur mère à payer diverses sommes à Madame [C], dont des dommages-intérêts pour travail dissimulé.\n",
      "Il est constant que cet arrêt étant définitif, la créance de Madame [C] incombe donc nécessairement à la succession de Madame [D] [J].\n",
      "Force est de constater que Monsieur [G], s'il se prévaut de fautes imputables à Madame [R] ayant conduit à cette décision, ne formule pas de demande condamnation à l'encontre de celle-ci, se contentant de mentionner dans ses écritures :\n",
      "'Voir dire et juger qu'il y aura lieu de considérer que l'embauche par Madame [P] [R] de Madame [V] [C] constituerait une gestion d'affaires et en conséquence, dire et juger que celle-ci est fautive et négligente engageant ainsi la responsabilité de ladite Madame [R] laquelle sera alors tenue à titre personnel de supporter au besoin à titre de dommages-intérêts, l'ensemble des condamnations pouvant bénéficier à Madame [C] de telle sorte que la succession ne puisse en aucune façon être tenue desdites sommes'.\n",
      "Il ne peut donc être donné suite à une telle formulation qui ne constitue pas une prétention au sens de l'article 768 du code de procédure civile.\n",
      "Sur les frais irrépétibles et les dépens\n",
      "L'équité commande de ne pas faire droit à la demande d'indemnité formée par Madame [R] sur le fondement de l'article 700 du code de procédure civile.\n",
      "Compte tenu de la nature de l'affaire, les dépens y compris les frais d'expertise, seront employés en frais privilégiés de partage.\n",
      "PAR CES MOTIFS\n",
      "La cour, statuant publiquement après sursis à statuer, par arrêt contradictoire rendu en dernier ressort, mis à disposition au greffe,\n",
      "REJETTE comme tardives les conclusions et pièces signifiées le 20 mars 2023 par Madame [P] [R],\n",
      "RAPPELLE que les 'dire et juger' ne constituent pas des prétentions au sens de l'article 768 du code de procédure civile, et n'ont donc pas à être examinés,\n",
      "CONSTATE que la cour dans son arrêt définitif du 21 janvier 2020 a rejeté les demandes de Madame [P] [R] tendant à ce que le notaire désigné prenne en compte sa créance pour les droits de succession qu'elle a supportés en excédent de sa part suite à l'annulation de rachats sur les contrats d'assurance-vie de sa mère, ainsi que la créance d'usufruit mise dans son lot à l'occasion de la succession de son père,\n",
      "LES DÉCLARE donc irrecevables,\n",
      "DÉBOUTE Monsieur [U] [G] de sa demande tendant à ce qu'il soit donné mission au notaire désigné de reconstituer l'ensemble des biens mobiliers ayant appartenu à Madame [O] [D] [J] aux fins d'un inventaire définitif de ses biens,\n",
      "DÉBOUTE Monsieur [U] [G] de sa demande tendant à voir reconnaître Madame [P] [R], coupable d'un recel successoral,\n",
      "DÉBOUTE Madame [P] [R] de sa demande d'indemnité au titre de l'article 700 du code de procédure civile,\n",
      "DIT que les dépens de première instance et d'appel, comprenant les frais d'expertise, seront employés en frais privilégiés de partage.\n",
      "LE GREFFIER LE PRÉSIDENT\n",
      "M. COLLET G. GUIGUESSON\n"
     ]
    }
   ],
   "source": [
    "print(content_4)"
   ],
   "metadata": {
    "collapsed": false,
    "ExecuteTime": {
     "end_time": "2023-10-20T03:45:22.074598Z",
     "start_time": "2023-10-20T03:45:21.788058Z"
    }
   }
  },
  {
   "cell_type": "code",
   "execution_count": 879,
   "outputs": [],
   "source": [
    "df_content_4 = split_text_into_passages(content_4, prev_include=2)"
   ],
   "metadata": {
    "collapsed": false,
    "ExecuteTime": {
     "end_time": "2023-10-20T03:45:22.074629Z",
     "start_time": "2023-10-20T03:45:21.791878Z"
    }
   }
  },
  {
   "cell_type": "code",
   "execution_count": 880,
   "outputs": [
    {
     "name": "stdout",
     "output_type": "stream",
     "text": [
      "========= BEGIN 1 [120] ===========\n",
      "AFFAIRE : N° RG 17/01969 - N° Portalis DBVC-V-B7B-F3MH ARRÊT N° JB. ORIGINE : DÉCISION du Tribunal de Grande Instance de\n",
      "========= END 1 =========================\n",
      "\n",
      "========= BEGIN 2 [120] ===========\n",
      "Instance de du 04 Mai 2017 RG n° 14/01070 COUR D'APPEL DE CAEN PREMIÈRE CHAMBRE CIVILE ARRÊT DU 06 JUIN 2023 APPELANTE :\n",
      "========= END 2 =========================\n",
      "\n",
      "========= BEGIN 3 [125] ===========\n",
      "APPELANTE : [P] [D] [J] épouse [R] née le 03 Avril 1972 à [Localité 5] [Adresse 1] [Localité 3] représentée et assistée de Me\n",
      "========= END 3 =========================\n",
      "\n",
      "========= BEGIN 4 [123] ===========\n",
      "de Me MARIN, avocat au barreau de COUTANCES INTIMÉ : Monsieur [U] [I] [L] [G] né le 15 Mars 1952 à [Localité 4] [Adresse 7]\n",
      "========= END 4 =========================\n",
      "\n",
      "========= BEGIN 5 [125] ===========\n",
      "[Adresse 7] 7] [Localité 2] PORTUGAL représenté et assisté de Me Mickaôl DARTOIS, avocat au barreau de CAEN COMPOSITION DE LA\n",
      "========= END 5 =========================\n",
      "\n",
      "========= BEGIN 6 [120] ===========\n",
      "DE LA LORS DES DÉBATS ET DU DÉLIBÉRÉ : M. GUIGUESSON, Président de chambre, M. GARET, Président de chambre, Mme VELMANS,\n",
      "========= END 6 =========================\n",
      "\n",
      "========= BEGIN 7 [120] ===========\n",
      "Mme VELMANS, DÉBATS : A l'audience publique du 04 avril 2023 GREFFIER : Mme COLLET ARRÊT : rendu publiquement par mise à\n",
      "========= END 7 =========================\n",
      "\n",
      "========= BEGIN 8 [124] ===========\n",
      "mise à au greffe, les parties en ayant été préalablement avisées dans les conditions prévues au deuxième alinéa de l'article\n",
      "========= END 8 =========================\n",
      "\n",
      "========= BEGIN 9 [119] ===========\n",
      "de l'article du code de procédure civile le 06 Juin 2023 et signé par M. GUIGUESSON, président, et Mme COLLET, greffier\n",
      "========= END 9 =========================\n",
      "\n",
      "========= BEGIN 10 [123] ===========\n",
      "COLLET, greffier DU LITIGE Madame [O] [G] veuve [D] [J] est décédée le 19 janvier 2013, laissant pour lui succéder ses deux\n",
      "========= END 10 =========================\n",
      "\n",
      "========= BEGIN 11 [122] ===========\n",
      "ses deux nés de deux unions différentes, Monsieur [U] [G] et Madame [P] [D] [J] épouse [R]. Par jugement du 4 mai 2017, le\n",
      "========= END 11 =========================\n",
      "\n",
      "========= BEGIN 12 [115] ===========\n",
      "2017, le de grande instance de Coutances a ordonné l'ouverture des opérations de compte, liquidation, partage de sa\n",
      "========= END 12 =========================\n",
      "\n",
      "========= BEGIN 13 [121] ===========\n",
      "de sa et ordonné avant-dire-droit une expertise comptable afin de reconstituer l'ensemble des mouvements et transferts de\n",
      "========= END 13 =========================\n",
      "\n",
      "========= BEGIN 14 [118] ===========\n",
      "transferts de ayant eu lieu sur la période de mars 2008 jusqu'au 20 avril 2011, comparer les retraits et mouvements de\n",
      "========= END 14 =========================\n",
      "\n",
      "========= BEGIN 15 [122] ===========\n",
      "mouvements de avec les comptes de Madame [P] [R] et dire si cette dernière a pu bénéficier directement ou indirectement de\n",
      "========= END 15 =========================\n",
      "\n",
      "========= BEGIN 16 [121] ===========\n",
      "indirectement de retraits ou mouvements d'argent. Par arrêt du 21 janvier 2020, la cour de céans, sur appel de Madame [R]\n",
      "========= END 16 =========================\n",
      "\n",
      "========= BEGIN 17 [121] ===========\n",
      "Madame [R] uniquement sur l'expertise financière a : - confirmé le jugement entrepris en ce qu'il avait ordonné une telle\n",
      "========= END 17 =========================\n",
      "\n",
      "========= BEGIN 18 [125] ===========\n",
      "une telle tout en modifiant la mission de l'expert, - sursis à statuer dans l'attente du dépôt du rapport d'expertise sur les\n",
      "========= END 18 =========================\n",
      "\n",
      "========= BEGIN 19 [113] ===========\n",
      "sur les de Monsieur [G] tendant à la reconstitution du patrimoine mobilier de sa mère aux fins d'inventaire, à la\n",
      "========= END 19 =========================\n",
      "\n",
      "========= BEGIN 20 [121] ===========\n",
      "à la des avantages liés à l'usufruit par Madame [R] des propriétés d'[Localité 3] et d'[Localité 6] et à l'existence d'un\n",
      "========= END 20 =========================\n",
      "\n",
      "========= BEGIN 21 [119] ===========\n",
      "l'existence d'un successoral avec pour conséquence l'exclusion du partage pour l'ensemble des biens recélés, et à titre\n",
      "========= END 21 =========================\n",
      "\n",
      "========= BEGIN 22 [125] ===========\n",
      "à titre subsidiaire, sur la prise en charge par la seule Madame [R] des éventuels dommages-intérêts dus à Madame [V] [C] dans\n",
      "========= END 22 =========================\n",
      "\n",
      "========= BEGIN 23 [123] ===========\n",
      "[C] dans cadre de la procédure prud'homale en cours, - débouté Madame [P] [R] de ses autres demandes, - condamné Madame [P]\n",
      "========= END 23 =========================\n",
      "\n",
      "========= BEGIN 24 [124] ===========\n",
      "Madame [P] à payer à Monsieur [U] [G] une somme de 1.500,00 € sur le fondement de l'article 700 du code de procédure civile,\n",
      "========= END 24 =========================\n",
      "\n",
      "========= BEGIN 25 [124] ===========\n",
      "procédure civile, réservé les dépens. L'expert judiciaire n'a pu obtenir la communication par le CIC, des relevés de comptes\n",
      "========= END 25 =========================\n",
      "\n",
      "========= BEGIN 26 [123] ===========\n",
      "de comptes Madame [O] [D] [J], celui-ci lui opposant le secret bancaire. Il a donc déposé un procès-verbal de carence le 13\n",
      "========= END 26 =========================\n",
      "\n",
      "========= BEGIN 27 [122] ===========\n",
      "le 13 2021. Par arrêt du 22 mars 2022, la cour au vu de ce procès-verbal de carence a : - déclaré sans objet la requête en\n",
      "========= END 27 =========================\n",
      "\n",
      "========= BEGIN 28 [120] ===========\n",
      "requête en d'omission matérielle présentée ainsi que la demande formée en mesure d'astreinte, - mis un terme à la mesure\n",
      "========= END 28 =========================\n",
      "\n",
      "========= BEGIN 29 [117] ===========\n",
      "la mesure ordonnée, - renvoyé l'affaire pour fixation à la mise en état, - réservé les dépens et rejeté toutes autres\n",
      "========= END 29 =========================\n",
      "\n",
      "========= BEGIN 30 [123] ===========\n",
      "toutes autres en ce compris celles présentées en application des dispositions de l'article 700 du code de procédure civile.\n",
      "========= END 30 =========================\n",
      "\n",
      "========= BEGIN 31 [124] ===========\n",
      "procédure civile. avis de fixation en date du 19 octobre 2022 a été notifié aux parties, indiquant que l'affaire était fixée\n",
      "========= END 31 =========================\n",
      "\n",
      "========= BEGIN 32 [124] ===========\n",
      "était fixée plaider à l'audience du 4 avril 2023 avec une clôture le 8 mars 2023. Madame [P] [R] a signifié les 7 mars et 20\n",
      "========= END 32 =========================\n",
      "\n",
      "========= BEGIN 33 [125] ===========\n",
      "et 20 des conclusions récapitulatives aux termes desquelles elle demande à la cour au visa de l'article 778 du code civil, de\n",
      "========= END 33 =========================\n",
      "\n",
      "========= BEGIN 34 [123] ===========\n",
      "civil, de - débouter Monsieur [G] de ses demandes de reconstitution du patrimoine mobilier de Madame [D] [J], - le débouter\n",
      "========= END 34 =========================\n",
      "\n",
      "========= BEGIN 35 [118] ===========\n",
      "le débouter de ses demandes relatives à la prise en charge des dommages-intérêts de la procédure prud'homale [C], - le\n",
      "========= END 35 =========================\n",
      "\n",
      "========= BEGIN 36 [124] ===========\n",
      "- le de ses demandes relatives à la gestion d'affaires, - dire que le notaire désigné aura à prendre en compte la créance de\n",
      "========= END 36 =========================\n",
      "\n",
      "========= BEGIN 37 [122] ===========\n",
      "créance de [R] pour les droits de succession qu'elle a supportés en excédent de sa part, de même que la créance d'usufruit\n",
      "========= END 37 =========================\n",
      "\n",
      "========= BEGIN 38 [124] ===========\n",
      "créance d'usufruit dans son lot à l'occasion de la succession de son père et dont elle est fondée à faire état dans le cadre\n",
      "========= END 38 =========================\n",
      "\n",
      "========= BEGIN 39 [123] ===========\n",
      "le cadre la succession de Madame [O] [G], - condamner Monsieur [G] au paiement d'une indemnité de 5.000,00 € en application\n",
      "========= END 39 =========================\n",
      "\n",
      "========= BEGIN 40 [119] ===========\n",
      "en application dispositions de l'article 700 du code de procédure civile ainsi qu'aux dépens avec droit de recouvrement\n",
      "========= END 40 =========================\n",
      "\n",
      "========= BEGIN 41 [124] ===========\n",
      "de recouvrement au profit de son conseil. Aux termes de ses dernières écritures au fond en date du 10 octobre 2019, Monsieur\n",
      "========= END 41 =========================\n",
      "\n",
      "========= BEGIN 42 [119] ===========\n",
      "2019, Monsieur concluait à la confirmation du jugement en ce qu'il a ordonné l'ouverture des opérations de liquidation,\n",
      "========= END 42 =========================\n",
      "\n",
      "========= BEGIN 43 [118] ===========\n",
      "de liquidation, de la succession de sa mère avec désignation d'un notaire et d'un juge commis et ordonné une expertise\n",
      "========= END 43 =========================\n",
      "\n",
      "========= BEGIN 44 [124] ===========\n",
      "une expertise et demandait à la cour de : - donner également mission au notaire désigné de reconstituer l'ensemble des biens\n",
      "========= END 44 =========================\n",
      "\n",
      "========= BEGIN 45 [124] ===========\n",
      "des biens ayant appartenu à feue Madame [D] [J], (tableaux, meubles, bijoux), aux fins d'inventaire définitif de ses biens ;\n",
      "========= END 45 =========================\n",
      "\n",
      "========= BEGIN 46 [125] ===========\n",
      "biens ; notaire pourra s'adjoindre tout sapiteur de son choix, - voir, dire et juger que seront réintégrés les avantages liés\n",
      "========= END 46 =========================\n",
      "\n",
      "========= BEGIN 47 [122] ===========\n",
      "avantages liés l'usufruit par [P] [R] des propriétés d'[Localité 3] (50) et d'[Localité 6] (14), - déclarer Madame [P] [R]\n",
      "========= END 47 =========================\n",
      "\n",
      "========= BEGIN 48 [122] ===========\n",
      "[P] [R] de recel, dire qu'elle sera en conséquence exclue du partage pour l'ensemble des biens recelés, A titre infiniment\n",
      "========= END 48 =========================\n",
      "\n",
      "========= BEGIN 49 [121] ===========\n",
      "titre infiniment - voir dire et juger qu'il y aura lieu de considérer que l'embauche par Madame [P] [R] de Madame [V] [C]\n",
      "========= END 49 =========================\n",
      "\n",
      "========= BEGIN 50 [121] ===========\n",
      "[V] [C] une gestion d'affaires et en conséquence, dire et juger que celle-ci est fautive et négligente engageant ainsi la\n",
      "========= END 50 =========================\n",
      "\n",
      "========= BEGIN 51 [120] ===========\n",
      "ainsi la de ladite Madame [R] laquelle sera tenue à titre personnel de supporter au besoin à titre de dommages-intérêts,\n",
      "========= END 51 =========================\n",
      "\n",
      "========= BEGIN 52 [124] ===========\n",
      "de dommages-intérêts, des condamnations pouvant bénéficier à Madame [C] de telle sorte que la succession ne puisse en aucune\n",
      "========= END 52 =========================\n",
      "\n",
      "========= BEGIN 53 [124] ===========\n",
      "en aucune être tenue desdites sommes, - débouter Madame [P] [R] de toutes ses demandes, - réserver les dépens. Pour l'exposé\n",
      "========= END 53 =========================\n",
      "\n",
      "========= BEGIN 54 [119] ===========\n",
      "Pour l'exposé des prétentions et de l'argumentaire des parties, il est expressément renvoyé à leurs dernières écritures\n",
      "========= END 54 =========================\n",
      "\n",
      "========= BEGIN 55 [122] ===========\n",
      "dernières écritures conformément à l'article 455 du code de procédure civile. L'ordonnance de clôture est intervenue le 22\n",
      "========= END 55 =========================\n",
      "\n",
      "========= BEGIN 56 [124] ===========\n",
      "le 22 2023 à 9 H, le conseil de Monsieur [G] ayant sollicité son report. Par conclusions de procédure du 22 mars 2023 à 18 H\n",
      "========= END 56 =========================\n",
      "\n",
      "========= BEGIN 57 [122] ===========\n",
      "18 H Monsieur [G] a sollicité le rejet pur et simple des conclusions, bordereau et pièces 113 à 115, signifiées le 20 mars\n",
      "========= END 57 =========================\n",
      "\n",
      "========= BEGIN 58 [120] ===========\n",
      "20 mars par Madame [P] [R]. Par conclusions de procédure du 4 avril 2023, Madame [R] a conclu à la recevabilité desdites\n",
      "========= END 58 =========================\n",
      "\n",
      "========= BEGIN 59 [124] ===========\n",
      "recevabilité desdites MOTIFS DE LA DÉCISION Sur la demande de rejet des conclusions de Madame [R] du 20 mars 2023 Un avis de\n",
      "========= END 59 =========================\n",
      "\n",
      "========= BEGIN 60 [118] ===========\n",
      "avis de de l'affaire à l'audience du 4 avril 2023, a été adressé aux parties le 19 octobre 2022, leur indiquant que la\n",
      "========= END 60 =========================\n",
      "\n",
      "========= BEGIN 61 [123] ===========\n",
      "que la serait fixée le 8 mars 2023. Madame [R] ayant conclu le 7 mars 2023, l'ordonnance de clôture a été finalement rendue\n",
      "========= END 61 =========================\n",
      "\n",
      "========= BEGIN 62 [124] ===========\n",
      "finalement rendue 22 mars 2023. Dès lors ses conclusions signifiées le 20 mars 2023, à deux jours de la clôture doivent être\n",
      "========= END 62 =========================\n",
      "\n",
      "========= BEGIN 63 [125] ===========\n",
      "doivent être comme tardives et seront rejetées, tout comme les pièces supplémentaires qu'elles visent (pièces 113 à 115). Sur\n",
      "========= END 63 =========================\n",
      "\n",
      "========= BEGIN 64 [115] ===========\n",
      "115). Sur dire et juger A titre liminaire, il convient de rappeler que les demandes de 'dire' et 'dire et juger' ne\n",
      "========= END 64 =========================\n",
      "\n",
      "========= BEGIN 65 [122] ===========\n",
      "juger' ne pas des prétentions au sens de l'article 768 du code de procédure civile, et ne seront donc pas examinées par la\n",
      "========= END 65 =========================\n",
      "\n",
      "========= BEGIN 66 [120] ===========\n",
      "par la Sur l'autorité de la chose jugée de certaines créances revendiquées par Madame [R] Dans ses dernières écritures ,\n",
      "========= END 66 =========================\n",
      "\n",
      "========= BEGIN 67 [118] ===========\n",
      "écritures , [R] demande que le notaire désigné prenne en compte sa créance relative aux droits de succession qu'elle a\n",
      "========= END 67 =========================\n",
      "\n",
      "========= BEGIN 68 [124] ===========\n",
      "qu'elle a en excédent de sa part suite à l'annulation des contrats d'assurance-vie dont elle était bénéficiaire, de même que\n",
      "========= END 68 =========================\n",
      "\n",
      "========= BEGIN 69 [124] ===========\n",
      "même que créance de quasi-usufruit mise dans son lot à l'occasion de la succession de son père. La cour dans son arrêt du 21\n",
      "========= END 69 =========================\n",
      "\n",
      "========= BEGIN 70 [123] ===========\n",
      "du 21 2020, a d'ores et déjà statué par un arrêt définitif, sur ces demandes qu'il a rejetées. Elles sont donc irrecevables\n",
      "========= END 70 =========================\n",
      "\n",
      "========= BEGIN 71 [125] ===========\n",
      "donc irrecevables se heurtant à l'autorité de la chose jugée. La cour n'examinera donc que les demandes ayant fait l'objet du\n",
      "========= END 71 =========================\n",
      "\n",
      "========= BEGIN 72 [122] ===========\n",
      "l'objet du à statuer dans cet arrêt. Sur la reconstitution du patrimoine mobilier de Madame [D] [J] La cour constate d'une\n",
      "========= END 72 =========================\n",
      "\n",
      "========= BEGIN 73 [123] ===========\n",
      "constate d'une que l'expert qu'elle a désigné, n'a pas été en mesure de reconstituer les mouvements de fonds, ni d'indiquer\n",
      "========= END 73 =========================\n",
      "\n",
      "========= BEGIN 74 [123] ===========\n",
      "ni d'indiquer bénéficiaires des transferts de fonds et de chèques émis sur les comptes de Madame [O] [R] pour la période de\n",
      "========= END 74 =========================\n",
      "\n",
      "========= BEGIN 75 [124] ===========\n",
      "période de 2008 au 20 avril 2011, et d'autre part, que Monsieur [G], qui n'a pas conclu après dépôt du rapport de carence de\n",
      "========= END 75 =========================\n",
      "\n",
      "========= BEGIN 76 [114] ===========\n",
      "carence de ne formule aucune demande à l'encontre de Madame [R] relativement à ces mouvements de fonds. Quant à la\n",
      "========= END 76 =========================\n",
      "\n",
      "========= BEGIN 77 [121] ===========\n",
      "à la des biens mobiliers (tableaux, meubles, bijoux), il n'y a pas lieu de donner spécialement mission au notaire désigné\n",
      "========= END 77 =========================\n",
      "\n",
      "========= BEGIN 78 [118] ===========\n",
      "notaire désigné faire un inventaire définitif, puisqu'il devra nécessairement le faire dans le cadre des opérations de\n",
      "========= END 78 =========================\n",
      "\n",
      "========= BEGIN 79 [122] ===========\n",
      "opérations de liquidation, partage, évaluer les biens mobiliers de Madame [D] [J] en fonction des pièces en sa possession.\n",
      "========= END 79 =========================\n",
      "\n",
      "========= BEGIN 80 [125] ===========\n",
      "sa possession. [G] sera donc débouté de sa demande à ce titre. Sur la réintégration des avantages liés à l'usufruit de Madame\n",
      "========= END 80 =========================\n",
      "\n",
      "========= BEGIN 81 [125] ===========\n",
      "de Madame sur les propriétés d'[Localité 3] et [Localité 6] La cour constate que Monsieur [G] ne développe dans ses écritures\n",
      "========= END 81 =========================\n",
      "\n",
      "========= BEGIN 82 [116] ===========\n",
      "ses écritures moyen relatif à l'existence d'avantages dont aurait bénéficié Madame [R] en rapport avec l'usufruit de\n",
      "========= END 82 =========================\n",
      "\n",
      "========= BEGIN 83 [122] ===========\n",
      "l'usufruit de situées à [Localité 3] et [Localité 6], étant en outre relevé que la mention 'dire et juger' énoncée dans le\n",
      "========= END 83 =========================\n",
      "\n",
      "========= BEGIN 84 [124] ===========\n",
      "dans le de ses conclusions ne constitue pas une prétention comme il a été rappelé ci-dessus et n'a donc pas à être examinée.\n",
      "========= END 84 =========================\n",
      "\n",
      "========= BEGIN 85 [123] ===========\n",
      "être examinée. tout état de cause, Madame [R] produit les actes notariés en date des 30 septembre 1999 et 20 décembre 2000,\n",
      "========= END 85 =========================\n",
      "\n",
      "========= BEGIN 86 [117] ===========\n",
      "décembre 2000, termes desquels, Madame [O] [D] [J] lui a fait donation à titre préciputaire de l'usufruit de ces deux\n",
      "========= END 86 =========================\n",
      "\n",
      "========= BEGIN 87 [114] ===========\n",
      "ces deux qui sont mentionnées dans le projet de partage qu'elle verse aux débats (Cf. Pièce N°8) ainsi que dans la\n",
      "========= END 87 =========================\n",
      "\n",
      "========= BEGIN 88 [125] ===========\n",
      "dans la de succession (Cf. Pièce N°9). Sur le recel successoral En vertu de l'article 778 du code civil, le recel successoral\n",
      "========= END 88 =========================\n",
      "\n",
      "========= BEGIN 89 [119] ===========\n",
      "recel successoral toutes les fraudes au moyen desquelles un héritier cherche, au détriment de ses cohéritiers, à rompre\n",
      "========= END 89 =========================\n",
      "\n",
      "========= BEGIN 90 [124] ===========\n",
      "à rompre du partage, soit qu'il divertisse des effets de la succession en se les appropriant indûment, soit qu'il les recèle\n",
      "========= END 90 =========================\n",
      "\n",
      "========= BEGIN 91 [118] ===========\n",
      "les recèle dissimulant sa possession dans des circonstances où il serait selon la loi, tenu des les déclarer. Le recel\n",
      "========= END 91 =========================\n",
      "\n",
      "========= BEGIN 92 [117] ===========\n",
      "Le recel à la fois un élément matériel et un élément intentionnel dont la preuve incombe à celui qui s'en prévaut. Il\n",
      "========= END 92 =========================\n",
      "\n",
      "========= BEGIN 93 [118] ===========\n",
      "prévaut. Il pas à l'héritier auquel le recel est reproché de démontrer sa bonne foi. Monsieur [G] demande à la cour de\n",
      "========= END 93 =========================\n",
      "\n",
      "========= BEGIN 94 [124] ===========\n",
      "cour de Madame [R] coupable de recel et de dire qu'elle sera exclue du partage pour l'ensemble des biens recelés. Comme il a\n",
      "========= END 94 =========================\n",
      "\n",
      "========= BEGIN 95 [124] ===========\n",
      "il a dit ci-dessus, l'expertise comptable s'étant soldée par un rapport de carence de l'expert qui n'a pu obtenir les pièces\n",
      "========= END 95 =========================\n",
      "\n",
      "========= BEGIN 96 [121] ===========\n",
      "les pièces pour mener à bien sa mission, et en l'absence de toute autre pièce probante, il ne peut être retenu un recel à\n",
      "========= END 96 =========================\n",
      "\n",
      "========= BEGIN 97 [123] ===========\n",
      "recel à de Madame [R], s'agissant des mouvements réalisés sur les comptes de sa mère. Il en va de même s'agissant des biens\n",
      "========= END 97 =========================\n",
      "\n",
      "========= BEGIN 98 [124] ===========\n",
      "des biens (tableaux, bijoux, meubles) puisqu'aucun inventaire n'a été dressé à ce jour et que Monsieur [G] n'établit pas que\n",
      "========= END 98 =========================\n",
      "\n",
      "========= BEGIN 99 [125] ===========\n",
      "pas que biens dont il affirme qu'ils auraient disparu, aient bénéficié à sa soeur. Il résulte certes d'un arrêt de la chambre\n",
      "========= END 99 =========================\n",
      "\n",
      "========= BEGIN 100 [121] ===========\n",
      "la chambre appels correctionnels de cette cour en date du 10 février 2014 (Cf. Pièce N°9), que Madame [R] a été condamnée\n",
      "========= END 100 =========================\n",
      "\n",
      "========= BEGIN 101 [119] ===========\n",
      "été condamnée escroquerie au jugement pour avoir présenté au juge des tutelles du tribunal d'instance d'Avranches le 10\n",
      "========= END 101 =========================\n",
      "\n",
      "========= BEGIN 102 [122] ===========\n",
      "le 10 2008 des pièces falsifiées censées démontrer que les dépenses effectuées par sa mère l'avaient bien été l'intérêt de\n",
      "========= END 102 =========================\n",
      "\n",
      "========= BEGIN 103 [118] ===========\n",
      "l'intérêt de dernière, ceci, afin d'obtenir d'être désignée comme tutrice, alors que son frère s'y opposait. Si elle a\n",
      "========= END 103 =========================\n",
      "\n",
      "========= BEGIN 104 [124] ===========\n",
      "elle a dans le cadre de cette procédure que certaines factures libellées au nom de sa mère, correspondaient à des travaux ou\n",
      "========= END 104 =========================\n",
      "\n",
      "========= BEGIN 105 [125] ===========\n",
      "travaux ou achats effectués pour son propre compte, ces faits ont été découverts dans le cadre de la procédure de tutelle, et\n",
      "========= END 105 =========================\n",
      "\n",
      "========= BEGIN 106 [125] ===========\n",
      "tutelle, et le décès de sa mère, de telle sorte que le recel qui suppose une dissimulation au moment de la succession ne peut\n",
      "========= END 106 =========================\n",
      "\n",
      "========= BEGIN 107 [124] ===========\n",
      "ne peut retenu. La cour relève par ailleurs qu'aucune demande n'a été présentée par Monsieur [G] afin de voir réintégrer les\n",
      "========= END 107 =========================\n",
      "\n",
      "========= BEGIN 108 [120] ===========\n",
      "réintégrer les dont Madame [R] a ainsi bénéficié, au titre de donations indirectes. Monsieur [G] sera donc débouté de sa\n",
      "========= END 108 =========================\n",
      "\n",
      "========= BEGIN 109 [123] ===========\n",
      "de sa au titre du recel successoral. Sur la prise en charge par Madame [R] de la créance de Madame [V] [C] Madame [V] [C] a\n",
      "========= END 109 =========================\n",
      "\n",
      "========= BEGIN 110 [120] ===========\n",
      "[C] a embauchée en qualité d'aide-soignante auprès de Madame [O] [D] [J] dont la santé mentale était déjà altérée, après\n",
      "========= END 110 =========================\n",
      "\n",
      "========= BEGIN 111 [118] ===========\n",
      "altérée, après répondu à une annonce passée dans le journal par sa fille, Madame [R]. Madame [C] n'ayant pu obtenir la\n",
      "========= END 111 =========================\n",
      "\n",
      "========= BEGIN 112 [124] ===========\n",
      "obtenir la écrite de son contrat de travail, a quitté ses fonctions le 29 novembre 2007. Par arrêt de la présente cour du 29\n",
      "========= END 112 =========================\n",
      "\n",
      "========= BEGIN 113 [125] ===========\n",
      "du 29 2016, la chambre sociale a dit que la rupture du contrat de travail ayant existé entre Madame [C] et Madame [O] [D] [J]\n",
      "========= END 113 =========================\n",
      "\n",
      "========= BEGIN 114 [124] ===========\n",
      "[D] [J] les effets d'un licenciement abusif et a condamné Madame [R] et Monsieur [G] en leur qualité d'ayants-droits de leur\n",
      "========= END 114 =========================\n",
      "\n",
      "========= BEGIN 115 [120] ===========\n",
      "de leur à payer diverses sommes à Madame [C], dont des dommages-intérêts pour travail dissimulé. Il est constant que cet\n",
      "========= END 115 =========================\n",
      "\n",
      "========= BEGIN 116 [125] ===========\n",
      "que cet étant définitif, la créance de Madame [C] incombe donc nécessairement à la succession de Madame [D] [J]. Force est de\n",
      "========= END 116 =========================\n",
      "\n",
      "========= BEGIN 117 [124] ===========\n",
      "est de que Monsieur [G], s'il se prévaut de fautes imputables à Madame [R] ayant conduit à cette décision, ne formule pas de\n",
      "========= END 117 =========================\n",
      "\n",
      "========= BEGIN 118 [122] ===========\n",
      "pas de condamnation à l'encontre de celle-ci, se contentant de mentionner dans ses écritures : 'Voir dire et juger qu'il y\n",
      "========= END 118 =========================\n",
      "\n",
      "========= BEGIN 119 [121] ===========\n",
      "qu'il y lieu de considérer que l'embauche par Madame [P] [R] de Madame [V] [C] constituerait une gestion d'affaires et en\n",
      "========= END 119 =========================\n",
      "\n",
      "========= BEGIN 120 [122] ===========\n",
      "et en dire et juger que celle-ci est fautive et négligente engageant ainsi la responsabilité de ladite Madame [R] laquelle\n",
      "========= END 120 =========================\n",
      "\n",
      "========= BEGIN 121 [124] ===========\n",
      "[R] laquelle alors tenue à titre personnel de supporter au besoin à titre de dommages-intérêts, l'ensemble des condamnations\n",
      "========= END 121 =========================\n",
      "\n",
      "========= BEGIN 122 [120] ===========\n",
      "des condamnations bénéficier à Madame [C] de telle sorte que la succession ne puisse en aucune façon être tenue desdites\n",
      "========= END 122 =========================\n",
      "\n",
      "========= BEGIN 123 [118] ===========\n",
      "tenue desdites Il ne peut donc être donné suite à une telle formulation qui ne constitue pas une prétention au sens de\n",
      "========= END 123 =========================\n",
      "\n",
      "========= BEGIN 124 [123] ===========\n",
      "sens de 768 du code de procédure civile. Sur les frais irrépétibles et les dépens L'équité commande de ne pas faire droit à\n",
      "========= END 124 =========================\n",
      "\n",
      "========= BEGIN 125 [124] ===========\n",
      "droit à demande d'indemnité formée par Madame [R] sur le fondement de l'article 700 du code de procédure civile. Compte tenu\n",
      "========= END 125 =========================\n",
      "\n",
      "========= BEGIN 126 [119] ===========\n",
      "Compte tenu la nature de l'affaire, les dépens y compris les frais d'expertise, seront employés en frais privilégiés de\n",
      "========= END 126 =========================\n",
      "\n",
      "========= BEGIN 127 [118] ===========\n",
      "privilégiés de PAR CES MOTIFS La cour, statuant publiquement après sursis à statuer, par arrêt contradictoire rendu en\n",
      "========= END 127 =========================\n",
      "\n",
      "========= BEGIN 128 [122] ===========\n",
      "rendu en ressort, mis à disposition au greffe, REJETTE comme tardives les conclusions et pièces signifiées le 20 mars 2023\n",
      "========= END 128 =========================\n",
      "\n",
      "========= BEGIN 129 [121] ===========\n",
      "mars 2023 Madame [P] [R], RAPPELLE que les 'dire et juger' ne constituent pas des prétentions au sens de l'article 768 du\n",
      "========= END 129 =========================\n",
      "\n",
      "========= BEGIN 130 [122] ===========\n",
      "768 du de procédure civile, et n'ont donc pas à être examinés, CONSTATE que la cour dans son arrêt définitif du 21 janvier\n",
      "========= END 130 =========================\n",
      "\n",
      "========= BEGIN 131 [123] ===========\n",
      "21 janvier a rejeté les demandes de Madame [P] [R] tendant à ce que le notaire désigné prenne en compte sa créance pour les\n",
      "========= END 131 =========================\n",
      "\n",
      "========= BEGIN 132 [114] ===========\n",
      "pour les de succession qu'elle a supportés en excédent de sa part suite à l'annulation de rachats sur les contrats\n",
      "========= END 132 =========================\n",
      "\n",
      "========= BEGIN 133 [121] ===========\n",
      "les contrats de sa mère, ainsi que la créance d'usufruit mise dans son lot à l'occasion de la succession de son père, LES\n",
      "========= END 133 =========================\n",
      "\n",
      "========= BEGIN 134 [124] ===========\n",
      "père, LES donc irrecevables, DÉBOUTE Monsieur [U] [G] de sa demande tendant à ce qu'il soit donné mission au notaire désigné\n",
      "========= END 134 =========================\n",
      "\n",
      "========= BEGIN 135 [121] ===========\n",
      "notaire désigné reconstituer l'ensemble des biens mobiliers ayant appartenu à Madame [O] [D] [J] aux fins d'un inventaire\n",
      "========= END 135 =========================\n",
      "\n",
      "========= BEGIN 136 [125] ===========\n",
      "d'un inventaire de ses biens, DÉBOUTE Monsieur [U] [G] de sa demande tendant à voir reconnaître Madame [P] [R], coupable d'un\n",
      "========= END 136 =========================\n",
      "\n",
      "========= BEGIN 137 [122] ===========\n",
      "coupable d'un successoral, DÉBOUTE Madame [P] [R] de sa demande d'indemnité au titre de l'article 700 du code de procédure\n",
      "========= END 137 =========================\n",
      "\n",
      "========= BEGIN 138 [123] ===========\n",
      "de procédure DIT que les dépens de première instance et d'appel, comprenant les frais d'expertise, seront employés en frais\n",
      "========= END 138 =========================\n",
      "\n",
      "========= BEGIN 139 [69] ===========\n",
      "en frais de partage. LE GREFFIER LE PRÉSIDENT M. COLLET G. GUIGUESSON\n",
      "========= END 139 =========================\n"
     ]
    }
   ],
   "source": [
    "print_data(df_content_4)"
   ],
   "metadata": {
    "collapsed": false,
    "ExecuteTime": {
     "end_time": "2023-10-20T03:45:22.074777Z",
     "start_time": "2023-10-20T03:45:21.797283Z"
    }
   }
  },
  {
   "cell_type": "code",
   "execution_count": 881,
   "outputs": [],
   "source": [
    "filename_5 = 'JURITEXT64841562c24155d0f832f9b6.tsv'"
   ],
   "metadata": {
    "collapsed": false,
    "ExecuteTime": {
     "end_time": "2023-10-20T03:45:22.074808Z",
     "start_time": "2023-10-20T03:45:21.800779Z"
    }
   }
  },
  {
   "cell_type": "code",
   "execution_count": 882,
   "outputs": [],
   "source": [
    "content_5 = read_file(filename_5)"
   ],
   "metadata": {
    "collapsed": false,
    "ExecuteTime": {
     "end_time": "2023-10-20T03:45:22.074839Z",
     "start_time": "2023-10-20T03:45:21.803789Z"
    }
   }
  },
  {
   "cell_type": "code",
   "execution_count": 883,
   "outputs": [
    {
     "name": "stdout",
     "output_type": "stream",
     "text": [
      "N° RG 23/04670 - N° Portalis DBVX-V-B7H-PATU\n",
      "Nom du ressortissant :\n",
      "[O] [I]\n",
      "[I]\n",
      "C/\n",
      "PREFET DU PUY DE DOME\n",
      "COUR D'APPEL DE LYON\n",
      "JURIDICTION DU PREMIER PRÉSIDENT\n",
      "ORDONNANCE DU 09 JUIN 2023\n",
      "statuant en matière de Rétentions Administratives des Etrangers\n",
      "Nous, Isabelle OUDOT, conseiller à la cour d'appel de Lyon, déléguée par ordonnance de madame la première présidente de ladite Cour en date du 02 janvier 2023 pour statuer sur les procédures ouvertes en application des articles L.342-7, L. 342-12, L. 743-11 et L. 743-21 du code d'entrée et de séjour des étrangers en France et du droit d'asile,\n",
      "Assistée lors des débats de Charlotte COMBAL, greffière et de Jihan TAHIRI, greffière placée, lors de la mise à disposition\n",
      "En l'absence du ministère public,\n",
      "En audience publique du 09 Juin 2023 dans la procédure suivie entre :\n",
      "APPELANT :\n",
      "M. [O] [I]\n",
      "né le 11 Avril 1996 à [Localité 3]\n",
      "de nationalité Algérienne\n",
      "Actuellement retenu au centre de rétention administrative [4]\n",
      "comparant assisté de Maître Caroline BEAUD, avocat au barreau de LYON, commis d'office avec le concours de Madame [U] [D], interprète en langue arabe inscrite sur la liste des experts près de la cour d'appel de LYON ;\n",
      "ET\n",
      "INTIME :\n",
      "M. LE PREFET DU PUY DE DOME\n",
      "[Adresse 1]\n",
      "[Localité 2]\n",
      "non comparant, régulièrement avisé, représenté par Maître Eddy PERRIN, avocat au barreau de LYON, pour la SELARL SERFATY VENUTTI CAMACHO & CORDIER, avocats au barreau de l'AIN,\n",
      "Avons mis l'affaire en délibéré au 09 Juin 2023 à 15 heures 00 et à cette date et heure prononcé l'ordonnance dont la teneur suit :\n",
      "FAITS ET PROCÉDURE\n",
      "Par décision en date du 08 mai 2023, l'autorité administrative a ordonné le placement de [O] [I] en rétention dans les locaux ne relevant pas de l'administration pénitentiaire afin de permettre l'exécution de l'arrêté du 06 août 2022 du préfet du Puy-de-Dôme portant obligation pour [O] [I] de quitter le territoire français sans délai de départ volontaire assortie d'une interdiction de retour pendant 3 ans.\n",
      "Par ordonnance du 10 mai 2023, le juge des libertés et de la détention a prolongé la rétention administrative de [O] [I] pour une durée de vingt-huit jours.\n",
      "Suivant requête du 06 juin 2023 reçue le jour même à 15 heures 03, le préfet du Puy-de-Dôme a saisi le juge des libertés et de la détention du tribunal judiciaire de Lyon aux fins de voir ordonner une nouvelle prolongation de la rétention pour une durée de trente jours de X se disant [I] [O], ressortissant algérien né le 11 avril 1996 a [Localité 3] (Algérie), alias M.X se disant [E] [O], ressortissant algérien né le 11 avril1996 a [Localité 3] (Algérie), alias M. X se disant [W] [O], né le 11 avril 1996 a [Localité 3] (Algérie).\n",
      "Dans son ordonnance du 07 juin 2023 à 13 heures 40 le juge des libertés et de la détention du tribunal judiciaire de Lyon a fait droit à cette requête.\n",
      "Par déclaration au greffe le 08 juin 2023 à 09 heures 59 [O] [I] a interjeté appel de cette ordonnance dont il demande l'infirmation outre sa remise en liberté.\n",
      "Il fait valoir que la préfecture n'a pas effectué les diligences nécessaires afin d'organiser son départ pendant le temps de sa première prolongation.\n",
      "Les parties ont été régulièrement convoquées à l'audience du 09 juin 2023 à 10 heures 30.\n",
      "[O] [I] a comparu et a été assisté d'un interprète et de son avocat.\n",
      "Le conseil de [O] [I] a été entendu en sa plaidoirie pour soutenir les termes de la requête d'appel.\n",
      "Le préfet du Puy-de-Dôme, représenté par son conseil, a demandé la confirmation de l'ordonnance déférée.\n",
      "[O] [I] a eu la parole en dernier. Il demande une chance pour quitter la France et se rendre en Espagne où il résidait avant. Il epxlique que sa véritable identité est [O] [I].\n",
      "MOTIVATION\n",
      "Sur la recevabilité de l'appel\n",
      "Attendu que l'appel de [O] [I] relevé dans les formes et délais légaux est recevable ;\n",
      "Sur le bien-fondé de la requête et l'obligation de diligences\n",
      "Attendu que [O] [I] soutient dans sa requête en appel que la préfecture n'a pas effectué les diligences nécessaires durant la première période de prolongation de sa rétention administrative ;\n",
      "Attendu que l'obligation de diligences qui incombe à l'autorité préfectorale en application des dispositions de l'article L. 741-3 du CESEDA est une obligation de moyen et non une obligation de résultat, étant précisé que la préfecture ne dispose d'aucun pouvoir de coercition où de contrainte à l'égard des autorités consulaires ;\n",
      "Attendu que dans sa requête en prolongation de la rétention de [O] [I], l'autorité préfectorale fait valoir que :\n",
      "- elle a saisi dès le 09 mai 2023 les autorités consulaires d'Algérie afin d'obtenir la délivrance d'un laissez-passer pour [O] [I] qui circulait sans document d'identité ou de voyage ;\n",
      "- elle a adressé les empreintes, les photographies et le questionnaire de l'intéressé par envoi du 09 mai 2023 au consulat ;\n",
      "- et un courrier de relance aux autorités consulaires a été envoyé le 05 juin 2023 ;\n",
      "Attendu que ces éléments sont justifiés par les pièces de la procédure et qu'il est ainsi caractérisé que la préfecture du Puy-de-Dôme a accompli les diligences nécessaires et suffisantes pour permettre l'exécution de la mesure d'éloignement et que le grief tiré de l'insuffisance des diligences est infondé ;\n",
      "Attendu que la prolongation de la rétention est justifiée par le défaut de délivrance des documents de voyage par le consulat dont relève l'intéressé ; Que les conditions d'une seconde prolongation au sens des dispositions de l'article L. 742-4 du CESEDA sont réunies ainsi que l'a retenu le premier juge dont la décision est confirmée ;\n",
      "PAR CES MOTIFS\n",
      "Déclarons recevable l'appel formé par [O] [I],\n",
      "Confirmons l'ordonnance déférée.\n",
      "Le greffier, Le conseiller délégué,\n",
      "Jihan TAHIRI Isabelle OUDOT\n"
     ]
    }
   ],
   "source": [
    "print(content_5)"
   ],
   "metadata": {
    "collapsed": false,
    "ExecuteTime": {
     "end_time": "2023-10-20T03:45:22.074953Z",
     "start_time": "2023-10-20T03:45:21.809203Z"
    }
   }
  },
  {
   "cell_type": "code",
   "execution_count": 884,
   "outputs": [],
   "source": [
    "df_content_5 = split_text_into_passages(content_5, prev_include=2)"
   ],
   "metadata": {
    "collapsed": false,
    "ExecuteTime": {
     "end_time": "2023-10-20T03:45:22.075321Z",
     "start_time": "2023-10-20T03:45:21.816814Z"
    }
   }
  },
  {
   "cell_type": "code",
   "execution_count": 885,
   "outputs": [
    {
     "name": "stdout",
     "output_type": "stream",
     "text": [
      "========= BEGIN 1 [125] ===========\n",
      "N° RG 23/04670 - N° Portalis DBVX-V-B7H-PATU Nom du ressortissant : [O] [I] [I] C/ PREFET DU PUY DE DOME COUR D'APPEL DE LYON\n",
      "========= END 1 =========================\n",
      "\n",
      "========= BEGIN 2 [125] ===========\n",
      "DE LYON DU PREMIER PRÉSIDENT ORDONNANCE DU 09 JUIN 2023 statuant en matière de Rétentions Administratives des Etrangers Nous,\n",
      "========= END 2 =========================\n",
      "\n",
      "========= BEGIN 3 [120] ===========\n",
      "Etrangers Nous, OUDOT, conseiller à la cour d'appel de Lyon, déléguée par ordonnance de madame la première présidente de\n",
      "========= END 3 =========================\n",
      "\n",
      "========= BEGIN 4 [123] ===========\n",
      "présidente de Cour en date du 02 janvier 2023 pour statuer sur les procédures ouvertes en application des articles L.342-7,\n",
      "========= END 4 =========================\n",
      "\n",
      "========= BEGIN 5 [123] ===========\n",
      "articles L.342-7, 342-12, L. 743-11 et L. 743-21 du code d'entrée et de séjour des étrangers en France et du droit d'asile,\n",
      "========= END 5 =========================\n",
      "\n",
      "========= BEGIN 6 [117] ===========\n",
      "droit d'asile, lors des débats de Charlotte COMBAL, greffière et de Jihan TAHIRI, greffière placée, lors de la mise à\n",
      "========= END 6 =========================\n",
      "\n",
      "========= BEGIN 7 [124] ===========\n",
      "mise à En l'absence du ministère public, En audience publique du 09 Juin 2023 dans la procédure suivie entre : APPELANT : M.\n",
      "========= END 7 =========================\n",
      "\n",
      "========= BEGIN 8 [112] ===========\n",
      ": M. [I] né le 11 Avril 1996 à [Localité 3] de nationalité Algérienne Actuellement retenu au centre de rétention\n",
      "========= END 8 =========================\n",
      "\n",
      "========= BEGIN 9 [123] ===========\n",
      "de rétention [4] comparant assisté de Maître Caroline BEAUD, avocat au barreau de LYON, commis d'office avec le concours de\n",
      "========= END 9 =========================\n",
      "\n",
      "========= BEGIN 10 [125] ===========\n",
      "concours de [U] [D], interprète en langue arabe inscrite sur la liste des experts près de la cour d'appel de LYON ; ET INTIME\n",
      "========= END 10 =========================\n",
      "\n",
      "========= BEGIN 11 [125] ===========\n",
      "ET INTIME M. LE PREFET DU PUY DE DOME [Adresse 1] [Localité 2] non comparant, régulièrement avisé, représenté par Maître Eddy\n",
      "========= END 11 =========================\n",
      "\n",
      "========= BEGIN 12 [123] ===========\n",
      "Maître Eddy avocat au barreau de LYON, pour la SELARL SERFATY VENUTTI CAMACHO & CORDIER, avocats au barreau de l'AIN, Avons\n",
      "========= END 12 =========================\n",
      "\n",
      "========= BEGIN 13 [120] ===========\n",
      "l'AIN, Avons l'affaire en délibéré au 09 Juin 2023 à 15 heures 00 et à cette date et heure prononcé l'ordonnance dont la\n",
      "========= END 13 =========================\n",
      "\n",
      "========= BEGIN 14 [122] ===========\n",
      "dont la suit : FAITS ET PROCÉDURE Par décision en date du 08 mai 2023, l'autorité administrative a ordonné le placement de\n",
      "========= END 14 =========================\n",
      "\n",
      "========= BEGIN 15 [125] ===========\n",
      "placement de [I] en rétention dans les locaux ne relevant pas de l'administration pénitentiaire afin de permettre l'exécution\n",
      "========= END 15 =========================\n",
      "\n",
      "========= BEGIN 16 [117] ===========\n",
      "permettre l'exécution l'arrêté du 06 août 2022 du préfet du Puy-de-Dôme portant obligation pour [O] [I] de quitter le\n",
      "========= END 16 =========================\n",
      "\n",
      "========= BEGIN 17 [125] ===========\n",
      "quitter le français sans délai de départ volontaire assortie d'une interdiction de retour pendant 3 ans. Par ordonnance du 10\n",
      "========= END 17 =========================\n",
      "\n",
      "========= BEGIN 18 [119] ===========\n",
      "du 10 2023, le juge des libertés et de la détention a prolongé la rétention administrative de [O] [I] pour une durée de\n",
      "========= END 18 =========================\n",
      "\n",
      "========= BEGIN 19 [123] ===========\n",
      "durée de jours. Suivant requête du 06 juin 2023 reçue le jour même à 15 heures 03, le préfet du Puy-de-Dôme a saisi le juge\n",
      "========= END 19 =========================\n",
      "\n",
      "========= BEGIN 20 [124] ===========\n",
      "le juge libertés et de la détention du tribunal judiciaire de Lyon aux fins de voir ordonner une nouvelle prolongation de la\n",
      "========= END 20 =========================\n",
      "\n",
      "========= BEGIN 21 [118] ===========\n",
      "de la pour une durée de trente jours de X se disant [I] [O], ressortissant algérien né le 11 avril 1996 a [Localité 3]\n",
      "========= END 21 =========================\n",
      "\n",
      "========= BEGIN 22 [123] ===========\n",
      "[Localité 3] alias M.X se disant [E] [O], ressortissant algérien né le 11 avril1996 a [Localité 3] (Algérie), alias M. X se\n",
      "========= END 22 =========================\n",
      "\n",
      "========= BEGIN 23 [122] ===========\n",
      "X se [W] [O], né le 11 avril 1996 a [Localité 3] (Algérie). Dans son ordonnance du 07 juin 2023 à 13 heures 40 le juge des\n",
      "========= END 23 =========================\n",
      "\n",
      "========= BEGIN 24 [125] ===========\n",
      "juge des et de la détention du tribunal judiciaire de Lyon a fait droit à cette requête. Par déclaration au greffe le 08 juin\n",
      "========= END 24 =========================\n",
      "\n",
      "========= BEGIN 25 [117] ===========\n",
      "08 juin à 09 heures 59 [O] [I] a interjeté appel de cette ordonnance dont il demande l'infirmation outre sa remise en\n",
      "========= END 25 =========================\n",
      "\n",
      "========= BEGIN 26 [125] ===========\n",
      "remise en Il fait valoir que la préfecture n'a pas effectué les diligences nécessaires afin d'organiser son départ pendant le\n",
      "========= END 26 =========================\n",
      "\n",
      "========= BEGIN 27 [125] ===========\n",
      "pendant le de sa première prolongation. Les parties ont été régulièrement convoquées à l'audience du 09 juin 2023 à 10 heures\n",
      "========= END 27 =========================\n",
      "\n",
      "========= BEGIN 28 [120] ===========\n",
      "10 heures [O] [I] a comparu et a été assisté d'un interprète et de son avocat. Le conseil de [O] [I] a été entendu en sa\n",
      "========= END 28 =========================\n",
      "\n",
      "========= BEGIN 29 [120] ===========\n",
      "en sa pour soutenir les termes de la requête d'appel. Le préfet du Puy-de-Dôme, représenté par son conseil, a demandé la\n",
      "========= END 29 =========================\n",
      "\n",
      "========= BEGIN 30 [121] ===========\n",
      "demandé la de l'ordonnance déférée. [O] [I] a eu la parole en dernier. Il demande une chance pour quitter la France et se\n",
      "========= END 30 =========================\n",
      "\n",
      "========= BEGIN 31 [123] ===========\n",
      "et se en Espagne où il résidait avant. Il epxlique que sa véritable identité est [O] [I]. MOTIVATION Sur la recevabilité de\n",
      "========= END 31 =========================\n",
      "\n",
      "========= BEGIN 32 [123] ===========\n",
      "recevabilité de Attendu que l'appel de [O] [I] relevé dans les formes et délais légaux est recevable ; Sur le bien-fondé de\n",
      "========= END 32 =========================\n",
      "\n",
      "========= BEGIN 33 [123] ===========\n",
      "bien-fondé de requête et l'obligation de diligences Attendu que [O] [I] soutient dans sa requête en appel que la préfecture\n",
      "========= END 33 =========================\n",
      "\n",
      "========= BEGIN 34 [112] ===========\n",
      "la préfecture pas effectué les diligences nécessaires durant la première période de prolongation de sa rétention\n",
      "========= END 34 =========================\n",
      "\n",
      "========= BEGIN 35 [123] ===========\n",
      "sa rétention ; Attendu que l'obligation de diligences qui incombe à l'autorité préfectorale en application des dispositions\n",
      "========= END 35 =========================\n",
      "\n",
      "========= BEGIN 36 [122] ===========\n",
      "des dispositions l'article L. 741-3 du CESEDA est une obligation de moyen et non une obligation de résultat, étant précisé\n",
      "========= END 36 =========================\n",
      "\n",
      "========= BEGIN 37 [123] ===========\n",
      "étant précisé la préfecture ne dispose d'aucun pouvoir de coercition où de contrainte à l'égard des autorités consulaires ;\n",
      "========= END 37 =========================\n",
      "\n",
      "========= BEGIN 38 [121] ===========\n",
      "consulaires ; que dans sa requête en prolongation de la rétention de [O] [I], l'autorité préfectorale fait valoir que : -\n",
      "========= END 38 =========================\n",
      "\n",
      "========= BEGIN 39 [124] ===========\n",
      ": - a saisi dès le 09 mai 2023 les autorités consulaires d'Algérie afin d'obtenir la délivrance d'un laissez-passer pour [O]\n",
      "========= END 39 =========================\n",
      "\n",
      "========= BEGIN 40 [119] ===========\n",
      "pour [O] qui circulait sans document d'identité ou de voyage ; - elle a adressé les empreintes, les photographies et le\n",
      "========= END 40 =========================\n",
      "\n",
      "========= BEGIN 41 [119] ===========\n",
      "et le de l'intéressé par envoi du 09 mai 2023 au consulat ; - et un courrier de relance aux autorités consulaires a été\n",
      "========= END 41 =========================\n",
      "\n",
      "========= BEGIN 42 [125] ===========\n",
      "a été le 05 juin 2023 ; Attendu que ces éléments sont justifiés par les pièces de la procédure et qu'il est ainsi caractérisé\n",
      "========= END 42 =========================\n",
      "\n",
      "========= BEGIN 43 [114] ===========\n",
      "ainsi caractérisé la préfecture du Puy-de-Dôme a accompli les diligences nécessaires et suffisantes pour permettre\n",
      "========= END 43 =========================\n",
      "\n",
      "========= BEGIN 44 [124] ===========\n",
      "pour permettre de la mesure d'éloignement et que le grief tiré de l'insuffisance des diligences est infondé ; Attendu que la\n",
      "========= END 44 =========================\n",
      "\n",
      "========= BEGIN 45 [116] ===========\n",
      "que la de la rétention est justifiée par le défaut de délivrance des documents de voyage par le consulat dont relève\n",
      "========= END 45 =========================\n",
      "\n",
      "========= BEGIN 46 [121] ===========\n",
      "dont relève ; Que les conditions d'une seconde prolongation au sens des dispositions de l'article L. 742-4 du CESEDA sont\n",
      "========= END 46 =========================\n",
      "\n",
      "========= BEGIN 47 [124] ===========\n",
      "CESEDA sont ainsi que l'a retenu le premier juge dont la décision est confirmée ; PAR CES MOTIFS Déclarons recevable l'appel\n",
      "========= END 47 =========================\n",
      "\n",
      "========= BEGIN 48 [121] ===========\n",
      "recevable l'appel par [O] [I], Confirmons l'ordonnance déférée. Le greffier, Le conseiller délégué, Jihan TAHIRI Isabelle\n",
      "========= END 48 =========================\n",
      "\n",
      "========= BEGIN 49 [15] ===========\n",
      "TAHIRI Isabelle\n",
      "========= END 49 =========================\n"
     ]
    }
   ],
   "source": [
    "print_data(df_content_5)"
   ],
   "metadata": {
    "collapsed": false,
    "ExecuteTime": {
     "end_time": "2023-10-20T03:45:22.075410Z",
     "start_time": "2023-10-20T03:45:21.821271Z"
    }
   }
  },
  {
   "cell_type": "code",
   "execution_count": 886,
   "outputs": [],
   "source": [
    "filename_6 = 'JURITEXT648175315025cbd0f8b68441.tsv'"
   ],
   "metadata": {
    "collapsed": false,
    "ExecuteTime": {
     "end_time": "2023-10-20T03:45:22.075444Z",
     "start_time": "2023-10-20T03:45:21.824722Z"
    }
   }
  },
  {
   "cell_type": "code",
   "execution_count": 887,
   "outputs": [],
   "source": [
    "content_6 = read_file(filename_6)"
   ],
   "metadata": {
    "collapsed": false,
    "ExecuteTime": {
     "end_time": "2023-10-20T03:45:22.075478Z",
     "start_time": "2023-10-20T03:45:21.828673Z"
    }
   }
  },
  {
   "cell_type": "code",
   "execution_count": 888,
   "outputs": [
    {
     "name": "stdout",
     "output_type": "stream",
     "text": [
      "AFFAIRE PRUD'HOMALE\n",
      "DOUBLE RAPPORTEUR\n",
      "N° RG 20/01916 - N° Portalis DBVX-V-B7E-M5HX\n",
      "[O]\n",
      "C/\n",
      "Société. MJ ALPES\n",
      "Association UNEDIC DELEGATION CGEA D'[Localité 7]\n",
      "APPEL D'UNE DÉCISION DU :\n",
      "Conseil de Prud'hommes - Formation de départage de LYON\n",
      "du 20 Février 2020\n",
      "RG : F 17/03778\n",
      "COUR D'APPEL DE LYON\n",
      "CHAMBRE SOCIALE A\n",
      "ARRET DU 07 Juin 2023\n",
      "APPELANT :\n",
      "[F] [O]\n",
      "né le 26 Juin 1970 à [Localité 8] (REP. CONGO)\n",
      "[Adresse 1]\n",
      "[Localité 3]\n",
      "représenté par Me Silvère IDOURAH, avocat au barreau de LYON\n",
      "INTIMEES :\n",
      "Société MJ ALPES représentée par Me [C] [E], ès qualités de liquidateur judiciaire de la société SN IES\n",
      "[Adresse 5]\n",
      "[Localité 2]\n",
      "représentée par Me Cécile ZOTTA de la SCP J.C. DESSEIGNE ET C. ZOTTA, avocat au barreau de LYON, et ayant pour avocat plaidant Me Gilberte DEPLANTES, avocat au barreau de GRENOBLE\n",
      "Association UNEDIC DELEGATION CGEA D'[Localité 7]\n",
      "[Adresse 6]\n",
      "[Adresse 6]\n",
      "[Localité 4]\n",
      "représentée par Me Cécile ZOTTA de la SCP J.C. DESSEIGNE ET C. ZOTTA, avocat au barreau de LYON\n",
      "DÉBATS EN AUDIENCE PUBLIQUE DU : 21 Mars 2023\n",
      "Présidée par Joôlle DOAT, présidente et Nathalie ROCCI, conseiller, magistrats rapporteurs (sans opposition des parties dûment avisées) qui en ont rendu compte à la Cour dans son délibéré, assistés pendant les débats de Morgane GARCES, greffière\n",
      "COMPOSITION DE LA COUR LORS DU DÉLIBÉRÉ :\n",
      "- Joôlle DOAT, présidente\n",
      "- Nathalie ROCCI, conseiller\n",
      "- Anne BRUNNER, conseiller\n",
      "ARRÊT : CONTRADICTOIRE\n",
      "rendu publiquement le 07 Juin 2023 par mise à disposition au greffe de la cour d'appel, les parties en ayant été préalablement avisées dans les conditions prévues à l'article 450 alinéa 2 du code de procédure civile,\n",
      "Signé par Joôlle DOAT, présidente, et par Morgane GARCES, greffière à laquelle la minute a été remise par le magistrat signataire.\n",
      "FAITS, PROCÉDURE ET PRÉTENTIONS DES PARTIES\n",
      "Par contrat à durée déterminée du 8 mars 2012, M. [F] [O] a été embauché, du 2 avril au 28 septembre 2012, en qualité d'électricien, par la société Groupe APIC.\n",
      "Suivant contrat de travail à durée indéterminée du 11 décembre 2012, M. [F] [O] a été embauché par la société Groupe IES, en qualité d'électricien.\n",
      "Par jugement du 5 août 2014, le tribunal de commerce de LYON a prononcé le redressement judiciaire de la société GROUPE IES et a nommé la SELARL [Z] [L] [P] & ASSOCIES, représentée par Maître [Y] [Z], en qualité d'administrateur judiciaire.\n",
      "Par jugement du 7 juillet 2015, le tribunal de commerce de LYON a arrêté le plan de cession de la société GROUPE IES au profit de la société ANDROMAQUE, avec faculté de substitution.\n",
      "Par jugement du Tribunal de commerce de Lyon du 4 août 2015, la procédure de redressement judiciaire de la Société GROUPE IES a été convertie en liquidation judiciaire ; la société ALLIANCE MJ a été nommée en qualité de liquidateur judiciaire.\n",
      "A la société ANDROMAQUE s'est substituée la société nouvelle IES, créée et immatriculée le 3 novembre 2015, en vue de recueillir les actifs de la société GROUPE IES, tels que visés aux termes du jugement de cession.\n",
      "Le 12 janvier 2016, M. [F] [O] a passé une visite de reprise, faisant suite à un arrêt de travail pour accident du travail. Le médecin du travail l'a déclaré \" inapte au poste, apte à un autre poste, pas de travail avec le bras gauche en l'air, pas de charges lourdes (> 10 kg)-bras gauche). Pas d'outils vibrants-bras gauche. Danger immédiat. Inapte en une seule visite selon l'article R4624-31 du CT. Reste apte à occuper un poste administratif/conducteur d'engins/chauffeur VL).\n",
      "Par lettre du 30 mars 2016, la SAS SN IES a convoqué M. [O] à un entretien préalable en vue de son licenciement, fixé au 11 avril 2016.\n",
      "Par lettre recommandée du 14 avril 2016, la SAS SN IES à notifiée à M. [O] son licenciement pour inaptitude et impossibilité de reclassement.\n",
      "Le 20 octobre 2017, M. [O] a saisi le conseil de prud'hommes de Lyon de demandes de dommages-intérêts pour absence de reclassement et discrimination professionnelle.\n",
      "Par procès-verbal du 09 octobre 2018, le conseil de prud'hommes s'est déclaré en partage de voix.\n",
      "Par jugement du 09 avril 2019, le tribunal de commerce de Vienne a prononcé l'ouverture d'une procédure de redressement judiciaire de la société SN IES, a désigné la SELARL AJ PARTENAIRES et Me [K] en qualité d'administrateurs et la SELARL MJ ALPES en qualité de mandataire judiciaire.\n",
      "Par jugement du 17 septembre 2019, le tribunal de commerce de VIENNE a prononcé la liquidation judiciaire de la SAS SN IES et désigné la SELARL MJ ALPES en qualité de liquidateur judiciaire.\n",
      "Par jugement du 20 février 2020, le juge départiteur, statuant seul, après avoir recueilli l'avis des conseillers présents, a débouté M. [O] de l'ensemble de ses demandes, l'a condamné à payer à la SELARL MJ ALPES, en sa qualité de liquidateur de la SAS SN IES, la somme de 1 855,74 euros brut au titre d'une partie d'indemnité compensatrice perçue et l'a condamné aux dépens.\n",
      "Le 10 mars 2020, M. [O] a relevé appel de cette décision.\n",
      "Aux termes de ses conclusions, notifiées le 9 juin 2020, M. [O] demande à la cour d'infirmer le jugement déféré en toutes ses dispositions, et, statuant à nouveau et y ajoutant\n",
      "- Constater le non-respect par l'employeur de son obligation de reclassement\n",
      "- Constater l'absence de cause réelle et sérieuse de son licenciement le 14 avril 2016\n",
      "- Fixer le salaire de référence à la somme de 1 855,74 euros représentant la moyenne des salaires perçus sur les 12 derniers mois de travail effectif avant son accident de travail\n",
      "Fixer sa créance dans la procédure collective de la SAS SN IES aux sommes suivantes :\n",
      "22 265,64 euros à titre d'indemnité pour absence de reclassement\n",
      "11 314,44 euros à titre de dommages et intérêts pour discrimination professionnelle\n",
      "1 855,74 euros à titre d'indemnité spécifique de requalification du CDD du 8 mars 2012 en CD1\n",
      "2 000 euros à titre de dommages et intérêts pour le recours aux périodes d'essai illicites\n",
      "3 000 euros en application de l'article 700 du code de procédure civile\n",
      "Dire que ces sommes seront inscrites sur le relevé des créances établi par le mandataire judiciaire de la SAS SN IES\n",
      "Déclarer le jugement opposable au CGEA d'[Localité 7]\n",
      "Dire que l'AGS devra procéder à l'avance des créances visées aux articles L.3253-6 et L.3253-17 et L.3253-19 du code du travail\n",
      "Ordonner la remise des documents professionnels rectifies\n",
      "Laisser les dépens à la charge de la procédure collective.\n",
      "Aux termes de ses conclusions, notifiées le 4 septembre 2020, la SELARL MJ ALPES, ès qualités de liquidateur judiciaire de la SAS SN IES demande à la cour de :\n",
      "confirmer le jugement dont appel dans toutes ses dispositions en ce qu'il a débouté M. [O] de l'intégralité de ses demandes en ce qu'elles ne sont pas fondées, et en ce qu'il l'a condamné à lui payer, ès qualités, la somme de 1 855,74 euros bruts au titre du trop-perçu versé dans le montant de son indemnité compensatrice de préavis,\n",
      "condamner M. [O] à lui verser la somme de 4 200 euros sur le fondement de l'article 700 du Code de procédure civile,\n",
      "A titre subsidiaire, diminuer le montant des dommages-intérêts réclamés par M. [O] au titre du licenciement abusif\n",
      "condamner M. [O] en tous les dépens\n",
      "Aux termes de ses conclusions, notifiées le 7 septembre 2020, l'AGS CGEA d'[Localité 7] demande à la cour de\n",
      "confirmer le jugement entrepris et débouter Monsieur [O] de l'intégralité de ses demandes ;\n",
      "Subsidiairement,\n",
      "réduire les dommages et intérêts à 6 mois de salaires en application de l'article L. 1235-3 du Code du Travail ;\n",
      "En tout état de cause,\n",
      "dire que l'AGS ne garantit pas les sommes au titre de l'article 700 du Code de Procédure Civile ;\n",
      "dire que l'AGS ne devra procéder à l'avance des créances visées aux articles L. 3253-6 et L. 3253-8 et suivants du Code du Travail, que dans les termes et conditions résultant des dispositions des articles L. 3253-19, L. 3253-20, L. 3253-21 et L. 3253-15 du Code du Travail et L. 3253-17 du Code du Travail ;\n",
      "dire que l'obligation du CGEA de faire l'avance de la somme à laquelle serait évalué le montant total des créances garanties, compte tenu du plafond applicable, ne pourra s'exécuter que sur présentation d'un relevé par le mandataire judiciaire et justification par celui-ci de l'absence de fonds disponibles entre ses mains pour procéder à leur paiement ;\n",
      "mettre les concluants hors dépens ;\n",
      "L'ordonnance de clôture a été rendue le 9 février 2023.\n",
      "SUR CE,\n",
      "Sur la requalification du contrat durée déterminée du 8 mars 2012 en contrat à durée indéterminée et la demande d'indemnisation en raison des périodes d'essai :\n",
      "M. [O] fait valoir qu'il a été embauché en contrat à durée déterminée alors qu'il travaillait déjà, sur le même poste, en qualité d'intérimaire, depuis 2010 ; que l'accroissement d'activité n'était pas réel puisqu'il s'agissait d'un emploi occupé par un intérimaire. Il ajoute que les périodes d'essai inclues dans les deux contrats de travail n'étaient pas utiles et sont donc nulles.\n",
      "La SELARL MJ ALPES réplique que la demande de M. [O] est prescrite en application de l'article L1471-1 du code du travail ; que le manquement allégué est imputable à la société GROUPE IES et antérieur au transfert du contrat de travail, intervenu dans le cadre d'une procédure collective ; que la société SN IES ne s'est pas engagée à garantir les dettes incombant à la société Groupe IES.\n",
      "L'AGS CGEA d'[Localité 7] soulève la prescription des demandes de M. [O]. Elle soutient que le point de départ du délai de prescription est la date de conclusion du contrat de travail à durée déterminée ; que le délai était expiré lors de la saisine du conseil de prud'hommes.\n",
      "Elle fait valoir, s'agissant de la demande de dommages-intérêts pour période d'essai illicite, que la demande est prescrite et n'est justifiée, ni en son principe ni en son montant.\n",
      "***\n",
      "Il résulte des dispositions de l'article L. 1471-1 du code du travail, applicable aux prescriptions en cours à la date de promulgation de la loi du 14 juin 2013, que toute action portant sur l'exécution ou la rupture du contrat de travail se prescrit par deux ans à compter du jour où celui qui l'exerce a connu ou aurait dû connaître les faits lui permettant d'exercer son droit.\n",
      "M. [O] sollicite la requalification du contrat de travail à durée déterminée, conclu le 8 mars 2012 et ayant pris fin le 28 septembre 2012, en soutenant que le motif d'accroissement d'activité, mentionné au contrat, n'était pas réel. Le point de départ du délai de prescription est le 28 septembre 2012. Ce délai était en cours au 16 juin 2013, date d'entrée en vigueur de la loi du 14 juin 2013, à laquelle a commencé à courir un nouveau délai de deux ans. L'action de M. [O], engagée le 3 juillet 2018, lorsqu'il a formulé, pour la première fois, sa demande devant le bureau de jugement est donc prescrite. Le jugement sera confirmé.\n",
      "M. [O] sollicite également une indemnisation en raison des deux périodes d'essai, l'une, d'une durée de 15 jours figurant dans le contrat à durée déterminée, l'autre d'une durée de deux mois, figurant dans le contrat à durée indéterminée.\n",
      "Le premier juge a pertinemment retenu la date d'expiration de la période d'essai comme point de départ du délai de prescription.\n",
      "La première de cette période a expiré le 17 avril 2012 tandis que la seconde a expiré le 28 février 2013.\n",
      "Le délai de prescription de l'action étant en cours au 16 juin 2013, à cette date, un nouveau délai de deux ans a débuté. La demande de M. [O] est donc prescrite, puisque formulée pour la première fois le 3 juillet 2018.\n",
      "Le jugement sera confirmé.\n",
      "Sur le licenciement :\n",
      "Le salarié fait valoir que l'employeur n'a pas recherché son reclassement puisqu'il l'a convoqué, dès le 19 février 2016, à entretien fixé au 2 mars 2016, qui n'a été annulé que parce qu'il a fait savoir à son employeur qu'il avait obtenu la reconnaissance de la qualité de travailleur handicapé. Il affirme que la décision de le licencier a été prise dès le 19 février 2016 et que les recherches de reclassement n'ont été ni sérieuses ni loyales ; qu'au cours de la période de son licenciement, la SAS SN IES a créé des postes mais ne les lui a pas proposés. Il soutient que la consultation des délégués du personnel est irrégulière ; que la preuve de la convocation des délégués, absents à la réunion du 25 mars 2016, n'est pas rapportée ; qu'était présent, à cette réunion, M. [M] [X], pouvant influencer l'avis des délégués du personnel.\n",
      "La SELARL MJ ALPES réplique, qu'après avoir vainement cherché, en son sein, un poste vacant compatible avec les préconisations du médecin du travail, la SAS SN IES a interrogé les sociétés ANDROMAQUE, NM2T INVEST et BERSOT FORMATION, lesquelles ont répondu n'avoir pas de poste disponible puis qu'ayant appris la reconnaissance de travailleur handicapé de M. [O], elle a élargi ses demandes à des sociétés ayant des activités similaires aux siennes. Elle ajoute que les postes pourvus au moment du licenciement n'auraient pas pu être proposés à M. [O]\n",
      "Elle soutient que l'employeur a régulièrement consulté les délégués du personnel lors d'une réunion du 25 mars 2016, dont elle produit le procès-verbal signé.\n",
      "L'AGS observe que l'employeur a consulté 3 sociétés, par courrier du 25 janvier 2016, puis 7 sociétés, par courrier du 8 mars 2016 ; que toutes ont répondu ne pas avoir de postes disponibles ; que la société SN IES est allée bien au-delà de son obligation de recherche de reclassement ; qu'elle a régulièrement consulté les délégués du personnel.\n",
      "***\n",
      "Aux termes de l'article L. 1226-10 du code du travail, le licenciement qui repose sur une inaptitude d'origine professionnelle n'est légitime que si l'employeur a préalablement satisfait à l'obligation de reclassement mise à sa charge par ce texte, après avis des délégués du personnel.\n",
      "Le défaut de consultation des délégués du personnel antérieurement aux éventuelles propositions de reclassement et à l'engagement de la procédure de licenciement est sanctionnée par l'indemnité prévue par l'article L. 1226-15 du code du travail.\n",
      "L'employeur consulte utilement les délégués du personnel en leur fournissant toutes les informations nécessaires quant à l'état de santé du salarié et à la recherche de reclassement.\n",
      "Peu importe que certains des délégués consultés décident ne pas devoir s'exprimer.\n",
      "Si les délégués du personnel formulent des propositions, l'employeur est tenu d'y répondre.\n",
      "Le reclassement du salarié déclaré inapte doit être recherché parmi les emplois disponibles dans l'entreprise sans que l'employeur soit tenu d'imposer à un autre salarié une modification de son contrat de travail à l'effet de libérer son poste.\n",
      "Il ressort des pièces versées aux débats que la SAS SN IES a recherché un reclassement en adressant, dès le 25 janvier 2016, aux sociétés ANDROMAQUE, BERSOT FORMATION et NM2T INVEST un courrier les interrogeant sur les postes disponibles au regard des aptitudes de M. [O].\n",
      "Le 8 mars 2016, elle a interrogé 7 nouvelles sociétés.\n",
      "Les réponses des sociétés consultées sont versées aux débats.\n",
      "Pendant la période de la procédure de licenciement, la SAS SN IES a embauché un magasinier, le 28 février 2016 et une technicienne commerciale, le 1er mars 2016.\n",
      "Au regard de la fiche d'aptitude mentionnant que le salarié pouvait occuper un poste administratif, de conducteur d'engin ou de chauffeur VL, les postes de magasinier et technicien commercial ne pouvaient pas être proposés à M. [O].\n",
      "La société SN IES justifie avoir consulté les délégués du personnel et verse aux débats les courriers de convocation, auxquels étaient joint l'avis d'inaptitude, les demandes de reclassement et les réponses obtenues ainsi que le procès-verbal de la réunion exceptionnelle des délégués du personnel du 25 mars 2016, à laquelle trois des cinq délégués étaient présents. Ces derniers, qui ont accepté la présence de M. [X], ont été informés avant et pendant la réunion sur la situation de M. [O].\n",
      "C'est à juste titre que le premier juge a considéré que la consultation des représentants du personnel est régulière et que la société SN IES a satisfait loyalement à son obligation de reclassement.\n",
      "Sur la discrimination à l'emploi :\n",
      "M. [O] soutient avoir été rétrogradé au niveau 1 coefficient 150 et n'avoir jamais bénéficié d'entretien annuel d'évaluation professionnelle alors que tous les autres salariés y étaient conviés.\n",
      "La SELARL MJ ALPES répond que la demande de M. [O] est prescrite et que le manquement allégué, s'agissant de la classification, est imputable à la société GROUPE IES, antérieur au transfert du contrat de travail, et intervenu dans le cadre d'une procédure collective ; que la société SN IES ne s'est pas engagée à garantir les dettes incombant à la société Groupe IES.\n",
      "S'agissant de l'entretien d'évaluation, elle fait remarquer que le contrat de travail de M. [O] a été suspendu à compter du 10 novembre 2014, en raison d'un accident du travail, de sorte qu'il n'a pas été possible de l'organiser.\n",
      "L'AGS objecte que le nouvel employeur n'est pas tenu des obligations du précédent employeur et que la société SN IES n'est pas concernée par la période 2012-2015. Elle ajoute que M. [O] n'indique pas de quelle discrimination il aurait été victime.\n",
      "***\n",
      "Aux termes de l'article L.1132-1 du code du travail, \"Aucune personne ne peut être écartée d'une procédure de recrutement ou de l'accès à un stage ou à une période de formation en entreprise, aucun salarié ne peut être sanctionné, licencié ou faire l'objet d'une mesure discriminatoire, directe ou indirecte \" telle que définie à l'article 1er de la loi numéro 2008-496 du 27 mai 2008 portant diverses dispositions d'adaptation au droit communautaire dans le domaine de la lutte contre les discriminations, notamment en matière de rémunération, au sens de l'article L 3221-3, de mesures d'intéressement ou de distribution d'actions, de formation, de reclassement, d'affectation, de qualification, de classification, de promotion professionnelle, de mutation ou de renouvellement de contrat en raison de son origine, de son sexe, de ses m'urs, de son orientation ou identité sexuelle, de son âge, de sa situation de famille ou de sa grossesse, de ses caractéristiques génétiques, de son appartenance ou de sa non-appartenance, vraie ou supposée, à une ethnie, une nation ou une race, de ses opinions politiques, de ses activités syndicales ou mutualistes, de ses convictions religieuses, de son apparence physique, de son nom de famille ou en raison de son état de santé ou de son handicap\".\n",
      "En application des articles L. 1132-1, L. 1134-1 et L. 2141-5 du code du travail, il appartient au salarié qui s'estime victime d'une discrimination directe ou indirecte de présenter des éléments de fait laissant supposer son existence. Il appartient au juge d'apprécier si ces éléments, pris dans leur ensemble, laissent présumer l'existence d'une telle discrimination et, dans l'affirmative, il incombe à l'employeur de prouver que ses décisions sont justifiées par des éléments objectifs étrangers à toute discrimination étant rappelé que l'existence d'une discrimination n'implique pas nécessairement une comparaison avec la situation d'autres salariés.\n",
      "M. [O] ne précise pas à raison de quoi il aurait été discriminé.\n",
      "Le premier juge a pertinemment relevé que les faits invoqués par M. [O] concernaient son ancien employeur, placé en liquidation judiciaire et qu'en application de l'article L1224-2 du code du travail, le nouvel employeur n'était pas tenu des éventuelles créances salariales de l'ancien, puisque la cession était intervenue dans le cadre d'une procédure collective.\n",
      "Le jugement sera confirmé en ce qu'il a débouté le salarié de sa demande en dommages-intérêts pour discrimination.\n",
      "Sur la demande reconventionnelle de la SELARL MJ ALPES, ès qualités de liquidateur de la SAS SN IES :\n",
      "La SELARL MJ ALPES fait valoir que lorsqu'un salarié est licencié pour inaptitude d'origine professionnelle, il n'y pas lieu à doublement de l'indemnité de préavis, prévu par l'article L1234-1 du code du travail, au bénéfice des travailleurs handicapés ; que la société SN IES a, par erreur, doublé l'indemnité de préavis, ce qui a généré un trop-perçu de 1 855,74 euros.\n",
      "***\n",
      "En vertu de l'article L. 1226-14 du code du travail, en cas de licenciement pour inaptitude générée par une maladie professionnelle ou un accident du travail, le salarié a droit, d'une part, à une indemnité compensatrice d'un montant égal à l'indemnité compensatrice de préavis prévue à l'article L. 1234-5, d'autre part, à une indemnité spéciale de licenciement qui, sauf dispositions conventionnelles plus favorables non invoquées, est égale au double de l'indemnité légale de licenciement.\n",
      "Conformément à l'article L5213-9 du code du travail, en cas de licenciement, la durée du préavis déterminée en application de l'article L. 1234-1 est doublée pour les bénéficiaires du chapitre II, sans toutefois que cette mesure puisse avoir pour effet de porter au-delà de trois mois la durée de ce préavis. Toutefois, ces dispositions ne sont pas applicables lorsque les conventions ou accords collectifs de travail ou, à défaut, les usages prévoient un préavis d'une durée au moins égale à trois mois.\n",
      "L'article L5213-9 du code du travail n'est pas applicable à l'indemnité compensatrice prévue à l'article L1226-14 du code du travail en cas d'inaptitude déclarée par le médecin du travail suite à un accident du travail.\n",
      "Le premier juge en a exactement déduit que M. [F], qui a reçu une indemnité compensatrice de préavis égale à trois mois de salaire, devait être condamné à rembourser à la SELARL MJ ALPES, ès qualités de liquidateur de la SAS SN IES, la somme de 1 855,74 euros brut.\n",
      "Sur les autres demandes :\n",
      "M. [O], qui succombe en appel, sera condamné aux dépens d'appel.\n",
      "Il n'est pas inéquitable de laisser à la charge de la SELARL MJ ALPES, les sommes non comprises dans les dépens qu'elle a dû exposer en cause d'appel.\n",
      "PAR CES MOTIFS\n",
      "La Cour statuant publiquement, par arrêt mis à disposition, contradictoirement\n",
      "Confirme, en toutes ses dispositions, le jugement ;\n",
      "Y ajoutant,\n",
      "Condamne M. [F] [O] aux dépens d'appel ;\n",
      "Déboute la SELARL MJ ALPES, ès qualités de liquidateur de la SAS SN IES, de sa demande fondée sur l'article 700 du code de procédure civile en cause d'appel.\n",
      "LA GREFFIÈRE LA PRÉSIDENTE\n"
     ]
    }
   ],
   "source": [
    "print(content_6)"
   ],
   "metadata": {
    "collapsed": false,
    "ExecuteTime": {
     "end_time": "2023-10-20T03:45:22.075661Z",
     "start_time": "2023-10-20T03:45:21.831466Z"
    }
   }
  },
  {
   "cell_type": "code",
   "execution_count": 889,
   "outputs": [],
   "source": [
    "df_content_6 = split_text_into_passages(content_6, prev_include=2)"
   ],
   "metadata": {
    "collapsed": false,
    "ExecuteTime": {
     "end_time": "2023-10-20T03:45:22.075729Z",
     "start_time": "2023-10-20T03:45:21.837038Z"
    }
   }
  },
  {
   "cell_type": "code",
   "execution_count": 890,
   "outputs": [
    {
     "name": "stdout",
     "output_type": "stream",
     "text": [
      "========= BEGIN 1 [119] ===========\n",
      "AFFAIRE PRUD'HOMALE DOUBLE RAPPORTEUR N° RG 20/01916 - N° Portalis DBVX-V-B7E-M5HX [O] C/ Société. MJ ALPES Association\n",
      "========= END 1 =========================\n",
      "\n",
      "========= BEGIN 2 [125] ===========\n",
      "ALPES Association DELEGATION CGEA D'[Localité 7] APPEL D'UNE DÉCISION DU : Conseil de Prud'hommes - Formation de départage de\n",
      "========= END 2 =========================\n",
      "\n",
      "========= BEGIN 3 [123] ===========\n",
      "départage de du 20 Février 2020 RG : F 17/03778 COUR D'APPEL DE LYON CHAMBRE SOCIALE A ARRET DU 07 Juin 2023 APPELANT : [F]\n",
      "========= END 3 =========================\n",
      "\n",
      "========= BEGIN 4 [122] ===========\n",
      ": [F] né le 26 Juin 1970 à [Localité 8] (REP. CONGO) [Adresse 1] [Localité 3] représenté par Me Silvère IDOURAH, avocat au\n",
      "========= END 4 =========================\n",
      "\n",
      "========= BEGIN 5 [125] ===========\n",
      "avocat au de LYON INTIMEES : Société MJ ALPES représentée par Me [C] [E], ès qualités de liquidateur judiciaire de la société\n",
      "========= END 5 =========================\n",
      "\n",
      "========= BEGIN 6 [119] ===========\n",
      "la société IES [Adresse 5] [Localité 2] représentée par Me Cécile ZOTTA de la SCP J.C. DESSEIGNE ET C. ZOTTA, avocat au\n",
      "========= END 6 =========================\n",
      "\n",
      "========= BEGIN 7 [120] ===========\n",
      "avocat au de LYON, et ayant pour avocat plaidant Me Gilberte DEPLANTES, avocat au barreau de GRENOBLE Association UNEDIC\n",
      "========= END 7 =========================\n",
      "\n",
      "========= BEGIN 8 [122] ===========\n",
      "Association UNEDIC CGEA D'[Localité 7] [Adresse 6] [Adresse 6] [Localité 4] représentée par Me Cécile ZOTTA de la SCP J.C.\n",
      "========= END 8 =========================\n",
      "\n",
      "========= BEGIN 9 [119] ===========\n",
      "SCP J.C. ET C. ZOTTA, avocat au barreau de LYON DÉBATS EN AUDIENCE PUBLIQUE DU : 21 Mars 2023 Présidée par Joôlle DOAT,\n",
      "========= END 9 =========================\n",
      "\n",
      "========= BEGIN 10 [122] ===========\n",
      "Joôlle DOAT, et Nathalie ROCCI, conseiller, magistrats rapporteurs (sans opposition des parties dûment avisées) qui en ont\n",
      "========= END 10 =========================\n",
      "\n",
      "========= BEGIN 11 [122] ===========\n",
      "en ont compte à la Cour dans son délibéré, assistés pendant les débats de Morgane GARCES, greffière COMPOSITION DE LA COUR\n",
      "========= END 11 =========================\n",
      "\n",
      "========= BEGIN 12 [111] ===========\n",
      "LA COUR DU DÉLIBÉRÉ : - Joôlle DOAT, présidente - Nathalie ROCCI, conseiller - Anne BRUNNER, conseiller ARRÊT :\n",
      "========= END 12 =========================\n",
      "\n",
      "========= BEGIN 13 [120] ===========\n",
      "ARRÊT : rendu publiquement le 07 Juin 2023 par mise à disposition au greffe de la cour d'appel, les parties en ayant été\n",
      "========= END 13 =========================\n",
      "\n",
      "========= BEGIN 14 [122] ===========\n",
      "ayant été avisées dans les conditions prévues à l'article 450 alinéa 2 du code de procédure civile, Signé par Joôlle DOAT,\n",
      "========= END 14 =========================\n",
      "\n",
      "========= BEGIN 15 [125] ===========\n",
      "Joôlle DOAT, et par Morgane GARCES, greffière à laquelle la minute a été remise par le magistrat signataire. FAITS, PROCÉDURE\n",
      "========= END 15 =========================\n",
      "\n",
      "========= BEGIN 16 [125] ===========\n",
      "FAITS, PROCÉDURE PRÉTENTIONS DES PARTIES Par contrat à durée déterminée du 8 mars 2012, M. [F] [O] a été embauché, du 2 avril\n",
      "========= END 16 =========================\n",
      "\n",
      "========= BEGIN 17 [115] ===========\n",
      "2 avril 28 septembre 2012, en qualité d'électricien, par la société Groupe APIC. Suivant contrat de travail à durée\n",
      "========= END 17 =========================\n",
      "\n",
      "========= BEGIN 18 [125] ===========\n",
      "à durée du 11 décembre 2012, M. [F] [O] a été embauché par la société Groupe IES, en qualité d'électricien. Par jugement du 5\n",
      "========= END 18 =========================\n",
      "\n",
      "========= BEGIN 19 [119] ===========\n",
      "du 5 2014, le tribunal de commerce de LYON a prononcé le redressement judiciaire de la société GROUPE IES et a nommé la\n",
      "========= END 19 =========================\n",
      "\n",
      "========= BEGIN 20 [122] ===========\n",
      "nommé la [Z] [L] [P] & ASSOCIES, représentée par Maître [Y] [Z], en qualité d'administrateur judiciaire. Par jugement du 7\n",
      "========= END 20 =========================\n",
      "\n",
      "========= BEGIN 21 [119] ===========\n",
      "du 7 2015, le tribunal de commerce de LYON a arrêté le plan de cession de la société GROUPE IES au profit de la société\n",
      "========= END 21 =========================\n",
      "\n",
      "========= BEGIN 22 [117] ===========\n",
      "la société avec faculté de substitution. Par jugement du Tribunal de commerce de Lyon du 4 août 2015, la procédure de\n",
      "========= END 22 =========================\n",
      "\n",
      "========= BEGIN 23 [121] ===========\n",
      "procédure de judiciaire de la Société GROUPE IES a été convertie en liquidation judiciaire ; la société ALLIANCE MJ a été\n",
      "========= END 23 =========================\n",
      "\n",
      "========= BEGIN 24 [118] ===========\n",
      "a été en qualité de liquidateur judiciaire. A la société ANDROMAQUE s'est substituée la société nouvelle IES, créée et\n",
      "========= END 24 =========================\n",
      "\n",
      "========= BEGIN 25 [124] ===========\n",
      "créée et le 3 novembre 2015, en vue de recueillir les actifs de la société GROUPE IES, tels que visés aux termes du jugement\n",
      "========= END 25 =========================\n",
      "\n",
      "========= BEGIN 26 [123] ===========\n",
      "du jugement cession. Le 12 janvier 2016, M. [F] [O] a passé une visite de reprise, faisant suite à un arrêt de travail pour\n",
      "========= END 26 =========================\n",
      "\n",
      "========= BEGIN 27 [123] ===========\n",
      "travail pour du travail. Le médecin du travail l'a déclaré \" inapte au poste, apte à un autre poste, pas de travail avec le\n",
      "========= END 27 =========================\n",
      "\n",
      "========= BEGIN 28 [123] ===========\n",
      "avec le gauche en l'air, pas de charges lourdes (> 10 kg)-bras gauche). Pas d'outils vibrants-bras gauche. Danger immédiat.\n",
      "========= END 28 =========================\n",
      "\n",
      "========= BEGIN 29 [123] ===========\n",
      "Danger immédiat. en une seule visite selon l'article R4624-31 du CT. Reste apte à occuper un poste administratif/conducteur\n",
      "========= END 29 =========================\n",
      "\n",
      "========= BEGIN 30 [123] ===========\n",
      "poste administratif/conducteur VL). Par lettre du 30 mars 2016, la SAS SN IES a convoqué M. [O] à un entretien préalable en\n",
      "========= END 30 =========================\n",
      "\n",
      "========= BEGIN 31 [124] ===========\n",
      "préalable en de son licenciement, fixé au 11 avril 2016. Par lettre recommandée du 14 avril 2016, la SAS SN IES à notifiée à\n",
      "========= END 31 =========================\n",
      "\n",
      "========= BEGIN 32 [119] ===========\n",
      "notifiée à [O] son licenciement pour inaptitude et impossibilité de reclassement. Le 20 octobre 2017, M. [O] a saisi le\n",
      "========= END 32 =========================\n",
      "\n",
      "========= BEGIN 33 [111] ===========\n",
      "saisi le de prud'hommes de Lyon de demandes de dommages-intérêts pour absence de reclassement et discrimination\n",
      "========= END 33 =========================\n",
      "\n",
      "========= BEGIN 34 [119] ===========\n",
      "et discrimination Par procès-verbal du 09 octobre 2018, le conseil de prud'hommes s'est déclaré en partage de voix. Par\n",
      "========= END 34 =========================\n",
      "\n",
      "========= BEGIN 35 [116] ===========\n",
      "voix. Par du 09 avril 2019, le tribunal de commerce de Vienne a prononcé l'ouverture d'une procédure de redressement\n",
      "========= END 35 =========================\n",
      "\n",
      "========= BEGIN 36 [124] ===========\n",
      "de redressement de la société SN IES, a désigné la SELARL AJ PARTENAIRES et Me [K] en qualité d'administrateurs et la SELARL\n",
      "========= END 36 =========================\n",
      "\n",
      "========= BEGIN 37 [123] ===========\n",
      "la SELARL ALPES en qualité de mandataire judiciaire. Par jugement du 17 septembre 2019, le tribunal de commerce de VIENNE a\n",
      "========= END 37 =========================\n",
      "\n",
      "========= BEGIN 38 [123] ===========\n",
      "VIENNE a la liquidation judiciaire de la SAS SN IES et désigné la SELARL MJ ALPES en qualité de liquidateur judiciaire. Par\n",
      "========= END 38 =========================\n",
      "\n",
      "========= BEGIN 39 [116] ===========\n",
      "judiciaire. Par du 20 février 2020, le juge départiteur, statuant seul, après avoir recueilli l'avis des conseillers\n",
      "========= END 39 =========================\n",
      "\n",
      "========= BEGIN 40 [123] ===========\n",
      "des conseillers a débouté M. [O] de l'ensemble de ses demandes, l'a condamné à payer à la SELARL MJ ALPES, en sa qualité de\n",
      "========= END 40 =========================\n",
      "\n",
      "========= BEGIN 41 [122] ===========\n",
      "qualité de de la SAS SN IES, la somme de 1 855,74 euros brut au titre d'une partie d'indemnité compensatrice perçue et l'a\n",
      "========= END 41 =========================\n",
      "\n",
      "========= BEGIN 42 [122] ===========\n",
      "et l'a aux dépens. Le 10 mars 2020, M. [O] a relevé appel de cette décision. Aux termes de ses conclusions, notifiées le 9\n",
      "========= END 42 =========================\n",
      "\n",
      "========= BEGIN 43 [121] ===========\n",
      "le 9 2020, M. [O] demande à la cour d'infirmer le jugement déféré en toutes ses dispositions, et, statuant à nouveau et y\n",
      "========= END 43 =========================\n",
      "\n",
      "========= BEGIN 44 [122] ===========\n",
      "et y - Constater le non-respect par l'employeur de son obligation de reclassement - Constater l'absence de cause réelle et\n",
      "========= END 44 =========================\n",
      "\n",
      "========= BEGIN 45 [123] ===========\n",
      "réelle et de son licenciement le 14 avril 2016 - Fixer le salaire de référence à la somme de 1 855,74 euros représentant la\n",
      "========= END 45 =========================\n",
      "\n",
      "========= BEGIN 46 [119] ===========\n",
      "représentant la des salaires perçus sur les 12 derniers mois de travail effectif avant son accident de travail Fixer sa\n",
      "========= END 46 =========================\n",
      "\n",
      "========= BEGIN 47 [118] ===========\n",
      "Fixer sa dans la procédure collective de la SAS SN IES aux sommes suivantes : 22 265,64 euros à titre d'indemnité pour\n",
      "========= END 47 =========================\n",
      "\n",
      "========= BEGIN 48 [125] ===========\n",
      "d'indemnité pour de reclassement 11 314,44 euros à titre de dommages et intérêts pour discrimination professionnelle 1 855,74\n",
      "========= END 48 =========================\n",
      "\n",
      "========= BEGIN 49 [122] ===========\n",
      "1 855,74 à titre d'indemnité spécifique de requalification du CDD du 8 mars 2012 en CD1 2 000 euros à titre de dommages et\n",
      "========= END 49 =========================\n",
      "\n",
      "========= BEGIN 50 [123] ===========\n",
      "dommages et pour le recours aux périodes d'essai illicites 3 000 euros en application de l'article 700 du code de procédure\n",
      "========= END 50 =========================\n",
      "\n",
      "========= BEGIN 51 [125] ===========\n",
      "de procédure Dire que ces sommes seront inscrites sur le relevé des créances établi par le mandataire judiciaire de la SAS SN\n",
      "========= END 51 =========================\n",
      "\n",
      "========= BEGIN 52 [125] ===========\n",
      "SAS SN Déclarer le jugement opposable au CGEA d'[Localité 7] Dire que l'AGS devra procéder à l'avance des créances visées aux\n",
      "========= END 52 =========================\n",
      "\n",
      "========= BEGIN 53 [122] ===========\n",
      "visées aux L.3253-6 et L.3253-17 et L.3253-19 du code du travail Ordonner la remise des documents professionnels rectifies\n",
      "========= END 53 =========================\n",
      "\n",
      "========= BEGIN 54 [121] ===========\n",
      "professionnels rectifies les dépens à la charge de la procédure collective. Aux termes de ses conclusions, notifiées le 4\n",
      "========= END 54 =========================\n",
      "\n",
      "========= BEGIN 55 [121] ===========\n",
      "le 4 2020, la SELARL MJ ALPES, ès qualités de liquidateur judiciaire de la SAS SN IES demande à la cour de : confirmer le\n",
      "========= END 55 =========================\n",
      "\n",
      "========= BEGIN 56 [120] ===========\n",
      "confirmer le dont appel dans toutes ses dispositions en ce qu'il a débouté M. [O] de l'intégralité de ses demandes en ce\n",
      "========= END 56 =========================\n",
      "\n",
      "========= BEGIN 57 [125] ===========\n",
      "en ce ne sont pas fondées, et en ce qu'il l'a condamné à lui payer, ès qualités, la somme de 1 855,74 euros bruts au titre du\n",
      "========= END 57 =========================\n",
      "\n",
      "========= BEGIN 58 [121] ===========\n",
      "titre du versé dans le montant de son indemnité compensatrice de préavis, condamner M. [O] à lui verser la somme de 4 200\n",
      "========= END 58 =========================\n",
      "\n",
      "========= BEGIN 59 [113] ===========\n",
      "4 200 sur le fondement de l'article 700 du Code de procédure civile, A titre subsidiaire, diminuer le montant des\n",
      "========= END 59 =========================\n",
      "\n",
      "========= BEGIN 60 [117] ===========\n",
      "montant des réclamés par M. [O] au titre du licenciement abusif condamner M. [O] en tous les dépens Aux termes de ses\n",
      "========= END 60 =========================\n",
      "\n",
      "========= BEGIN 61 [119] ===========\n",
      "de ses notifiées le 7 septembre 2020, l'AGS CGEA d'[Localité 7] demande à la cour de confirmer le jugement entrepris et\n",
      "========= END 61 =========================\n",
      "\n",
      "========= BEGIN 62 [122] ===========\n",
      "entrepris et Monsieur [O] de l'intégralité de ses demandes ; Subsidiairement, réduire les dommages et intérêts à 6 mois de\n",
      "========= END 62 =========================\n",
      "\n",
      "========= BEGIN 63 [124] ===========\n",
      "mois de en application de l'article L. 1235-3 du Code du Travail ; En tout état de cause, dire que l'AGS ne garantit pas les\n",
      "========= END 63 =========================\n",
      "\n",
      "========= BEGIN 64 [120] ===========\n",
      "pas les au titre de l'article 700 du Code de Procédure Civile ; dire que l'AGS ne devra procéder à l'avance des créances\n",
      "========= END 64 =========================\n",
      "\n",
      "========= BEGIN 65 [124] ===========\n",
      "des créances aux articles L. 3253-6 et L. 3253-8 et suivants du Code du Travail, que dans les termes et conditions résultant\n",
      "========= END 65 =========================\n",
      "\n",
      "========= BEGIN 66 [120] ===========\n",
      "conditions résultant dispositions des articles L. 3253-19, L. 3253-20, L. 3253-21 et L. 3253-15 du Code du Travail et L.\n",
      "========= END 66 =========================\n",
      "\n",
      "========= BEGIN 67 [122] ===========\n",
      "et L. du Code du Travail ; dire que l'obligation du CGEA de faire l'avance de la somme à laquelle serait évalué le montant\n",
      "========= END 67 =========================\n",
      "\n",
      "========= BEGIN 68 [123] ===========\n",
      "le montant des créances garanties, compte tenu du plafond applicable, ne pourra s'exécuter que sur présentation d'un relevé\n",
      "========= END 68 =========================\n",
      "\n",
      "========= BEGIN 69 [121] ===========\n",
      "d'un relevé le mandataire judiciaire et justification par celui-ci de l'absence de fonds disponibles entre ses mains pour\n",
      "========= END 69 =========================\n",
      "\n",
      "========= BEGIN 70 [124] ===========\n",
      "mains pour à leur paiement ; mettre les concluants hors dépens ; L'ordonnance de clôture a été rendue le 9 février 2023. SUR\n",
      "========= END 70 =========================\n",
      "\n",
      "========= BEGIN 71 [121] ===========\n",
      "2023. SUR Sur la requalification du contrat durée déterminée du 8 mars 2012 en contrat à durée indéterminée et la demande\n",
      "========= END 71 =========================\n",
      "\n",
      "========= BEGIN 72 [125] ===========\n",
      "la demande en raison des périodes d'essai : M. [O] fait valoir qu'il a été embauché en contrat à durée déterminée alors qu'il\n",
      "========= END 72 =========================\n",
      "\n",
      "========= BEGIN 73 [124] ===========\n",
      "alors qu'il déjà, sur le même poste, en qualité d'intérimaire, depuis 2010 ; que l'accroissement d'activité n'était pas réel\n",
      "========= END 73 =========================\n",
      "\n",
      "========= BEGIN 74 [124] ===========\n",
      "pas réel s'agissait d'un emploi occupé par un intérimaire. Il ajoute que les périodes d'essai inclues dans les deux contrats\n",
      "========= END 74 =========================\n",
      "\n",
      "========= BEGIN 75 [120] ===========\n",
      "deux contrats travail n'étaient pas utiles et sont donc nulles. La SELARL MJ ALPES réplique que la demande de M. [O] est\n",
      "========= END 75 =========================\n",
      "\n",
      "========= BEGIN 76 [124] ===========\n",
      "[O] est en application de l'article L1471-1 du code du travail ; que le manquement allégué est imputable à la société GROUPE\n",
      "========= END 76 =========================\n",
      "\n",
      "========= BEGIN 77 [123] ===========\n",
      "société GROUPE et antérieur au transfert du contrat de travail, intervenu dans le cadre d'une procédure collective ; que la\n",
      "========= END 77 =========================\n",
      "\n",
      "========= BEGIN 78 [125] ===========\n",
      "que la SN IES ne s'est pas engagée à garantir les dettes incombant à la société Groupe IES. L'AGS CGEA d'[Localité 7] soulève\n",
      "========= END 78 =========================\n",
      "\n",
      "========= BEGIN 79 [124] ===========\n",
      "7] soulève prescription des demandes de M. [O]. Elle soutient que le point de départ du délai de prescription est la date de\n",
      "========= END 79 =========================\n",
      "\n",
      "========= BEGIN 80 [122] ===========\n",
      "date de du contrat de travail à durée déterminée ; que le délai était expiré lors de la saisine du conseil de prud'hommes.\n",
      "========= END 80 =========================\n",
      "\n",
      "========= BEGIN 81 [124] ===========\n",
      "de prud'hommes. fait valoir, s'agissant de la demande de dommages-intérêts pour période d'essai illicite, que la demande est\n",
      "========= END 81 =========================\n",
      "\n",
      "========= BEGIN 82 [124] ===========\n",
      "demande est et n'est justifiée, ni en son principe ni en son montant. *** Il résulte des dispositions de l'article L. 1471-1\n",
      "========= END 82 =========================\n",
      "\n",
      "========= BEGIN 83 [121] ===========\n",
      "L. 1471-1 code du travail, applicable aux prescriptions en cours à la date de promulgation de la loi du 14 juin 2013, que\n",
      "========= END 83 =========================\n",
      "\n",
      "========= BEGIN 84 [122] ===========\n",
      "2013, que action portant sur l'exécution ou la rupture du contrat de travail se prescrit par deux ans à compter du jour où\n",
      "========= END 84 =========================\n",
      "\n",
      "========= BEGIN 85 [117] ===========\n",
      "jour où qui l'exerce a connu ou aurait dû connaître les faits lui permettant d'exercer son droit. M. [O] sollicite la\n",
      "========= END 85 =========================\n",
      "\n",
      "========= BEGIN 86 [119] ===========\n",
      "sollicite la du contrat de travail à durée déterminée, conclu le 8 mars 2012 et ayant pris fin le 28 septembre 2012, en\n",
      "========= END 86 =========================\n",
      "\n",
      "========= BEGIN 87 [120] ===========\n",
      "2012, en que le motif d'accroissement d'activité, mentionné au contrat, n'était pas réel. Le point de départ du délai de\n",
      "========= END 87 =========================\n",
      "\n",
      "========= BEGIN 88 [121] ===========\n",
      "délai de est le 28 septembre 2012. Ce délai était en cours au 16 juin 2013, date d'entrée en vigueur de la loi du 14 juin\n",
      "========= END 88 =========================\n",
      "\n",
      "========= BEGIN 89 [125] ===========\n",
      "14 juin à laquelle a commencé à courir un nouveau délai de deux ans. L'action de M. [O], engagée le 3 juillet 2018, lorsqu'il\n",
      "========= END 89 =========================\n",
      "\n",
      "========= BEGIN 90 [124] ===========\n",
      "2018, lorsqu'il formulé, pour la première fois, sa demande devant le bureau de jugement est donc prescrite. Le jugement sera\n",
      "========= END 90 =========================\n",
      "\n",
      "========= BEGIN 91 [120] ===========\n",
      "jugement sera M. [O] sollicite également une indemnisation en raison des deux périodes d'essai, l'une, d'une durée de 15\n",
      "========= END 91 =========================\n",
      "\n",
      "========= BEGIN 92 [117] ===========\n",
      "de 15 figurant dans le contrat à durée déterminée, l'autre d'une durée de deux mois, figurant dans le contrat à durée\n",
      "========= END 92 =========================\n",
      "\n",
      "========= BEGIN 93 [122] ===========\n",
      "à durée Le premier juge a pertinemment retenu la date d'expiration de la période d'essai comme point de départ du délai de\n",
      "========= END 93 =========================\n",
      "\n",
      "========= BEGIN 94 [123] ===========\n",
      "délai de La première de cette période a expiré le 17 avril 2012 tandis que la seconde a expiré le 28 février 2013. Le délai\n",
      "========= END 94 =========================\n",
      "\n",
      "========= BEGIN 95 [121] ===========\n",
      "Le délai prescription de l'action étant en cours au 16 juin 2013, à cette date, un nouveau délai de deux ans a débuté. La\n",
      "========= END 95 =========================\n",
      "\n",
      "========= BEGIN 96 [125] ===========\n",
      "débuté. La de M. [O] est donc prescrite, puisque formulée pour la première fois le 3 juillet 2018. Le jugement sera confirmé.\n",
      "========= END 96 =========================\n",
      "\n",
      "========= BEGIN 97 [120] ===========\n",
      "sera confirmé. le licenciement : Le salarié fait valoir que l'employeur n'a pas recherché son reclassement puisqu'il l'a\n",
      "========= END 97 =========================\n",
      "\n",
      "========= BEGIN 98 [125] ===========\n",
      "puisqu'il l'a dès le 19 février 2016, à entretien fixé au 2 mars 2016, qui n'a été annulé que parce qu'il a fait savoir à son\n",
      "========= END 98 =========================\n",
      "\n",
      "========= BEGIN 99 [125] ===========\n",
      "à son qu'il avait obtenu la reconnaissance de la qualité de travailleur handicapé. Il affirme que la décision de le licencier\n",
      "========= END 99 =========================\n",
      "\n",
      "========= BEGIN 100 [125] ===========\n",
      "le licencier été prise dès le 19 février 2016 et que les recherches de reclassement n'ont été ni sérieuses ni loyales ; qu'au\n",
      "========= END 100 =========================\n",
      "\n",
      "========= BEGIN 101 [125] ===========\n",
      "; qu'au de la période de son licenciement, la SAS SN IES a créé des postes mais ne les lui a pas proposés. Il soutient que la\n",
      "========= END 101 =========================\n",
      "\n",
      "========= BEGIN 102 [123] ===========\n",
      "que la des délégués du personnel est irrégulière ; que la preuve de la convocation des délégués, absents à la réunion du 25\n",
      "========= END 102 =========================\n",
      "\n",
      "========= BEGIN 103 [122] ===========\n",
      "du 25 2016, n'est pas rapportée ; qu'était présent, à cette réunion, M. [M] [X], pouvant influencer l'avis des délégués du\n",
      "========= END 103 =========================\n",
      "\n",
      "========= BEGIN 104 [123] ===========\n",
      "délégués du La SELARL MJ ALPES réplique, qu'après avoir vainement cherché, en son sein, un poste vacant compatible avec les\n",
      "========= END 104 =========================\n",
      "\n",
      "========= BEGIN 105 [115] ===========\n",
      "avec les du médecin du travail, la SAS SN IES a interrogé les sociétés ANDROMAQUE, NM2T INVEST et BERSOT FORMATION,\n",
      "========= END 105 =========================\n",
      "\n",
      "========= BEGIN 106 [125] ===========\n",
      "BERSOT FORMATION, ont répondu n'avoir pas de poste disponible puis qu'ayant appris la reconnaissance de travailleur handicapé\n",
      "========= END 106 =========================\n",
      "\n",
      "========= BEGIN 107 [120] ===========\n",
      "travailleur handicapé M. [O], elle a élargi ses demandes à des sociétés ayant des activités similaires aux siennes. Elle\n",
      "========= END 107 =========================\n",
      "\n",
      "========= BEGIN 108 [121] ===========\n",
      "siennes. Elle que les postes pourvus au moment du licenciement n'auraient pas pu être proposés à M. [O] Elle soutient que\n",
      "========= END 108 =========================\n",
      "\n",
      "========= BEGIN 109 [120] ===========\n",
      "soutient que a régulièrement consulté les délégués du personnel lors d'une réunion du 25 mars 2016, dont elle produit le\n",
      "========= END 109 =========================\n",
      "\n",
      "========= BEGIN 110 [124] ===========\n",
      "produit le signé. L'AGS observe que l'employeur a consulté 3 sociétés, par courrier du 25 janvier 2016, puis 7 sociétés, par\n",
      "========= END 110 =========================\n",
      "\n",
      "========= BEGIN 111 [122] ===========\n",
      "sociétés, par du 8 mars 2016 ; que toutes ont répondu ne pas avoir de postes disponibles ; que la société SN IES est allée\n",
      "========= END 111 =========================\n",
      "\n",
      "========= BEGIN 112 [115] ===========\n",
      "est allée au-delà de son obligation de recherche de reclassement ; qu'elle a régulièrement consulté les délégués du\n",
      "========= END 112 =========================\n",
      "\n",
      "========= BEGIN 113 [116] ===========\n",
      "délégués du *** Aux termes de l'article L. 1226-10 du code du travail, le licenciement qui repose sur une inaptitude\n",
      "========= END 113 =========================\n",
      "\n",
      "========= BEGIN 114 [121] ===========\n",
      "une inaptitude professionnelle n'est légitime que si l'employeur a préalablement satisfait à l'obligation de reclassement\n",
      "========= END 114 =========================\n",
      "\n",
      "========= BEGIN 115 [121] ===========\n",
      "de reclassement à sa charge par ce texte, après avis des délégués du personnel. Le défaut de consultation des délégués du\n",
      "========= END 115 =========================\n",
      "\n",
      "========= BEGIN 116 [125] ===========\n",
      "délégués du antérieurement aux éventuelles propositions de reclassement et à l'engagement de la procédure de licenciement est\n",
      "========= END 116 =========================\n",
      "\n",
      "========= BEGIN 117 [119] ===========\n",
      "licenciement est par l'indemnité prévue par l'article L. 1226-15 du code du travail. L'employeur consulte utilement les\n",
      "========= END 117 =========================\n",
      "\n",
      "========= BEGIN 118 [125] ===========\n",
      "utilement les du personnel en leur fournissant toutes les informations nécessaires quant à l'état de santé du salarié et à la\n",
      "========= END 118 =========================\n",
      "\n",
      "========= BEGIN 119 [123] ===========\n",
      "à la de reclassement. Peu importe que certains des délégués consultés décident ne pas devoir s'exprimer. Si les délégués du\n",
      "========= END 119 =========================\n",
      "\n",
      "========= BEGIN 120 [121] ===========\n",
      "délégués du formulent des propositions, l'employeur est tenu d'y répondre. Le reclassement du salarié déclaré inapte doit\n",
      "========= END 120 =========================\n",
      "\n",
      "========= BEGIN 121 [121] ===========\n",
      "inapte doit recherché parmi les emplois disponibles dans l'entreprise sans que l'employeur soit tenu d'imposer à un autre\n",
      "========= END 121 =========================\n",
      "\n",
      "========= BEGIN 122 [124] ===========\n",
      "un autre une modification de son contrat de travail à l'effet de libérer son poste. Il ressort des pièces versées aux débats\n",
      "========= END 122 =========================\n",
      "\n",
      "========= BEGIN 123 [122] ===========\n",
      "aux débats la SAS SN IES a recherché un reclassement en adressant, dès le 25 janvier 2016, aux sociétés ANDROMAQUE, BERSOT\n",
      "========= END 123 =========================\n",
      "\n",
      "========= BEGIN 124 [124] ===========\n",
      "ANDROMAQUE, BERSOT et NM2T INVEST un courrier les interrogeant sur les postes disponibles au regard des aptitudes de M. [O].\n",
      "========= END 124 =========================\n",
      "\n",
      "========= BEGIN 125 [121] ===========\n",
      "M. [O]. 8 mars 2016, elle a interrogé 7 nouvelles sociétés. Les réponses des sociétés consultées sont versées aux débats.\n",
      "========= END 125 =========================\n",
      "\n",
      "========= BEGIN 126 [121] ===========\n",
      "aux débats. la période de la procédure de licenciement, la SAS SN IES a embauché un magasinier, le 28 février 2016 et une\n",
      "========= END 126 =========================\n",
      "\n",
      "========= BEGIN 127 [122] ===========\n",
      "et une commerciale, le 1er mars 2016. Au regard de la fiche d'aptitude mentionnant que le salarié pouvait occuper un poste\n",
      "========= END 127 =========================\n",
      "\n",
      "========= BEGIN 128 [122] ===========\n",
      "un poste de conducteur d'engin ou de chauffeur VL, les postes de magasinier et technicien commercial ne pouvaient pas être\n",
      "========= END 128 =========================\n",
      "\n",
      "========= BEGIN 129 [123] ===========\n",
      "pas être à M. [O]. La société SN IES justifie avoir consulté les délégués du personnel et verse aux débats les courriers de\n",
      "========= END 129 =========================\n",
      "\n",
      "========= BEGIN 130 [123] ===========\n",
      "courriers de auxquels étaient joint l'avis d'inaptitude, les demandes de reclassement et les réponses obtenues ainsi que le\n",
      "========= END 130 =========================\n",
      "\n",
      "========= BEGIN 131 [121] ===========\n",
      "que le de la réunion exceptionnelle des délégués du personnel du 25 mars 2016, à laquelle trois des cinq délégués étaient\n",
      "========= END 131 =========================\n",
      "\n",
      "========= BEGIN 132 [121] ===========\n",
      "délégués étaient Ces derniers, qui ont accepté la présence de M. [X], ont été informés avant et pendant la réunion sur la\n",
      "========= END 132 =========================\n",
      "\n",
      "========= BEGIN 133 [124] ===========\n",
      "sur la de M. [O]. C'est à juste titre que le premier juge a considéré que la consultation des représentants du personnel est\n",
      "========= END 133 =========================\n",
      "\n",
      "========= BEGIN 134 [119] ===========\n",
      "personnel est et que la société SN IES a satisfait loyalement à son obligation de reclassement. Sur la discrimination à\n",
      "========= END 134 =========================\n",
      "\n",
      "========= BEGIN 135 [123] ===========\n",
      "discrimination à : M. [O] soutient avoir été rétrogradé au niveau 1 coefficient 150 et n'avoir jamais bénéficié d'entretien\n",
      "========= END 135 =========================\n",
      "\n",
      "========= BEGIN 136 [123] ===========\n",
      "bénéficié d'entretien d'évaluation professionnelle alors que tous les autres salariés y étaient conviés. La SELARL MJ ALPES\n",
      "========= END 136 =========================\n",
      "\n",
      "========= BEGIN 137 [124] ===========\n",
      "MJ ALPES que la demande de M. [O] est prescrite et que le manquement allégué, s'agissant de la classification, est imputable\n",
      "========= END 137 =========================\n",
      "\n",
      "========= BEGIN 138 [125] ===========\n",
      "est imputable la société GROUPE IES, antérieur au transfert du contrat de travail, et intervenu dans le cadre d'une procédure\n",
      "========= END 138 =========================\n",
      "\n",
      "========= BEGIN 139 [117] ===========\n",
      "d'une procédure ; que la société SN IES ne s'est pas engagée à garantir les dettes incombant à la société Groupe IES.\n",
      "========= END 139 =========================\n",
      "\n",
      "========= BEGIN 140 [124] ===========\n",
      "Groupe IES. de l'entretien d'évaluation, elle fait remarquer que le contrat de travail de M. [O] a été suspendu à compter du\n",
      "========= END 140 =========================\n",
      "\n",
      "========= BEGIN 141 [119] ===========\n",
      "compter du novembre 2014, en raison d'un accident du travail, de sorte qu'il n'a pas été possible de l'organiser. L'AGS\n",
      "========= END 141 =========================\n",
      "\n",
      "========= BEGIN 142 [121] ===========\n",
      "l'organiser. L'AGS que le nouvel employeur n'est pas tenu des obligations du précédent employeur et que la société SN IES\n",
      "========= END 142 =========================\n",
      "\n",
      "========= BEGIN 143 [122] ===========\n",
      "SN IES pas concernée par la période 2012-2015. Elle ajoute que M. [O] n'indique pas de quelle discrimination il aurait été\n",
      "========= END 143 =========================\n",
      "\n",
      "========= BEGIN 144 [124] ===========\n",
      "aurait été *** Aux termes de l'article L.1132-1 du code du travail, \"Aucune personne ne peut être écartée d'une procédure de\n",
      "========= END 144 =========================\n",
      "\n",
      "========= BEGIN 145 [121] ===========\n",
      "procédure de ou de l'accès à un stage ou à une période de formation en entreprise, aucun salarié ne peut être sanctionné,\n",
      "========= END 145 =========================\n",
      "\n",
      "========= BEGIN 146 [123] ===========\n",
      "être sanctionné, ou faire l'objet d'une mesure discriminatoire, directe ou indirecte \" telle que définie à l'article 1er de\n",
      "========= END 146 =========================\n",
      "\n",
      "========= BEGIN 147 [123] ===========\n",
      "1er de loi numéro 2008-496 du 27 mai 2008 portant diverses dispositions d'adaptation au droit communautaire dans le domaine\n",
      "========= END 147 =========================\n",
      "\n",
      "========= BEGIN 148 [119] ===========\n",
      "le domaine la lutte contre les discriminations, notamment en matière de rémunération, au sens de l'article L 3221-3, de\n",
      "========= END 148 =========================\n",
      "\n",
      "========= BEGIN 149 [123] ===========\n",
      "3221-3, de d'intéressement ou de distribution d'actions, de formation, de reclassement, d'affectation, de qualification, de\n",
      "========= END 149 =========================\n",
      "\n",
      "========= BEGIN 150 [124] ===========\n",
      "qualification, de de promotion professionnelle, de mutation ou de renouvellement de contrat en raison de son origine, de son\n",
      "========= END 150 =========================\n",
      "\n",
      "========= BEGIN 151 [123] ===========\n",
      "de son de ses m'urs, de son orientation ou identité sexuelle, de son âge, de sa situation de famille ou de sa grossesse, de\n",
      "========= END 151 =========================\n",
      "\n",
      "========= BEGIN 152 [122] ===========\n",
      "grossesse, de caractéristiques génétiques, de son appartenance ou de sa non-appartenance, vraie ou supposée, à une ethnie,\n",
      "========= END 152 =========================\n",
      "\n",
      "========= BEGIN 153 [122] ===========\n",
      "une ethnie, nation ou une race, de ses opinions politiques, de ses activités syndicales ou mutualistes, de ses convictions\n",
      "========= END 153 =========================\n",
      "\n",
      "========= BEGIN 154 [122] ===========\n",
      "ses convictions de son apparence physique, de son nom de famille ou en raison de son état de santé ou de son handicap\". En\n",
      "========= END 154 =========================\n",
      "\n",
      "========= BEGIN 155 [118] ===========\n",
      "handicap\". En des articles L. 1132-1, L. 1134-1 et L. 2141-5 du code du travail, il appartient au salarié qui s'estime\n",
      "========= END 155 =========================\n",
      "\n",
      "========= BEGIN 156 [124] ===========\n",
      "qui s'estime d'une discrimination directe ou indirecte de présenter des éléments de fait laissant supposer son existence. Il\n",
      "========= END 156 =========================\n",
      "\n",
      "========= BEGIN 157 [117] ===========\n",
      "existence. Il au juge d'apprécier si ces éléments, pris dans leur ensemble, laissent présumer l'existence d'une telle\n",
      "========= END 157 =========================\n",
      "\n",
      "========= BEGIN 158 [122] ===========\n",
      "d'une telle et, dans l'affirmative, il incombe à l'employeur de prouver que ses décisions sont justifiées par des éléments\n",
      "========= END 158 =========================\n",
      "\n",
      "========= BEGIN 159 [111] ===========\n",
      "des éléments étrangers à toute discrimination étant rappelé que l'existence d'une discrimination n'implique pas\n",
      "========= END 159 =========================\n",
      "\n",
      "========= BEGIN 160 [120] ===========\n",
      "n'implique pas une comparaison avec la situation d'autres salariés. M. [O] ne précise pas à raison de quoi il aurait été\n",
      "========= END 160 =========================\n",
      "\n",
      "========= BEGIN 161 [123] ===========\n",
      "aurait été Le premier juge a pertinemment relevé que les faits invoqués par M. [O] concernaient son ancien employeur, placé\n",
      "========= END 161 =========================\n",
      "\n",
      "========= BEGIN 162 [121] ===========\n",
      "employeur, placé liquidation judiciaire et qu'en application de l'article L1224-2 du code du travail, le nouvel employeur\n",
      "========= END 162 =========================\n",
      "\n",
      "========= BEGIN 163 [124] ===========\n",
      "nouvel employeur pas tenu des éventuelles créances salariales de l'ancien, puisque la cession était intervenue dans le cadre\n",
      "========= END 163 =========================\n",
      "\n",
      "========= BEGIN 164 [124] ===========\n",
      "le cadre procédure collective. Le jugement sera confirmé en ce qu'il a débouté le salarié de sa demande en dommages-intérêts\n",
      "========= END 164 =========================\n",
      "\n",
      "========= BEGIN 165 [125] ===========\n",
      "en dommages-intérêts discrimination. Sur la demande reconventionnelle de la SELARL MJ ALPES, ès qualités de liquidateur de la\n",
      "========= END 165 =========================\n",
      "\n",
      "========= BEGIN 166 [123] ===========\n",
      "de la SN IES : La SELARL MJ ALPES fait valoir que lorsqu'un salarié est licencié pour inaptitude d'origine professionnelle,\n",
      "========= END 166 =========================\n",
      "\n",
      "========= BEGIN 167 [118] ===========\n",
      "d'origine professionnelle, n'y pas lieu à doublement de l'indemnité de préavis, prévu par l'article L1234-1 du code du\n",
      "========= END 167 =========================\n",
      "\n",
      "========= BEGIN 168 [124] ===========\n",
      "code du au bénéfice des travailleurs handicapés ; que la société SN IES a, par erreur, doublé l'indemnité de préavis, ce qui\n",
      "========= END 168 =========================\n",
      "\n",
      "========= BEGIN 169 [113] ===========\n",
      "ce qui généré un trop-perçu de 1 855,74 euros. *** En vertu de l'article L. 1226-14 du code du travail, en cas de\n",
      "========= END 169 =========================\n",
      "\n",
      "========= BEGIN 170 [123] ===========\n",
      "cas de pour inaptitude générée par une maladie professionnelle ou un accident du travail, le salarié a droit, d'une part, à\n",
      "========= END 170 =========================\n",
      "\n",
      "========= BEGIN 171 [118] ===========\n",
      "part, à indemnité compensatrice d'un montant égal à l'indemnité compensatrice de préavis prévue à l'article L. 1234-5,\n",
      "========= END 171 =========================\n",
      "\n",
      "========= BEGIN 172 [117] ===========\n",
      "L. 1234-5, part, à une indemnité spéciale de licenciement qui, sauf dispositions conventionnelles plus favorables non\n",
      "========= END 172 =========================\n",
      "\n",
      "========= BEGIN 173 [117] ===========\n",
      "favorables non est égale au double de l'indemnité légale de licenciement. Conformément à l'article L5213-9 du code du\n",
      "========= END 173 =========================\n",
      "\n",
      "========= BEGIN 174 [121] ===========\n",
      "code du en cas de licenciement, la durée du préavis déterminée en application de l'article L. 1234-1 est doublée pour les\n",
      "========= END 174 =========================\n",
      "\n",
      "========= BEGIN 175 [124] ===========\n",
      "pour les du chapitre II, sans toutefois que cette mesure puisse avoir pour effet de porter au-delà de trois mois la durée de\n",
      "========= END 175 =========================\n",
      "\n",
      "========= BEGIN 176 [118] ===========\n",
      "durée de préavis. Toutefois, ces dispositions ne sont pas applicables lorsque les conventions ou accords collectifs de\n",
      "========= END 176 =========================\n",
      "\n",
      "========= BEGIN 177 [121] ===========\n",
      "collectifs de ou, à défaut, les usages prévoient un préavis d'une durée au moins égale à trois mois. L'article L5213-9 du\n",
      "========= END 177 =========================\n",
      "\n",
      "========= BEGIN 178 [124] ===========\n",
      "L5213-9 du du travail n'est pas applicable à l'indemnité compensatrice prévue à l'article L1226-14 du code du travail en cas\n",
      "========= END 178 =========================\n",
      "\n",
      "========= BEGIN 179 [124] ===========\n",
      "en cas déclarée par le médecin du travail suite à un accident du travail. Le premier juge en a exactement déduit que M. [F],\n",
      "========= END 179 =========================\n",
      "\n",
      "========= BEGIN 180 [123] ===========\n",
      "M. [F], a reçu une indemnité compensatrice de préavis égale à trois mois de salaire, devait être condamné à rembourser à la\n",
      "========= END 180 =========================\n",
      "\n",
      "========= BEGIN 181 [121] ===========\n",
      "à la MJ ALPES, ès qualités de liquidateur de la SAS SN IES, la somme de 1 855,74 euros brut. Sur les autres demandes : M.\n",
      "========= END 181 =========================\n",
      "\n",
      "========= BEGIN 182 [125] ===========\n",
      ": M. qui succombe en appel, sera condamné aux dépens d'appel. Il n'est pas inéquitable de laisser à la charge de la SELARL MJ\n",
      "========= END 182 =========================\n",
      "\n",
      "========= BEGIN 183 [121] ===========\n",
      "SELARL MJ les sommes non comprises dans les dépens qu'elle a dû exposer en cause d'appel. PAR CES MOTIFS La Cour statuant\n",
      "========= END 183 =========================\n",
      "\n",
      "========= BEGIN 184 [125] ===========\n",
      "Cour statuant par arrêt mis à disposition, contradictoirement Confirme, en toutes ses dispositions, le jugement ; Y ajoutant,\n",
      "========= END 184 =========================\n",
      "\n",
      "========= BEGIN 185 [122] ===========\n",
      "Y ajoutant, M. [F] [O] aux dépens d'appel ; Déboute la SELARL MJ ALPES, ès qualités de liquidateur de la SAS SN IES, de sa\n",
      "========= END 185 =========================\n",
      "\n",
      "========= BEGIN 186 [103] ===========\n",
      "de sa fondée sur l'article 700 du code de procédure civile en cause d'appel. LA GREFFIÈRE LA PRÉSIDENTE\n",
      "========= END 186 =========================\n"
     ]
    }
   ],
   "source": [
    "print_data(df_content_6)"
   ],
   "metadata": {
    "collapsed": false,
    "ExecuteTime": {
     "end_time": "2023-10-20T03:45:22.075965Z",
     "start_time": "2023-10-20T03:45:21.844442Z"
    }
   }
  },
  {
   "cell_type": "code",
   "execution_count": 891,
   "outputs": [],
   "source": [
    "def read_df(filename):\n",
    "    df = pd.read_csv(f\"judilibre_v/{filename}\", sep=\"\\t\", names=['chunk', 'line', 'passage', 'embedding'])\n",
    "    len_passages = []\n",
    "    len_embeddings = []\n",
    "    for _, row in df.iterrows():\n",
    "        len_passages.append(len(row['passage']))\n",
    "        len_embeddings.append(len(eval(row['embedding'])))\n",
    "\n",
    "    df['length'] = len_passages\n",
    "    df['embedding_size'] = len_embeddings\n",
    "    return df"
   ],
   "metadata": {
    "collapsed": false,
    "ExecuteTime": {
     "end_time": "2023-10-20T03:45:22.076132Z",
     "start_time": "2023-10-20T03:45:21.858409Z"
    }
   }
  },
  {
   "cell_type": "code",
   "execution_count": 892,
   "outputs": [],
   "source": [
    "df_1 = read_df(filename_1)"
   ],
   "metadata": {
    "collapsed": false,
    "ExecuteTime": {
     "end_time": "2023-10-20T03:45:22.077147Z",
     "start_time": "2023-10-20T03:45:21.862062Z"
    }
   }
  },
  {
   "cell_type": "code",
   "execution_count": 893,
   "outputs": [
    {
     "data": {
      "text/plain": "     chunk  line                                            passage  \\\n0        1     6   REPUBLIQUE FRANCAISE AU NOM DU PEUPLE FRANCAI...   \n1        2     8  (n° , 4 pages) Numéro d'inscription au réperto...   \n2        3     8  Portalis 35L7-V-B7E-CBRG5 Décision déférée à l...   \n3        4    10  - Formation de départage de BOBIGNY - RG n° 15...   \n4        5    13  de son représentant légal [Adresse 2] [Localit...   \n..     ...   ...                                                ...   \n105    106    63  réfère. Le jugement sera donc confirmé en ce q...   \n106    107    65  MOTIFS La Cour, CONFIRME le jugement. Vu l'art...   \n107    108    65  à payer à la société Air France en cause d'app...   \n108    109    67  de l'article 700 du code de procédure civile. ...   \n109    110    68  le syndicat Alter aux dépens d'appel. La Greff...   \n\n                                             embedding  length  embedding_size  \n0    [-0.2864017,0.22068584,0.059994455,-0.19529125...     117             384  \n1    [0.054233212,-0.17914756,0.13164805,0.18044817...     114             384  \n2    [-0.40293875,0.11966329,-0.1027412,-0.11835369...     119             384  \n3    [-0.06137565,-0.2825718,0.4099839,-0.06322527,...     118             384  \n4    [-0.14284045,-0.0430114,0.3596616,-0.518046,-0...     120             384  \n..                                                 ...     ...             ...  \n105  [-0.31727228,0.054350436,0.0034205606,-0.22808...     112             384  \n106  [-0.23456575,-0.008945752,0.36253947,0.0628908...     120             384  \n107  [0.02892923,0.16647458,0.07621933,-0.27263254,...     121             384  \n108  [-0.28935927,0.050066367,0.04088294,0.04454843...     122             384  \n109  [-0.056826994,0.19697526,0.2563819,0.28118432,...      66             384  \n\n[110 rows x 6 columns]",
      "text/html": "<div>\n<style scoped>\n    .dataframe tbody tr th:only-of-type {\n        vertical-align: middle;\n    }\n\n    .dataframe tbody tr th {\n        vertical-align: top;\n    }\n\n    .dataframe thead th {\n        text-align: right;\n    }\n</style>\n<table border=\"1\" class=\"dataframe\">\n  <thead>\n    <tr style=\"text-align: right;\">\n      <th></th>\n      <th>chunk</th>\n      <th>line</th>\n      <th>passage</th>\n      <th>embedding</th>\n      <th>length</th>\n      <th>embedding_size</th>\n    </tr>\n  </thead>\n  <tbody>\n    <tr>\n      <th>0</th>\n      <td>1</td>\n      <td>6</td>\n      <td>REPUBLIQUE FRANCAISE AU NOM DU PEUPLE FRANCAI...</td>\n      <td>[-0.2864017,0.22068584,0.059994455,-0.19529125...</td>\n      <td>117</td>\n      <td>384</td>\n    </tr>\n    <tr>\n      <th>1</th>\n      <td>2</td>\n      <td>8</td>\n      <td>(n° , 4 pages) Numéro d'inscription au réperto...</td>\n      <td>[0.054233212,-0.17914756,0.13164805,0.18044817...</td>\n      <td>114</td>\n      <td>384</td>\n    </tr>\n    <tr>\n      <th>2</th>\n      <td>3</td>\n      <td>8</td>\n      <td>Portalis 35L7-V-B7E-CBRG5 Décision déférée à l...</td>\n      <td>[-0.40293875,0.11966329,-0.1027412,-0.11835369...</td>\n      <td>119</td>\n      <td>384</td>\n    </tr>\n    <tr>\n      <th>3</th>\n      <td>4</td>\n      <td>10</td>\n      <td>- Formation de départage de BOBIGNY - RG n° 15...</td>\n      <td>[-0.06137565,-0.2825718,0.4099839,-0.06322527,...</td>\n      <td>118</td>\n      <td>384</td>\n    </tr>\n    <tr>\n      <th>4</th>\n      <td>5</td>\n      <td>13</td>\n      <td>de son représentant légal [Adresse 2] [Localit...</td>\n      <td>[-0.14284045,-0.0430114,0.3596616,-0.518046,-0...</td>\n      <td>120</td>\n      <td>384</td>\n    </tr>\n    <tr>\n      <th>...</th>\n      <td>...</td>\n      <td>...</td>\n      <td>...</td>\n      <td>...</td>\n      <td>...</td>\n      <td>...</td>\n    </tr>\n    <tr>\n      <th>105</th>\n      <td>106</td>\n      <td>63</td>\n      <td>réfère. Le jugement sera donc confirmé en ce q...</td>\n      <td>[-0.31727228,0.054350436,0.0034205606,-0.22808...</td>\n      <td>112</td>\n      <td>384</td>\n    </tr>\n    <tr>\n      <th>106</th>\n      <td>107</td>\n      <td>65</td>\n      <td>MOTIFS La Cour, CONFIRME le jugement. Vu l'art...</td>\n      <td>[-0.23456575,-0.008945752,0.36253947,0.0628908...</td>\n      <td>120</td>\n      <td>384</td>\n    </tr>\n    <tr>\n      <th>107</th>\n      <td>108</td>\n      <td>65</td>\n      <td>à payer à la société Air France en cause d'app...</td>\n      <td>[0.02892923,0.16647458,0.07621933,-0.27263254,...</td>\n      <td>121</td>\n      <td>384</td>\n    </tr>\n    <tr>\n      <th>108</th>\n      <td>109</td>\n      <td>67</td>\n      <td>de l'article 700 du code de procédure civile. ...</td>\n      <td>[-0.28935927,0.050066367,0.04088294,0.04454843...</td>\n      <td>122</td>\n      <td>384</td>\n    </tr>\n    <tr>\n      <th>109</th>\n      <td>110</td>\n      <td>68</td>\n      <td>le syndicat Alter aux dépens d'appel. La Greff...</td>\n      <td>[-0.056826994,0.19697526,0.2563819,0.28118432,...</td>\n      <td>66</td>\n      <td>384</td>\n    </tr>\n  </tbody>\n</table>\n<p>110 rows × 6 columns</p>\n</div>"
     },
     "execution_count": 893,
     "metadata": {},
     "output_type": "execute_result"
    }
   ],
   "source": [
    "df_1"
   ],
   "metadata": {
    "collapsed": false,
    "ExecuteTime": {
     "end_time": "2023-10-20T03:45:22.077309Z",
     "start_time": "2023-10-20T03:45:22.019737Z"
    }
   }
  },
  {
   "cell_type": "code",
   "execution_count": 894,
   "outputs": [
    {
     "name": "stdout",
     "output_type": "stream",
     "text": [
      " REPUBLIQUE FRANCAISE AU NOM DU PEUPLE FRANCAIS COUR D'APPEL DE PARIS Pôle 6 - Chambre 3 ARRET DU 24 MAI 2023 (n° , 4\n"
     ]
    }
   ],
   "source": [
    "print(df_1['passage'][0])"
   ],
   "metadata": {
    "collapsed": false,
    "ExecuteTime": {
     "end_time": "2023-10-20T03:45:22.077376Z",
     "start_time": "2023-10-20T03:45:22.020050Z"
    }
   }
  },
  {
   "cell_type": "code",
   "execution_count": 895,
   "outputs": [
    {
     "name": "stdout",
     "output_type": "stream",
     "text": [
      "117\n"
     ]
    }
   ],
   "source": [
    "print(len(df_1['passage'][0]))"
   ],
   "metadata": {
    "collapsed": false,
    "ExecuteTime": {
     "end_time": "2023-10-20T03:45:22.077431Z",
     "start_time": "2023-10-20T03:45:22.020307Z"
    }
   }
  },
  {
   "cell_type": "code",
   "execution_count": 896,
   "outputs": [
    {
     "name": "stdout",
     "output_type": "stream",
     "text": [
      "6\n"
     ]
    }
   ],
   "source": [
    "print(df_1['line'][0])"
   ],
   "metadata": {
    "collapsed": false,
    "ExecuteTime": {
     "end_time": "2023-10-20T03:45:22.077481Z",
     "start_time": "2023-10-20T03:45:22.020436Z"
    }
   }
  },
  {
   "cell_type": "code",
   "execution_count": 897,
   "outputs": [
    {
     "name": "stdout",
     "output_type": "stream",
     "text": [
      "(n° , 4 pages) Numéro d'inscription au répertoire général : N° RG 20/01856 - N° Portalis 35L7-V-B7E-CBRG5 Décision\n"
     ]
    }
   ],
   "source": [
    "print(df_1['passage'][1])"
   ],
   "metadata": {
    "collapsed": false,
    "ExecuteTime": {
     "end_time": "2023-10-20T03:45:22.077531Z",
     "start_time": "2023-10-20T03:45:22.020756Z"
    }
   }
  },
  {
   "cell_type": "code",
   "execution_count": 898,
   "outputs": [
    {
     "name": "stdout",
     "output_type": "stream",
     "text": [
      "114\n"
     ]
    }
   ],
   "source": [
    "print(len(df_1['passage'][1]))"
   ],
   "metadata": {
    "collapsed": false,
    "ExecuteTime": {
     "end_time": "2023-10-20T03:45:22.077585Z",
     "start_time": "2023-10-20T03:45:22.020994Z"
    }
   }
  },
  {
   "cell_type": "code",
   "execution_count": 899,
   "outputs": [
    {
     "name": "stdout",
     "output_type": "stream",
     "text": [
      "8\n"
     ]
    }
   ],
   "source": [
    "print(df_1['line'][1])"
   ],
   "metadata": {
    "collapsed": false,
    "ExecuteTime": {
     "end_time": "2023-10-20T03:45:22.077639Z",
     "start_time": "2023-10-20T03:45:22.021130Z"
    }
   }
  },
  {
   "cell_type": "code",
   "execution_count": 900,
   "outputs": [
    {
     "name": "stdout",
     "output_type": "stream",
     "text": [
      "Portalis 35L7-V-B7E-CBRG5 Décision déférée à la Cour : Jugement du 28 Juin 2019 - Conseil de Prud'hommes - Formation de\n"
     ]
    }
   ],
   "source": [
    "print(df_1['passage'][2])"
   ],
   "metadata": {
    "collapsed": false,
    "ExecuteTime": {
     "end_time": "2023-10-20T03:45:22.077690Z",
     "start_time": "2023-10-20T03:45:22.021190Z"
    }
   }
  },
  {
   "cell_type": "code",
   "execution_count": 901,
   "outputs": [
    {
     "name": "stdout",
     "output_type": "stream",
     "text": [
      "119\n"
     ]
    }
   ],
   "source": [
    "print(len(df_1['passage'][2]))"
   ],
   "metadata": {
    "collapsed": false,
    "ExecuteTime": {
     "end_time": "2023-10-20T03:45:22.077739Z",
     "start_time": "2023-10-20T03:45:22.021292Z"
    }
   }
  },
  {
   "cell_type": "code",
   "execution_count": 902,
   "outputs": [
    {
     "name": "stdout",
     "output_type": "stream",
     "text": [
      "8\n"
     ]
    }
   ],
   "source": [
    "print(df_1['line'][2])"
   ],
   "metadata": {
    "collapsed": false,
    "ExecuteTime": {
     "end_time": "2023-10-20T03:45:22.077787Z",
     "start_time": "2023-10-20T03:45:22.021417Z"
    }
   }
  },
  {
   "cell_type": "code",
   "execution_count": 903,
   "outputs": [],
   "source": [
    "max_length_1 = df_1['passage'].apply(len).max()"
   ],
   "metadata": {
    "collapsed": false,
    "ExecuteTime": {
     "end_time": "2023-10-20T03:45:22.077816Z",
     "start_time": "2023-10-20T03:45:22.021476Z"
    }
   }
  },
  {
   "cell_type": "code",
   "execution_count": 904,
   "outputs": [
    {
     "data": {
      "text/plain": "125"
     },
     "execution_count": 904,
     "metadata": {},
     "output_type": "execute_result"
    }
   ],
   "source": [
    "max_length_1"
   ],
   "metadata": {
    "collapsed": false,
    "ExecuteTime": {
     "end_time": "2023-10-20T03:45:22.077880Z",
     "start_time": "2023-10-20T03:45:22.021534Z"
    }
   }
  },
  {
   "cell_type": "code",
   "execution_count": 905,
   "outputs": [
    {
     "name": "stdout",
     "output_type": "stream",
     "text": [
      "REPUBLIQUE FRANCAISE\n",
      "AU NOM DU PEUPLE FRANCAIS\n",
      "COUR D'APPEL DE PARIS\n",
      "Pôle 6 - Chambre 3\n",
      "ARRET DU 24 MAI 2023\n",
      "(n° , 4 pages)\n",
      "Numéro d'inscription au répertoire général : N° RG 20/01856 - N° Portalis 35L7-V-B7E-CBRG5\n",
      "Décision déférée à la Cour : Jugement du 28 Juin 2019 - Conseil de Prud'hommes - Formation de départage de BOBIGNY - RG n° 15/03475\n",
      "APPELANT\n",
      "Syndicat ALTER, prise en la personne de son représentant légal\n",
      "[Adresse 2]\n",
      "[Localité 3]\n",
      "Représenté par Me Chanel DESSEIGNE, avocat au barreau de PARIS, toque : B0372\n",
      "INTIMEE\n",
      "SA AIR FRANCE, prise en la personne de son représentant légal\n",
      "[Adresse 1]\n",
      "[Localité 4]\n",
      "Représentée par Me Harold HERMAN, avocat au barreau de PARIS, toque : T03\n",
      "COMPOSITION DE LA COUR :\n",
      "En application des dispositions des articles 805 et 907 du code de procédure civile, l'affaire a été débattue le 08 Mars 2023, en audience publique, les avocats ne s'étant pas opposés à la composition non collégiale de la formation, devant Mme Anne MENARD, Présidente de chambre, chargée du rapport.\n",
      "Ce magistrat a rendu compte des plaidoiries dans le délibéré de la Cour, entendu en son rapport, composée de :\n",
      "Madame Anne MENARD, présidente\n",
      "Madame Fabienne ROUGE, présidente\n",
      "Madame Véronique MARMORAT, présidente\n",
      "Lors des débats : Mme Sarah SEBBAK, greffière\n",
      "ARRET :\n",
      "- CONTRADICTOIRE\n",
      "- mise à disposition de l'arrêt au greffe de la Cour le 24 mai 2023, les parties en ayant été préalablement avisées dans les conditions prévues au deuxième alinéa de l'article 450 du Code de procédure civile,\n",
      "- signé par Madame Anne MENARD, présidente et par Camille BESSON, Greffière en pré-affectation sur poste, à laquelle la minute de la décision a été remise par le magistrat signataire.\n",
      "EXPOSÉ DU LITIGE\n",
      "Monsieur [F] est pilote au sein de la société Air France.\n",
      "En 2011, la compagnie a décidé d'opérer une refonte de sa documentation opérationnelle à destination des pilotes. Cette refonte des manuels d'exploitation (Manex) consistait notamment à les aligner sur la documentation constructeur. Les manuels qui étaient rédigés en français et en anglais ont fait place à une documentation intégralement rédigée en anglais. Par ailleurs, cette documentation a été rapidement dématérialisée, une tablette s'étant substituée aux classeurs papiers. La mise en place de cette documentation s'est opérée de 2012 à 2014, et elle a fait suite à une mission d'expertise externe consécutive à l'accident du vol AF447 le 1er juin 2009.\n",
      "Monsieur [F] a saisi le conseil de prud'hommes de Bobigny afin d'obtenir le paiement de rappels de salaires et de dommages et intérêts pour le temps qu'il a consacré sur ses heures de repos à la formation, afin d'assimiler ce changement de documentation.\n",
      "Le syndicat Alter est intervenu à l'instance pour solliciter des dommages et intérêts en raison de l'atteinte à l'intérêt collectif de la profession.\n",
      "Ils ont été déboutés de leurs demandes et monsieur [F] a été condamné au paiement d'une somme de 50 euros sur le fondement des dispositions de l'article 700 du code de procédure civile par jugement du 28 juin 2019, rendu en formation de départage.\n",
      "Le syndicat Alter a régulièrement interjeté appel de ce jugement.\n",
      "Par conclusions récapitulatives du 20 juillet 2020, auxquelles il convient de se reporter en ce qui concerne ses moyens, le syndicat Alter demande à la cour d'infirmer le jugement, de déclarer son intervention recevable, de faire droit aux demandes du salarié, et de condamner la société Air france à lui payer au titre du préjudice subi par la profession la somme de 30.000 euros (somme globale), ainsi que la somme de 4.000 euros sur le fondement des dispositions de l'article 700 du code de procédure civile (somme globale).\n",
      "Par conclusions récapitulatives du 19 août 2020, auxquelles il convient de se reporter en ce qui concerne ses moyens, la société Air France demande à la cour de déclarer le syndicat Alter irrecevable, ou subsidiairement de le débouter.\n",
      "La Cour se réfère, pour un plus ample exposé des faits, de la procédure, des moyens et des prétentions des parties, à la décision déférée et aux dernières conclusions échangées en appel.\n",
      "MOTIFS\n",
      "L'action portant sur la rémunération du temps consacré à la formation, elle concerne des faits susceptibles de porter un préjudice direct ou indirect à l'intérêt collectif de la profession, de sorte que l'intervention du syndicat Alter est recevable.\n",
      "Le syndicat Alter expose que le temps considérable consacré par les pilotes aux modifications et adaptations de la documentation, dans une langue non native, constitue en raison de son ampleur un travail exceptionnel de formation, qui ne peut être considéré comme s'inscrivant dans la formation continue rémunérée par l'employeur. Il soutient que le déploiement de la documentation constructeur ne peut s'inscrire dans le maitien à jour de ses connaissances par le salarié pilote, et que l'ampleur de ce changement de philosophie et de méthodes, ainsi que le recours à l'anglais, sont allés bien au-delà d'un simple maintien des compétences.\n",
      "La compagnie Air France expose que la profession de pilote échappe au droit commun en ce qui concerne la durée du travail, et que la rémunération est exprimée en heures de vol; que pour les activités qui ne sont pas des heures de vol, une rémunération appelée 'traitement mensuel fixe' est versée ; qu'enfin, l'accord de réduction du temps de travail prévoit le versement de primes de vol fictives pour certaines activités au sol énumérées par l'accord. Elle fait valoir que le travail de formation réalisé par le pilote à son domicile pour maintenir ses compétences est rémunéré par le traitement mensuel fixe.\n",
      "Aux termes de l'article 6321-1 du code du travail, 'l'employeur assure l'adaptation des salariés à leur poste de travail.\n",
      "Il veille au maintien de leur capacité à occuper un emploi, au regard notamment de l'évolution des emplois, des technologies et des organisations'.\n",
      "Aux termes de l'article 6321-2 du code du travail dans sa rédaction applicable, 'toute action de formation suivie par un salarié pour assurer son adaptation au poste de travail ou liée à l'évolution ou au maintien dans l'emploi dans l'entreprise constitue un temps de travail effectif et donne lieu pendant sa réalisation au maintien par l'entreprise de la rémunération'.\n",
      "En l'espèce, il est acquis et non contesté que la rémunération des pilotes comporte, outre la rémunération des heures de vol, un salaire complémentaire pour le travail au sol, représentant environ le quart de la rémunératoin totale des pilotes. Ce travail au sol est constitué de la préparation du vol, mais aussi du temps consacré au maintien des compétences pour pouvoir voler : maintien à jour de ses connaissances, assimilation des mises à jours opérationnelles, préparations des contrôles sur simulateurs ou examens de maîtrise de l'anglais notamment.\n",
      "La question qui est posée est donc de savoir si le travail réalisé par les pilotes pour acquérir cette refonte du Manex est susceptible de s'inscrire ou non dans cette formation continue rémunérée.\n",
      "En premier lieu, la cour observe qu'un certain nombre de journées de formation ont été organisées par l'employeur, et rémunérées comme telles: notamment une journée de présentation de chacune des phases 1 et 2 du Manex B, des sécances en simulateurs (4 ou 5 dont une de contrôle), une présentation du système Optima, deux jours de présentation de la documentation électronique, et deux jours de stage en anglais. Sur ce dernier point, il était proposé par l'employeur une formation complémentaire.\n",
      "Pour autant, une large partie du travail a été réalisée par les pilotes de manière personelle, hors toute action de formation spécifique.\n",
      "Le syndicat relève que la nouvelle documentation, qui est la documentation constructeur, est désormais exclusivement en anglais, à l'exception du Manex A.\n",
      "Toutefois, il convient de rappeler que les documents liés à l'activité d'une entreprise de transport aérien échappent à l'obligation de rédiger en anglais les documents dont la connaissance est nécessaire au salarié pour l'exécution de son contrat de travail. Cette exception s'explique par le caractère international de l'activité qui rend nécessaire pour la sécurité des vols l'utilisation d'une langue commune.\n",
      "Dans ce contexte, l'obtention de la licence de pilote et son maintien sont conditionnés par la maîtrise de l'anglais opérationnel.\n",
      "Dans ces conditions, il ne peut être soutenu que la maîtrise attendue des pilotes de la nouvelle documentation ait été rendue plus difficile en raison du recours à l'anglais.\n",
      "Par ailleurs, en ce qui concerne l'ampleur des modifications apportées aux procédures, il est versé aux débats en cause d'appel une pièce 46 intitulée 'Pour bien comprendre ce qui change entre les anciennes et les nouvelles méthodes de production'. Il s'agit d'un 'avant/après' élaboré par les pilotes. La cour ne peut qu'observer que ce document ne comporte qu'une quinzaine de pages, étant précisé que s'agissant du Manex B concerné, le changement de documentation s'est opéré entre l'automne 2012 et l'hiver 2013, soit sur plus d'une année, ce qui permettait l'assimilation des données de manière progressive.\n",
      "Par ailleurs, les pilotes connaissaient déjà parfaitement les avions sur lesquels ils volaient, de sorte que l'assimilation de la documentation constructeur, même en anglais et avec une modification de certaines procédures, ne constituait pas un apprentissage nouveau.\n",
      "Cette charge de travail n'apparaît en rien disproportionnée avec le temps de formation qui est rémunéré par l'employeur au titre du maintien des compétences, de sorte que le jugement doit être confirmé en ce qu'il a retenu que le temps passé à préparer les formations organisées par la compagnie et à assimilier la nouvelle documentation n'avait pas à être rémunéré par des heures supplémentaires.\n",
      "Le syndicat soutient également que la mise en oeuvre de cette documentation entraînait une modification de l'organisation du travail, et des techniques de travail, qui aurait nécessité la consultation du comité d'établissement et du CHSCT.\n",
      "Toutefois, les éléments du dossier ne permettent pas de retenir que le remaniement du Manex ait impliqué une modification de l'organisation du travail entrant dans le champ des dispositions légales relatives à la consultation des institutions représentatives du personnel. Le syndicat Alter ne donne aucune précision sur les modifications de l'organisation et des techniques de travail auxquelles il se réfère.\n",
      "Le jugement sera donc confirmé en ce qu'il a débouté le salarié de ses demandes.\n",
      "PAR CES MOTIFS\n",
      "La Cour,\n",
      "CONFIRME le jugement.\n",
      "Vu l'article 700 du code de procédure civile,\n",
      "CONDAMNE le syndicat Alter à payer à la société Air France en cause d'appel la somme de 200 euros sur le fondement des dispositions de l'article 700 du code de procédure civile.\n",
      "DÉBOUTE les parties du surplus de leurs demandes.\n",
      "CONDAMNE le syndicat Alter aux dépens d'appel.\n",
      "La Greffière, La Présidente,\n"
     ]
    }
   ],
   "source": [
    "print(content_1)"
   ],
   "metadata": {
    "collapsed": false,
    "ExecuteTime": {
     "end_time": "2023-10-20T03:45:22.077963Z",
     "start_time": "2023-10-20T03:45:22.021748Z"
    }
   }
  },
  {
   "cell_type": "code",
   "execution_count": 906,
   "outputs": [
    {
     "data": {
      "text/plain": "[-0.2864017,\n 0.22068584,\n 0.059994455,\n -0.19529125,\n -0.04385489,\n -0.22667167,\n 0.17542914,\n -0.0692615,\n 0.23414993,\n -0.47702062,\n 0.26424792,\n -0.004377317,\n -0.11164954,\n -0.034919187,\n -0.34360138,\n -0.027686609,\n -0.12961394,\n 0.44422543,\n 0.32354993,\n -0.28467134,\n -0.17564943,\n 0.18304947,\n 0.47246322,\n 1.1854467,\n -0.2785445,\n -0.50191927,\n 0.1222897,\n 0.29900563,\n 0.22590356,\n -0.5645735,\n 0.60816205,\n -0.3297777,\n -0.26016575,\n 0.16429752,\n 0.0996998,\n -0.01691869,\n -0.060453225,\n -0.65833634,\n -0.17542243,\n 0.029051526,\n 0.47193292,\n -0.4532205,\n -0.1968279,\n -0.21284847,\n 0.84477055,\n -0.39065713,\n -0.211904,\n 0.035402764,\n -0.6424417,\n -0.4218809,\n -0.43839088,\n 0.58917725,\n -0.31800863,\n 0.061532687,\n 0.09904542,\n -0.32804334,\n 0.024079822,\n 0.05710657,\n 0.07772181,\n 0.025320807,\n -0.12321118,\n 0.3516977,\n -0.13135542,\n -0.30898887,\n -0.052622363,\n 0.20330492,\n 0.18116648,\n -0.26047632,\n -0.26246163,\n 0.24526046,\n -0.41562465,\n 0.17700505,\n 0.410873,\n -0.15233214,\n 0.004638944,\n -0.2735809,\n -0.05817066,\n -0.02933343,\n -0.030624364,\n 0.21996976,\n -0.2137672,\n -0.042964462,\n 0.13547091,\n 0.6311945,\n -0.35899344,\n -0.31208155,\n 0.295014,\n 0.34559488,\n 0.5531503,\n -0.06107015,\n 0.061809305,\n -0.31503275,\n 0.028576747,\n -0.011573606,\n -0.1539683,\n -0.21159112,\n -0.35484743,\n -0.10399762,\n -0.11912371,\n 3.2173097,\n -0.51719254,\n -0.0042763357,\n -0.043599617,\n -0.27173665,\n -0.21211156,\n -0.51036036,\n 0.31675562,\n 0.16645272,\n 0.068198934,\n -0.13654198,\n -0.10689851,\n 0.28174344,\n 0.23885211,\n -0.23264119,\n -0.13283834,\n 0.23760661,\n -0.54046464,\n -0.38018176,\n -0.14484866,\n 0.44630355,\n -0.09244839,\n 0.25946894,\n -0.10862228,\n 0.021326404,\n -0.25969055,\n -1.1047653,\n -0.48384273,\n -0.28063983,\n 0.13388313,\n -0.083486,\n 0.05255149,\n 0.23523007,\n 0.49729753,\n -0.10716604,\n -0.063486196,\n -0.20201525,\n 0.6283901,\n -0.030914746,\n 0.16929828,\n -0.20049195,\n 0.5061197,\n 0.31011254,\n 0.20820762,\n 0.20818841,\n 0.17786919,\n -0.13372043,\n -0.37398273,\n -0.21889837,\n 0.11361518,\n 0.30469725,\n -0.30930018,\n 0.36302254,\n 0.36062437,\n 0.09734071,\n 0.6766886,\n 0.63463837,\n -0.35637224,\n -0.49364957,\n 0.26300696,\n 0.039744616,\n -0.18607847,\n 0.122127675,\n 0.20524274,\n -0.35062498,\n 0.09782889,\n -0.32057354,\n -0.7212946,\n 0.24356736,\n -0.26341465,\n 0.37748927,\n 0.15516317,\n -0.42973834,\n -0.4187557,\n 0.23303337,\n -0.17051749,\n -0.019699255,\n 0.4622701,\n -0.06144712,\n -0.04485347,\n -0.0042642523,\n -0.13023524,\n -0.4407562,\n 0.24360868,\n 0.38869396,\n 0.13189921,\n -0.0066350303,\n 0.015374157,\n -0.17996806,\n -0.01658878,\n -0.2162657,\n -0.21918121,\n -0.10843653,\n 0.07169054,\n 0.37827334,\n -0.17075539,\n -0.31592506,\n -0.517753,\n 0.09870363,\n -0.15301715,\n 0.36907706,\n 0.20109013,\n 0.12671416,\n -0.2811434,\n 0.06784376,\n -0.09932603,\n -0.64863235,\n 0.09451294,\n -0.21865484,\n 0.029226445,\n -0.27804345,\n -0.25748244,\n -0.28199357,\n -0.15849935,\n -0.13058612,\n -0.149277,\n 0.0076506655,\n 0.4437486,\n -0.3290556,\n -0.28858995,\n -0.055464834,\n 0.41443428,\n -0.337315,\n 0.3127007,\n -1.95e-43,\n 0.19739078,\n -0.040968798,\n -0.04367191,\n -0.17358749,\n 0.25369102,\n -0.34806043,\n 0.28579915,\n -0.180027,\n -0.06965498,\n 0.3612812,\n -0.63928753,\n 0.19354394,\n -0.2027796,\n 0.25770247,\n 0.18441242,\n 0.42041373,\n -0.2633803,\n -0.13099876,\n -0.15339832,\n 0.08522929,\n -0.043595463,\n 0.059713773,\n -0.099839754,\n 0.3645489,\n 0.01703432,\n -0.027186958,\n -0.0054300935,\n -0.3587271,\n -0.13980067,\n 0.094409354,\n -0.03960244,\n 0.45990685,\n -0.00083800516,\n 0.36424,\n -0.01850629,\n 0.2571866,\n -0.024136571,\n -0.05943222,\n 0.044878136,\n 0.022055188,\n -0.38936874,\n -0.055906996,\n 0.044192247,\n -0.17083213,\n 0.6682559,\n -0.08031269,\n 0.3785757,\n -0.15240777,\n -0.112202324,\n -0.045713942,\n -0.42382807,\n 0.45404783,\n 0.4300488,\n 0.16103889,\n 0.19937496,\n 0.14219557,\n 0.38992918,\n 0.28243333,\n 0.10900822,\n 0.0722563,\n -0.15009692,\n 0.17974526,\n -0.43361595,\n 0.10389608,\n 0.08772432,\n -0.20923796,\n 0.0014976078,\n -0.1966543,\n 0.48589197,\n -0.17617373,\n 0.022553358,\n 0.53026164,\n -0.30830085,\n 0.19516695,\n -0.081466846,\n -0.1036667,\n 0.01480666,\n 0.22960682,\n -0.015329755,\n 0.07628155,\n -0.24445792,\n -0.4825326,\n 0.040843986,\n 0.30120906,\n -0.33077672,\n -0.16435945,\n -0.28860936,\n 0.098059125,\n -0.03745866,\n -0.23088251,\n -0.59460324,\n -0.053841937,\n 0.055596925,\n 0.19043317,\n 0.49077332,\n -1.057886e-34,\n 0.17966987,\n 0.48577607,\n -0.045149438,\n -0.17135713,\n -0.3062894,\n 0.12301276,\n 0.40752593,\n 0.119953796,\n 0.2267941,\n -0.21397626,\n -0.20623046,\n 0.005877567,\n 0.062131,\n -0.025697839,\n -0.45984784,\n 0.0984752,\n -0.34291223,\n 0.12096903,\n 0.15106681,\n 0.04375005,\n 0.05324555,\n 0.04719839,\n 0.23119633,\n -0.16562416,\n -0.261409,\n 0.4572602,\n 0.58645034,\n -0.2769007,\n -0.39842635,\n 0.17769518,\n -0.32758006,\n -0.20899175,\n -0.47565678,\n 0.36654493,\n -0.34987617,\n -0.09467186,\n 0.114248395,\n 0.22107503,\n 0.31546056,\n -0.00014759421,\n 0.32153606,\n 0.054450214,\n 0.44436824,\n -0.42436704,\n 0.3325031,\n 0.13786916,\n -0.16897556,\n -0.22736606,\n 0.19432671,\n -0.019287607,\n -0.41882226,\n 0.16063622,\n 0.096417345,\n 0.10600447,\n -0.07478563,\n 0.5151502,\n -0.42882472,\n -0.12675174,\n 0.24493529,\n 0.21499349,\n -0.14522381,\n -0.15522829,\n -0.09486236,\n 0.5351517]"
     },
     "execution_count": 906,
     "metadata": {},
     "output_type": "execute_result"
    }
   ],
   "source": [
    "eval(df_1['embedding'][0])"
   ],
   "metadata": {
    "collapsed": false,
    "ExecuteTime": {
     "end_time": "2023-10-20T03:45:22.096084Z",
     "start_time": "2023-10-20T03:45:22.022140Z"
    }
   }
  },
  {
   "cell_type": "code",
   "execution_count": 907,
   "outputs": [
    {
     "data": {
      "text/plain": "384"
     },
     "execution_count": 907,
     "metadata": {},
     "output_type": "execute_result"
    }
   ],
   "source": [
    "len(eval(df_1['embedding'][0]))"
   ],
   "metadata": {
    "collapsed": false,
    "ExecuteTime": {
     "end_time": "2023-10-20T03:45:22.096343Z",
     "start_time": "2023-10-20T03:45:22.022224Z"
    }
   }
  },
  {
   "cell_type": "code",
   "execution_count": 908,
   "outputs": [],
   "source": [
    "df_2 = read_df(filename_2)"
   ],
   "metadata": {
    "collapsed": false,
    "ExecuteTime": {
     "end_time": "2023-10-20T03:45:22.096414Z",
     "start_time": "2023-10-20T03:45:22.022282Z"
    }
   }
  },
  {
   "cell_type": "code",
   "execution_count": 909,
   "outputs": [
    {
     "data": {
      "text/plain": "    chunk  line                                            passage  \\\n0       1     8   COUR D'APPEL D'AIX-EN-PROVENCE Chambres socia...   \n1       2    11  4-6 N° RG 19/12694 - N° Portalis DBVB-V-B7D-BE...   \n2       3    11  Nous, Philippe SILVAN, magistrat de la mise en...   \n3       4    13  en-Provence, assisté de Suzie BRETER, Greffier...   \n4       5    14  de Me [M] [U] es-qualitès de mandataire liquid...   \n5       6    18  : Me Olivier AVRAMO, avocat au barreau de TOUL...   \n6       7    21  MEUNIER, avocat au barreau de TOULON Intimé Vu...   \n7       8    21  21 Février 2023 par avis de renvoi de clôture ...   \n8       9    22  parties d'appeler dans la cause, par voie d'hu...   \n9      10    23  il n'a pas été donné suite à cette injonction ...   \n10     11    25  pour absence de diligences des parties en appl...   \n11     12    26  PAR CES MOTIFS Prononçons la radiation de l'in...   \n12     13    27  qu'elle ne sera rétablie que sur justification...   \n13     14    30  le 16 Juin 2023 Le greffier Le magistrat de la...   \n14     15    30                           : 16/06/2023 Le greffier   \n\n                                            embedding  length  embedding_size  \n0   [0.19200322,0.1478724,-0.47930905,-0.06685592,...     123             384  \n1   [0.28784803,-0.023266332,-0.29216444,-0.046532...     119             384  \n2   [-0.11447387,0.11545082,-0.091147,-0.18711777,...     119             384  \n3   [-0.2308449,-0.28595003,0.097470656,-0.1369995...     121             384  \n4   [-0.35620278,-0.058348335,-0.05150321,-0.35186...     117             384  \n5   [-0.37363672,-0.3624373,0.23194475,-0.53155166...     117             384  \n6   [-0.25762138,-0.18944916,-0.41400546,-0.217687...     120             384  \n7   [-0.33007017,0.10802094,0.27632087,-0.07057524...     119             384  \n8   [0.15584245,0.017574733,-0.22722663,-0.0600509...     123             384  \n9   [-0.0431823,0.26688644,0.020384574,0.16355807,...     116             384  \n10  [-0.2623931,0.0870314,-0.20074242,-0.02768971,...     115             384  \n11  [-0.23069896,0.20339985,-0.3860585,-0.02776255...     124             384  \n12  [-0.019626075,0.3382584,-0.08762119,0.07390565...     122             384  \n13  [-0.008823671,0.35586452,0.20991234,-0.1411388...     117             384  \n14  [0.22256438,0.31308016,0.17290318,0.13194501,-...      24             384  ",
      "text/html": "<div>\n<style scoped>\n    .dataframe tbody tr th:only-of-type {\n        vertical-align: middle;\n    }\n\n    .dataframe tbody tr th {\n        vertical-align: top;\n    }\n\n    .dataframe thead th {\n        text-align: right;\n    }\n</style>\n<table border=\"1\" class=\"dataframe\">\n  <thead>\n    <tr style=\"text-align: right;\">\n      <th></th>\n      <th>chunk</th>\n      <th>line</th>\n      <th>passage</th>\n      <th>embedding</th>\n      <th>length</th>\n      <th>embedding_size</th>\n    </tr>\n  </thead>\n  <tbody>\n    <tr>\n      <th>0</th>\n      <td>1</td>\n      <td>8</td>\n      <td>COUR D'APPEL D'AIX-EN-PROVENCE Chambres socia...</td>\n      <td>[0.19200322,0.1478724,-0.47930905,-0.06685592,...</td>\n      <td>123</td>\n      <td>384</td>\n    </tr>\n    <tr>\n      <th>1</th>\n      <td>2</td>\n      <td>11</td>\n      <td>4-6 N° RG 19/12694 - N° Portalis DBVB-V-B7D-BE...</td>\n      <td>[0.28784803,-0.023266332,-0.29216444,-0.046532...</td>\n      <td>119</td>\n      <td>384</td>\n    </tr>\n    <tr>\n      <th>2</th>\n      <td>3</td>\n      <td>11</td>\n      <td>Nous, Philippe SILVAN, magistrat de la mise en...</td>\n      <td>[-0.11447387,0.11545082,-0.091147,-0.18711777,...</td>\n      <td>119</td>\n      <td>384</td>\n    </tr>\n    <tr>\n      <th>3</th>\n      <td>4</td>\n      <td>13</td>\n      <td>en-Provence, assisté de Suzie BRETER, Greffier...</td>\n      <td>[-0.2308449,-0.28595003,0.097470656,-0.1369995...</td>\n      <td>121</td>\n      <td>384</td>\n    </tr>\n    <tr>\n      <th>4</th>\n      <td>5</td>\n      <td>14</td>\n      <td>de Me [M] [U] es-qualitès de mandataire liquid...</td>\n      <td>[-0.35620278,-0.058348335,-0.05150321,-0.35186...</td>\n      <td>117</td>\n      <td>384</td>\n    </tr>\n    <tr>\n      <th>5</th>\n      <td>6</td>\n      <td>18</td>\n      <td>: Me Olivier AVRAMO, avocat au barreau de TOUL...</td>\n      <td>[-0.37363672,-0.3624373,0.23194475,-0.53155166...</td>\n      <td>117</td>\n      <td>384</td>\n    </tr>\n    <tr>\n      <th>6</th>\n      <td>7</td>\n      <td>21</td>\n      <td>MEUNIER, avocat au barreau de TOULON Intimé Vu...</td>\n      <td>[-0.25762138,-0.18944916,-0.41400546,-0.217687...</td>\n      <td>120</td>\n      <td>384</td>\n    </tr>\n    <tr>\n      <th>7</th>\n      <td>8</td>\n      <td>21</td>\n      <td>21 Février 2023 par avis de renvoi de clôture ...</td>\n      <td>[-0.33007017,0.10802094,0.27632087,-0.07057524...</td>\n      <td>119</td>\n      <td>384</td>\n    </tr>\n    <tr>\n      <th>8</th>\n      <td>9</td>\n      <td>22</td>\n      <td>parties d'appeler dans la cause, par voie d'hu...</td>\n      <td>[0.15584245,0.017574733,-0.22722663,-0.0600509...</td>\n      <td>123</td>\n      <td>384</td>\n    </tr>\n    <tr>\n      <th>9</th>\n      <td>10</td>\n      <td>23</td>\n      <td>il n'a pas été donné suite à cette injonction ...</td>\n      <td>[-0.0431823,0.26688644,0.020384574,0.16355807,...</td>\n      <td>116</td>\n      <td>384</td>\n    </tr>\n    <tr>\n      <th>10</th>\n      <td>11</td>\n      <td>25</td>\n      <td>pour absence de diligences des parties en appl...</td>\n      <td>[-0.2623931,0.0870314,-0.20074242,-0.02768971,...</td>\n      <td>115</td>\n      <td>384</td>\n    </tr>\n    <tr>\n      <th>11</th>\n      <td>12</td>\n      <td>26</td>\n      <td>PAR CES MOTIFS Prononçons la radiation de l'in...</td>\n      <td>[-0.23069896,0.20339985,-0.3860585,-0.02776255...</td>\n      <td>124</td>\n      <td>384</td>\n    </tr>\n    <tr>\n      <th>12</th>\n      <td>13</td>\n      <td>27</td>\n      <td>qu'elle ne sera rétablie que sur justification...</td>\n      <td>[-0.019626075,0.3382584,-0.08762119,0.07390565...</td>\n      <td>122</td>\n      <td>384</td>\n    </tr>\n    <tr>\n      <th>13</th>\n      <td>14</td>\n      <td>30</td>\n      <td>le 16 Juin 2023 Le greffier Le magistrat de la...</td>\n      <td>[-0.008823671,0.35586452,0.20991234,-0.1411388...</td>\n      <td>117</td>\n      <td>384</td>\n    </tr>\n    <tr>\n      <th>14</th>\n      <td>15</td>\n      <td>30</td>\n      <td>: 16/06/2023 Le greffier</td>\n      <td>[0.22256438,0.31308016,0.17290318,0.13194501,-...</td>\n      <td>24</td>\n      <td>384</td>\n    </tr>\n  </tbody>\n</table>\n</div>"
     },
     "execution_count": 909,
     "metadata": {},
     "output_type": "execute_result"
    }
   ],
   "source": [
    "df_2"
   ],
   "metadata": {
    "collapsed": false,
    "ExecuteTime": {
     "end_time": "2023-10-20T03:45:22.096596Z",
     "start_time": "2023-10-20T03:45:22.026774Z"
    }
   }
  },
  {
   "cell_type": "code",
   "execution_count": 910,
   "outputs": [],
   "source": [
    "max_length_2 = df_2['passage'].apply(len).max()"
   ],
   "metadata": {
    "collapsed": false,
    "ExecuteTime": {
     "end_time": "2023-10-20T03:45:22.096663Z",
     "start_time": "2023-10-20T03:45:22.032419Z"
    }
   }
  },
  {
   "cell_type": "code",
   "execution_count": 911,
   "outputs": [
    {
     "data": {
      "text/plain": "124"
     },
     "execution_count": 911,
     "metadata": {},
     "output_type": "execute_result"
    }
   ],
   "source": [
    "max_length_2"
   ],
   "metadata": {
    "collapsed": false,
    "ExecuteTime": {
     "end_time": "2023-10-20T03:45:22.096754Z",
     "start_time": "2023-10-20T03:45:22.035575Z"
    }
   }
  },
  {
   "cell_type": "code",
   "execution_count": 912,
   "outputs": [],
   "source": [
    "df_3 = read_df(filename_3)"
   ],
   "metadata": {
    "collapsed": false,
    "ExecuteTime": {
     "end_time": "2023-10-20T03:45:22.097132Z",
     "start_time": "2023-10-20T03:45:22.040401Z"
    }
   }
  },
  {
   "cell_type": "code",
   "execution_count": 913,
   "outputs": [
    {
     "data": {
      "text/plain": "    chunk  line                                            passage  \\\n0       1     4   RÉPUBLIQUE FRANÇAISE AU NOM DU PEUPLE FRANÇAI...   \n1       2     8  l'entrée et du séjour des étrangers et du droi...   \n2       3     9  Numéro d'inscription au répertoire général et ...   \n3       4     9  Portalis 35L7-V-B7H-CHSOZ Décision déférée : o...   \n4       5    10  libertés et de la détention du tribunal judici...   \n..    ...   ...                                                ...   \n61     63    45  est ouvert à l'étranger, à l'autorité administ...   \n62     64    47  rétention et au ministère public. Le délai de ...   \n63     65    47  la notification. Le pourvoi est formé par décl...   \n64     66    48  de cassation par l'avocat au Conseil d'Etat et...   \n65     67    48                         préfet ou son représentant   \n\n                                            embedding  length  embedding_size  \n0   [-0.08821842,-0.00090694457,0.40126562,-0.3291...     116             384  \n1   [-0.010954578,-0.16085248,0.11744788,-0.068540...     115             384  \n2   [0.14445038,-0.17601137,0.01922654,0.31249338,...     116             384  \n3   [-0.2579883,0.19059384,-0.1528411,0.09147124,0...     118             384  \n4   [-0.38895544,0.1324456,0.053702172,-0.28196046...     117             384  \n..                                                ...     ...             ...  \n61  [0.18383746,0.2922118,-0.17744283,-0.13930362,...     119             384  \n62  [0.028839026,0.55772287,0.009005864,0.09834868...     116             384  \n63  [0.04816781,0.29872364,0.28677502,0.16192606,0...     117             384  \n64  [0.09267129,0.20379259,0.14943275,0.09900449,0...     114             384  \n65  [0.26835668,0.19275856,0.18025152,0.027986787,...      26             384  \n\n[66 rows x 6 columns]",
      "text/html": "<div>\n<style scoped>\n    .dataframe tbody tr th:only-of-type {\n        vertical-align: middle;\n    }\n\n    .dataframe tbody tr th {\n        vertical-align: top;\n    }\n\n    .dataframe thead th {\n        text-align: right;\n    }\n</style>\n<table border=\"1\" class=\"dataframe\">\n  <thead>\n    <tr style=\"text-align: right;\">\n      <th></th>\n      <th>chunk</th>\n      <th>line</th>\n      <th>passage</th>\n      <th>embedding</th>\n      <th>length</th>\n      <th>embedding_size</th>\n    </tr>\n  </thead>\n  <tbody>\n    <tr>\n      <th>0</th>\n      <td>1</td>\n      <td>4</td>\n      <td>RÉPUBLIQUE FRANÇAISE AU NOM DU PEUPLE FRANÇAI...</td>\n      <td>[-0.08821842,-0.00090694457,0.40126562,-0.3291...</td>\n      <td>116</td>\n      <td>384</td>\n    </tr>\n    <tr>\n      <th>1</th>\n      <td>2</td>\n      <td>8</td>\n      <td>l'entrée et du séjour des étrangers et du droi...</td>\n      <td>[-0.010954578,-0.16085248,0.11744788,-0.068540...</td>\n      <td>115</td>\n      <td>384</td>\n    </tr>\n    <tr>\n      <th>2</th>\n      <td>3</td>\n      <td>9</td>\n      <td>Numéro d'inscription au répertoire général et ...</td>\n      <td>[0.14445038,-0.17601137,0.01922654,0.31249338,...</td>\n      <td>116</td>\n      <td>384</td>\n    </tr>\n    <tr>\n      <th>3</th>\n      <td>4</td>\n      <td>9</td>\n      <td>Portalis 35L7-V-B7H-CHSOZ Décision déférée : o...</td>\n      <td>[-0.2579883,0.19059384,-0.1528411,0.09147124,0...</td>\n      <td>118</td>\n      <td>384</td>\n    </tr>\n    <tr>\n      <th>4</th>\n      <td>5</td>\n      <td>10</td>\n      <td>libertés et de la détention du tribunal judici...</td>\n      <td>[-0.38895544,0.1324456,0.053702172,-0.28196046...</td>\n      <td>117</td>\n      <td>384</td>\n    </tr>\n    <tr>\n      <th>...</th>\n      <td>...</td>\n      <td>...</td>\n      <td>...</td>\n      <td>...</td>\n      <td>...</td>\n      <td>...</td>\n    </tr>\n    <tr>\n      <th>61</th>\n      <td>63</td>\n      <td>45</td>\n      <td>est ouvert à l'étranger, à l'autorité administ...</td>\n      <td>[0.18383746,0.2922118,-0.17744283,-0.13930362,...</td>\n      <td>119</td>\n      <td>384</td>\n    </tr>\n    <tr>\n      <th>62</th>\n      <td>64</td>\n      <td>47</td>\n      <td>rétention et au ministère public. Le délai de ...</td>\n      <td>[0.028839026,0.55772287,0.009005864,0.09834868...</td>\n      <td>116</td>\n      <td>384</td>\n    </tr>\n    <tr>\n      <th>63</th>\n      <td>65</td>\n      <td>47</td>\n      <td>la notification. Le pourvoi est formé par décl...</td>\n      <td>[0.04816781,0.29872364,0.28677502,0.16192606,0...</td>\n      <td>117</td>\n      <td>384</td>\n    </tr>\n    <tr>\n      <th>64</th>\n      <td>66</td>\n      <td>48</td>\n      <td>de cassation par l'avocat au Conseil d'Etat et...</td>\n      <td>[0.09267129,0.20379259,0.14943275,0.09900449,0...</td>\n      <td>114</td>\n      <td>384</td>\n    </tr>\n    <tr>\n      <th>65</th>\n      <td>67</td>\n      <td>48</td>\n      <td>préfet ou son représentant</td>\n      <td>[0.26835668,0.19275856,0.18025152,0.027986787,...</td>\n      <td>26</td>\n      <td>384</td>\n    </tr>\n  </tbody>\n</table>\n<p>66 rows × 6 columns</p>\n</div>"
     },
     "execution_count": 913,
     "metadata": {},
     "output_type": "execute_result"
    }
   ],
   "source": [
    "df_3"
   ],
   "metadata": {
    "collapsed": false,
    "ExecuteTime": {
     "end_time": "2023-10-20T03:45:22.316419Z",
     "start_time": "2023-10-20T03:45:22.083629Z"
    }
   }
  },
  {
   "cell_type": "code",
   "execution_count": 914,
   "outputs": [],
   "source": [
    "max_length_3 = df_3['passage'].apply(len).max()"
   ],
   "metadata": {
    "collapsed": false,
    "ExecuteTime": {
     "end_time": "2023-10-20T03:45:22.321245Z",
     "start_time": "2023-10-20T03:45:22.089471Z"
    }
   }
  },
  {
   "cell_type": "code",
   "execution_count": 915,
   "outputs": [
    {
     "data": {
      "text/plain": "4650"
     },
     "execution_count": 915,
     "metadata": {},
     "output_type": "execute_result"
    }
   ],
   "source": [
    "max_length_3"
   ],
   "metadata": {
    "collapsed": false,
    "ExecuteTime": {
     "end_time": "2023-10-20T03:45:22.321563Z",
     "start_time": "2023-10-20T03:45:22.094030Z"
    }
   }
  },
  {
   "cell_type": "code",
   "execution_count": 916,
   "outputs": [],
   "source": [
    "max_length_row = df_3.loc[df_3['passage'].apply(len).idxmax()]"
   ],
   "metadata": {
    "collapsed": false,
    "ExecuteTime": {
     "end_time": "2023-10-20T03:45:22.321952Z",
     "start_time": "2023-10-20T03:45:22.099201Z"
    }
   }
  },
  {
   "cell_type": "code",
   "execution_count": 917,
   "outputs": [
    {
     "data": {
      "text/plain": "chunk                                                            38\nline                                                             30\npassage            à peine d'irrecevabilité, la requête est moti...\nembedding         [0.33453926,0.16028689,-0.3986647,0.42586902,-...\nlength                                                         4650\nembedding_size                                                  384\nName: 37, dtype: object"
     },
     "execution_count": 917,
     "metadata": {},
     "output_type": "execute_result"
    }
   ],
   "source": [
    "max_length_row"
   ],
   "metadata": {
    "collapsed": false,
    "ExecuteTime": {
     "end_time": "2023-10-20T03:45:22.333502Z",
     "start_time": "2023-10-20T03:45:22.101971Z"
    }
   }
  },
  {
   "cell_type": "code",
   "execution_count": 918,
   "outputs": [
    {
     "data": {
      "text/plain": "\" à peine d'irrecevabilité, la requête est motivée, datée, signée et accompagnée de toutes pièces justificatives\\t[0.18307507,-0.10938354,0.02398771,0.010833908,0.18716757,0.20616044,-0.45826805,-0.4400111,-0.19048615,0.31084037,0.07055255,-0.035858385,0.23893464,-0.36761522,-0.12129587,0.5980381,0.14556292,0.22999273,0.0033248086,0.46600053,-0.005081084,0.07090582,0.14161962,-0.101066306,0.039396632,-0.16079421,-0.18670346,-0.046104435,0.2394048,-0.9253023,0.19708897,-0.10272565,0.055148564,0.019860338,-0.30921423,-0.28839496,0.052942872,-0.08599194,-0.047396135,-0.03641143,0.10543888,-0.47978234,-0.14295408,0.63956714,-0.17848143,-0.17965652,0.042801436,0.020706827,-0.010422007,0.19582659,-0.16919036,0.09541132,0.17456612,0.4926738,0.06683762,0.33673483,0.055953346,0.2768066,0.080381855,-0.15980402,0.11330948,0.011165648,-0.42707694,-0.3771175,-0.29045987,0.27115873,0.5997703,0.17066841,-0.165138,0.10275653,-0.038972065,0.36781538,-0.29897568,-0.051872775,-0.27901992,0.08739474,0.35523206,-0.109351255,0.24239147,-0.2673024,-0.23906296,0.11802635,0.12296467,0.21501319,0.3894947,0.27388343,-0.2548924,-0.475762,0.3907958,0.24046937,0.15410556,0.018411828,0.20959225,-0.052845318,-0.38744316,0.09270752,-0.30297065,-0.42045075,-0.13321713,3.2960174,-0.209022,0.53800994,0.19101706,0.030960936,0.2817819,0.30129,-0.053510033,-0.38164297,-0.30168927,-0.2225538,-0.22914714,0.2180306,0.3918555,0.30988953,-0.2821144,-0.046796042,0.042763993,0.25757846,0.42037252,-0.17150056,0.4204552,-0.22880262,0.046095245,0.17458704,-0.21488847,-1.8136493,-0.1489967,-0.35530135,0.5203614,0.20933907,-0.032538854,-0.11004274,0.10524914,-0.041205734,-0.12677571,0.39135098,0.22053775,0.043193765,0.07442852,-0.27402636,-0.21498965,-0.41242057,0.007421119,0.013776725,-0.035162933,-0.18787618,-0.29462886,0.059702083,0.29292542,0.15198009,0.15218124,0.069434196,-0.24326472,0.28107148,0.07352858,0.11525633,-0.06179409,-0.6373038,-0.21983214,0.32429242,-0.20838977,-0.19735694,-0.046111777,-0.73449737,-0.32410398,-0.4336919,0.07668513,-0.24757618,-0.52462715,0.09993743,0.09205162,0.14441852,0.18600883,0.44884083,-0.2838194,-0.2193268,0.23403378,0.3249349,0.02419833,-0.28035197,-0.16736898,-0.21327981,-0.2045038,0.085415885,-0.31592265,-0.037824567,0.24805394,0.19872238,0.6036217,-0.19448519,-0.22561076,0.27685338,0.040271737,-0.037783016,0.70039976,0.22632556,-0.08636103,0.024530195,0.0018183101,0.38191625,-0.077211514,0.12203592,0.3387987,-0.22660771,-0.12296812,0.0633978,-0.42166665,-0.04325264,-0.43522245,0.08546909,-0.055287793,-0.012607862,-0.32677224,-0.25348395,0.2540604,-0.35469925,-0.025954148,0.30313605,0.1608108,-0.1798811,0.49783063,-0.08523596,-0.10325506,2.5e-44,0.11772723,-0.042348616,-0.036499817,0.4409701,0.17277718,0.073819526,-0.09000222,0.1834459,-0.060901,-0.21344553,0.09323271,0.19504434,-0.049479567,0.12616907,-0.19204745,0.26402137,-0.22125775,-0.10240899,-0.013219827,-0.5140348,0.38402474,-0.06231523,0.0145089,0.37348545,0.08232742,-0.2578097,-0.07677618,-0.12851942,0.13421677,-0.2541474,-0.11043623,0.11418129,-0.30583838,-0.6007902,0.26181912,0.14929901,0.4382261,0.43776864,0.010167027,-0.5623372,0.026747026,0.19021557,0.3518135,0.1818724,-0.5089073,-0.49327028,0.26559746,0.16173474,0.15329474,0.09179181,-0.0944822,-0.15781258,0.26036775,-0.31448287,-0.11167072,0.0427893,0.10758032,-0.034693066,-0.18508542,-0.027353413,-0.43179122,-0.25276875,-0.026377847,-0.31559357,0.03626864,0.10615046,0.42539597,-0.13374947,0.10456577,-0.21129526,-0.075752966,-0.017204018,0.10374292,0.15112141,-0.13163845,0.25458425,0.081665315,0.26533976,-0.7635643,0.17232183,0.1106745,-0.14718558,-0.3939169,0.18556906,0.488015,0.20837186,-0.2138939,-0.16570434,-0.15810098,-0.05988753,-0.53934675,-0.043211594,0.15206955,0.2887359,0.19300172,-8.105252e-35,-0.19175832,-0.27696803,-0.13653907,-0.091876306,0.04363042,-0.2846163,-0.17715213,0.081754856,-0.31599873,-0.07281639,0.037848387,-0.01135329,-0.18303564,-0.10637672,-0.44324663,0.11735466,-0.33604997,0.21014564,0.14601797,0.09844155,0.61520624,0.33803248,-0.28596598,-0.07128675,-0.4279884,-0.11182502,-0.36873296,-0.38741496,0.40265757,-0.5400644,0.09254671,-0.10968672,0.3483083,0.41214576,0.29919726,-0.45010653,-0.13749234,0.19684425,-0.2264556,0.23091505,-0.1985183,-0.08809999,0.11398614,0.057821006,0.23331384,0.1776981,0.31370735,-0.17928159,0.0021806492,-0.15163973,0.0750475,-0.6720095,0.11914343,-0.07830313,-0.07204715,-0.4545116,0.057389285,0.0016392977,0.2939176,-0.17693631,-0.092010915,0.116421744,-0.3639904,-0.059180733]\\n39\\t31\\ttoutes pièces justificatives utiles, notamment d'une copie du registre prévu au second alinéa de l'article L. 341-2 . En\""
     },
     "execution_count": 918,
     "metadata": {},
     "output_type": "execute_result"
    }
   ],
   "source": [
    "max_length_row['passage']"
   ],
   "metadata": {
    "collapsed": false,
    "ExecuteTime": {
     "end_time": "2023-10-20T03:45:22.345221Z",
     "start_time": "2023-10-20T03:45:22.106139Z"
    }
   }
  },
  {
   "cell_type": "code",
   "execution_count": 919,
   "outputs": [],
   "source": [
    "df_4 = read_df(filename_4)"
   ],
   "metadata": {
    "collapsed": false,
    "ExecuteTime": {
     "end_time": "2023-10-20T03:45:22.367637Z",
     "start_time": "2023-10-20T03:45:22.111291Z"
    }
   }
  },
  {
   "cell_type": "code",
   "execution_count": 920,
   "outputs": [
    {
     "data": {
      "text/plain": "     chunk  line                                            passage  \\\n0        1     5   AFFAIRE : N° RG 17/01969 - N° Portalis DBVC-V...   \n1        2     9  de Grande Instance de COUTANCES du 04 Mai 2017...   \n2        3    14  ARRÊT DU 06 JUIN 2023 APPELANTE : Madame [P] [...   \n3        4    17  5] [Adresse 1] [Localité 3] représentée et ass...   \n4        5    22  COUTANCES INTIMÉ : Monsieur [U] [I] [L] [G] né...   \n..     ...   ...                                                ...   \n157    158   114  biens mobiliers ayant appartenu à Madame [O] [...   \n158    159   115  DÉBOUTE Monsieur [U] [G] de sa demande tendant...   \n159    160   115  d'un recel successoral, DÉBOUTE Madame [P] [R]...   \n160    161   116  code de procédure civile, DIT que les dépens d...   \n161    162   118  frais d'expertise, seront employés en frais pr...   \n\n                                             embedding  length  embedding_size  \n0    [-0.0714079,-0.15831757,0.08140044,-0.0573319,...     118             384  \n1    [-0.07741745,-0.20643295,-0.15617995,-0.139191...     118             384  \n2    [-0.33447316,-0.2774783,0.12038173,0.6680422,-...     111             384  \n3    [-0.17783672,-0.109825514,0.3735583,0.18470734...     112             384  \n4    [-0.34536585,-0.81360626,-0.04591227,0.3418831...     114             384  \n..                                                 ...     ...             ...  \n157  [0.05321026,-0.3448868,-0.056562122,0.19176334...     122             384  \n158  [-0.34281933,-0.20672493,-0.34573567,0.1101595...     114             384  \n159  [-0.2918518,-0.15320767,-0.17483161,0.09588008...     119             384  \n160  [-0.36174023,-0.2435194,-0.05984461,-0.1602815...     118             384  \n161  [0.16964972,0.1405314,0.4359065,0.14622667,-0....     116             384  \n\n[162 rows x 6 columns]",
      "text/html": "<div>\n<style scoped>\n    .dataframe tbody tr th:only-of-type {\n        vertical-align: middle;\n    }\n\n    .dataframe tbody tr th {\n        vertical-align: top;\n    }\n\n    .dataframe thead th {\n        text-align: right;\n    }\n</style>\n<table border=\"1\" class=\"dataframe\">\n  <thead>\n    <tr style=\"text-align: right;\">\n      <th></th>\n      <th>chunk</th>\n      <th>line</th>\n      <th>passage</th>\n      <th>embedding</th>\n      <th>length</th>\n      <th>embedding_size</th>\n    </tr>\n  </thead>\n  <tbody>\n    <tr>\n      <th>0</th>\n      <td>1</td>\n      <td>5</td>\n      <td>AFFAIRE : N° RG 17/01969 - N° Portalis DBVC-V...</td>\n      <td>[-0.0714079,-0.15831757,0.08140044,-0.0573319,...</td>\n      <td>118</td>\n      <td>384</td>\n    </tr>\n    <tr>\n      <th>1</th>\n      <td>2</td>\n      <td>9</td>\n      <td>de Grande Instance de COUTANCES du 04 Mai 2017...</td>\n      <td>[-0.07741745,-0.20643295,-0.15617995,-0.139191...</td>\n      <td>118</td>\n      <td>384</td>\n    </tr>\n    <tr>\n      <th>2</th>\n      <td>3</td>\n      <td>14</td>\n      <td>ARRÊT DU 06 JUIN 2023 APPELANTE : Madame [P] [...</td>\n      <td>[-0.33447316,-0.2774783,0.12038173,0.6680422,-...</td>\n      <td>111</td>\n      <td>384</td>\n    </tr>\n    <tr>\n      <th>3</th>\n      <td>4</td>\n      <td>17</td>\n      <td>5] [Adresse 1] [Localité 3] représentée et ass...</td>\n      <td>[-0.17783672,-0.109825514,0.3735583,0.18470734...</td>\n      <td>112</td>\n      <td>384</td>\n    </tr>\n    <tr>\n      <th>4</th>\n      <td>5</td>\n      <td>22</td>\n      <td>COUTANCES INTIMÉ : Monsieur [U] [I] [L] [G] né...</td>\n      <td>[-0.34536585,-0.81360626,-0.04591227,0.3418831...</td>\n      <td>114</td>\n      <td>384</td>\n    </tr>\n    <tr>\n      <th>...</th>\n      <td>...</td>\n      <td>...</td>\n      <td>...</td>\n      <td>...</td>\n      <td>...</td>\n      <td>...</td>\n    </tr>\n    <tr>\n      <th>157</th>\n      <td>158</td>\n      <td>114</td>\n      <td>biens mobiliers ayant appartenu à Madame [O] [...</td>\n      <td>[0.05321026,-0.3448868,-0.056562122,0.19176334...</td>\n      <td>122</td>\n      <td>384</td>\n    </tr>\n    <tr>\n      <th>158</th>\n      <td>159</td>\n      <td>115</td>\n      <td>DÉBOUTE Monsieur [U] [G] de sa demande tendant...</td>\n      <td>[-0.34281933,-0.20672493,-0.34573567,0.1101595...</td>\n      <td>114</td>\n      <td>384</td>\n    </tr>\n    <tr>\n      <th>159</th>\n      <td>160</td>\n      <td>115</td>\n      <td>d'un recel successoral, DÉBOUTE Madame [P] [R]...</td>\n      <td>[-0.2918518,-0.15320767,-0.17483161,0.09588008...</td>\n      <td>119</td>\n      <td>384</td>\n    </tr>\n    <tr>\n      <th>160</th>\n      <td>161</td>\n      <td>116</td>\n      <td>code de procédure civile, DIT que les dépens d...</td>\n      <td>[-0.36174023,-0.2435194,-0.05984461,-0.1602815...</td>\n      <td>118</td>\n      <td>384</td>\n    </tr>\n    <tr>\n      <th>161</th>\n      <td>162</td>\n      <td>118</td>\n      <td>frais d'expertise, seront employés en frais pr...</td>\n      <td>[0.16964972,0.1405314,0.4359065,0.14622667,-0....</td>\n      <td>116</td>\n      <td>384</td>\n    </tr>\n  </tbody>\n</table>\n<p>162 rows × 6 columns</p>\n</div>"
     },
     "execution_count": 920,
     "metadata": {},
     "output_type": "execute_result"
    }
   ],
   "source": [
    "df_4"
   ],
   "metadata": {
    "collapsed": false,
    "ExecuteTime": {
     "end_time": "2023-10-20T03:45:22.376018Z",
     "start_time": "2023-10-20T03:45:22.193365Z"
    }
   }
  },
  {
   "cell_type": "code",
   "execution_count": 921,
   "outputs": [],
   "source": [
    "max_length_4 = df_4['passage'].apply(len).max()"
   ],
   "metadata": {
    "collapsed": false,
    "ExecuteTime": {
     "end_time": "2023-10-20T03:45:22.376096Z",
     "start_time": "2023-10-20T03:45:22.216128Z"
    }
   }
  },
  {
   "cell_type": "code",
   "execution_count": 922,
   "outputs": [
    {
     "data": {
      "text/plain": "125"
     },
     "execution_count": 922,
     "metadata": {},
     "output_type": "execute_result"
    }
   ],
   "source": [
    "max_length_4"
   ],
   "metadata": {
    "collapsed": false,
    "ExecuteTime": {
     "end_time": "2023-10-20T03:45:22.376167Z",
     "start_time": "2023-10-20T03:45:22.216262Z"
    }
   }
  },
  {
   "cell_type": "code",
   "execution_count": 923,
   "outputs": [],
   "source": [
    "df_5 = read_df(filename_5)"
   ],
   "metadata": {
    "collapsed": false,
    "ExecuteTime": {
     "end_time": "2023-10-20T03:45:22.376415Z",
     "start_time": "2023-10-20T03:45:22.227527Z"
    }
   }
  },
  {
   "cell_type": "code",
   "execution_count": 924,
   "outputs": [
    {
     "data": {
      "text/plain": "    chunk  line                                            passage  \\\n0       1     7   N° RG 23/04670 - N° Portalis DBVX-V-B7H-PATU ...   \n1       2    10  COUR D'APPEL DE LYON JURIDICTION DU PREMIER PR...   \n2       3    11  matière de Rétentions Administratives des Etra...   \n3       4    11  d'appel de Lyon, déléguée par ordonnance de ma...   \n4       5    11  janvier 2023 pour statuer sur les procédures o...   \n5       6    12  et L. 743-21 du code d'entrée et de séjour des...   \n6       7    13  des débats de Charlotte COMBAL, greffière et d...   \n7       8    15  à disposition En l'absence du ministère public...   \n8       9    19  suivie entre : APPELANT : M. [O] [I] né le 11 ...   \n9      10    20  Actuellement retenu au centre de rétention adm...   \n10     11    20  BEAUD, avocat au barreau de LYON, commis d'off...   \n11     12    24  langue arabe inscrite sur la liste des experts...   \n12     13    26  PUY DE DOME [Adresse 1] [Localité 2] non compa...   \n13     14    27  PERRIN, avocat au barreau de LYON, pour la SEL...   \n14     15    27  l'AIN, Avons mis l'affaire en délibéré au 09 J...   \n15     16    29  heure prononcé l'ordonnance dont la teneur sui...   \n16     17    29  mai 2023, l'autorité administrative a ordonné ...   \n17     18    29  relevant pas de l'administration pénitentiaire...   \n18     19    29  du préfet du Puy-de-Dôme portant obligation po...   \n19     20    30  délai de départ volontaire assortie d'une inte...   \n20     21    30  le juge des libertés et de la détention a prol...   \n21     22    30                         durée de vingt-huit jours.   \n22     23    31   Suivant requête du 06 juin 2023 reçue le jour...   \n23     24    31  le juge des libertés et de la détention du tri...   \n24     25    31  une nouvelle prolongation de la rétention pour...   \n25     26    31  [O], ressortissant algérien né le 11 avril 199...   \n26     27    31  [E] [O], ressortissant algérien né le 11 avril...   \n27     28    32  né le 11 avril 1996 a [Localité 3] (Algérie). ...   \n28     29    33  des libertés et de la détention du tribunal ju...   \n29     30    33  déclaration au greffe le 08 juin 2023 à 09 heu...   \n30     31    34  dont il demande l'infirmation outre sa remise ...   \n31     32    35  effectué les diligences nécessaires afin d'org...   \n32     33    36  prolongation. Les parties ont été régulièremen...   \n33     34    37  [O] [I] a comparu et a été assisté d'un interp...   \n34     35    38  entendu en sa plaidoirie pour soutenir les ter...   \n35     36    39  représenté par son conseil, a demandé la confi...   \n36     37    39  en dernier. Il demande une chance pour quitter...   \n37     38    42  epxlique que sa véritable identité est [O] [I]...   \n38     39    43  de [O] [I] relevé dans les formes et délais lé...   \n39     40    44  et l'obligation de diligences Attendu que [O] ...   \n40     41    45  pas effectué les diligences nécessaires durant...   \n41     42    45  rétention administrative ; Attendu que l'oblig...   \n42     43    45  préfectorale en application des dispositions d...   \n43     44    45  et non une obligation de résultat, étant préci...   \n44     45    46  coercition où de contrainte à l'égard des auto...   \n45     46    47  prolongation de la rétention de [O] [I], l'aut...   \n46     47    47  mai 2023 les autorités consulaires d'Algérie a...   \n47     48    48  [I] qui circulait sans document d'identité ou ...   \n48     49    49  photographies et le questionnaire de l'intéres...   \n49     50    50  de relance aux autorités consulaires a été env...   \n50     51    50  justifiés par les pièces de la procédure et qu...   \n51     52    50  Puy-de-Dôme a accompli les diligences nécessai...   \n52     53    51  mesure d'éloignement et que le grief tiré de l...   \n53     54    51  prolongation de la rétention est justifiée par...   \n54     55    51  le consulat dont relève l'intéressé ; Que les ...   \n55     56    51  dispositions de l'article L. 742-4 du CESEDA s...   \n56     57    54  la décision est confirmée ; PAR CES MOTIFS Déc...   \n57     58    56  [I], Confirmons l'ordonnance déférée. Le greff...   \n\n                                            embedding  length  embedding_size  \n0   [0.10149768,0.089565076,0.04462764,0.24291074,...     121             384  \n1   [-0.0277434,-0.03638797,-0.066484764,-0.231440...     114             384  \n2   [-0.1326986,-0.33801785,0.27360037,0.13940148,...     111             384  \n3   [0.17051038,-0.44307536,-0.123856135,-0.574993...     120             384  \n4   [-0.31739065,-0.033708017,0.19068998,-0.043219...     124             384  \n5   [-0.08851508,0.09723415,0.056299653,-0.3065374...     115             384  \n6   [-0.32242078,0.3669164,0.21788737,0.20875238,0...     112             384  \n7   [-0.3274757,-0.0028470724,-0.16279066,0.035898...     117             384  \n8   [0.12942149,0.048477575,-0.23908235,0.32818142...     120             384  \n9   [-0.5658991,-0.1712168,0.6314401,0.16433336,0....     115             384  \n10  [-0.29737723,-0.5801453,0.28104758,-0.12592986...     121             384  \n11  [-0.06682858,-0.23822308,-0.15144469,-0.258503...     120             384  \n12  [-0.22367485,0.093843624,-0.06793685,0.0086972...     117             384  \n13  [-0.25898015,-0.5854635,-0.36433202,-0.4205182...     123             384  \n14  [-0.022505151,-0.28142568,-0.07659828,0.168685...     116             384  \n15  [0.07005598,0.08599278,0.26015106,-0.11609335,...     116             384  \n16  [0.22301593,0.27258056,-0.022992076,0.22613275...     117             384  \n17  [0.29253528,0.19941229,-0.27618366,0.20086762,...     117             384  \n18  [0.14272144,0.3697779,0.046462473,-0.05036347,...     111             384  \n19  [-0.18226382,-0.15710835,0.28727192,-0.0964912...     122             384  \n20  [0.014656778,0.19947474,0.04074327,-0.08983558...     118             384  \n21  [-0.38232157,0.11676597,-0.21210839,0.10861803...      26             384  \n22  [-0.12610275,0.23681445,0.07152064,-0.06748241...     112             384  \n23  [-0.22779436,-0.13294998,0.17396274,-0.2435505...     122             384  \n24  [0.020454722,0.3013033,0.057070825,0.44871265,...     119             384  \n25  [-0.0130609665,0.19437341,-0.24955057,0.527785...     116             384  \n26  [-0.08686326,0.2778161,-0.25546348,0.5579641,-...     115             384  \n27  [-0.27680004,0.4285445,-0.24387881,0.053514194...     120             384  \n28  [-0.14444265,-0.0854892,-0.07152598,-0.1062929...     118             384  \n29  [-0.08640802,-0.21206293,0.16300237,0.264818,-...     114             384  \n30  [0.06275235,0.13323995,0.03731822,0.076628506,...     122             384  \n31  [0.11775807,-0.007942677,0.3025649,0.06356312,...     121             384  \n32  [-0.12371353,0.11454188,0.3430354,0.01818006,-...     113             384  \n33  [0.043638166,-0.5066586,0.28380215,0.049835768...     110             384  \n34  [0.22474715,0.21429417,0.34165362,0.021727242,...     117             384  \n35  [-0.061392207,-0.03711148,0.27161866,0.0407824...     116             384  \n36  [-0.18576682,0.25286642,0.3174928,-0.09906638,...     121             384  \n37  [-0.20157738,-0.14751734,-0.17575563,0.0852658...     120             384  \n38  [0.1384907,-0.37463638,0.1552237,0.15432541,0....     117             384  \n39  [0.08832751,0.029831773,0.07316052,-0.30909166...     122             384  \n40  [0.019007646,0.30878046,0.012430648,-0.0755895...     115             384  \n41  [0.05929868,0.4187823,0.43563524,-0.23954768,-...     118             384  \n42  [-0.11257294,0.37199894,0.1525344,-0.13215742,...     115             384  \n43  [0.11198805,0.18756816,0.10230534,0.07979036,-...     113             384  \n44  [0.22427416,0.214254,0.68517125,-0.12843616,-0...     115             384  \n45  [0.2405357,0.16524433,0.5157831,0.0035630618,0...     120             384  \n46  [0.17524111,0.26731443,-0.17764036,0.18455859,...     120             384  \n47  [-0.053897485,0.27020243,-0.17317405,0.2539758...     114             384  \n48  [0.11438093,-0.35287017,0.19120221,0.21886788,...     119             384  \n49  [-0.040064838,0.11105961,0.33227193,-0.1726131...     115             384  \n50  [-0.117479645,0.13013844,-0.040752273,-0.24451...     115             384  \n51  [-0.2562055,0.16047136,-0.019246588,-0.0836286...     121             384  \n52  [-0.07412573,-0.08645517,0.30952534,-0.0132564...     122             384  \n53  [0.21405275,0.49291214,0.13359945,0.26071852,0...     115             384  \n54  [0.056632925,-0.011882188,0.25409386,0.0472770...     121             384  \n55  [0.038703166,0.17300858,0.021348855,-0.2097966...     115             384  \n56  [0.0983789,-0.26116416,-0.4591093,0.19080819,0...     113             384  \n57  [0.17339925,-0.12467588,0.17413922,0.055867676...     101             384  ",
      "text/html": "<div>\n<style scoped>\n    .dataframe tbody tr th:only-of-type {\n        vertical-align: middle;\n    }\n\n    .dataframe tbody tr th {\n        vertical-align: top;\n    }\n\n    .dataframe thead th {\n        text-align: right;\n    }\n</style>\n<table border=\"1\" class=\"dataframe\">\n  <thead>\n    <tr style=\"text-align: right;\">\n      <th></th>\n      <th>chunk</th>\n      <th>line</th>\n      <th>passage</th>\n      <th>embedding</th>\n      <th>length</th>\n      <th>embedding_size</th>\n    </tr>\n  </thead>\n  <tbody>\n    <tr>\n      <th>0</th>\n      <td>1</td>\n      <td>7</td>\n      <td>N° RG 23/04670 - N° Portalis DBVX-V-B7H-PATU ...</td>\n      <td>[0.10149768,0.089565076,0.04462764,0.24291074,...</td>\n      <td>121</td>\n      <td>384</td>\n    </tr>\n    <tr>\n      <th>1</th>\n      <td>2</td>\n      <td>10</td>\n      <td>COUR D'APPEL DE LYON JURIDICTION DU PREMIER PR...</td>\n      <td>[-0.0277434,-0.03638797,-0.066484764,-0.231440...</td>\n      <td>114</td>\n      <td>384</td>\n    </tr>\n    <tr>\n      <th>2</th>\n      <td>3</td>\n      <td>11</td>\n      <td>matière de Rétentions Administratives des Etra...</td>\n      <td>[-0.1326986,-0.33801785,0.27360037,0.13940148,...</td>\n      <td>111</td>\n      <td>384</td>\n    </tr>\n    <tr>\n      <th>3</th>\n      <td>4</td>\n      <td>11</td>\n      <td>d'appel de Lyon, déléguée par ordonnance de ma...</td>\n      <td>[0.17051038,-0.44307536,-0.123856135,-0.574993...</td>\n      <td>120</td>\n      <td>384</td>\n    </tr>\n    <tr>\n      <th>4</th>\n      <td>5</td>\n      <td>11</td>\n      <td>janvier 2023 pour statuer sur les procédures o...</td>\n      <td>[-0.31739065,-0.033708017,0.19068998,-0.043219...</td>\n      <td>124</td>\n      <td>384</td>\n    </tr>\n    <tr>\n      <th>5</th>\n      <td>6</td>\n      <td>12</td>\n      <td>et L. 743-21 du code d'entrée et de séjour des...</td>\n      <td>[-0.08851508,0.09723415,0.056299653,-0.3065374...</td>\n      <td>115</td>\n      <td>384</td>\n    </tr>\n    <tr>\n      <th>6</th>\n      <td>7</td>\n      <td>13</td>\n      <td>des débats de Charlotte COMBAL, greffière et d...</td>\n      <td>[-0.32242078,0.3669164,0.21788737,0.20875238,0...</td>\n      <td>112</td>\n      <td>384</td>\n    </tr>\n    <tr>\n      <th>7</th>\n      <td>8</td>\n      <td>15</td>\n      <td>à disposition En l'absence du ministère public...</td>\n      <td>[-0.3274757,-0.0028470724,-0.16279066,0.035898...</td>\n      <td>117</td>\n      <td>384</td>\n    </tr>\n    <tr>\n      <th>8</th>\n      <td>9</td>\n      <td>19</td>\n      <td>suivie entre : APPELANT : M. [O] [I] né le 11 ...</td>\n      <td>[0.12942149,0.048477575,-0.23908235,0.32818142...</td>\n      <td>120</td>\n      <td>384</td>\n    </tr>\n    <tr>\n      <th>9</th>\n      <td>10</td>\n      <td>20</td>\n      <td>Actuellement retenu au centre de rétention adm...</td>\n      <td>[-0.5658991,-0.1712168,0.6314401,0.16433336,0....</td>\n      <td>115</td>\n      <td>384</td>\n    </tr>\n    <tr>\n      <th>10</th>\n      <td>11</td>\n      <td>20</td>\n      <td>BEAUD, avocat au barreau de LYON, commis d'off...</td>\n      <td>[-0.29737723,-0.5801453,0.28104758,-0.12592986...</td>\n      <td>121</td>\n      <td>384</td>\n    </tr>\n    <tr>\n      <th>11</th>\n      <td>12</td>\n      <td>24</td>\n      <td>langue arabe inscrite sur la liste des experts...</td>\n      <td>[-0.06682858,-0.23822308,-0.15144469,-0.258503...</td>\n      <td>120</td>\n      <td>384</td>\n    </tr>\n    <tr>\n      <th>12</th>\n      <td>13</td>\n      <td>26</td>\n      <td>PUY DE DOME [Adresse 1] [Localité 2] non compa...</td>\n      <td>[-0.22367485,0.093843624,-0.06793685,0.0086972...</td>\n      <td>117</td>\n      <td>384</td>\n    </tr>\n    <tr>\n      <th>13</th>\n      <td>14</td>\n      <td>27</td>\n      <td>PERRIN, avocat au barreau de LYON, pour la SEL...</td>\n      <td>[-0.25898015,-0.5854635,-0.36433202,-0.4205182...</td>\n      <td>123</td>\n      <td>384</td>\n    </tr>\n    <tr>\n      <th>14</th>\n      <td>15</td>\n      <td>27</td>\n      <td>l'AIN, Avons mis l'affaire en délibéré au 09 J...</td>\n      <td>[-0.022505151,-0.28142568,-0.07659828,0.168685...</td>\n      <td>116</td>\n      <td>384</td>\n    </tr>\n    <tr>\n      <th>15</th>\n      <td>16</td>\n      <td>29</td>\n      <td>heure prononcé l'ordonnance dont la teneur sui...</td>\n      <td>[0.07005598,0.08599278,0.26015106,-0.11609335,...</td>\n      <td>116</td>\n      <td>384</td>\n    </tr>\n    <tr>\n      <th>16</th>\n      <td>17</td>\n      <td>29</td>\n      <td>mai 2023, l'autorité administrative a ordonné ...</td>\n      <td>[0.22301593,0.27258056,-0.022992076,0.22613275...</td>\n      <td>117</td>\n      <td>384</td>\n    </tr>\n    <tr>\n      <th>17</th>\n      <td>18</td>\n      <td>29</td>\n      <td>relevant pas de l'administration pénitentiaire...</td>\n      <td>[0.29253528,0.19941229,-0.27618366,0.20086762,...</td>\n      <td>117</td>\n      <td>384</td>\n    </tr>\n    <tr>\n      <th>18</th>\n      <td>19</td>\n      <td>29</td>\n      <td>du préfet du Puy-de-Dôme portant obligation po...</td>\n      <td>[0.14272144,0.3697779,0.046462473,-0.05036347,...</td>\n      <td>111</td>\n      <td>384</td>\n    </tr>\n    <tr>\n      <th>19</th>\n      <td>20</td>\n      <td>30</td>\n      <td>délai de départ volontaire assortie d'une inte...</td>\n      <td>[-0.18226382,-0.15710835,0.28727192,-0.0964912...</td>\n      <td>122</td>\n      <td>384</td>\n    </tr>\n    <tr>\n      <th>20</th>\n      <td>21</td>\n      <td>30</td>\n      <td>le juge des libertés et de la détention a prol...</td>\n      <td>[0.014656778,0.19947474,0.04074327,-0.08983558...</td>\n      <td>118</td>\n      <td>384</td>\n    </tr>\n    <tr>\n      <th>21</th>\n      <td>22</td>\n      <td>30</td>\n      <td>durée de vingt-huit jours.</td>\n      <td>[-0.38232157,0.11676597,-0.21210839,0.10861803...</td>\n      <td>26</td>\n      <td>384</td>\n    </tr>\n    <tr>\n      <th>22</th>\n      <td>23</td>\n      <td>31</td>\n      <td>Suivant requête du 06 juin 2023 reçue le jour...</td>\n      <td>[-0.12610275,0.23681445,0.07152064,-0.06748241...</td>\n      <td>112</td>\n      <td>384</td>\n    </tr>\n    <tr>\n      <th>23</th>\n      <td>24</td>\n      <td>31</td>\n      <td>le juge des libertés et de la détention du tri...</td>\n      <td>[-0.22779436,-0.13294998,0.17396274,-0.2435505...</td>\n      <td>122</td>\n      <td>384</td>\n    </tr>\n    <tr>\n      <th>24</th>\n      <td>25</td>\n      <td>31</td>\n      <td>une nouvelle prolongation de la rétention pour...</td>\n      <td>[0.020454722,0.3013033,0.057070825,0.44871265,...</td>\n      <td>119</td>\n      <td>384</td>\n    </tr>\n    <tr>\n      <th>25</th>\n      <td>26</td>\n      <td>31</td>\n      <td>[O], ressortissant algérien né le 11 avril 199...</td>\n      <td>[-0.0130609665,0.19437341,-0.24955057,0.527785...</td>\n      <td>116</td>\n      <td>384</td>\n    </tr>\n    <tr>\n      <th>26</th>\n      <td>27</td>\n      <td>31</td>\n      <td>[E] [O], ressortissant algérien né le 11 avril...</td>\n      <td>[-0.08686326,0.2778161,-0.25546348,0.5579641,-...</td>\n      <td>115</td>\n      <td>384</td>\n    </tr>\n    <tr>\n      <th>27</th>\n      <td>28</td>\n      <td>32</td>\n      <td>né le 11 avril 1996 a [Localité 3] (Algérie). ...</td>\n      <td>[-0.27680004,0.4285445,-0.24387881,0.053514194...</td>\n      <td>120</td>\n      <td>384</td>\n    </tr>\n    <tr>\n      <th>28</th>\n      <td>29</td>\n      <td>33</td>\n      <td>des libertés et de la détention du tribunal ju...</td>\n      <td>[-0.14444265,-0.0854892,-0.07152598,-0.1062929...</td>\n      <td>118</td>\n      <td>384</td>\n    </tr>\n    <tr>\n      <th>29</th>\n      <td>30</td>\n      <td>33</td>\n      <td>déclaration au greffe le 08 juin 2023 à 09 heu...</td>\n      <td>[-0.08640802,-0.21206293,0.16300237,0.264818,-...</td>\n      <td>114</td>\n      <td>384</td>\n    </tr>\n    <tr>\n      <th>30</th>\n      <td>31</td>\n      <td>34</td>\n      <td>dont il demande l'infirmation outre sa remise ...</td>\n      <td>[0.06275235,0.13323995,0.03731822,0.076628506,...</td>\n      <td>122</td>\n      <td>384</td>\n    </tr>\n    <tr>\n      <th>31</th>\n      <td>32</td>\n      <td>35</td>\n      <td>effectué les diligences nécessaires afin d'org...</td>\n      <td>[0.11775807,-0.007942677,0.3025649,0.06356312,...</td>\n      <td>121</td>\n      <td>384</td>\n    </tr>\n    <tr>\n      <th>32</th>\n      <td>33</td>\n      <td>36</td>\n      <td>prolongation. Les parties ont été régulièremen...</td>\n      <td>[-0.12371353,0.11454188,0.3430354,0.01818006,-...</td>\n      <td>113</td>\n      <td>384</td>\n    </tr>\n    <tr>\n      <th>33</th>\n      <td>34</td>\n      <td>37</td>\n      <td>[O] [I] a comparu et a été assisté d'un interp...</td>\n      <td>[0.043638166,-0.5066586,0.28380215,0.049835768...</td>\n      <td>110</td>\n      <td>384</td>\n    </tr>\n    <tr>\n      <th>34</th>\n      <td>35</td>\n      <td>38</td>\n      <td>entendu en sa plaidoirie pour soutenir les ter...</td>\n      <td>[0.22474715,0.21429417,0.34165362,0.021727242,...</td>\n      <td>117</td>\n      <td>384</td>\n    </tr>\n    <tr>\n      <th>35</th>\n      <td>36</td>\n      <td>39</td>\n      <td>représenté par son conseil, a demandé la confi...</td>\n      <td>[-0.061392207,-0.03711148,0.27161866,0.0407824...</td>\n      <td>116</td>\n      <td>384</td>\n    </tr>\n    <tr>\n      <th>36</th>\n      <td>37</td>\n      <td>39</td>\n      <td>en dernier. Il demande une chance pour quitter...</td>\n      <td>[-0.18576682,0.25286642,0.3174928,-0.09906638,...</td>\n      <td>121</td>\n      <td>384</td>\n    </tr>\n    <tr>\n      <th>37</th>\n      <td>38</td>\n      <td>42</td>\n      <td>epxlique que sa véritable identité est [O] [I]...</td>\n      <td>[-0.20157738,-0.14751734,-0.17575563,0.0852658...</td>\n      <td>120</td>\n      <td>384</td>\n    </tr>\n    <tr>\n      <th>38</th>\n      <td>39</td>\n      <td>43</td>\n      <td>de [O] [I] relevé dans les formes et délais lé...</td>\n      <td>[0.1384907,-0.37463638,0.1552237,0.15432541,0....</td>\n      <td>117</td>\n      <td>384</td>\n    </tr>\n    <tr>\n      <th>39</th>\n      <td>40</td>\n      <td>44</td>\n      <td>et l'obligation de diligences Attendu que [O] ...</td>\n      <td>[0.08832751,0.029831773,0.07316052,-0.30909166...</td>\n      <td>122</td>\n      <td>384</td>\n    </tr>\n    <tr>\n      <th>40</th>\n      <td>41</td>\n      <td>45</td>\n      <td>pas effectué les diligences nécessaires durant...</td>\n      <td>[0.019007646,0.30878046,0.012430648,-0.0755895...</td>\n      <td>115</td>\n      <td>384</td>\n    </tr>\n    <tr>\n      <th>41</th>\n      <td>42</td>\n      <td>45</td>\n      <td>rétention administrative ; Attendu que l'oblig...</td>\n      <td>[0.05929868,0.4187823,0.43563524,-0.23954768,-...</td>\n      <td>118</td>\n      <td>384</td>\n    </tr>\n    <tr>\n      <th>42</th>\n      <td>43</td>\n      <td>45</td>\n      <td>préfectorale en application des dispositions d...</td>\n      <td>[-0.11257294,0.37199894,0.1525344,-0.13215742,...</td>\n      <td>115</td>\n      <td>384</td>\n    </tr>\n    <tr>\n      <th>43</th>\n      <td>44</td>\n      <td>45</td>\n      <td>et non une obligation de résultat, étant préci...</td>\n      <td>[0.11198805,0.18756816,0.10230534,0.07979036,-...</td>\n      <td>113</td>\n      <td>384</td>\n    </tr>\n    <tr>\n      <th>44</th>\n      <td>45</td>\n      <td>46</td>\n      <td>coercition où de contrainte à l'égard des auto...</td>\n      <td>[0.22427416,0.214254,0.68517125,-0.12843616,-0...</td>\n      <td>115</td>\n      <td>384</td>\n    </tr>\n    <tr>\n      <th>45</th>\n      <td>46</td>\n      <td>47</td>\n      <td>prolongation de la rétention de [O] [I], l'aut...</td>\n      <td>[0.2405357,0.16524433,0.5157831,0.0035630618,0...</td>\n      <td>120</td>\n      <td>384</td>\n    </tr>\n    <tr>\n      <th>46</th>\n      <td>47</td>\n      <td>47</td>\n      <td>mai 2023 les autorités consulaires d'Algérie a...</td>\n      <td>[0.17524111,0.26731443,-0.17764036,0.18455859,...</td>\n      <td>120</td>\n      <td>384</td>\n    </tr>\n    <tr>\n      <th>47</th>\n      <td>48</td>\n      <td>48</td>\n      <td>[I] qui circulait sans document d'identité ou ...</td>\n      <td>[-0.053897485,0.27020243,-0.17317405,0.2539758...</td>\n      <td>114</td>\n      <td>384</td>\n    </tr>\n    <tr>\n      <th>48</th>\n      <td>49</td>\n      <td>49</td>\n      <td>photographies et le questionnaire de l'intéres...</td>\n      <td>[0.11438093,-0.35287017,0.19120221,0.21886788,...</td>\n      <td>119</td>\n      <td>384</td>\n    </tr>\n    <tr>\n      <th>49</th>\n      <td>50</td>\n      <td>50</td>\n      <td>de relance aux autorités consulaires a été env...</td>\n      <td>[-0.040064838,0.11105961,0.33227193,-0.1726131...</td>\n      <td>115</td>\n      <td>384</td>\n    </tr>\n    <tr>\n      <th>50</th>\n      <td>51</td>\n      <td>50</td>\n      <td>justifiés par les pièces de la procédure et qu...</td>\n      <td>[-0.117479645,0.13013844,-0.040752273,-0.24451...</td>\n      <td>115</td>\n      <td>384</td>\n    </tr>\n    <tr>\n      <th>51</th>\n      <td>52</td>\n      <td>50</td>\n      <td>Puy-de-Dôme a accompli les diligences nécessai...</td>\n      <td>[-0.2562055,0.16047136,-0.019246588,-0.0836286...</td>\n      <td>121</td>\n      <td>384</td>\n    </tr>\n    <tr>\n      <th>52</th>\n      <td>53</td>\n      <td>51</td>\n      <td>mesure d'éloignement et que le grief tiré de l...</td>\n      <td>[-0.07412573,-0.08645517,0.30952534,-0.0132564...</td>\n      <td>122</td>\n      <td>384</td>\n    </tr>\n    <tr>\n      <th>53</th>\n      <td>54</td>\n      <td>51</td>\n      <td>prolongation de la rétention est justifiée par...</td>\n      <td>[0.21405275,0.49291214,0.13359945,0.26071852,0...</td>\n      <td>115</td>\n      <td>384</td>\n    </tr>\n    <tr>\n      <th>54</th>\n      <td>55</td>\n      <td>51</td>\n      <td>le consulat dont relève l'intéressé ; Que les ...</td>\n      <td>[0.056632925,-0.011882188,0.25409386,0.0472770...</td>\n      <td>121</td>\n      <td>384</td>\n    </tr>\n    <tr>\n      <th>55</th>\n      <td>56</td>\n      <td>51</td>\n      <td>dispositions de l'article L. 742-4 du CESEDA s...</td>\n      <td>[0.038703166,0.17300858,0.021348855,-0.2097966...</td>\n      <td>115</td>\n      <td>384</td>\n    </tr>\n    <tr>\n      <th>56</th>\n      <td>57</td>\n      <td>54</td>\n      <td>la décision est confirmée ; PAR CES MOTIFS Déc...</td>\n      <td>[0.0983789,-0.26116416,-0.4591093,0.19080819,0...</td>\n      <td>113</td>\n      <td>384</td>\n    </tr>\n    <tr>\n      <th>57</th>\n      <td>58</td>\n      <td>56</td>\n      <td>[I], Confirmons l'ordonnance déférée. Le greff...</td>\n      <td>[0.17339925,-0.12467588,0.17413922,0.055867676...</td>\n      <td>101</td>\n      <td>384</td>\n    </tr>\n  </tbody>\n</table>\n</div>"
     },
     "execution_count": 924,
     "metadata": {},
     "output_type": "execute_result"
    }
   ],
   "source": [
    "df_5"
   ],
   "metadata": {
    "collapsed": false,
    "ExecuteTime": {
     "end_time": "2023-10-20T03:45:22.380109Z",
     "start_time": "2023-10-20T03:45:22.254464Z"
    }
   }
  },
  {
   "cell_type": "code",
   "execution_count": 925,
   "outputs": [],
   "source": [
    "max_length_5 = df_5['passage'].apply(len).max()"
   ],
   "metadata": {
    "collapsed": false,
    "ExecuteTime": {
     "end_time": "2023-10-20T03:45:22.380182Z",
     "start_time": "2023-10-20T03:45:22.257445Z"
    }
   }
  },
  {
   "cell_type": "code",
   "execution_count": 926,
   "outputs": [
    {
     "data": {
      "text/plain": "124"
     },
     "execution_count": 926,
     "metadata": {},
     "output_type": "execute_result"
    }
   ],
   "source": [
    "max_length_5"
   ],
   "metadata": {
    "collapsed": false,
    "ExecuteTime": {
     "end_time": "2023-10-20T03:45:22.380258Z",
     "start_time": "2023-10-20T03:45:22.259580Z"
    }
   }
  },
  {
   "cell_type": "code",
   "execution_count": 927,
   "outputs": [],
   "source": [
    "df_6 = read_df(filename_6)"
   ],
   "metadata": {
    "collapsed": false,
    "ExecuteTime": {
     "end_time": "2023-10-20T03:45:22.448473Z",
     "start_time": "2023-10-20T03:45:22.261744Z"
    }
   }
  },
  {
   "cell_type": "code",
   "execution_count": 928,
   "outputs": [
    {
     "data": {
      "text/plain": "     chunk  line                                            passage  \\\n0        1     1                                AFFAIRE PRUD'HOMALE   \n1        2     7   DOUBLE RAPPORTEUR N° RG 20/01916 - N° Portali...   \n2        3     9  Association UNEDIC DELEGATION CGEA D'[Localité...   \n3        4    14  - Formation de départage de LYON du 20 Février...   \n4        5    20  DU 07 Juin 2023 APPELANT : [F] [O] né le 26 Ju...   \n..     ...   ...                                                ...   \n217    218   141  les sommes non comprises dans les dépens qu'el...   \n218    219   142  La Cour statuant publiquement, par arrêt mis à...   \n219    220   145  ses dispositions, le jugement ; Y ajoutant, Co...   \n220    221   145  MJ ALPES, ès qualités de liquidateur de la SAS...   \n221    222   146  de procédure civile en cause d'appel. LA GREFF...   \n\n                                             embedding  length  embedding_size  \n0    [-0.1744033,0.16796026,-0.16786906,-0.1802812,...      20             384  \n1    [0.1458188,0.30246028,-0.0120769385,-0.0243758...     118             384  \n2    [-0.059385482,-0.27187178,0.36010838,-0.346501...     113             384  \n3    [-0.17755345,-0.6791045,-0.08798327,-0.590113,...     123             384  \n4    [-0.4042847,-0.13772534,-0.08878501,-0.1862155...     117             384  \n..                                                 ...     ...             ...  \n217  [0.117535576,0.11121263,-0.25916654,-0.1255920...     111             384  \n218  [-0.16078572,0.1989466,-0.13186722,0.3396066,-...     119             384  \n219  [-0.145496,0.047801346,-0.17407638,-0.50264317...     115             384  \n220  [-0.18377027,0.21134995,0.17379385,-0.29383808...     121             384  \n221  [-0.1713149,0.11878162,0.17379197,-0.13159277,...      64             384  \n\n[222 rows x 6 columns]",
      "text/html": "<div>\n<style scoped>\n    .dataframe tbody tr th:only-of-type {\n        vertical-align: middle;\n    }\n\n    .dataframe tbody tr th {\n        vertical-align: top;\n    }\n\n    .dataframe thead th {\n        text-align: right;\n    }\n</style>\n<table border=\"1\" class=\"dataframe\">\n  <thead>\n    <tr style=\"text-align: right;\">\n      <th></th>\n      <th>chunk</th>\n      <th>line</th>\n      <th>passage</th>\n      <th>embedding</th>\n      <th>length</th>\n      <th>embedding_size</th>\n    </tr>\n  </thead>\n  <tbody>\n    <tr>\n      <th>0</th>\n      <td>1</td>\n      <td>1</td>\n      <td>AFFAIRE PRUD'HOMALE</td>\n      <td>[-0.1744033,0.16796026,-0.16786906,-0.1802812,...</td>\n      <td>20</td>\n      <td>384</td>\n    </tr>\n    <tr>\n      <th>1</th>\n      <td>2</td>\n      <td>7</td>\n      <td>DOUBLE RAPPORTEUR N° RG 20/01916 - N° Portali...</td>\n      <td>[0.1458188,0.30246028,-0.0120769385,-0.0243758...</td>\n      <td>118</td>\n      <td>384</td>\n    </tr>\n    <tr>\n      <th>2</th>\n      <td>3</td>\n      <td>9</td>\n      <td>Association UNEDIC DELEGATION CGEA D'[Localité...</td>\n      <td>[-0.059385482,-0.27187178,0.36010838,-0.346501...</td>\n      <td>113</td>\n      <td>384</td>\n    </tr>\n    <tr>\n      <th>3</th>\n      <td>4</td>\n      <td>14</td>\n      <td>- Formation de départage de LYON du 20 Février...</td>\n      <td>[-0.17755345,-0.6791045,-0.08798327,-0.590113,...</td>\n      <td>123</td>\n      <td>384</td>\n    </tr>\n    <tr>\n      <th>4</th>\n      <td>5</td>\n      <td>20</td>\n      <td>DU 07 Juin 2023 APPELANT : [F] [O] né le 26 Ju...</td>\n      <td>[-0.4042847,-0.13772534,-0.08878501,-0.1862155...</td>\n      <td>117</td>\n      <td>384</td>\n    </tr>\n    <tr>\n      <th>...</th>\n      <td>...</td>\n      <td>...</td>\n      <td>...</td>\n      <td>...</td>\n      <td>...</td>\n      <td>...</td>\n    </tr>\n    <tr>\n      <th>217</th>\n      <td>218</td>\n      <td>141</td>\n      <td>les sommes non comprises dans les dépens qu'el...</td>\n      <td>[0.117535576,0.11121263,-0.25916654,-0.1255920...</td>\n      <td>111</td>\n      <td>384</td>\n    </tr>\n    <tr>\n      <th>218</th>\n      <td>219</td>\n      <td>142</td>\n      <td>La Cour statuant publiquement, par arrêt mis à...</td>\n      <td>[-0.16078572,0.1989466,-0.13186722,0.3396066,-...</td>\n      <td>119</td>\n      <td>384</td>\n    </tr>\n    <tr>\n      <th>219</th>\n      <td>220</td>\n      <td>145</td>\n      <td>ses dispositions, le jugement ; Y ajoutant, Co...</td>\n      <td>[-0.145496,0.047801346,-0.17407638,-0.50264317...</td>\n      <td>115</td>\n      <td>384</td>\n    </tr>\n    <tr>\n      <th>220</th>\n      <td>221</td>\n      <td>145</td>\n      <td>MJ ALPES, ès qualités de liquidateur de la SAS...</td>\n      <td>[-0.18377027,0.21134995,0.17379385,-0.29383808...</td>\n      <td>121</td>\n      <td>384</td>\n    </tr>\n    <tr>\n      <th>221</th>\n      <td>222</td>\n      <td>146</td>\n      <td>de procédure civile en cause d'appel. LA GREFF...</td>\n      <td>[-0.1713149,0.11878162,0.17379197,-0.13159277,...</td>\n      <td>64</td>\n      <td>384</td>\n    </tr>\n  </tbody>\n</table>\n<p>222 rows × 6 columns</p>\n</div>"
     },
     "execution_count": 928,
     "metadata": {},
     "output_type": "execute_result"
    }
   ],
   "source": [
    "df_6"
   ],
   "metadata": {
    "collapsed": false,
    "ExecuteTime": {
     "end_time": "2023-10-20T03:45:22.458511Z",
     "start_time": "2023-10-20T03:45:22.347310Z"
    }
   }
  },
  {
   "cell_type": "code",
   "execution_count": 929,
   "outputs": [],
   "source": [
    "max_length_6 = df_6['passage'].apply(len).max()"
   ],
   "metadata": {
    "collapsed": false,
    "ExecuteTime": {
     "end_time": "2023-10-20T03:45:22.460636Z",
     "start_time": "2023-10-20T03:45:22.349780Z"
    }
   }
  },
  {
   "cell_type": "code",
   "execution_count": 930,
   "outputs": [
    {
     "data": {
      "text/plain": "125"
     },
     "execution_count": 930,
     "metadata": {},
     "output_type": "execute_result"
    }
   ],
   "source": [
    "max_length_6"
   ],
   "metadata": {
    "collapsed": false,
    "ExecuteTime": {
     "end_time": "2023-10-20T03:45:22.460769Z",
     "start_time": "2023-10-20T03:45:22.352020Z"
    }
   }
  },
  {
   "cell_type": "code",
   "execution_count": 931,
   "outputs": [
    {
     "data": {
      "text/plain": "\"REPUBLIQUE FRANCAISE\\nAU NOM DU PEUPLE FRANCAIS\\nCOUR D'APPEL DE PARIS\\nPôle 6 - Chambre 3\\nARRET DU 24 MAI 2023\\n(n° , 4 pages)\\nNuméro d'inscription au répertoire général : N° RG 20/01856 - N° Portalis 35L7-V-B7E-CBRG5\\nDécision déférée à la Cour : Jugement du 28 Juin 2019 - Conseil de Prud'hommes - Formation de départage de BOBIGNY - RG n° 15/03475\\nAPPELANT\\nSyndicat ALTER, prise en la personne de son représentant légal\\n[Adresse 2]\\n[Localité 3]\\nReprésenté par Me Chanel DESSEIGNE, avocat au barreau de PARIS, toque : B0372\\nINTIMEE\\nSA AIR FRANCE, prise en la personne de son représentant légal\\n[Adresse 1]\\n[Localité 4]\\nReprésentée par Me Harold HERMAN, avocat au barreau de PARIS, toque : T03\\nCOMPOSITION DE LA COUR :\\nEn application des dispositions des articles 805 et 907 du code de procédure civile, l'affaire a été débattue le 08 Mars 2023, en audience publique, les avocats ne s'étant pas opposés à la composition non collégiale de la formation, devant Mme Anne MENARD, Présidente de chambre, chargée du rapport.\\nCe magistrat a rendu compte des plaidoiries dans le délibéré de la Cour, entendu en son rapport, composée de :\\nMadame Anne MENARD, présidente\\nMadame Fabienne ROUGE, présidente\\nMadame Véronique MARMORAT, présidente\\nLors des débats : Mme Sarah SEBBAK, greffière\\nARRET :\\n- CONTRADICTOIRE\\n- mise à disposition de l'arrêt au greffe de la Cour le 24 mai 2023, les parties en ayant été préalablement avisées dans les conditions prévues au deuxième alinéa de l'article 450 du Code de procédure civile,\\n- signé par Madame Anne MENARD, présidente et par Camille BESSON, Greffière en pré-affectation sur poste, à laquelle la minute de la décision a été remise par le magistrat signataire.\\nEXPOSÉ DU LITIGE\\nMonsieur [F] est pilote au sein de la société Air France.\\nEn 2011, la compagnie a décidé d'opérer une refonte de sa documentation opérationnelle à destination des pilotes. Cette refonte des manuels d'exploitation (Manex) consistait notamment à les aligner sur la documentation constructeur. Les manuels qui étaient rédigés en français et en anglais ont fait place à une documentation intégralement rédigée en anglais. Par ailleurs, cette documentation a été rapidement dématérialisée, une tablette s'étant substituée aux classeurs papiers. La mise en place de cette documentation s'est opérée de 2012 à 2014, et elle a fait suite à une mission d'expertise externe consécutive à l'accident du vol AF447 le 1er juin 2009.\\nMonsieur [F] a saisi le conseil de prud'hommes de Bobigny afin d'obtenir le paiement de rappels de salaires et de dommages et intérêts pour le temps qu'il a consacré sur ses heures de repos à la formation, afin d'assimiler ce changement de documentation.\\nLe syndicat Alter est intervenu à l'instance pour solliciter des dommages et intérêts en raison de l'atteinte à l'intérêt collectif de la profession.\\nIls ont été déboutés de leurs demandes et monsieur [F] a été condamné au paiement d'une somme de 50 euros sur le fondement des dispositions de l'article 700 du code de procédure civile par jugement du 28 juin 2019, rendu en formation de départage.\\nLe syndicat Alter a régulièrement interjeté appel de ce jugement.\\nPar conclusions récapitulatives du 20 juillet 2020, auxquelles il convient de se reporter en ce qui concerne ses moyens, le syndicat Alter demande à la cour d'infirmer le jugement, de déclarer son intervention recevable, de faire droit aux demandes du salarié, et de condamner la société Air france à lui payer au titre du préjudice subi par la profession la somme de 30.000 euros (somme globale), ainsi que la somme de 4.000 euros sur le fondement des dispositions de l'article 700 du code de procédure civile (somme globale).\\nPar conclusions récapitulatives du 19 août 2020, auxquelles il convient de se reporter en ce qui concerne ses moyens, la société Air France demande à la cour de déclarer le syndicat Alter irrecevable, ou subsidiairement de le débouter.\\nLa Cour se réfère, pour un plus ample exposé des faits, de la procédure, des moyens et des prétentions des parties, à la décision déférée et aux dernières conclusions échangées en appel.\\nMOTIFS\\nL'action portant sur la rémunération du temps consacré à la formation, elle concerne des faits susceptibles de porter un préjudice direct ou indirect à l'intérêt collectif de la profession, de sorte que l'intervention du syndicat Alter est recevable.\\nLe syndicat Alter expose que le temps considérable consacré par les pilotes aux modifications et adaptations de la documentation, dans une langue non native, constitue en raison de son ampleur un travail exceptionnel de formation, qui ne peut être considéré comme s'inscrivant dans la formation continue rémunérée par l'employeur. Il soutient que le déploiement de la documentation constructeur ne peut s'inscrire dans le maitien à jour de ses connaissances par le salarié pilote, et que l'ampleur de ce changement de philosophie et de méthodes, ainsi que le recours à l'anglais, sont allés bien au-delà d'un simple maintien des compétences.\\nLa compagnie Air France expose que la profession de pilote échappe au droit commun en ce qui concerne la durée du travail, et que la rémunération est exprimée en heures de vol; que pour les activités qui ne sont pas des heures de vol, une rémunération appelée 'traitement mensuel fixe' est versée ; qu'enfin, l'accord de réduction du temps de travail prévoit le versement de primes de vol fictives pour certaines activités au sol énumérées par l'accord. Elle fait valoir que le travail de formation réalisé par le pilote à son domicile pour maintenir ses compétences est rémunéré par le traitement mensuel fixe.\\nAux termes de l'article 6321-1 du code du travail, 'l'employeur assure l'adaptation des salariés à leur poste de travail.\\nIl veille au maintien de leur capacité à occuper un emploi, au regard notamment de l'évolution des emplois, des technologies et des organisations'.\\nAux termes de l'article 6321-2 du code du travail dans sa rédaction applicable, 'toute action de formation suivie par un salarié pour assurer son adaptation au poste de travail ou liée à l'évolution ou au maintien dans l'emploi dans l'entreprise constitue un temps de travail effectif et donne lieu pendant sa réalisation au maintien par l'entreprise de la rémunération'.\\nEn l'espèce, il est acquis et non contesté que la rémunération des pilotes comporte, outre la rémunération des heures de vol, un salaire complémentaire pour le travail au sol, représentant environ le quart de la rémunératoin totale des pilotes. Ce travail au sol est constitué de la préparation du vol, mais aussi du temps consacré au maintien des compétences pour pouvoir voler : maintien à jour de ses connaissances, assimilation des mises à jours opérationnelles, préparations des contrôles sur simulateurs ou examens de maîtrise de l'anglais notamment.\\nLa question qui est posée est donc de savoir si le travail réalisé par les pilotes pour acquérir cette refonte du Manex est susceptible de s'inscrire ou non dans cette formation continue rémunérée.\\nEn premier lieu, la cour observe qu'un certain nombre de journées de formation ont été organisées par l'employeur, et rémunérées comme telles: notamment une journée de présentation de chacune des phases 1 et 2 du Manex B, des sécances en simulateurs (4 ou 5 dont une de contrôle), une présentation du système Optima, deux jours de présentation de la documentation électronique, et deux jours de stage en anglais. Sur ce dernier point, il était proposé par l'employeur une formation complémentaire.\\nPour autant, une large partie du travail a été réalisée par les pilotes de manière personelle, hors toute action de formation spécifique.\\nLe syndicat relève que la nouvelle documentation, qui est la documentation constructeur, est désormais exclusivement en anglais, à l'exception du Manex A.\\nToutefois, il convient de rappeler que les documents liés à l'activité d'une entreprise de transport aérien échappent à l'obligation de rédiger en anglais les documents dont la connaissance est nécessaire au salarié pour l'exécution de son contrat de travail. Cette exception s'explique par le caractère international de l'activité qui rend nécessaire pour la sécurité des vols l'utilisation d'une langue commune.\\nDans ce contexte, l'obtention de la licence de pilote et son maintien sont conditionnés par la maîtrise de l'anglais opérationnel.\\nDans ces conditions, il ne peut être soutenu que la maîtrise attendue des pilotes de la nouvelle documentation ait été rendue plus difficile en raison du recours à l'anglais.\\nPar ailleurs, en ce qui concerne l'ampleur des modifications apportées aux procédures, il est versé aux débats en cause d'appel une pièce 46 intitulée 'Pour bien comprendre ce qui change entre les anciennes et les nouvelles méthodes de production'. Il s'agit d'un 'avant/après' élaboré par les pilotes. La cour ne peut qu'observer que ce document ne comporte qu'une quinzaine de pages, étant précisé que s'agissant du Manex B concerné, le changement de documentation s'est opéré entre l'automne 2012 et l'hiver 2013, soit sur plus d'une année, ce qui permettait l'assimilation des données de manière progressive.\\nPar ailleurs, les pilotes connaissaient déjà parfaitement les avions sur lesquels ils volaient, de sorte que l'assimilation de la documentation constructeur, même en anglais et avec une modification de certaines procédures, ne constituait pas un apprentissage nouveau.\\nCette charge de travail n'apparaît en rien disproportionnée avec le temps de formation qui est rémunéré par l'employeur au titre du maintien des compétences, de sorte que le jugement doit être confirmé en ce qu'il a retenu que le temps passé à préparer les formations organisées par la compagnie et à assimilier la nouvelle documentation n'avait pas à être rémunéré par des heures supplémentaires.\\nLe syndicat soutient également que la mise en oeuvre de cette documentation entraînait une modification de l'organisation du travail, et des techniques de travail, qui aurait nécessité la consultation du comité d'établissement et du CHSCT.\\nToutefois, les éléments du dossier ne permettent pas de retenir que le remaniement du Manex ait impliqué une modification de l'organisation du travail entrant dans le champ des dispositions légales relatives à la consultation des institutions représentatives du personnel. Le syndicat Alter ne donne aucune précision sur les modifications de l'organisation et des techniques de travail auxquelles il se réfère.\\nLe jugement sera donc confirmé en ce qu'il a débouté le salarié de ses demandes.\\nPAR CES MOTIFS\\nLa Cour,\\nCONFIRME le jugement.\\nVu l'article 700 du code de procédure civile,\\nCONDAMNE le syndicat Alter à payer à la société Air France en cause d'appel la somme de 200 euros sur le fondement des dispositions de l'article 700 du code de procédure civile.\\nDÉBOUTE les parties du surplus de leurs demandes.\\nCONDAMNE le syndicat Alter aux dépens d'appel.\\nLa Greffière, La Présidente,\\n\""
     },
     "execution_count": 931,
     "metadata": {},
     "output_type": "execute_result"
    }
   ],
   "source": [
    "content_1"
   ],
   "metadata": {
    "collapsed": false,
    "ExecuteTime": {
     "end_time": "2023-10-20T03:45:22.461104Z",
     "start_time": "2023-10-20T03:45:22.354892Z"
    }
   }
  },
  {
   "cell_type": "code",
   "execution_count": 932,
   "outputs": [],
   "source": [
    "lines_1 = [line for line in content_1.split(sep=\"\\n\") if len(line) != 0]"
   ],
   "metadata": {
    "collapsed": false,
    "ExecuteTime": {
     "end_time": "2023-10-20T03:45:22.461142Z",
     "start_time": "2023-10-20T03:45:22.357460Z"
    }
   }
  },
  {
   "cell_type": "code",
   "execution_count": 933,
   "outputs": [
    {
     "data": {
      "text/plain": "['REPUBLIQUE FRANCAISE',\n 'AU NOM DU PEUPLE FRANCAIS',\n \"COUR D'APPEL DE PARIS\",\n 'Pôle 6 - Chambre 3',\n 'ARRET DU 24 MAI 2023',\n '(n° , 4 pages)',\n \"Numéro d'inscription au répertoire général : N° RG 20/01856 - N° Portalis 35L7-V-B7E-CBRG5\",\n \"Décision déférée à la Cour : Jugement du 28 Juin 2019 - Conseil de Prud'hommes - Formation de départage de BOBIGNY - RG n° 15/03475\",\n 'APPELANT',\n 'Syndicat ALTER, prise en la personne de son représentant légal',\n '[Adresse 2]',\n '[Localité 3]',\n 'Représenté par Me Chanel DESSEIGNE, avocat au barreau de PARIS, toque : B0372',\n 'INTIMEE',\n 'SA AIR FRANCE, prise en la personne de son représentant légal',\n '[Adresse 1]',\n '[Localité 4]',\n 'Représentée par Me Harold HERMAN, avocat au barreau de PARIS, toque : T03',\n 'COMPOSITION DE LA COUR :',\n \"En application des dispositions des articles 805 et 907 du code de procédure civile, l'affaire a été débattue le 08 Mars 2023, en audience publique, les avocats ne s'étant pas opposés à la composition non collégiale de la formation, devant Mme Anne MENARD, Présidente de chambre, chargée du rapport.\",\n 'Ce magistrat a rendu compte des plaidoiries dans le délibéré de la Cour, entendu en son rapport, composée de :',\n 'Madame Anne MENARD, présidente',\n 'Madame Fabienne ROUGE, présidente',\n 'Madame Véronique MARMORAT, présidente',\n 'Lors des débats : Mme Sarah SEBBAK, greffière',\n 'ARRET :',\n '- CONTRADICTOIRE',\n \"- mise à disposition de l'arrêt au greffe de la Cour le 24 mai 2023, les parties en ayant été préalablement avisées dans les conditions prévues au deuxième alinéa de l'article 450 du Code de procédure civile,\",\n '- signé par Madame Anne MENARD, présidente et par Camille BESSON, Greffière en pré-affectation sur poste, à laquelle la minute de la décision a été remise par le magistrat signataire.',\n 'EXPOSÉ DU LITIGE',\n 'Monsieur [F] est pilote au sein de la société Air France.',\n \"En 2011, la compagnie a décidé d'opérer une refonte de sa documentation opérationnelle à destination des pilotes. Cette refonte des manuels d'exploitation (Manex) consistait notamment à les aligner sur la documentation constructeur. Les manuels qui étaient rédigés en français et en anglais ont fait place à une documentation intégralement rédigée en anglais. Par ailleurs, cette documentation a été rapidement dématérialisée, une tablette s'étant substituée aux classeurs papiers. La mise en place de cette documentation s'est opérée de 2012 à 2014, et elle a fait suite à une mission d'expertise externe consécutive à l'accident du vol AF447 le 1er juin 2009.\",\n \"Monsieur [F] a saisi le conseil de prud'hommes de Bobigny afin d'obtenir le paiement de rappels de salaires et de dommages et intérêts pour le temps qu'il a consacré sur ses heures de repos à la formation, afin d'assimiler ce changement de documentation.\",\n \"Le syndicat Alter est intervenu à l'instance pour solliciter des dommages et intérêts en raison de l'atteinte à l'intérêt collectif de la profession.\",\n \"Ils ont été déboutés de leurs demandes et monsieur [F] a été condamné au paiement d'une somme de 50 euros sur le fondement des dispositions de l'article 700 du code de procédure civile par jugement du 28 juin 2019, rendu en formation de départage.\",\n 'Le syndicat Alter a régulièrement interjeté appel de ce jugement.',\n \"Par conclusions récapitulatives du 20 juillet 2020, auxquelles il convient de se reporter en ce qui concerne ses moyens, le syndicat Alter demande à la cour d'infirmer le jugement, de déclarer son intervention recevable, de faire droit aux demandes du salarié, et de condamner la société Air france à lui payer au titre du préjudice subi par la profession la somme de 30.000 euros (somme globale), ainsi que la somme de 4.000 euros sur le fondement des dispositions de l'article 700 du code de procédure civile (somme globale).\",\n 'Par conclusions récapitulatives du 19 août 2020, auxquelles il convient de se reporter en ce qui concerne ses moyens, la société Air France demande à la cour de déclarer le syndicat Alter irrecevable, ou subsidiairement de le débouter.',\n 'La Cour se réfère, pour un plus ample exposé des faits, de la procédure, des moyens et des prétentions des parties, à la décision déférée et aux dernières conclusions échangées en appel.',\n 'MOTIFS',\n \"L'action portant sur la rémunération du temps consacré à la formation, elle concerne des faits susceptibles de porter un préjudice direct ou indirect à l'intérêt collectif de la profession, de sorte que l'intervention du syndicat Alter est recevable.\",\n \"Le syndicat Alter expose que le temps considérable consacré par les pilotes aux modifications et adaptations de la documentation, dans une langue non native, constitue en raison de son ampleur un travail exceptionnel de formation, qui ne peut être considéré comme s'inscrivant dans la formation continue rémunérée par l'employeur. Il soutient que le déploiement de la documentation constructeur ne peut s'inscrire dans le maitien à jour de ses connaissances par le salarié pilote, et que l'ampleur de ce changement de philosophie et de méthodes, ainsi que le recours à l'anglais, sont allés bien au-delà d'un simple maintien des compétences.\",\n \"La compagnie Air France expose que la profession de pilote échappe au droit commun en ce qui concerne la durée du travail, et que la rémunération est exprimée en heures de vol; que pour les activités qui ne sont pas des heures de vol, une rémunération appelée 'traitement mensuel fixe' est versée ; qu'enfin, l'accord de réduction du temps de travail prévoit le versement de primes de vol fictives pour certaines activités au sol énumérées par l'accord. Elle fait valoir que le travail de formation réalisé par le pilote à son domicile pour maintenir ses compétences est rémunéré par le traitement mensuel fixe.\",\n \"Aux termes de l'article 6321-1 du code du travail, 'l'employeur assure l'adaptation des salariés à leur poste de travail.\",\n \"Il veille au maintien de leur capacité à occuper un emploi, au regard notamment de l'évolution des emplois, des technologies et des organisations'.\",\n \"Aux termes de l'article 6321-2 du code du travail dans sa rédaction applicable, 'toute action de formation suivie par un salarié pour assurer son adaptation au poste de travail ou liée à l'évolution ou au maintien dans l'emploi dans l'entreprise constitue un temps de travail effectif et donne lieu pendant sa réalisation au maintien par l'entreprise de la rémunération'.\",\n \"En l'espèce, il est acquis et non contesté que la rémunération des pilotes comporte, outre la rémunération des heures de vol, un salaire complémentaire pour le travail au sol, représentant environ le quart de la rémunératoin totale des pilotes. Ce travail au sol est constitué de la préparation du vol, mais aussi du temps consacré au maintien des compétences pour pouvoir voler : maintien à jour de ses connaissances, assimilation des mises à jours opérationnelles, préparations des contrôles sur simulateurs ou examens de maîtrise de l'anglais notamment.\",\n \"La question qui est posée est donc de savoir si le travail réalisé par les pilotes pour acquérir cette refonte du Manex est susceptible de s'inscrire ou non dans cette formation continue rémunérée.\",\n \"En premier lieu, la cour observe qu'un certain nombre de journées de formation ont été organisées par l'employeur, et rémunérées comme telles: notamment une journée de présentation de chacune des phases 1 et 2 du Manex B, des sécances en simulateurs (4 ou 5 dont une de contrôle), une présentation du système Optima, deux jours de présentation de la documentation électronique, et deux jours de stage en anglais. Sur ce dernier point, il était proposé par l'employeur une formation complémentaire.\",\n 'Pour autant, une large partie du travail a été réalisée par les pilotes de manière personelle, hors toute action de formation spécifique.',\n \"Le syndicat relève que la nouvelle documentation, qui est la documentation constructeur, est désormais exclusivement en anglais, à l'exception du Manex A.\",\n \"Toutefois, il convient de rappeler que les documents liés à l'activité d'une entreprise de transport aérien échappent à l'obligation de rédiger en anglais les documents dont la connaissance est nécessaire au salarié pour l'exécution de son contrat de travail. Cette exception s'explique par le caractère international de l'activité qui rend nécessaire pour la sécurité des vols l'utilisation d'une langue commune.\",\n \"Dans ce contexte, l'obtention de la licence de pilote et son maintien sont conditionnés par la maîtrise de l'anglais opérationnel.\",\n \"Dans ces conditions, il ne peut être soutenu que la maîtrise attendue des pilotes de la nouvelle documentation ait été rendue plus difficile en raison du recours à l'anglais.\",\n \"Par ailleurs, en ce qui concerne l'ampleur des modifications apportées aux procédures, il est versé aux débats en cause d'appel une pièce 46 intitulée 'Pour bien comprendre ce qui change entre les anciennes et les nouvelles méthodes de production'. Il s'agit d'un 'avant/après' élaboré par les pilotes. La cour ne peut qu'observer que ce document ne comporte qu'une quinzaine de pages, étant précisé que s'agissant du Manex B concerné, le changement de documentation s'est opéré entre l'automne 2012 et l'hiver 2013, soit sur plus d'une année, ce qui permettait l'assimilation des données de manière progressive.\",\n \"Par ailleurs, les pilotes connaissaient déjà parfaitement les avions sur lesquels ils volaient, de sorte que l'assimilation de la documentation constructeur, même en anglais et avec une modification de certaines procédures, ne constituait pas un apprentissage nouveau.\",\n \"Cette charge de travail n'apparaît en rien disproportionnée avec le temps de formation qui est rémunéré par l'employeur au titre du maintien des compétences, de sorte que le jugement doit être confirmé en ce qu'il a retenu que le temps passé à préparer les formations organisées par la compagnie et à assimilier la nouvelle documentation n'avait pas à être rémunéré par des heures supplémentaires.\",\n \"Le syndicat soutient également que la mise en oeuvre de cette documentation entraînait une modification de l'organisation du travail, et des techniques de travail, qui aurait nécessité la consultation du comité d'établissement et du CHSCT.\",\n \"Toutefois, les éléments du dossier ne permettent pas de retenir que le remaniement du Manex ait impliqué une modification de l'organisation du travail entrant dans le champ des dispositions légales relatives à la consultation des institutions représentatives du personnel. Le syndicat Alter ne donne aucune précision sur les modifications de l'organisation et des techniques de travail auxquelles il se réfère.\",\n \"Le jugement sera donc confirmé en ce qu'il a débouté le salarié de ses demandes.\",\n 'PAR CES MOTIFS',\n 'La Cour,',\n 'CONFIRME le jugement.',\n \"Vu l'article 700 du code de procédure civile,\",\n \"CONDAMNE le syndicat Alter à payer à la société Air France en cause d'appel la somme de 200 euros sur le fondement des dispositions de l'article 700 du code de procédure civile.\",\n 'DÉBOUTE les parties du surplus de leurs demandes.',\n \"CONDAMNE le syndicat Alter aux dépens d'appel.\",\n 'La Greffière, La Présidente,']"
     },
     "execution_count": 933,
     "metadata": {},
     "output_type": "execute_result"
    }
   ],
   "source": [
    "lines_1"
   ],
   "metadata": {
    "collapsed": false,
    "ExecuteTime": {
     "end_time": "2023-10-20T03:45:22.461408Z",
     "start_time": "2023-10-20T03:45:22.361014Z"
    }
   }
  },
  {
   "cell_type": "code",
   "execution_count": 934,
   "outputs": [
    {
     "data": {
      "text/plain": "68"
     },
     "execution_count": 934,
     "metadata": {},
     "output_type": "execute_result"
    }
   ],
   "source": [
    "len(lines_1)"
   ],
   "metadata": {
    "collapsed": false,
    "ExecuteTime": {
     "end_time": "2023-10-20T03:45:22.461465Z",
     "start_time": "2023-10-20T03:45:22.364425Z"
    }
   }
  },
  {
   "cell_type": "code",
   "execution_count": 935,
   "outputs": [
    {
     "data": {
      "text/plain": "     chunk  line                                            passage  \\\n105    106    63  réfère. Le jugement sera donc confirmé en ce q...   \n106    107    65  MOTIFS La Cour, CONFIRME le jugement. Vu l'art...   \n107    108    65  à payer à la société Air France en cause d'app...   \n108    109    67  de l'article 700 du code de procédure civile. ...   \n109    110    68  le syndicat Alter aux dépens d'appel. La Greff...   \n\n                                             embedding  length  embedding_size  \n105  [-0.31727228,0.054350436,0.0034205606,-0.22808...     112             384  \n106  [-0.23456575,-0.008945752,0.36253947,0.0628908...     120             384  \n107  [0.02892923,0.16647458,0.07621933,-0.27263254,...     121             384  \n108  [-0.28935927,0.050066367,0.04088294,0.04454843...     122             384  \n109  [-0.056826994,0.19697526,0.2563819,0.28118432,...      66             384  ",
      "text/html": "<div>\n<style scoped>\n    .dataframe tbody tr th:only-of-type {\n        vertical-align: middle;\n    }\n\n    .dataframe tbody tr th {\n        vertical-align: top;\n    }\n\n    .dataframe thead th {\n        text-align: right;\n    }\n</style>\n<table border=\"1\" class=\"dataframe\">\n  <thead>\n    <tr style=\"text-align: right;\">\n      <th></th>\n      <th>chunk</th>\n      <th>line</th>\n      <th>passage</th>\n      <th>embedding</th>\n      <th>length</th>\n      <th>embedding_size</th>\n    </tr>\n  </thead>\n  <tbody>\n    <tr>\n      <th>105</th>\n      <td>106</td>\n      <td>63</td>\n      <td>réfère. Le jugement sera donc confirmé en ce q...</td>\n      <td>[-0.31727228,0.054350436,0.0034205606,-0.22808...</td>\n      <td>112</td>\n      <td>384</td>\n    </tr>\n    <tr>\n      <th>106</th>\n      <td>107</td>\n      <td>65</td>\n      <td>MOTIFS La Cour, CONFIRME le jugement. Vu l'art...</td>\n      <td>[-0.23456575,-0.008945752,0.36253947,0.0628908...</td>\n      <td>120</td>\n      <td>384</td>\n    </tr>\n    <tr>\n      <th>107</th>\n      <td>108</td>\n      <td>65</td>\n      <td>à payer à la société Air France en cause d'app...</td>\n      <td>[0.02892923,0.16647458,0.07621933,-0.27263254,...</td>\n      <td>121</td>\n      <td>384</td>\n    </tr>\n    <tr>\n      <th>108</th>\n      <td>109</td>\n      <td>67</td>\n      <td>de l'article 700 du code de procédure civile. ...</td>\n      <td>[-0.28935927,0.050066367,0.04088294,0.04454843...</td>\n      <td>122</td>\n      <td>384</td>\n    </tr>\n    <tr>\n      <th>109</th>\n      <td>110</td>\n      <td>68</td>\n      <td>le syndicat Alter aux dépens d'appel. La Greff...</td>\n      <td>[-0.056826994,0.19697526,0.2563819,0.28118432,...</td>\n      <td>66</td>\n      <td>384</td>\n    </tr>\n  </tbody>\n</table>\n</div>"
     },
     "execution_count": 935,
     "metadata": {},
     "output_type": "execute_result"
    }
   ],
   "source": [
    "df_1.tail(5)"
   ],
   "metadata": {
    "collapsed": false,
    "ExecuteTime": {
     "end_time": "2023-10-20T03:45:22.472381Z",
     "start_time": "2023-10-20T03:45:22.369812Z"
    }
   }
  },
  {
   "cell_type": "code",
   "execution_count": 936,
   "outputs": [
    {
     "name": "stdout",
     "output_type": "stream",
     "text": [
      "REPUBLIQUE FRANCAISE\n",
      "AU NOM DU PEUPLE FRANCAIS\n",
      "COUR D'APPEL DE PARIS\n",
      "Pôle 6 - Chambre 3\n",
      "ARRET DU 24 MAI 2023\n",
      "(n° , 4 pages)\n",
      "Numéro d'inscription au répertoire général : N° RG 20/01856 - N° Portalis 35L7-V-B7E-CBRG5\n",
      "Décision déférée à la Cour : Jugement du 28 Juin 2019 - Conseil de Prud'hommes - Formation de départage de BOBIGNY - RG n° 15/03475\n",
      "APPELANT\n",
      "Syndicat ALTER, prise en la personne de son représentant légal\n",
      "[Adresse 2]\n",
      "[Localité 3]\n",
      "Représenté par Me Chanel DESSEIGNE, avocat au barreau de PARIS, toque : B0372\n",
      "INTIMEE\n",
      "SA AIR FRANCE, prise en la personne de son représentant légal\n",
      "[Adresse 1]\n",
      "[Localité 4]\n",
      "Représentée par Me Harold HERMAN, avocat au barreau de PARIS, toque : T03\n",
      "COMPOSITION DE LA COUR :\n",
      "En application des dispositions des articles 805 et 907 du code de procédure civile, l'affaire a été débattue le 08 Mars 2023, en audience publique, les avocats ne s'étant pas opposés à la composition non collégiale de la formation, devant Mme Anne MENARD, Présidente de chambre, chargée du rapport.\n",
      "Ce magistrat a rendu compte des plaidoiries dans le délibéré de la Cour, entendu en son rapport, composée de :\n",
      "Madame Anne MENARD, présidente\n",
      "Madame Fabienne ROUGE, présidente\n",
      "Madame Véronique MARMORAT, présidente\n",
      "Lors des débats : Mme Sarah SEBBAK, greffière\n",
      "ARRET :\n",
      "- CONTRADICTOIRE\n",
      "- mise à disposition de l'arrêt au greffe de la Cour le 24 mai 2023, les parties en ayant été préalablement avisées dans les conditions prévues au deuxième alinéa de l'article 450 du Code de procédure civile,\n",
      "- signé par Madame Anne MENARD, présidente et par Camille BESSON, Greffière en pré-affectation sur poste, à laquelle la minute de la décision a été remise par le magistrat signataire.\n",
      "EXPOSÉ DU LITIGE\n",
      "Monsieur [F] est pilote au sein de la société Air France.\n",
      "En 2011, la compagnie a décidé d'opérer une refonte de sa documentation opérationnelle à destination des pilotes. Cette refonte des manuels d'exploitation (Manex) consistait notamment à les aligner sur la documentation constructeur. Les manuels qui étaient rédigés en français et en anglais ont fait place à une documentation intégralement rédigée en anglais. Par ailleurs, cette documentation a été rapidement dématérialisée, une tablette s'étant substituée aux classeurs papiers. La mise en place de cette documentation s'est opérée de 2012 à 2014, et elle a fait suite à une mission d'expertise externe consécutive à l'accident du vol AF447 le 1er juin 2009.\n",
      "Monsieur [F] a saisi le conseil de prud'hommes de Bobigny afin d'obtenir le paiement de rappels de salaires et de dommages et intérêts pour le temps qu'il a consacré sur ses heures de repos à la formation, afin d'assimiler ce changement de documentation.\n",
      "Le syndicat Alter est intervenu à l'instance pour solliciter des dommages et intérêts en raison de l'atteinte à l'intérêt collectif de la profession.\n",
      "Ils ont été déboutés de leurs demandes et monsieur [F] a été condamné au paiement d'une somme de 50 euros sur le fondement des dispositions de l'article 700 du code de procédure civile par jugement du 28 juin 2019, rendu en formation de départage.\n",
      "Le syndicat Alter a régulièrement interjeté appel de ce jugement.\n",
      "Par conclusions récapitulatives du 20 juillet 2020, auxquelles il convient de se reporter en ce qui concerne ses moyens, le syndicat Alter demande à la cour d'infirmer le jugement, de déclarer son intervention recevable, de faire droit aux demandes du salarié, et de condamner la société Air france à lui payer au titre du préjudice subi par la profession la somme de 30.000 euros (somme globale), ainsi que la somme de 4.000 euros sur le fondement des dispositions de l'article 700 du code de procédure civile (somme globale).\n",
      "Par conclusions récapitulatives du 19 août 2020, auxquelles il convient de se reporter en ce qui concerne ses moyens, la société Air France demande à la cour de déclarer le syndicat Alter irrecevable, ou subsidiairement de le débouter.\n",
      "La Cour se réfère, pour un plus ample exposé des faits, de la procédure, des moyens et des prétentions des parties, à la décision déférée et aux dernières conclusions échangées en appel.\n",
      "MOTIFS\n",
      "L'action portant sur la rémunération du temps consacré à la formation, elle concerne des faits susceptibles de porter un préjudice direct ou indirect à l'intérêt collectif de la profession, de sorte que l'intervention du syndicat Alter est recevable.\n",
      "Le syndicat Alter expose que le temps considérable consacré par les pilotes aux modifications et adaptations de la documentation, dans une langue non native, constitue en raison de son ampleur un travail exceptionnel de formation, qui ne peut être considéré comme s'inscrivant dans la formation continue rémunérée par l'employeur. Il soutient que le déploiement de la documentation constructeur ne peut s'inscrire dans le maitien à jour de ses connaissances par le salarié pilote, et que l'ampleur de ce changement de philosophie et de méthodes, ainsi que le recours à l'anglais, sont allés bien au-delà d'un simple maintien des compétences.\n",
      "La compagnie Air France expose que la profession de pilote échappe au droit commun en ce qui concerne la durée du travail, et que la rémunération est exprimée en heures de vol; que pour les activités qui ne sont pas des heures de vol, une rémunération appelée 'traitement mensuel fixe' est versée ; qu'enfin, l'accord de réduction du temps de travail prévoit le versement de primes de vol fictives pour certaines activités au sol énumérées par l'accord. Elle fait valoir que le travail de formation réalisé par le pilote à son domicile pour maintenir ses compétences est rémunéré par le traitement mensuel fixe.\n",
      "Aux termes de l'article 6321-1 du code du travail, 'l'employeur assure l'adaptation des salariés à leur poste de travail.\n",
      "Il veille au maintien de leur capacité à occuper un emploi, au regard notamment de l'évolution des emplois, des technologies et des organisations'.\n",
      "Aux termes de l'article 6321-2 du code du travail dans sa rédaction applicable, 'toute action de formation suivie par un salarié pour assurer son adaptation au poste de travail ou liée à l'évolution ou au maintien dans l'emploi dans l'entreprise constitue un temps de travail effectif et donne lieu pendant sa réalisation au maintien par l'entreprise de la rémunération'.\n",
      "En l'espèce, il est acquis et non contesté que la rémunération des pilotes comporte, outre la rémunération des heures de vol, un salaire complémentaire pour le travail au sol, représentant environ le quart de la rémunératoin totale des pilotes. Ce travail au sol est constitué de la préparation du vol, mais aussi du temps consacré au maintien des compétences pour pouvoir voler : maintien à jour de ses connaissances, assimilation des mises à jours opérationnelles, préparations des contrôles sur simulateurs ou examens de maîtrise de l'anglais notamment.\n",
      "La question qui est posée est donc de savoir si le travail réalisé par les pilotes pour acquérir cette refonte du Manex est susceptible de s'inscrire ou non dans cette formation continue rémunérée.\n",
      "En premier lieu, la cour observe qu'un certain nombre de journées de formation ont été organisées par l'employeur, et rémunérées comme telles: notamment une journée de présentation de chacune des phases 1 et 2 du Manex B, des sécances en simulateurs (4 ou 5 dont une de contrôle), une présentation du système Optima, deux jours de présentation de la documentation électronique, et deux jours de stage en anglais. Sur ce dernier point, il était proposé par l'employeur une formation complémentaire.\n",
      "Pour autant, une large partie du travail a été réalisée par les pilotes de manière personelle, hors toute action de formation spécifique.\n",
      "Le syndicat relève que la nouvelle documentation, qui est la documentation constructeur, est désormais exclusivement en anglais, à l'exception du Manex A.\n",
      "Toutefois, il convient de rappeler que les documents liés à l'activité d'une entreprise de transport aérien échappent à l'obligation de rédiger en anglais les documents dont la connaissance est nécessaire au salarié pour l'exécution de son contrat de travail. Cette exception s'explique par le caractère international de l'activité qui rend nécessaire pour la sécurité des vols l'utilisation d'une langue commune.\n",
      "Dans ce contexte, l'obtention de la licence de pilote et son maintien sont conditionnés par la maîtrise de l'anglais opérationnel.\n",
      "Dans ces conditions, il ne peut être soutenu que la maîtrise attendue des pilotes de la nouvelle documentation ait été rendue plus difficile en raison du recours à l'anglais.\n",
      "Par ailleurs, en ce qui concerne l'ampleur des modifications apportées aux procédures, il est versé aux débats en cause d'appel une pièce 46 intitulée 'Pour bien comprendre ce qui change entre les anciennes et les nouvelles méthodes de production'. Il s'agit d'un 'avant/après' élaboré par les pilotes. La cour ne peut qu'observer que ce document ne comporte qu'une quinzaine de pages, étant précisé que s'agissant du Manex B concerné, le changement de documentation s'est opéré entre l'automne 2012 et l'hiver 2013, soit sur plus d'une année, ce qui permettait l'assimilation des données de manière progressive.\n",
      "Par ailleurs, les pilotes connaissaient déjà parfaitement les avions sur lesquels ils volaient, de sorte que l'assimilation de la documentation constructeur, même en anglais et avec une modification de certaines procédures, ne constituait pas un apprentissage nouveau.\n",
      "Cette charge de travail n'apparaît en rien disproportionnée avec le temps de formation qui est rémunéré par l'employeur au titre du maintien des compétences, de sorte que le jugement doit être confirmé en ce qu'il a retenu que le temps passé à préparer les formations organisées par la compagnie et à assimilier la nouvelle documentation n'avait pas à être rémunéré par des heures supplémentaires.\n",
      "Le syndicat soutient également que la mise en oeuvre de cette documentation entraînait une modification de l'organisation du travail, et des techniques de travail, qui aurait nécessité la consultation du comité d'établissement et du CHSCT.\n",
      "Toutefois, les éléments du dossier ne permettent pas de retenir que le remaniement du Manex ait impliqué une modification de l'organisation du travail entrant dans le champ des dispositions légales relatives à la consultation des institutions représentatives du personnel. Le syndicat Alter ne donne aucune précision sur les modifications de l'organisation et des techniques de travail auxquelles il se réfère.\n",
      "Le jugement sera donc confirmé en ce qu'il a débouté le salarié de ses demandes.\n",
      "PAR CES MOTIFS\n",
      "La Cour,\n",
      "CONFIRME le jugement.\n",
      "Vu l'article 700 du code de procédure civile,\n",
      "CONDAMNE le syndicat Alter à payer à la société Air France en cause d'appel la somme de 200 euros sur le fondement des dispositions de l'article 700 du code de procédure civile.\n",
      "DÉBOUTE les parties du surplus de leurs demandes.\n",
      "CONDAMNE le syndicat Alter aux dépens d'appel.\n",
      "La Greffière, La Présidente,\n"
     ]
    }
   ],
   "source": [
    "print(content_1)"
   ],
   "metadata": {
    "collapsed": false,
    "ExecuteTime": {
     "end_time": "2023-10-20T03:45:22.474671Z",
     "start_time": "2023-10-20T03:45:22.372330Z"
    }
   }
  },
  {
   "cell_type": "code",
   "execution_count": 1,
   "outputs": [],
   "source": [
    "from transformers import AutoTokenizer, AutoModel\n",
    "import torch"
   ],
   "metadata": {
    "collapsed": false,
    "ExecuteTime": {
     "end_time": "2023-10-25T07:23:05.130122664Z",
     "start_time": "2023-10-25T07:23:02.115995927Z"
    }
   }
  },
  {
   "cell_type": "code",
   "execution_count": 2,
   "outputs": [
    {
     "data": {
      "text/plain": "Downloading (…)okenizer_config.json:   0%|          | 0.00/491 [00:00<?, ?B/s]",
      "application/vnd.jupyter.widget-view+json": {
       "version_major": 2,
       "version_minor": 0,
       "model_id": "ef38f34fd968403e8606cada1c54883b"
      }
     },
     "metadata": {},
     "output_type": "display_data"
    },
    {
     "data": {
      "text/plain": "Downloading (…)tencepiece.bpe.model:   0%|          | 0.00/811k [00:00<?, ?B/s]",
      "application/vnd.jupyter.widget-view+json": {
       "version_major": 2,
       "version_minor": 0,
       "model_id": "2a232f326ce8475c8bcf5662d9de3e12"
      }
     },
     "metadata": {},
     "output_type": "display_data"
    },
    {
     "data": {
      "text/plain": "Downloading (…)/main/tokenizer.json:   0%|          | 0.00/2.42M [00:00<?, ?B/s]",
      "application/vnd.jupyter.widget-view+json": {
       "version_major": 2,
       "version_minor": 0,
       "model_id": "5864a18196cb4f188665fab789ed09ce"
      }
     },
     "metadata": {},
     "output_type": "display_data"
    },
    {
     "data": {
      "text/plain": "Downloading (…)cial_tokens_map.json:   0%|          | 0.00/354 [00:00<?, ?B/s]",
      "application/vnd.jupyter.widget-view+json": {
       "version_major": 2,
       "version_minor": 0,
       "model_id": "b2e3cb86b25b43b5a9f8260a87ab1dea"
      }
     },
     "metadata": {},
     "output_type": "display_data"
    },
    {
     "data": {
      "text/plain": "Downloading (…)lve/main/config.json:   0%|          | 0.00/695 [00:00<?, ?B/s]",
      "application/vnd.jupyter.widget-view+json": {
       "version_major": 2,
       "version_minor": 0,
       "model_id": "48044c7cf5d149cb97abd672662d570c"
      }
     },
     "metadata": {},
     "output_type": "display_data"
    },
    {
     "data": {
      "text/plain": "Downloading pytorch_model.bin:   0%|          | 0.00/443M [00:00<?, ?B/s]",
      "application/vnd.jupyter.widget-view+json": {
       "version_major": 2,
       "version_minor": 0,
       "model_id": "f5cf1658cbe6458b98088c19e1f7bdec"
      }
     },
     "metadata": {},
     "output_type": "display_data"
    }
   ],
   "source": [
    "tokenizer = AutoTokenizer.from_pretrained('antoinelouis/biencoder-camembert-base-mmarcoFR')\n",
    "model = AutoModel.from_pretrained('antoinelouis/biencoder-camembert-base-mmarcoFR')"
   ],
   "metadata": {
    "collapsed": false,
    "ExecuteTime": {
     "end_time": "2023-10-25T07:23:20.633319760Z",
     "start_time": "2023-10-25T07:23:10.498195085Z"
    }
   }
  },
  {
   "cell_type": "code",
   "execution_count": 954,
   "outputs": [],
   "source": [
    "#Mean Pooling - Take attention mask into account for correct averaging\n",
    "def mean_pooling(model_output, attention_mask):\n",
    "    token_embeddings = model_output[0] #First element of model_output contains all token embeddings\n",
    "    input_mask_expanded = attention_mask.unsqueeze(-1).expand(token_embeddings.size()).float()\n",
    "    return torch.sum(token_embeddings * input_mask_expanded, 1) / torch.clamp(input_mask_expanded.sum(1), min=1e-9)"
   ],
   "metadata": {
    "collapsed": false,
    "ExecuteTime": {
     "end_time": "2023-10-20T09:10:18.241602Z",
     "start_time": "2023-10-20T09:10:18.234977Z"
    }
   }
  },
  {
   "cell_type": "code",
   "execution_count": 964,
   "outputs": [],
   "source": [
    "def get_embeddings(chunck, model, tokenizer):\n",
    "    # Tokenize sentences\n",
    "    encoded_input = tokenizer(chunck, padding=True, truncation=True, return_tensors='pt')\n",
    "\n",
    "    # Compute token embeddings\n",
    "    with torch.no_grad():\n",
    "        model_output = model(**encoded_input)\n",
    "\n",
    "    chunk_embeddings = mean_pooling(model_output, encoded_input['attention_mask'])\n",
    "    return chunk_embeddings.view(-1).numpy().tolist()"
   ],
   "metadata": {
    "collapsed": false,
    "ExecuteTime": {
     "end_time": "2023-10-20T09:19:34.166026Z",
     "start_time": "2023-10-20T09:19:34.161471Z"
    }
   }
  },
  {
   "cell_type": "code",
   "execution_count": 965,
   "outputs": [],
   "source": [
    "output = get_embeddings(df_content_1['passage'][0], model, tokenizer)"
   ],
   "metadata": {
    "collapsed": false,
    "ExecuteTime": {
     "end_time": "2023-10-20T09:19:35.405060Z",
     "start_time": "2023-10-20T09:19:35.279037Z"
    }
   }
  },
  {
   "cell_type": "code",
   "execution_count": 963,
   "outputs": [
    {
     "data": {
      "text/plain": "768"
     },
     "execution_count": 963,
     "metadata": {},
     "output_type": "execute_result"
    }
   ],
   "source": [
    "len(output)"
   ],
   "metadata": {
    "collapsed": false,
    "ExecuteTime": {
     "end_time": "2023-10-20T09:17:29.998222Z",
     "start_time": "2023-10-20T09:17:29.981135Z"
    }
   }
  },
  {
   "cell_type": "code",
   "execution_count": 967,
   "outputs": [],
   "source": [
    "def add_embedding(df):\n",
    "    df['embedding'] = df['passage'].apply(lambda chunck: get_embeddings(chunck, model, tokenizer))\n",
    "    return df"
   ],
   "metadata": {
    "collapsed": false,
    "ExecuteTime": {
     "end_time": "2023-10-20T09:26:57.697146Z",
     "start_time": "2023-10-20T09:26:57.668369Z"
    }
   }
  },
  {
   "cell_type": "code",
   "execution_count": 968,
   "outputs": [],
   "source": [
    "df_content_1 = add_embedding(df_content_1)"
   ],
   "metadata": {
    "collapsed": false,
    "ExecuteTime": {
     "end_time": "2023-10-20T09:27:17.626297Z",
     "start_time": "2023-10-20T09:27:14.324518Z"
    }
   }
  },
  {
   "cell_type": "code",
   "execution_count": 969,
   "outputs": [
    {
     "data": {
      "text/plain": "    chunck  line                                            passage  length  \\\n0        1     7  REPUBLIQUE FRANCAISE AU NOM DU PEUPLE FRANCAIS...     123   \n1        2     8  4 pages) d'inscription au répertoire général :...     121   \n2        3    10  Cour : du 28 Juin 2019 - Conseil de Prud'homme...     125   \n3        4    13  Syndicat ALTER, en la personne de son représen...     124   \n4        5    16  DESSEIGNE, avocat barreau de PARIS, toque : B0...     119   \n..     ...   ...                                                ...     ...   \n87      88    60  donne aucune sur les modifications de l'organi...     123   \n88      89    64  jugement sera confirmé en ce qu'il a débouté l...     121   \n89      90    65  jugement. Vu 700 du code de procédure civile, ...     124   \n90      91    66  d'appel la de 200 euros sur le fondement des d...     123   \n91      92    68  les parties surplus de leurs demandes. CONDAMN...     114   \n\n                                            embedding  \n0   [0.053846124559640884, 0.07967556267976761, -0...  \n1   [-0.13092072308063507, 0.1537596732378006, -0....  \n2   [-0.08657706528902054, 0.07756256312131882, 0....  \n3   [0.010122505016624928, 0.15240544080734253, -0...  \n4   [-0.05257469788193703, 0.1736283302307129, -0....  \n..                                                ...  \n87  [-0.08440098911523819, 0.1260867714881897, -0....  \n88  [-0.15248653292655945, -0.006006493233144283, ...  \n89  [-0.05081288516521454, 0.04778996482491493, -0...  \n90  [-0.034843750298023224, 0.05633514001965523, 0...  \n91  [-0.006928019225597382, -0.09428157657384872, ...  \n\n[92 rows x 5 columns]",
      "text/html": "<div>\n<style scoped>\n    .dataframe tbody tr th:only-of-type {\n        vertical-align: middle;\n    }\n\n    .dataframe tbody tr th {\n        vertical-align: top;\n    }\n\n    .dataframe thead th {\n        text-align: right;\n    }\n</style>\n<table border=\"1\" class=\"dataframe\">\n  <thead>\n    <tr style=\"text-align: right;\">\n      <th></th>\n      <th>chunck</th>\n      <th>line</th>\n      <th>passage</th>\n      <th>length</th>\n      <th>embedding</th>\n    </tr>\n  </thead>\n  <tbody>\n    <tr>\n      <th>0</th>\n      <td>1</td>\n      <td>7</td>\n      <td>REPUBLIQUE FRANCAISE AU NOM DU PEUPLE FRANCAIS...</td>\n      <td>123</td>\n      <td>[0.053846124559640884, 0.07967556267976761, -0...</td>\n    </tr>\n    <tr>\n      <th>1</th>\n      <td>2</td>\n      <td>8</td>\n      <td>4 pages) d'inscription au répertoire général :...</td>\n      <td>121</td>\n      <td>[-0.13092072308063507, 0.1537596732378006, -0....</td>\n    </tr>\n    <tr>\n      <th>2</th>\n      <td>3</td>\n      <td>10</td>\n      <td>Cour : du 28 Juin 2019 - Conseil de Prud'homme...</td>\n      <td>125</td>\n      <td>[-0.08657706528902054, 0.07756256312131882, 0....</td>\n    </tr>\n    <tr>\n      <th>3</th>\n      <td>4</td>\n      <td>13</td>\n      <td>Syndicat ALTER, en la personne de son représen...</td>\n      <td>124</td>\n      <td>[0.010122505016624928, 0.15240544080734253, -0...</td>\n    </tr>\n    <tr>\n      <th>4</th>\n      <td>5</td>\n      <td>16</td>\n      <td>DESSEIGNE, avocat barreau de PARIS, toque : B0...</td>\n      <td>119</td>\n      <td>[-0.05257469788193703, 0.1736283302307129, -0....</td>\n    </tr>\n    <tr>\n      <th>...</th>\n      <td>...</td>\n      <td>...</td>\n      <td>...</td>\n      <td>...</td>\n      <td>...</td>\n    </tr>\n    <tr>\n      <th>87</th>\n      <td>88</td>\n      <td>60</td>\n      <td>donne aucune sur les modifications de l'organi...</td>\n      <td>123</td>\n      <td>[-0.08440098911523819, 0.1260867714881897, -0....</td>\n    </tr>\n    <tr>\n      <th>88</th>\n      <td>89</td>\n      <td>64</td>\n      <td>jugement sera confirmé en ce qu'il a débouté l...</td>\n      <td>121</td>\n      <td>[-0.15248653292655945, -0.006006493233144283, ...</td>\n    </tr>\n    <tr>\n      <th>89</th>\n      <td>90</td>\n      <td>65</td>\n      <td>jugement. Vu 700 du code de procédure civile, ...</td>\n      <td>124</td>\n      <td>[-0.05081288516521454, 0.04778996482491493, -0...</td>\n    </tr>\n    <tr>\n      <th>90</th>\n      <td>91</td>\n      <td>66</td>\n      <td>d'appel la de 200 euros sur le fondement des d...</td>\n      <td>123</td>\n      <td>[-0.034843750298023224, 0.05633514001965523, 0...</td>\n    </tr>\n    <tr>\n      <th>91</th>\n      <td>92</td>\n      <td>68</td>\n      <td>les parties surplus de leurs demandes. CONDAMN...</td>\n      <td>114</td>\n      <td>[-0.006928019225597382, -0.09428157657384872, ...</td>\n    </tr>\n  </tbody>\n</table>\n<p>92 rows × 5 columns</p>\n</div>"
     },
     "execution_count": 969,
     "metadata": {},
     "output_type": "execute_result"
    }
   ],
   "source": [
    "df_content_1"
   ],
   "metadata": {
    "collapsed": false,
    "ExecuteTime": {
     "end_time": "2023-10-20T09:27:21.912211Z",
     "start_time": "2023-10-20T09:27:21.871369Z"
    }
   }
  },
  {
   "cell_type": "code",
   "execution_count": 980,
   "outputs": [
    {
     "data": {
      "text/plain": "(110, 6)"
     },
     "execution_count": 980,
     "metadata": {},
     "output_type": "execute_result"
    }
   ],
   "source": [
    "df_1.shape"
   ],
   "metadata": {
    "collapsed": false,
    "ExecuteTime": {
     "end_time": "2023-10-21T00:57:53.000662Z",
     "start_time": "2023-10-21T00:57:52.989861Z"
    }
   }
  },
  {
   "cell_type": "code",
   "execution_count": 970,
   "outputs": [],
   "source": [
    "df_content_2 = add_embedding(df_content_2)"
   ],
   "metadata": {
    "collapsed": false,
    "ExecuteTime": {
     "end_time": "2023-10-20T09:34:44.013438Z",
     "start_time": "2023-10-20T09:34:43.147922Z"
    }
   }
  },
  {
   "cell_type": "code",
   "execution_count": 971,
   "outputs": [
    {
     "data": {
      "text/plain": "    chunck  line                                            passage  length  \\\n0        1     8  COUR D'APPEL D'AIX-EN-PROVENCE Chambres social...     122   \n1        2    11  N° RG - N° Portalis DBVB-V-B7D-BEW3M Ordonnanc...     122   \n2        3    12  de la en état de la Chambre 4-6 de la cour d'a...     119   \n3        4    13  Vu l'instance : SCP BR & ASSOCIES prise en la ...     124   \n4        5    18  SAS MACONNERIE REVETEMENT Représentant : Me Ol...     125   \n5        6    21  Représentant : Marjorie MEUNIER, avocat au bar...     125   \n6        7    21  Attendu que 21 Février 2023 par avis de renvoi...     116   \n7        8    22  aux parties dans la cause, par voie d'huissier...     121   \n8        9    23  pas été suite à cette injonction ; Il y a lieu...     118   \n9       10    25  diligences des en application de l'article 381...     118   \n10      11    26  radiation de et sa suppression du rang des aff...     118   \n11      12    29  justification de de la diligence omise. Fait à...     120   \n12      13    30  en état délivrée aux avocats des parties le : ...      68   \n\n                                            embedding  \n0   [-0.05544840171933174, -0.0007854389841668308,...  \n1   [-0.13841412961483002, 0.13225559890270233, -0...  \n2   [0.13365206122398376, 0.1872866153717041, -0.0...  \n3   [-0.05458232760429382, 0.09538490325212479, 0....  \n4   [-0.08983307331800461, -0.020341210067272186, ...  \n5   [0.0218003299087286, 0.004388691391795874, 0.3...  \n6   [-0.10621828585863113, 0.16908541321754456, 0....  \n7   [0.049572449177503586, 0.07731874287128448, -0...  \n8   [0.036154575645923615, -0.009198443964123726, ...  \n9   [0.03233446925878525, 0.24812714755535126, -0....  \n10  [-0.08206053823232651, 0.15523004531860352, -0...  \n11  [-0.01386797334998846, -0.054124053567647934, ...  \n12  [0.053472746163606644, -0.10821863263845444, 0...  ",
      "text/html": "<div>\n<style scoped>\n    .dataframe tbody tr th:only-of-type {\n        vertical-align: middle;\n    }\n\n    .dataframe tbody tr th {\n        vertical-align: top;\n    }\n\n    .dataframe thead th {\n        text-align: right;\n    }\n</style>\n<table border=\"1\" class=\"dataframe\">\n  <thead>\n    <tr style=\"text-align: right;\">\n      <th></th>\n      <th>chunck</th>\n      <th>line</th>\n      <th>passage</th>\n      <th>length</th>\n      <th>embedding</th>\n    </tr>\n  </thead>\n  <tbody>\n    <tr>\n      <th>0</th>\n      <td>1</td>\n      <td>8</td>\n      <td>COUR D'APPEL D'AIX-EN-PROVENCE Chambres social...</td>\n      <td>122</td>\n      <td>[-0.05544840171933174, -0.0007854389841668308,...</td>\n    </tr>\n    <tr>\n      <th>1</th>\n      <td>2</td>\n      <td>11</td>\n      <td>N° RG - N° Portalis DBVB-V-B7D-BEW3M Ordonnanc...</td>\n      <td>122</td>\n      <td>[-0.13841412961483002, 0.13225559890270233, -0...</td>\n    </tr>\n    <tr>\n      <th>2</th>\n      <td>3</td>\n      <td>12</td>\n      <td>de la en état de la Chambre 4-6 de la cour d'a...</td>\n      <td>119</td>\n      <td>[0.13365206122398376, 0.1872866153717041, -0.0...</td>\n    </tr>\n    <tr>\n      <th>3</th>\n      <td>4</td>\n      <td>13</td>\n      <td>Vu l'instance : SCP BR &amp; ASSOCIES prise en la ...</td>\n      <td>124</td>\n      <td>[-0.05458232760429382, 0.09538490325212479, 0....</td>\n    </tr>\n    <tr>\n      <th>4</th>\n      <td>5</td>\n      <td>18</td>\n      <td>SAS MACONNERIE REVETEMENT Représentant : Me Ol...</td>\n      <td>125</td>\n      <td>[-0.08983307331800461, -0.020341210067272186, ...</td>\n    </tr>\n    <tr>\n      <th>5</th>\n      <td>6</td>\n      <td>21</td>\n      <td>Représentant : Marjorie MEUNIER, avocat au bar...</td>\n      <td>125</td>\n      <td>[0.0218003299087286, 0.004388691391795874, 0.3...</td>\n    </tr>\n    <tr>\n      <th>6</th>\n      <td>7</td>\n      <td>21</td>\n      <td>Attendu que 21 Février 2023 par avis de renvoi...</td>\n      <td>116</td>\n      <td>[-0.10621828585863113, 0.16908541321754456, 0....</td>\n    </tr>\n    <tr>\n      <th>7</th>\n      <td>8</td>\n      <td>22</td>\n      <td>aux parties dans la cause, par voie d'huissier...</td>\n      <td>121</td>\n      <td>[0.049572449177503586, 0.07731874287128448, -0...</td>\n    </tr>\n    <tr>\n      <th>8</th>\n      <td>9</td>\n      <td>23</td>\n      <td>pas été suite à cette injonction ; Il y a lieu...</td>\n      <td>118</td>\n      <td>[0.036154575645923615, -0.009198443964123726, ...</td>\n    </tr>\n    <tr>\n      <th>9</th>\n      <td>10</td>\n      <td>25</td>\n      <td>diligences des en application de l'article 381...</td>\n      <td>118</td>\n      <td>[0.03233446925878525, 0.24812714755535126, -0....</td>\n    </tr>\n    <tr>\n      <th>10</th>\n      <td>11</td>\n      <td>26</td>\n      <td>radiation de et sa suppression du rang des aff...</td>\n      <td>118</td>\n      <td>[-0.08206053823232651, 0.15523004531860352, -0...</td>\n    </tr>\n    <tr>\n      <th>11</th>\n      <td>12</td>\n      <td>29</td>\n      <td>justification de de la diligence omise. Fait à...</td>\n      <td>120</td>\n      <td>[-0.01386797334998846, -0.054124053567647934, ...</td>\n    </tr>\n    <tr>\n      <th>12</th>\n      <td>13</td>\n      <td>30</td>\n      <td>en état délivrée aux avocats des parties le : ...</td>\n      <td>68</td>\n      <td>[0.053472746163606644, -0.10821863263845444, 0...</td>\n    </tr>\n  </tbody>\n</table>\n</div>"
     },
     "execution_count": 971,
     "metadata": {},
     "output_type": "execute_result"
    }
   ],
   "source": [
    "df_content_2"
   ],
   "metadata": {
    "collapsed": false,
    "ExecuteTime": {
     "end_time": "2023-10-20T09:34:46.626087Z",
     "start_time": "2023-10-20T09:34:46.598781Z"
    }
   }
  },
  {
   "cell_type": "code",
   "execution_count": 972,
   "outputs": [],
   "source": [
    "df_content_3 = add_embedding(df_content_3)"
   ],
   "metadata": {
    "collapsed": false,
    "ExecuteTime": {
     "end_time": "2023-10-20T09:35:39.492144Z",
     "start_time": "2023-10-20T09:35:36.815962Z"
    }
   }
  },
  {
   "cell_type": "code",
   "execution_count": 973,
   "outputs": [
    {
     "data": {
      "text/plain": "    chunck  line                                            passage  length  \\\n0        1     5  RÉPUBLIQUE FRANÇAISE AU NOM DU PEUPLE FRANÇAIS...     122   \n1        2     8  du séjour étrangers et du droit d'asile ORDONN...     124   \n2        3     9  et de : Q N° RG 23/01992 - N° Portalis 35L7-V-...     124   \n3        4    10  par le des libertés et de la détention du trib...     125   \n4        5    10  chambre à cour d'appel de Paris, agissant par ...     118   \n5        6    12  Roxane Aubin, aux débats et au prononcé de l'o...     119   \n6        7    16  PRÉFET DE représenté par Me Géraldine Lesieur ...     123   \n7        8    17  [J] né 04 Octobre 1985 à [Localité 2], de nati...     121   \n8        9    19  en zone à l'aéroport de [1], dernier domicile ...     125   \n9       10    22  l'audience ORDONNANCE - réputée contradictoire...     123   \n10      11    22  et de détention du tribunal judiciaire de Bobi...     125   \n11      12    22  n'y avoir de prolonger le maintien de M. Xsd [...     113   \n12      13    22  rappelant que doit restituer à l'intéressé l'i...     117   \n13      14    24  et ses de voyage ; - Vu l'appel motivé interje...     124   \n14      15    26  Après avoir les observations du conseil du pré...     122   \n15      16    26  Il résulte articles L 342-1 et L 342-10 du cod...     123   \n16      17    26  'le maintien zone d'attente au-delà de quatre ...     121   \n17      18    26  juge des et de la détention statuant sur l'exe...     121   \n18      19    26  ne peut supérieure à huit jours' et que ' l'ex...     121   \n19      20    27  elle seule de justifier le refus de prolongati...     124   \n20      21    27  en sa de gardien de la liberté individuelle, d...     124   \n21      22    27  attentatoires à liberté individuelle pendant l...     119   \n22      23    27  en zone (2e Civ., 5 juillet 2001, pourvoi n° 9...     117   \n23      24    28  n° 01-50.104, civil 2003, II, n° 151). Pour au...     120   \n24      25    28  s'assurer de d'une personne qui présente de fa...     114   \n25      26    28  et la des droits sans que soit constituée une ...     118   \n26      27    29  un délai écoulé de 8 heures à 10 heures 45). A...     124   \n27      28    29  des étrangers du droit d'asile, en cas de viol...     122   \n28      29    29  ou d'inobservation formalités substantielles, ...     125   \n29      30    29  d'une demande ou qui relève d'office une telle...     124   \n30      31    30  d'attente que celui-ci a eu pour effet de port...     123   \n31      32    30  R. 342-2 même code, \" à peine d'irrecevabilité...     117   \n32      33    31  toutes pièces utiles, notamment d'une copie du...     119   \n33      34    31  l'espèce, en lieu, un rapport 'de mise à dispo...     124   \n34      35    31  disposition du et ne correspond pas nécessaire...     120   \n35      36    32  présente spontanément tout contrôle. En second...     115   \n36      37    32  satisfaire aux du contrôle que la loi confie a...     120   \n37      38    32  ont été ces derniers jours afin de laisser app...     121   \n38      39    32  mesures et d'une part, l'heure de la première ...     124   \n39      40    32  disposition dans document signé par l'officier...     116   \n40      41    32  présence d'un à l'instant du contrôle mais seu...     123   \n41      42    33  bien été cas dans ce dossier. En l'espèce, il ...     122   \n42      43    34  premier contrôle la mise à disposition de l'of...     123   \n43      44    34  déduit que délai de quelques minutes entre ce ...     124   \n44      45    34  notifié un d'entrée puis un placement en zone ...     123   \n45      46    34  de contrôler légalité) ne saurait être considé...     122   \n46      47    34  effectif des de l'étranger. Il convient donc d...     119   \n47      48    34  défaut d'autre soulevés en cause d'appel et au...     120   \n48      49    37  en prolongation, le maintien en zone d'attente...     123   \n49      50    39  STATUONS à ORDONNONS la prolongation de l'inté...     120   \n50      51    40  huit jours, la remise immédiate au procureur g...     125   \n51      52    43  mai 2023 LE GREFFIER, LE PRÉSIDENT, REÇU NOTIF...     114   \n52      53    45  : Pour : L'ordonnance n'est pas susceptible d'...     119   \n53      54    46  à l'autorité qui a prononcé le maintien en zon...     120   \n54      55    47  pourvoi en est de deux mois à compter de la no...     123   \n55      56    48  au secrétariat de la Cour de cassation par l'a...     123   \n56      57    48           le demandeur. préfet ou son représentant      40   \n\n                                            embedding  \n0   [0.12441971153020859, 0.2138921320438385, -0.0...  \n1   [-0.059051159769296646, 0.16273003816604614, -...  \n2   [-0.13748039305210114, -0.04202926531434059, -...  \n3   [0.11644970625638962, 0.1361859142780304, 0.14...  \n4   [0.0943845883011818, 0.10385303944349289, -0.0...  \n5   [0.008883277885615826, -0.10733689367771149, 0...  \n6   [0.08566775918006897, 0.08415185660123825, -0....  \n7   [0.16928793489933014, 0.006909840740263462, -0...  \n8   [0.11251620948314667, -0.05754264444112778, -0...  \n9   [-0.003614019835367799, 0.0636245384812355, -0...  \n10  [0.04919830709695816, 0.1962660402059555, 0.03...  \n11  [-0.08567006886005402, 0.07866312563419342, -0...  \n12  [0.18982438743114471, 0.13132137060165405, 0.2...  \n13  [0.02505323849618435, -0.04202728345990181, -0...  \n14  [-0.013167002238333225, 0.15483161807060242, -...  \n15  [-0.03949160501360893, 0.45491039752960205, -0...  \n16  [-0.05286158621311188, 0.06471022218465805, -0...  \n17  [0.08164206892251968, 0.15774324536323547, -0....  \n18  [0.0548756942152977, 0.13646015524864197, -0.0...  \n19  [0.018229201436042786, -0.09035001695156097, 0...  \n20  [0.1383247971534729, 0.357888400554657, -0.050...  \n21  [0.11306965351104736, 0.21803227066993713, -0....  \n22  [-0.0772358700633049, 0.11620606482028961, -0....  \n23  [0.060408204793930054, 0.06265181303024292, -0...  \n24  [0.07665639370679855, -0.05279401317238808, -0...  \n25  [0.14347879588603973, 0.11673017591238022, 0.0...  \n26  [0.14574061334133148, 0.2606757581233978, -0.1...  \n27  [0.08070841431617737, 0.3099265694618225, -0.1...  \n28  [-0.008567490614950657, 0.0072853947058320045,...  \n29  [-0.08566577732563019, 0.0015329034067690372, ...  \n30  [0.14223122596740723, 0.1932341456413269, -0.0...  \n31  [-0.12106351554393768, 0.21460390090942383, -0...  \n32  [0.09504261612892151, 0.193862184882164, 0.008...  \n33  [0.030357303097844124, -0.08827555179595947, 0...  \n34  [0.013698886148631573, 0.1755068451166153, -0....  \n35  [0.08377132564783096, -0.0231351125985384, -0....  \n36  [-0.004974686075001955, 0.007310536690056324, ...  \n37  [0.10886961221694946, 0.07889009267091751, -0....  \n38  [0.07893043011426926, -0.08146462589502335, 0....  \n39  [0.0678558275103569, 0.10297147929668427, -0.2...  \n40  [0.09939413517713547, 0.022561507299542427, -0...  \n41  [0.038954440504312515, 0.07176783680915833, 0....  \n42  [0.0223760474473238, 0.0019186619902029634, 0....  \n43  [-0.0022464946378022432, -0.11168605089187622,...  \n44  [0.06588590890169144, -0.138209730386734, -0.0...  \n45  [0.11353258043527603, -0.07966965436935425, -0...  \n46  [-0.11967851221561432, 0.10389850288629532, -0...  \n47  [-0.07899880409240723, -0.09378838539123535, 0...  \n48  [-0.13298656046390533, -0.14148736000061035, -...  \n49  [-0.06978411972522736, 0.024590162560343742, -...  \n50  [-0.10482252389192581, -0.1560344099998474, -0...  \n51  [-0.09337535500526428, -0.14396248757839203, 0...  \n52  [-0.044523194432258606, 0.0944317877292633, 0....  \n53  [0.07744614034891129, 0.009096630848944187, -0...  \n54  [0.0672001913189888, -0.01041114330291748, -0....  \n55  [0.05033569037914276, 0.02239435911178589, 0.0...  \n56  [0.007950348779559135, -0.11897075176239014, -...  ",
      "text/html": "<div>\n<style scoped>\n    .dataframe tbody tr th:only-of-type {\n        vertical-align: middle;\n    }\n\n    .dataframe tbody tr th {\n        vertical-align: top;\n    }\n\n    .dataframe thead th {\n        text-align: right;\n    }\n</style>\n<table border=\"1\" class=\"dataframe\">\n  <thead>\n    <tr style=\"text-align: right;\">\n      <th></th>\n      <th>chunck</th>\n      <th>line</th>\n      <th>passage</th>\n      <th>length</th>\n      <th>embedding</th>\n    </tr>\n  </thead>\n  <tbody>\n    <tr>\n      <th>0</th>\n      <td>1</td>\n      <td>5</td>\n      <td>RÉPUBLIQUE FRANÇAISE AU NOM DU PEUPLE FRANÇAIS...</td>\n      <td>122</td>\n      <td>[0.12441971153020859, 0.2138921320438385, -0.0...</td>\n    </tr>\n    <tr>\n      <th>1</th>\n      <td>2</td>\n      <td>8</td>\n      <td>du séjour étrangers et du droit d'asile ORDONN...</td>\n      <td>124</td>\n      <td>[-0.059051159769296646, 0.16273003816604614, -...</td>\n    </tr>\n    <tr>\n      <th>2</th>\n      <td>3</td>\n      <td>9</td>\n      <td>et de : Q N° RG 23/01992 - N° Portalis 35L7-V-...</td>\n      <td>124</td>\n      <td>[-0.13748039305210114, -0.04202926531434059, -...</td>\n    </tr>\n    <tr>\n      <th>3</th>\n      <td>4</td>\n      <td>10</td>\n      <td>par le des libertés et de la détention du trib...</td>\n      <td>125</td>\n      <td>[0.11644970625638962, 0.1361859142780304, 0.14...</td>\n    </tr>\n    <tr>\n      <th>4</th>\n      <td>5</td>\n      <td>10</td>\n      <td>chambre à cour d'appel de Paris, agissant par ...</td>\n      <td>118</td>\n      <td>[0.0943845883011818, 0.10385303944349289, -0.0...</td>\n    </tr>\n    <tr>\n      <th>5</th>\n      <td>6</td>\n      <td>12</td>\n      <td>Roxane Aubin, aux débats et au prononcé de l'o...</td>\n      <td>119</td>\n      <td>[0.008883277885615826, -0.10733689367771149, 0...</td>\n    </tr>\n    <tr>\n      <th>6</th>\n      <td>7</td>\n      <td>16</td>\n      <td>PRÉFET DE représenté par Me Géraldine Lesieur ...</td>\n      <td>123</td>\n      <td>[0.08566775918006897, 0.08415185660123825, -0....</td>\n    </tr>\n    <tr>\n      <th>7</th>\n      <td>8</td>\n      <td>17</td>\n      <td>[J] né 04 Octobre 1985 à [Localité 2], de nati...</td>\n      <td>121</td>\n      <td>[0.16928793489933014, 0.006909840740263462, -0...</td>\n    </tr>\n    <tr>\n      <th>8</th>\n      <td>9</td>\n      <td>19</td>\n      <td>en zone à l'aéroport de [1], dernier domicile ...</td>\n      <td>125</td>\n      <td>[0.11251620948314667, -0.05754264444112778, -0...</td>\n    </tr>\n    <tr>\n      <th>9</th>\n      <td>10</td>\n      <td>22</td>\n      <td>l'audience ORDONNANCE - réputée contradictoire...</td>\n      <td>123</td>\n      <td>[-0.003614019835367799, 0.0636245384812355, -0...</td>\n    </tr>\n    <tr>\n      <th>10</th>\n      <td>11</td>\n      <td>22</td>\n      <td>et de détention du tribunal judiciaire de Bobi...</td>\n      <td>125</td>\n      <td>[0.04919830709695816, 0.1962660402059555, 0.03...</td>\n    </tr>\n    <tr>\n      <th>11</th>\n      <td>12</td>\n      <td>22</td>\n      <td>n'y avoir de prolonger le maintien de M. Xsd [...</td>\n      <td>113</td>\n      <td>[-0.08567006886005402, 0.07866312563419342, -0...</td>\n    </tr>\n    <tr>\n      <th>12</th>\n      <td>13</td>\n      <td>22</td>\n      <td>rappelant que doit restituer à l'intéressé l'i...</td>\n      <td>117</td>\n      <td>[0.18982438743114471, 0.13132137060165405, 0.2...</td>\n    </tr>\n    <tr>\n      <th>13</th>\n      <td>14</td>\n      <td>24</td>\n      <td>et ses de voyage ; - Vu l'appel motivé interje...</td>\n      <td>124</td>\n      <td>[0.02505323849618435, -0.04202728345990181, -0...</td>\n    </tr>\n    <tr>\n      <th>14</th>\n      <td>15</td>\n      <td>26</td>\n      <td>Après avoir les observations du conseil du pré...</td>\n      <td>122</td>\n      <td>[-0.013167002238333225, 0.15483161807060242, -...</td>\n    </tr>\n    <tr>\n      <th>15</th>\n      <td>16</td>\n      <td>26</td>\n      <td>Il résulte articles L 342-1 et L 342-10 du cod...</td>\n      <td>123</td>\n      <td>[-0.03949160501360893, 0.45491039752960205, -0...</td>\n    </tr>\n    <tr>\n      <th>16</th>\n      <td>17</td>\n      <td>26</td>\n      <td>'le maintien zone d'attente au-delà de quatre ...</td>\n      <td>121</td>\n      <td>[-0.05286158621311188, 0.06471022218465805, -0...</td>\n    </tr>\n    <tr>\n      <th>17</th>\n      <td>18</td>\n      <td>26</td>\n      <td>juge des et de la détention statuant sur l'exe...</td>\n      <td>121</td>\n      <td>[0.08164206892251968, 0.15774324536323547, -0....</td>\n    </tr>\n    <tr>\n      <th>18</th>\n      <td>19</td>\n      <td>26</td>\n      <td>ne peut supérieure à huit jours' et que ' l'ex...</td>\n      <td>121</td>\n      <td>[0.0548756942152977, 0.13646015524864197, -0.0...</td>\n    </tr>\n    <tr>\n      <th>19</th>\n      <td>20</td>\n      <td>27</td>\n      <td>elle seule de justifier le refus de prolongati...</td>\n      <td>124</td>\n      <td>[0.018229201436042786, -0.09035001695156097, 0...</td>\n    </tr>\n    <tr>\n      <th>20</th>\n      <td>21</td>\n      <td>27</td>\n      <td>en sa de gardien de la liberté individuelle, d...</td>\n      <td>124</td>\n      <td>[0.1383247971534729, 0.357888400554657, -0.050...</td>\n    </tr>\n    <tr>\n      <th>21</th>\n      <td>22</td>\n      <td>27</td>\n      <td>attentatoires à liberté individuelle pendant l...</td>\n      <td>119</td>\n      <td>[0.11306965351104736, 0.21803227066993713, -0....</td>\n    </tr>\n    <tr>\n      <th>22</th>\n      <td>23</td>\n      <td>27</td>\n      <td>en zone (2e Civ., 5 juillet 2001, pourvoi n° 9...</td>\n      <td>117</td>\n      <td>[-0.0772358700633049, 0.11620606482028961, -0....</td>\n    </tr>\n    <tr>\n      <th>23</th>\n      <td>24</td>\n      <td>28</td>\n      <td>n° 01-50.104, civil 2003, II, n° 151). Pour au...</td>\n      <td>120</td>\n      <td>[0.060408204793930054, 0.06265181303024292, -0...</td>\n    </tr>\n    <tr>\n      <th>24</th>\n      <td>25</td>\n      <td>28</td>\n      <td>s'assurer de d'une personne qui présente de fa...</td>\n      <td>114</td>\n      <td>[0.07665639370679855, -0.05279401317238808, -0...</td>\n    </tr>\n    <tr>\n      <th>25</th>\n      <td>26</td>\n      <td>28</td>\n      <td>et la des droits sans que soit constituée une ...</td>\n      <td>118</td>\n      <td>[0.14347879588603973, 0.11673017591238022, 0.0...</td>\n    </tr>\n    <tr>\n      <th>26</th>\n      <td>27</td>\n      <td>29</td>\n      <td>un délai écoulé de 8 heures à 10 heures 45). A...</td>\n      <td>124</td>\n      <td>[0.14574061334133148, 0.2606757581233978, -0.1...</td>\n    </tr>\n    <tr>\n      <th>27</th>\n      <td>28</td>\n      <td>29</td>\n      <td>des étrangers du droit d'asile, en cas de viol...</td>\n      <td>122</td>\n      <td>[0.08070841431617737, 0.3099265694618225, -0.1...</td>\n    </tr>\n    <tr>\n      <th>28</th>\n      <td>29</td>\n      <td>29</td>\n      <td>ou d'inobservation formalités substantielles, ...</td>\n      <td>125</td>\n      <td>[-0.008567490614950657, 0.0072853947058320045,...</td>\n    </tr>\n    <tr>\n      <th>29</th>\n      <td>30</td>\n      <td>29</td>\n      <td>d'une demande ou qui relève d'office une telle...</td>\n      <td>124</td>\n      <td>[-0.08566577732563019, 0.0015329034067690372, ...</td>\n    </tr>\n    <tr>\n      <th>30</th>\n      <td>31</td>\n      <td>30</td>\n      <td>d'attente que celui-ci a eu pour effet de port...</td>\n      <td>123</td>\n      <td>[0.14223122596740723, 0.1932341456413269, -0.0...</td>\n    </tr>\n    <tr>\n      <th>31</th>\n      <td>32</td>\n      <td>30</td>\n      <td>R. 342-2 même code, \" à peine d'irrecevabilité...</td>\n      <td>117</td>\n      <td>[-0.12106351554393768, 0.21460390090942383, -0...</td>\n    </tr>\n    <tr>\n      <th>32</th>\n      <td>33</td>\n      <td>31</td>\n      <td>toutes pièces utiles, notamment d'une copie du...</td>\n      <td>119</td>\n      <td>[0.09504261612892151, 0.193862184882164, 0.008...</td>\n    </tr>\n    <tr>\n      <th>33</th>\n      <td>34</td>\n      <td>31</td>\n      <td>l'espèce, en lieu, un rapport 'de mise à dispo...</td>\n      <td>124</td>\n      <td>[0.030357303097844124, -0.08827555179595947, 0...</td>\n    </tr>\n    <tr>\n      <th>34</th>\n      <td>35</td>\n      <td>31</td>\n      <td>disposition du et ne correspond pas nécessaire...</td>\n      <td>120</td>\n      <td>[0.013698886148631573, 0.1755068451166153, -0....</td>\n    </tr>\n    <tr>\n      <th>35</th>\n      <td>36</td>\n      <td>32</td>\n      <td>présente spontanément tout contrôle. En second...</td>\n      <td>115</td>\n      <td>[0.08377132564783096, -0.0231351125985384, -0....</td>\n    </tr>\n    <tr>\n      <th>36</th>\n      <td>37</td>\n      <td>32</td>\n      <td>satisfaire aux du contrôle que la loi confie a...</td>\n      <td>120</td>\n      <td>[-0.004974686075001955, 0.007310536690056324, ...</td>\n    </tr>\n    <tr>\n      <th>37</th>\n      <td>38</td>\n      <td>32</td>\n      <td>ont été ces derniers jours afin de laisser app...</td>\n      <td>121</td>\n      <td>[0.10886961221694946, 0.07889009267091751, -0....</td>\n    </tr>\n    <tr>\n      <th>38</th>\n      <td>39</td>\n      <td>32</td>\n      <td>mesures et d'une part, l'heure de la première ...</td>\n      <td>124</td>\n      <td>[0.07893043011426926, -0.08146462589502335, 0....</td>\n    </tr>\n    <tr>\n      <th>39</th>\n      <td>40</td>\n      <td>32</td>\n      <td>disposition dans document signé par l'officier...</td>\n      <td>116</td>\n      <td>[0.0678558275103569, 0.10297147929668427, -0.2...</td>\n    </tr>\n    <tr>\n      <th>40</th>\n      <td>41</td>\n      <td>32</td>\n      <td>présence d'un à l'instant du contrôle mais seu...</td>\n      <td>123</td>\n      <td>[0.09939413517713547, 0.022561507299542427, -0...</td>\n    </tr>\n    <tr>\n      <th>41</th>\n      <td>42</td>\n      <td>33</td>\n      <td>bien été cas dans ce dossier. En l'espèce, il ...</td>\n      <td>122</td>\n      <td>[0.038954440504312515, 0.07176783680915833, 0....</td>\n    </tr>\n    <tr>\n      <th>42</th>\n      <td>43</td>\n      <td>34</td>\n      <td>premier contrôle la mise à disposition de l'of...</td>\n      <td>123</td>\n      <td>[0.0223760474473238, 0.0019186619902029634, 0....</td>\n    </tr>\n    <tr>\n      <th>43</th>\n      <td>44</td>\n      <td>34</td>\n      <td>déduit que délai de quelques minutes entre ce ...</td>\n      <td>124</td>\n      <td>[-0.0022464946378022432, -0.11168605089187622,...</td>\n    </tr>\n    <tr>\n      <th>44</th>\n      <td>45</td>\n      <td>34</td>\n      <td>notifié un d'entrée puis un placement en zone ...</td>\n      <td>123</td>\n      <td>[0.06588590890169144, -0.138209730386734, -0.0...</td>\n    </tr>\n    <tr>\n      <th>45</th>\n      <td>46</td>\n      <td>34</td>\n      <td>de contrôler légalité) ne saurait être considé...</td>\n      <td>122</td>\n      <td>[0.11353258043527603, -0.07966965436935425, -0...</td>\n    </tr>\n    <tr>\n      <th>46</th>\n      <td>47</td>\n      <td>34</td>\n      <td>effectif des de l'étranger. Il convient donc d...</td>\n      <td>119</td>\n      <td>[-0.11967851221561432, 0.10389850288629532, -0...</td>\n    </tr>\n    <tr>\n      <th>47</th>\n      <td>48</td>\n      <td>34</td>\n      <td>défaut d'autre soulevés en cause d'appel et au...</td>\n      <td>120</td>\n      <td>[-0.07899880409240723, -0.09378838539123535, 0...</td>\n    </tr>\n    <tr>\n      <th>48</th>\n      <td>49</td>\n      <td>37</td>\n      <td>en prolongation, le maintien en zone d'attente...</td>\n      <td>123</td>\n      <td>[-0.13298656046390533, -0.14148736000061035, -...</td>\n    </tr>\n    <tr>\n      <th>49</th>\n      <td>50</td>\n      <td>39</td>\n      <td>STATUONS à ORDONNONS la prolongation de l'inté...</td>\n      <td>120</td>\n      <td>[-0.06978411972522736, 0.024590162560343742, -...</td>\n    </tr>\n    <tr>\n      <th>50</th>\n      <td>51</td>\n      <td>40</td>\n      <td>huit jours, la remise immédiate au procureur g...</td>\n      <td>125</td>\n      <td>[-0.10482252389192581, -0.1560344099998474, -0...</td>\n    </tr>\n    <tr>\n      <th>51</th>\n      <td>52</td>\n      <td>43</td>\n      <td>mai 2023 LE GREFFIER, LE PRÉSIDENT, REÇU NOTIF...</td>\n      <td>114</td>\n      <td>[-0.09337535500526428, -0.14396248757839203, 0...</td>\n    </tr>\n    <tr>\n      <th>52</th>\n      <td>53</td>\n      <td>45</td>\n      <td>: Pour : L'ordonnance n'est pas susceptible d'...</td>\n      <td>119</td>\n      <td>[-0.044523194432258606, 0.0944317877292633, 0....</td>\n    </tr>\n    <tr>\n      <th>53</th>\n      <td>54</td>\n      <td>46</td>\n      <td>à l'autorité qui a prononcé le maintien en zon...</td>\n      <td>120</td>\n      <td>[0.07744614034891129, 0.009096630848944187, -0...</td>\n    </tr>\n    <tr>\n      <th>54</th>\n      <td>55</td>\n      <td>47</td>\n      <td>pourvoi en est de deux mois à compter de la no...</td>\n      <td>123</td>\n      <td>[0.0672001913189888, -0.01041114330291748, -0....</td>\n    </tr>\n    <tr>\n      <th>55</th>\n      <td>56</td>\n      <td>48</td>\n      <td>au secrétariat de la Cour de cassation par l'a...</td>\n      <td>123</td>\n      <td>[0.05033569037914276, 0.02239435911178589, 0.0...</td>\n    </tr>\n    <tr>\n      <th>56</th>\n      <td>57</td>\n      <td>48</td>\n      <td>le demandeur. préfet ou son représentant</td>\n      <td>40</td>\n      <td>[0.007950348779559135, -0.11897075176239014, -...</td>\n    </tr>\n  </tbody>\n</table>\n</div>"
     },
     "execution_count": 973,
     "metadata": {},
     "output_type": "execute_result"
    }
   ],
   "source": [
    "df_content_3"
   ],
   "metadata": {
    "collapsed": false,
    "ExecuteTime": {
     "end_time": "2023-10-20T09:35:40.517768Z",
     "start_time": "2023-10-20T09:35:40.490020Z"
    }
   }
  },
  {
   "cell_type": "code",
   "execution_count": 974,
   "outputs": [],
   "source": [
    "df_content_4 = add_embedding(df_content_4)"
   ],
   "metadata": {
    "collapsed": false,
    "ExecuteTime": {
     "end_time": "2023-10-20T09:36:05.781239Z",
     "start_time": "2023-10-20T09:36:00.166982Z"
    }
   }
  },
  {
   "cell_type": "code",
   "execution_count": 975,
   "outputs": [
    {
     "data": {
      "text/plain": "     chunck  line                                            passage  length  \\\n0         1     5  AFFAIRE : N° RG 17/01969 - N° Portalis DBVC-V-...     120   \n1         2    11  Instance de du 04 Mai 2017 RG n° 14/01070 COUR...     120   \n2         3    15  APPELANTE : [P] [D] [J] épouse [R] née le 03 A...     125   \n3         4    20  de Me MARIN, avocat au barreau de COUTANCES IN...     123   \n4         5    24  [Adresse 7] 7] [Localité 2] PORTUGAL représent...     125   \n..      ...   ...                                                ...     ...   \n134     135   113  notaire désigné reconstituer l'ensemble des bi...     121   \n135     136   114  d'un inventaire de ses biens, DÉBOUTE Monsieur...     125   \n136     137   115  coupable d'un successoral, DÉBOUTE Madame [P] ...     122   \n137     138   116  de procédure DIT que les dépens de première in...     123   \n138     139   118  en frais de partage. LE GREFFIER LE PRÉSIDENT ...      69   \n\n                                             embedding  \n0    [-0.1417488306760788, 0.22990219295024872, 0.0...  \n1    [-0.10070295631885529, -0.018261058256030083, ...  \n2    [0.11897075176239014, -0.11624112725257874, -0...  \n3    [-0.08550024777650833, -0.3563879430294037, 0....  \n4    [-0.07332728803157806, 0.09062452614307404, 0....  \n..                                                 ...  \n134  [0.04915355145931244, -0.00614664563909173, 0....  \n135  [0.010334240272641182, 0.07093925774097443, -0...  \n136  [-0.02582922950387001, -0.01727529987692833, 0...  \n137  [-0.017913158982992172, -0.13427157700061798, ...  \n138  [0.0027932976372539997, -0.235946923494339, -0...  \n\n[139 rows x 5 columns]",
      "text/html": "<div>\n<style scoped>\n    .dataframe tbody tr th:only-of-type {\n        vertical-align: middle;\n    }\n\n    .dataframe tbody tr th {\n        vertical-align: top;\n    }\n\n    .dataframe thead th {\n        text-align: right;\n    }\n</style>\n<table border=\"1\" class=\"dataframe\">\n  <thead>\n    <tr style=\"text-align: right;\">\n      <th></th>\n      <th>chunck</th>\n      <th>line</th>\n      <th>passage</th>\n      <th>length</th>\n      <th>embedding</th>\n    </tr>\n  </thead>\n  <tbody>\n    <tr>\n      <th>0</th>\n      <td>1</td>\n      <td>5</td>\n      <td>AFFAIRE : N° RG 17/01969 - N° Portalis DBVC-V-...</td>\n      <td>120</td>\n      <td>[-0.1417488306760788, 0.22990219295024872, 0.0...</td>\n    </tr>\n    <tr>\n      <th>1</th>\n      <td>2</td>\n      <td>11</td>\n      <td>Instance de du 04 Mai 2017 RG n° 14/01070 COUR...</td>\n      <td>120</td>\n      <td>[-0.10070295631885529, -0.018261058256030083, ...</td>\n    </tr>\n    <tr>\n      <th>2</th>\n      <td>3</td>\n      <td>15</td>\n      <td>APPELANTE : [P] [D] [J] épouse [R] née le 03 A...</td>\n      <td>125</td>\n      <td>[0.11897075176239014, -0.11624112725257874, -0...</td>\n    </tr>\n    <tr>\n      <th>3</th>\n      <td>4</td>\n      <td>20</td>\n      <td>de Me MARIN, avocat au barreau de COUTANCES IN...</td>\n      <td>123</td>\n      <td>[-0.08550024777650833, -0.3563879430294037, 0....</td>\n    </tr>\n    <tr>\n      <th>4</th>\n      <td>5</td>\n      <td>24</td>\n      <td>[Adresse 7] 7] [Localité 2] PORTUGAL représent...</td>\n      <td>125</td>\n      <td>[-0.07332728803157806, 0.09062452614307404, 0....</td>\n    </tr>\n    <tr>\n      <th>...</th>\n      <td>...</td>\n      <td>...</td>\n      <td>...</td>\n      <td>...</td>\n      <td>...</td>\n    </tr>\n    <tr>\n      <th>134</th>\n      <td>135</td>\n      <td>113</td>\n      <td>notaire désigné reconstituer l'ensemble des bi...</td>\n      <td>121</td>\n      <td>[0.04915355145931244, -0.00614664563909173, 0....</td>\n    </tr>\n    <tr>\n      <th>135</th>\n      <td>136</td>\n      <td>114</td>\n      <td>d'un inventaire de ses biens, DÉBOUTE Monsieur...</td>\n      <td>125</td>\n      <td>[0.010334240272641182, 0.07093925774097443, -0...</td>\n    </tr>\n    <tr>\n      <th>136</th>\n      <td>137</td>\n      <td>115</td>\n      <td>coupable d'un successoral, DÉBOUTE Madame [P] ...</td>\n      <td>122</td>\n      <td>[-0.02582922950387001, -0.01727529987692833, 0...</td>\n    </tr>\n    <tr>\n      <th>137</th>\n      <td>138</td>\n      <td>116</td>\n      <td>de procédure DIT que les dépens de première in...</td>\n      <td>123</td>\n      <td>[-0.017913158982992172, -0.13427157700061798, ...</td>\n    </tr>\n    <tr>\n      <th>138</th>\n      <td>139</td>\n      <td>118</td>\n      <td>en frais de partage. LE GREFFIER LE PRÉSIDENT ...</td>\n      <td>69</td>\n      <td>[0.0027932976372539997, -0.235946923494339, -0...</td>\n    </tr>\n  </tbody>\n</table>\n<p>139 rows × 5 columns</p>\n</div>"
     },
     "execution_count": 975,
     "metadata": {},
     "output_type": "execute_result"
    }
   ],
   "source": [
    "df_content_4"
   ],
   "metadata": {
    "collapsed": false,
    "ExecuteTime": {
     "end_time": "2023-10-20T09:36:11.335534Z",
     "start_time": "2023-10-20T09:36:11.240235Z"
    }
   }
  },
  {
   "cell_type": "code",
   "execution_count": 976,
   "outputs": [],
   "source": [
    "df_content_5 = add_embedding(df_content_5)"
   ],
   "metadata": {
    "collapsed": false,
    "ExecuteTime": {
     "end_time": "2023-10-20T09:37:18.636473Z",
     "start_time": "2023-10-20T09:37:16.126557Z"
    }
   }
  },
  {
   "cell_type": "code",
   "execution_count": 977,
   "outputs": [
    {
     "data": {
      "text/plain": "    chunck  line                                            passage  length  \\\n0        1     8  N° RG 23/04670 - N° Portalis DBVX-V-B7H-PATU N...     125   \n1        2    11  DE LYON DU PREMIER PRÉSIDENT ORDONNANCE DU 09 ...     125   \n2        3    11  Etrangers Nous, OUDOT, conseiller à la cour d'...     120   \n3        4    11  présidente de Cour en date du 02 janvier 2023 ...     123   \n4        5    12  articles L.342-7, 342-12, L. 743-11 et L. 743-...     123   \n5        6    12  droit d'asile, lors des débats de Charlotte CO...     117   \n6        7    16  mise à En l'absence du ministère public, En au...     124   \n7        8    19  : M. [I] né le 11 Avril 1996 à [Localité 3] de...     112   \n8        9    20  de rétention [4] comparant assisté de Maître C...     123   \n9       10    22  concours de [U] [D], interprète en langue arab...     125   \n10      11    26  ET INTIME M. LE PREFET DU PUY DE DOME [Adresse...     125   \n11      12    27  Maître Eddy avocat au barreau de LYON, pour la...     123   \n12      13    27  l'AIN, Avons l'affaire en délibéré au 09 Juin ...     120   \n13      14    29  dont la suit : FAITS ET PROCÉDURE Par décision...     122   \n14      15    29  placement de [I] en rétention dans les locaux ...     125   \n15      16    29  permettre l'exécution l'arrêté du 06 août 2022...     117   \n16      17    30  quitter le français sans délai de départ volon...     125   \n17      18    30  du 10 2023, le juge des libertés et de la déte...     119   \n18      19    31  durée de jours. Suivant requête du 06 juin 202...     123   \n19      20    31  le juge libertés et de la détention du tribuna...     124   \n20      21    31  de la pour une durée de trente jours de X se d...     118   \n21      22    31  [Localité 3] alias M.X se disant [E] [O], ress...     123   \n22      23    32  X se [W] [O], né le 11 avril 1996 a [Localité ...     122   \n23      24    33  juge des et de la détention du tribunal judici...     125   \n24      25    33  08 juin à 09 heures 59 [O] [I] a interjeté app...     117   \n25      26    34  remise en Il fait valoir que la préfecture n'a...     125   \n26      27    35  pendant le de sa première prolongation. Les pa...     125   \n27      28    37  10 heures [O] [I] a comparu et a été assisté d...     120   \n28      29    38  en sa pour soutenir les termes de la requête d...     120   \n29      30    39  demandé la de l'ordonnance déférée. [O] [I] a ...     121   \n30      31    41  et se en Espagne où il résidait avant. Il epxl...     123   \n31      32    43  recevabilité de Attendu que l'appel de [O] [I]...     123   \n32      33    44  bien-fondé de requête et l'obligation de dilig...     123   \n33      34    44  la préfecture pas effectué les diligences néce...     112   \n34      35    45  sa rétention ; Attendu que l'obligation de dil...     123   \n35      36    45  des dispositions l'article L. 741-3 du CESEDA ...     122   \n36      37    46  étant précisé la préfecture ne dispose d'aucun...     123   \n37      38    47  consulaires ; que dans sa requête en prolongat...     121   \n38      39    47  : - a saisi dès le 09 mai 2023 les autorités c...     124   \n39      40    48  pour [O] qui circulait sans document d'identit...     119   \n40      41    49  et le de l'intéressé par envoi du 09 mai 2023 ...     119   \n41      42    50  a été le 05 juin 2023 ; Attendu que ces élémen...     125   \n42      43    50  ainsi caractérisé la préfecture du Puy-de-Dôme...     114   \n43      44    51  pour permettre de la mesure d'éloignement et q...     124   \n44      45    51  que la de la rétention est justifiée par le dé...     116   \n45      46    51  dont relève ; Que les conditions d'une seconde...     121   \n46      47    53  CESEDA sont ainsi que l'a retenu le premier ju...     124   \n47      48    56  recevable l'appel par [O] [I], Confirmons l'or...     121   \n48      49    56                                    TAHIRI Isabelle      15   \n\n                                            embedding  \n0   [-0.10740561783313751, 0.09368302673101425, -0...  \n1   [-0.039633724838495255, 0.13697783648967743, 0...  \n2   [0.03252066299319267, -0.056842055171728134, -...  \n3   [-0.12103395909070969, 0.14488090574741364, 0....  \n4   [0.05655829980969429, 0.45930615067481995, -0....  \n5   [0.0013780719600617886, 0.338405042886734, -0....  \n6   [-0.07082938402891159, 0.01446256972849369, 0....  \n7   [0.022952787578105927, 0.17848838865756989, -0...  \n8   [0.005920060444623232, 0.18671278655529022, 0....  \n9   [0.07425311952829361, 0.42746758460998535, -0....  \n10  [-0.04727059230208397, 0.13770456612110138, 0....  \n11  [-0.07169102877378464, 0.26412856578826904, 0....  \n12  [-0.08252198249101639, 0.0037037967704236507, ...  \n13  [-0.1855015605688095, 0.19991867244243622, -0....  \n14  [0.011380408890545368, 0.12027817219495773, -0...  \n15  [-0.0005795898614451289, 0.0751265361905098, -...  \n16  [0.16161800920963287, 0.09873911738395691, -0....  \n17  [-0.07625945657491684, 0.001573550864122808, -...  \n18  [-0.014460587874054909, 0.1658332496881485, -0...  \n19  [0.04694189876317978, -0.06670716404914856, -0...  \n20  [0.17974311113357544, 0.30003252625465393, -0....  \n21  [0.04742904379963875, -0.007620280142873526, -...  \n22  [0.06913989037275314, 0.06420484185218811, -0....  \n23  [0.022524269297719002, 0.19548995792865753, 0....  \n24  [-0.038961946964263916, 0.0035193245857954025,...  \n25  [0.16508471965789795, 0.016764812171459198, -0...  \n26  [-0.16173963248729706, 0.0016540599754080176, ...  \n27  [0.16009946167469025, 0.17459265887737274, 0.0...  \n28  [0.05623145028948784, 0.0640532374382019, -0.1...  \n29  [0.0886148065328598, 0.19737397134304047, 0.14...  \n30  [-0.007295428775250912, 0.07151355594396591, -...  \n31  [-0.11693046241998672, -0.0017407807754352689,...  \n32  [0.027289073914289474, 0.08542925119400024, -0...  \n33  [0.09375108778476715, -0.024485284462571144, -...  \n34  [0.144687220454216, 0.13888929784297943, 0.054...  \n35  [0.008546675555408001, 0.247287318110466, -0.0...  \n36  [0.08031947165727615, 0.0683402344584465, -0.1...  \n37  [-0.01792481355369091, 0.08378458023071289, -0...  \n38  [0.043542008846998215, 0.05170738697052002, -0...  \n39  [0.17925362288951874, 0.18811587989330292, -0....  \n40  [-0.11436538398265839, -0.09892411530017853, -...  \n41  [-0.09361264109611511, 0.013728479854762554, -...  \n42  [0.0743802860379219, 0.03439253568649292, -0.0...  \n43  [0.10140223056077957, -0.06076669692993164, 0....  \n44  [0.07846827805042267, 0.22538015246391296, 0.1...  \n45  [-0.14451047778129578, 0.12664367258548737, -0...  \n46  [-0.17913641035556793, 0.15458859503269196, 0....  \n47  [-0.09104715287685394, -0.039726048707962036, ...  \n48  [-0.0038518651854246855, 0.22058475017547607, ...  ",
      "text/html": "<div>\n<style scoped>\n    .dataframe tbody tr th:only-of-type {\n        vertical-align: middle;\n    }\n\n    .dataframe tbody tr th {\n        vertical-align: top;\n    }\n\n    .dataframe thead th {\n        text-align: right;\n    }\n</style>\n<table border=\"1\" class=\"dataframe\">\n  <thead>\n    <tr style=\"text-align: right;\">\n      <th></th>\n      <th>chunck</th>\n      <th>line</th>\n      <th>passage</th>\n      <th>length</th>\n      <th>embedding</th>\n    </tr>\n  </thead>\n  <tbody>\n    <tr>\n      <th>0</th>\n      <td>1</td>\n      <td>8</td>\n      <td>N° RG 23/04670 - N° Portalis DBVX-V-B7H-PATU N...</td>\n      <td>125</td>\n      <td>[-0.10740561783313751, 0.09368302673101425, -0...</td>\n    </tr>\n    <tr>\n      <th>1</th>\n      <td>2</td>\n      <td>11</td>\n      <td>DE LYON DU PREMIER PRÉSIDENT ORDONNANCE DU 09 ...</td>\n      <td>125</td>\n      <td>[-0.039633724838495255, 0.13697783648967743, 0...</td>\n    </tr>\n    <tr>\n      <th>2</th>\n      <td>3</td>\n      <td>11</td>\n      <td>Etrangers Nous, OUDOT, conseiller à la cour d'...</td>\n      <td>120</td>\n      <td>[0.03252066299319267, -0.056842055171728134, -...</td>\n    </tr>\n    <tr>\n      <th>3</th>\n      <td>4</td>\n      <td>11</td>\n      <td>présidente de Cour en date du 02 janvier 2023 ...</td>\n      <td>123</td>\n      <td>[-0.12103395909070969, 0.14488090574741364, 0....</td>\n    </tr>\n    <tr>\n      <th>4</th>\n      <td>5</td>\n      <td>12</td>\n      <td>articles L.342-7, 342-12, L. 743-11 et L. 743-...</td>\n      <td>123</td>\n      <td>[0.05655829980969429, 0.45930615067481995, -0....</td>\n    </tr>\n    <tr>\n      <th>5</th>\n      <td>6</td>\n      <td>12</td>\n      <td>droit d'asile, lors des débats de Charlotte CO...</td>\n      <td>117</td>\n      <td>[0.0013780719600617886, 0.338405042886734, -0....</td>\n    </tr>\n    <tr>\n      <th>6</th>\n      <td>7</td>\n      <td>16</td>\n      <td>mise à En l'absence du ministère public, En au...</td>\n      <td>124</td>\n      <td>[-0.07082938402891159, 0.01446256972849369, 0....</td>\n    </tr>\n    <tr>\n      <th>7</th>\n      <td>8</td>\n      <td>19</td>\n      <td>: M. [I] né le 11 Avril 1996 à [Localité 3] de...</td>\n      <td>112</td>\n      <td>[0.022952787578105927, 0.17848838865756989, -0...</td>\n    </tr>\n    <tr>\n      <th>8</th>\n      <td>9</td>\n      <td>20</td>\n      <td>de rétention [4] comparant assisté de Maître C...</td>\n      <td>123</td>\n      <td>[0.005920060444623232, 0.18671278655529022, 0....</td>\n    </tr>\n    <tr>\n      <th>9</th>\n      <td>10</td>\n      <td>22</td>\n      <td>concours de [U] [D], interprète en langue arab...</td>\n      <td>125</td>\n      <td>[0.07425311952829361, 0.42746758460998535, -0....</td>\n    </tr>\n    <tr>\n      <th>10</th>\n      <td>11</td>\n      <td>26</td>\n      <td>ET INTIME M. LE PREFET DU PUY DE DOME [Adresse...</td>\n      <td>125</td>\n      <td>[-0.04727059230208397, 0.13770456612110138, 0....</td>\n    </tr>\n    <tr>\n      <th>11</th>\n      <td>12</td>\n      <td>27</td>\n      <td>Maître Eddy avocat au barreau de LYON, pour la...</td>\n      <td>123</td>\n      <td>[-0.07169102877378464, 0.26412856578826904, 0....</td>\n    </tr>\n    <tr>\n      <th>12</th>\n      <td>13</td>\n      <td>27</td>\n      <td>l'AIN, Avons l'affaire en délibéré au 09 Juin ...</td>\n      <td>120</td>\n      <td>[-0.08252198249101639, 0.0037037967704236507, ...</td>\n    </tr>\n    <tr>\n      <th>13</th>\n      <td>14</td>\n      <td>29</td>\n      <td>dont la suit : FAITS ET PROCÉDURE Par décision...</td>\n      <td>122</td>\n      <td>[-0.1855015605688095, 0.19991867244243622, -0....</td>\n    </tr>\n    <tr>\n      <th>14</th>\n      <td>15</td>\n      <td>29</td>\n      <td>placement de [I] en rétention dans les locaux ...</td>\n      <td>125</td>\n      <td>[0.011380408890545368, 0.12027817219495773, -0...</td>\n    </tr>\n    <tr>\n      <th>15</th>\n      <td>16</td>\n      <td>29</td>\n      <td>permettre l'exécution l'arrêté du 06 août 2022...</td>\n      <td>117</td>\n      <td>[-0.0005795898614451289, 0.0751265361905098, -...</td>\n    </tr>\n    <tr>\n      <th>16</th>\n      <td>17</td>\n      <td>30</td>\n      <td>quitter le français sans délai de départ volon...</td>\n      <td>125</td>\n      <td>[0.16161800920963287, 0.09873911738395691, -0....</td>\n    </tr>\n    <tr>\n      <th>17</th>\n      <td>18</td>\n      <td>30</td>\n      <td>du 10 2023, le juge des libertés et de la déte...</td>\n      <td>119</td>\n      <td>[-0.07625945657491684, 0.001573550864122808, -...</td>\n    </tr>\n    <tr>\n      <th>18</th>\n      <td>19</td>\n      <td>31</td>\n      <td>durée de jours. Suivant requête du 06 juin 202...</td>\n      <td>123</td>\n      <td>[-0.014460587874054909, 0.1658332496881485, -0...</td>\n    </tr>\n    <tr>\n      <th>19</th>\n      <td>20</td>\n      <td>31</td>\n      <td>le juge libertés et de la détention du tribuna...</td>\n      <td>124</td>\n      <td>[0.04694189876317978, -0.06670716404914856, -0...</td>\n    </tr>\n    <tr>\n      <th>20</th>\n      <td>21</td>\n      <td>31</td>\n      <td>de la pour une durée de trente jours de X se d...</td>\n      <td>118</td>\n      <td>[0.17974311113357544, 0.30003252625465393, -0....</td>\n    </tr>\n    <tr>\n      <th>21</th>\n      <td>22</td>\n      <td>31</td>\n      <td>[Localité 3] alias M.X se disant [E] [O], ress...</td>\n      <td>123</td>\n      <td>[0.04742904379963875, -0.007620280142873526, -...</td>\n    </tr>\n    <tr>\n      <th>22</th>\n      <td>23</td>\n      <td>32</td>\n      <td>X se [W] [O], né le 11 avril 1996 a [Localité ...</td>\n      <td>122</td>\n      <td>[0.06913989037275314, 0.06420484185218811, -0....</td>\n    </tr>\n    <tr>\n      <th>23</th>\n      <td>24</td>\n      <td>33</td>\n      <td>juge des et de la détention du tribunal judici...</td>\n      <td>125</td>\n      <td>[0.022524269297719002, 0.19548995792865753, 0....</td>\n    </tr>\n    <tr>\n      <th>24</th>\n      <td>25</td>\n      <td>33</td>\n      <td>08 juin à 09 heures 59 [O] [I] a interjeté app...</td>\n      <td>117</td>\n      <td>[-0.038961946964263916, 0.0035193245857954025,...</td>\n    </tr>\n    <tr>\n      <th>25</th>\n      <td>26</td>\n      <td>34</td>\n      <td>remise en Il fait valoir que la préfecture n'a...</td>\n      <td>125</td>\n      <td>[0.16508471965789795, 0.016764812171459198, -0...</td>\n    </tr>\n    <tr>\n      <th>26</th>\n      <td>27</td>\n      <td>35</td>\n      <td>pendant le de sa première prolongation. Les pa...</td>\n      <td>125</td>\n      <td>[-0.16173963248729706, 0.0016540599754080176, ...</td>\n    </tr>\n    <tr>\n      <th>27</th>\n      <td>28</td>\n      <td>37</td>\n      <td>10 heures [O] [I] a comparu et a été assisté d...</td>\n      <td>120</td>\n      <td>[0.16009946167469025, 0.17459265887737274, 0.0...</td>\n    </tr>\n    <tr>\n      <th>28</th>\n      <td>29</td>\n      <td>38</td>\n      <td>en sa pour soutenir les termes de la requête d...</td>\n      <td>120</td>\n      <td>[0.05623145028948784, 0.0640532374382019, -0.1...</td>\n    </tr>\n    <tr>\n      <th>29</th>\n      <td>30</td>\n      <td>39</td>\n      <td>demandé la de l'ordonnance déférée. [O] [I] a ...</td>\n      <td>121</td>\n      <td>[0.0886148065328598, 0.19737397134304047, 0.14...</td>\n    </tr>\n    <tr>\n      <th>30</th>\n      <td>31</td>\n      <td>41</td>\n      <td>et se en Espagne où il résidait avant. Il epxl...</td>\n      <td>123</td>\n      <td>[-0.007295428775250912, 0.07151355594396591, -...</td>\n    </tr>\n    <tr>\n      <th>31</th>\n      <td>32</td>\n      <td>43</td>\n      <td>recevabilité de Attendu que l'appel de [O] [I]...</td>\n      <td>123</td>\n      <td>[-0.11693046241998672, -0.0017407807754352689,...</td>\n    </tr>\n    <tr>\n      <th>32</th>\n      <td>33</td>\n      <td>44</td>\n      <td>bien-fondé de requête et l'obligation de dilig...</td>\n      <td>123</td>\n      <td>[0.027289073914289474, 0.08542925119400024, -0...</td>\n    </tr>\n    <tr>\n      <th>33</th>\n      <td>34</td>\n      <td>44</td>\n      <td>la préfecture pas effectué les diligences néce...</td>\n      <td>112</td>\n      <td>[0.09375108778476715, -0.024485284462571144, -...</td>\n    </tr>\n    <tr>\n      <th>34</th>\n      <td>35</td>\n      <td>45</td>\n      <td>sa rétention ; Attendu que l'obligation de dil...</td>\n      <td>123</td>\n      <td>[0.144687220454216, 0.13888929784297943, 0.054...</td>\n    </tr>\n    <tr>\n      <th>35</th>\n      <td>36</td>\n      <td>45</td>\n      <td>des dispositions l'article L. 741-3 du CESEDA ...</td>\n      <td>122</td>\n      <td>[0.008546675555408001, 0.247287318110466, -0.0...</td>\n    </tr>\n    <tr>\n      <th>36</th>\n      <td>37</td>\n      <td>46</td>\n      <td>étant précisé la préfecture ne dispose d'aucun...</td>\n      <td>123</td>\n      <td>[0.08031947165727615, 0.0683402344584465, -0.1...</td>\n    </tr>\n    <tr>\n      <th>37</th>\n      <td>38</td>\n      <td>47</td>\n      <td>consulaires ; que dans sa requête en prolongat...</td>\n      <td>121</td>\n      <td>[-0.01792481355369091, 0.08378458023071289, -0...</td>\n    </tr>\n    <tr>\n      <th>38</th>\n      <td>39</td>\n      <td>47</td>\n      <td>: - a saisi dès le 09 mai 2023 les autorités c...</td>\n      <td>124</td>\n      <td>[0.043542008846998215, 0.05170738697052002, -0...</td>\n    </tr>\n    <tr>\n      <th>39</th>\n      <td>40</td>\n      <td>48</td>\n      <td>pour [O] qui circulait sans document d'identit...</td>\n      <td>119</td>\n      <td>[0.17925362288951874, 0.18811587989330292, -0....</td>\n    </tr>\n    <tr>\n      <th>40</th>\n      <td>41</td>\n      <td>49</td>\n      <td>et le de l'intéressé par envoi du 09 mai 2023 ...</td>\n      <td>119</td>\n      <td>[-0.11436538398265839, -0.09892411530017853, -...</td>\n    </tr>\n    <tr>\n      <th>41</th>\n      <td>42</td>\n      <td>50</td>\n      <td>a été le 05 juin 2023 ; Attendu que ces élémen...</td>\n      <td>125</td>\n      <td>[-0.09361264109611511, 0.013728479854762554, -...</td>\n    </tr>\n    <tr>\n      <th>42</th>\n      <td>43</td>\n      <td>50</td>\n      <td>ainsi caractérisé la préfecture du Puy-de-Dôme...</td>\n      <td>114</td>\n      <td>[0.0743802860379219, 0.03439253568649292, -0.0...</td>\n    </tr>\n    <tr>\n      <th>43</th>\n      <td>44</td>\n      <td>51</td>\n      <td>pour permettre de la mesure d'éloignement et q...</td>\n      <td>124</td>\n      <td>[0.10140223056077957, -0.06076669692993164, 0....</td>\n    </tr>\n    <tr>\n      <th>44</th>\n      <td>45</td>\n      <td>51</td>\n      <td>que la de la rétention est justifiée par le dé...</td>\n      <td>116</td>\n      <td>[0.07846827805042267, 0.22538015246391296, 0.1...</td>\n    </tr>\n    <tr>\n      <th>45</th>\n      <td>46</td>\n      <td>51</td>\n      <td>dont relève ; Que les conditions d'une seconde...</td>\n      <td>121</td>\n      <td>[-0.14451047778129578, 0.12664367258548737, -0...</td>\n    </tr>\n    <tr>\n      <th>46</th>\n      <td>47</td>\n      <td>53</td>\n      <td>CESEDA sont ainsi que l'a retenu le premier ju...</td>\n      <td>124</td>\n      <td>[-0.17913641035556793, 0.15458859503269196, 0....</td>\n    </tr>\n    <tr>\n      <th>47</th>\n      <td>48</td>\n      <td>56</td>\n      <td>recevable l'appel par [O] [I], Confirmons l'or...</td>\n      <td>121</td>\n      <td>[-0.09104715287685394, -0.039726048707962036, ...</td>\n    </tr>\n    <tr>\n      <th>48</th>\n      <td>49</td>\n      <td>56</td>\n      <td>TAHIRI Isabelle</td>\n      <td>15</td>\n      <td>[-0.0038518651854246855, 0.22058475017547607, ...</td>\n    </tr>\n  </tbody>\n</table>\n</div>"
     },
     "execution_count": 977,
     "metadata": {},
     "output_type": "execute_result"
    }
   ],
   "source": [
    "df_content_5"
   ],
   "metadata": {
    "collapsed": false,
    "ExecuteTime": {
     "end_time": "2023-10-20T09:37:19.515109Z",
     "start_time": "2023-10-20T09:37:19.487562Z"
    }
   }
  },
  {
   "cell_type": "code",
   "execution_count": 978,
   "outputs": [],
   "source": [
    "df_content_6 = add_embedding(df_content_6)"
   ],
   "metadata": {
    "collapsed": false,
    "ExecuteTime": {
     "end_time": "2023-10-20T09:38:44.470053Z",
     "start_time": "2023-10-20T09:38:38.045677Z"
    }
   }
  },
  {
   "cell_type": "code",
   "execution_count": 979,
   "outputs": [
    {
     "data": {
      "text/plain": "     chunck  line                                            passage  length  \\\n0         1     7  AFFAIRE PRUD'HOMALE DOUBLE RAPPORTEUR N° RG 20...     119   \n1         2     9  ALPES Association DELEGATION CGEA D'[Localité ...     125   \n2         3    16  départage de du 20 Février 2020 RG : F 17/0377...     123   \n3         4    20  : [F] né le 26 Juin 1970 à [Localité 8] (REP. ...     122   \n4         5    22  avocat au de LYON INTIMEES : Société MJ ALPES ...     125   \n..      ...   ...                                                ...     ...   \n181     182   139  : M. qui succombe en appel, sera condamné aux ...     125   \n182     183   141  SELARL MJ les sommes non comprises dans les dé...     121   \n183     184   144  Cour statuant par arrêt mis à disposition, con...     125   \n184     185   145  Y ajoutant, M. [F] [O] aux dépens d'appel ; Dé...     122   \n185     186   146  de sa fondée sur l'article 700 du code de proc...     103   \n\n                                             embedding  \n0    [-0.2117411494255066, -0.10589243471622467, -0...  \n1    [-0.011240305379033089, 0.3195570111274719, -0...  \n2    [-0.04798930138349533, 0.07934211194515228, 0....  \n3    [-0.09031045436859131, 0.11932031065225601, -0...  \n4    [0.007273287978023291, -0.03339439630508423, 0...  \n..                                                 ...  \n181  [-0.06760668754577637, -0.24529024958610535, 0...  \n182  [0.03650336712598801, -0.22213666141033173, 0....  \n183  [0.014315630309283733, 0.2435886114835739, -0....  \n184  [-0.11188085377216339, 0.12750406563282013, -0...  \n185  [0.022546488791704178, 0.1774669885635376, 0.0...  \n\n[186 rows x 5 columns]",
      "text/html": "<div>\n<style scoped>\n    .dataframe tbody tr th:only-of-type {\n        vertical-align: middle;\n    }\n\n    .dataframe tbody tr th {\n        vertical-align: top;\n    }\n\n    .dataframe thead th {\n        text-align: right;\n    }\n</style>\n<table border=\"1\" class=\"dataframe\">\n  <thead>\n    <tr style=\"text-align: right;\">\n      <th></th>\n      <th>chunck</th>\n      <th>line</th>\n      <th>passage</th>\n      <th>length</th>\n      <th>embedding</th>\n    </tr>\n  </thead>\n  <tbody>\n    <tr>\n      <th>0</th>\n      <td>1</td>\n      <td>7</td>\n      <td>AFFAIRE PRUD'HOMALE DOUBLE RAPPORTEUR N° RG 20...</td>\n      <td>119</td>\n      <td>[-0.2117411494255066, -0.10589243471622467, -0...</td>\n    </tr>\n    <tr>\n      <th>1</th>\n      <td>2</td>\n      <td>9</td>\n      <td>ALPES Association DELEGATION CGEA D'[Localité ...</td>\n      <td>125</td>\n      <td>[-0.011240305379033089, 0.3195570111274719, -0...</td>\n    </tr>\n    <tr>\n      <th>2</th>\n      <td>3</td>\n      <td>16</td>\n      <td>départage de du 20 Février 2020 RG : F 17/0377...</td>\n      <td>123</td>\n      <td>[-0.04798930138349533, 0.07934211194515228, 0....</td>\n    </tr>\n    <tr>\n      <th>3</th>\n      <td>4</td>\n      <td>20</td>\n      <td>: [F] né le 26 Juin 1970 à [Localité 8] (REP. ...</td>\n      <td>122</td>\n      <td>[-0.09031045436859131, 0.11932031065225601, -0...</td>\n    </tr>\n    <tr>\n      <th>4</th>\n      <td>5</td>\n      <td>22</td>\n      <td>avocat au de LYON INTIMEES : Société MJ ALPES ...</td>\n      <td>125</td>\n      <td>[0.007273287978023291, -0.03339439630508423, 0...</td>\n    </tr>\n    <tr>\n      <th>...</th>\n      <td>...</td>\n      <td>...</td>\n      <td>...</td>\n      <td>...</td>\n      <td>...</td>\n    </tr>\n    <tr>\n      <th>181</th>\n      <td>182</td>\n      <td>139</td>\n      <td>: M. qui succombe en appel, sera condamné aux ...</td>\n      <td>125</td>\n      <td>[-0.06760668754577637, -0.24529024958610535, 0...</td>\n    </tr>\n    <tr>\n      <th>182</th>\n      <td>183</td>\n      <td>141</td>\n      <td>SELARL MJ les sommes non comprises dans les dé...</td>\n      <td>121</td>\n      <td>[0.03650336712598801, -0.22213666141033173, 0....</td>\n    </tr>\n    <tr>\n      <th>183</th>\n      <td>184</td>\n      <td>144</td>\n      <td>Cour statuant par arrêt mis à disposition, con...</td>\n      <td>125</td>\n      <td>[0.014315630309283733, 0.2435886114835739, -0....</td>\n    </tr>\n    <tr>\n      <th>184</th>\n      <td>185</td>\n      <td>145</td>\n      <td>Y ajoutant, M. [F] [O] aux dépens d'appel ; Dé...</td>\n      <td>122</td>\n      <td>[-0.11188085377216339, 0.12750406563282013, -0...</td>\n    </tr>\n    <tr>\n      <th>185</th>\n      <td>186</td>\n      <td>146</td>\n      <td>de sa fondée sur l'article 700 du code de proc...</td>\n      <td>103</td>\n      <td>[0.022546488791704178, 0.1774669885635376, 0.0...</td>\n    </tr>\n  </tbody>\n</table>\n<p>186 rows × 5 columns</p>\n</div>"
     },
     "execution_count": 979,
     "metadata": {},
     "output_type": "execute_result"
    }
   ],
   "source": [
    "df_content_6"
   ],
   "metadata": {
    "collapsed": false,
    "ExecuteTime": {
     "end_time": "2023-10-20T09:38:47.167187Z",
     "start_time": "2023-10-20T09:38:47.151993Z"
    }
   }
  },
  {
   "cell_type": "code",
   "execution_count": 1,
   "outputs": [],
   "source": [
    "from  tqdm import tqdm"
   ],
   "metadata": {
    "collapsed": false,
    "ExecuteTime": {
     "end_time": "2023-10-21T16:21:35.018992Z",
     "start_time": "2023-10-21T16:21:35.008727Z"
    }
   }
  },
  {
   "cell_type": "code",
   "execution_count": 4,
   "outputs": [],
   "source": [
    "import shutil"
   ],
   "metadata": {
    "collapsed": false,
    "ExecuteTime": {
     "end_time": "2023-10-21T16:28:02.238570Z",
     "start_time": "2023-10-21T16:28:02.232768Z"
    }
   }
  },
  {
   "cell_type": "code",
   "execution_count": 8,
   "outputs": [],
   "source": [
    "import os"
   ],
   "metadata": {
    "collapsed": false,
    "ExecuteTime": {
     "end_time": "2023-10-21T16:31:50.976142Z",
     "start_time": "2023-10-21T16:31:50.966874Z"
    }
   }
  },
  {
   "cell_type": "code",
   "execution_count": 12,
   "outputs": [],
   "source": [
    "def init_dir():\n",
    "    path = 'judilibre_json/data'\n",
    "    if os.path.exists(path):\n",
    "        shutil.rmtree(path)\n",
    "        print(f\"Directory '{path}' and its contents have been removed.\")\n",
    "    os.makedirs(path)"
   ],
   "metadata": {
    "collapsed": false,
    "ExecuteTime": {
     "end_time": "2023-10-21T16:33:19.756470Z",
     "start_time": "2023-10-21T16:33:19.748255Z"
    }
   }
  },
  {
   "cell_type": "code",
   "execution_count": 13,
   "outputs": [],
   "source": [
    "def create_files():\n",
    "    init_dir()\n",
    "    with open('judilibre_json/judilibre_json.tsv') as file:\n",
    "        # Get total line\n",
    "        total_lines = sum(1 for _ in file)\n",
    "        # Reset the file pointer to the beginning of the file\n",
    "        file.seek(0)\n",
    "\n",
    "        for line in tqdm(file, total=total_lines, desc=\"Creating Data File\", unit=\"lines\"):\n",
    "            # Split the line into fields based on tabs\n",
    "            fields = line.split('\\t')\n",
    "\n",
    "            # We get the id and the text_raw\n",
    "            if len(fields)== 2:\n",
    "                id_dec = fields[0]\n",
    "                text_raw = fields[1]\n",
    "            else:\n",
    "                print(fields)\n",
    "                continue\n",
    "\n",
    "            with open(f\"judilibre_json/data/{id_dec}.tsv\", 'a+') as passage_file:\n",
    "                # Append the data to the file\n",
    "                passage_file.write(text_raw)"
   ],
   "metadata": {
    "collapsed": false,
    "ExecuteTime": {
     "end_time": "2023-10-21T16:33:20.545807Z",
     "start_time": "2023-10-21T16:33:20.538891Z"
    }
   }
  },
  {
   "cell_type": "code",
   "execution_count": 14,
   "outputs": [
    {
     "name": "stderr",
     "output_type": "stream",
     "text": [
      "Creating Data File: 100%|██████████| 13547390/13547390 [06:02<00:00, 37390.36lines/s]\n"
     ]
    }
   ],
   "source": [
    "create_files()"
   ],
   "metadata": {
    "collapsed": false,
    "ExecuteTime": {
     "end_time": "2023-10-21T16:39:27.523737Z",
     "start_time": "2023-10-21T16:33:21.338068Z"
    }
   }
  },
  {
   "cell_type": "code",
   "execution_count": 4,
   "outputs": [],
   "source": [
    "tokens = tokenizer.encode(\"Le jugement sera donc confirmé en ce qu'il a débouté le salarié de ses demandes.\")"
   ],
   "metadata": {
    "collapsed": false,
    "ExecuteTime": {
     "end_time": "2023-10-25T07:24:35.880536661Z",
     "start_time": "2023-10-25T07:24:35.817384372Z"
    }
   }
  },
  {
   "cell_type": "code",
   "execution_count": 5,
   "outputs": [
    {
     "data": {
      "text/plain": "22"
     },
     "execution_count": 5,
     "metadata": {},
     "output_type": "execute_result"
    }
   ],
   "source": [
    "len(tokens)"
   ],
   "metadata": {
    "collapsed": false,
    "ExecuteTime": {
     "end_time": "2023-10-25T07:24:40.747734488Z",
     "start_time": "2023-10-25T07:24:40.656946359Z"
    }
   }
  },
  {
   "cell_type": "code",
   "execution_count": 6,
   "outputs": [
    {
     "data": {
      "text/plain": "[5,\n 54,\n 3677,\n 210,\n 145,\n 4635,\n 22,\n 44,\n 46,\n 11,\n 62,\n 33,\n 18,\n 14882,\n 728,\n 16,\n 4330,\n 8,\n 89,\n 3083,\n 9,\n 6]"
     },
     "execution_count": 6,
     "metadata": {},
     "output_type": "execute_result"
    }
   ],
   "source": [
    "tokens"
   ],
   "metadata": {
    "collapsed": false,
    "ExecuteTime": {
     "end_time": "2023-10-25T07:24:44.852915060Z",
     "start_time": "2023-10-25T07:24:44.725164700Z"
    }
   }
  },
  {
   "cell_type": "code",
   "execution_count": 7,
   "outputs": [],
   "source": [
    "tokens = tokenizer.tokenize(\"Le jugement sera donc confirmé en ce qu'il a débouté le salarié de ses demandes.\")"
   ],
   "metadata": {
    "collapsed": false,
    "ExecuteTime": {
     "end_time": "2023-10-25T07:25:12.397076Z",
     "start_time": "2023-10-25T07:25:12.256857491Z"
    }
   }
  },
  {
   "cell_type": "code",
   "execution_count": 8,
   "outputs": [
    {
     "data": {
      "text/plain": "20"
     },
     "execution_count": 8,
     "metadata": {},
     "output_type": "execute_result"
    }
   ],
   "source": [
    "len(tokens)"
   ],
   "metadata": {
    "collapsed": false,
    "ExecuteTime": {
     "end_time": "2023-10-25T07:25:16.841506111Z",
     "start_time": "2023-10-25T07:25:16.727841497Z"
    }
   }
  },
  {
   "cell_type": "code",
   "execution_count": 9,
   "outputs": [
    {
     "data": {
      "text/plain": "['▁Le',\n '▁jugement',\n '▁sera',\n '▁donc',\n '▁confirmé',\n '▁en',\n '▁ce',\n '▁qu',\n \"'\",\n 'il',\n '▁a',\n '▁d',\n 'ébou',\n 'té',\n '▁le',\n '▁salarié',\n '▁de',\n '▁ses',\n '▁demandes',\n '.']"
     },
     "execution_count": 9,
     "metadata": {},
     "output_type": "execute_result"
    }
   ],
   "source": [
    "tokens"
   ],
   "metadata": {
    "collapsed": false,
    "ExecuteTime": {
     "end_time": "2023-10-25T07:25:19.423967852Z",
     "start_time": "2023-10-25T07:25:19.292957199Z"
    }
   }
  },
  {
   "cell_type": "code",
   "execution_count": 10,
   "outputs": [],
   "source": [
    "tokens = tokenizer(\"Le jugement sera donc confirmé en ce qu'il a débouté le salarié de ses demandes.\")"
   ],
   "metadata": {
    "collapsed": false,
    "ExecuteTime": {
     "end_time": "2023-10-25T07:28:41.842777715Z",
     "start_time": "2023-10-25T07:28:41.735268047Z"
    }
   }
  },
  {
   "cell_type": "code",
   "execution_count": 11,
   "outputs": [
    {
     "data": {
      "text/plain": "{'input_ids': [5, 54, 3677, 210, 145, 4635, 22, 44, 46, 11, 62, 33, 18, 14882, 728, 16, 4330, 8, 89, 3083, 9, 6], 'attention_mask': [1, 1, 1, 1, 1, 1, 1, 1, 1, 1, 1, 1, 1, 1, 1, 1, 1, 1, 1, 1, 1, 1]}"
     },
     "execution_count": 11,
     "metadata": {},
     "output_type": "execute_result"
    }
   ],
   "source": [
    "tokens"
   ],
   "metadata": {
    "collapsed": false,
    "ExecuteTime": {
     "end_time": "2023-10-25T07:28:45.767647757Z",
     "start_time": "2023-10-25T07:28:45.668771940Z"
    }
   }
  },
  {
   "cell_type": "code",
   "execution_count": 12,
   "outputs": [
    {
     "data": {
      "text/plain": "22"
     },
     "execution_count": 12,
     "metadata": {},
     "output_type": "execute_result"
    }
   ],
   "source": [
    "len(tokens['input_ids'])"
   ],
   "metadata": {
    "collapsed": false,
    "ExecuteTime": {
     "end_time": "2023-10-25T07:29:10.751327895Z",
     "start_time": "2023-10-25T07:29:10.666326905Z"
    }
   }
  },
  {
   "cell_type": "code",
   "execution_count": null,
   "outputs": [],
   "source": [],
   "metadata": {
    "collapsed": false
   }
  }
 ],
 "metadata": {
  "kernelspec": {
   "display_name": "Python 3",
   "language": "python",
   "name": "python3"
  },
  "language_info": {
   "codemirror_mode": {
    "name": "ipython",
    "version": 2
   },
   "file_extension": ".py",
   "mimetype": "text/x-python",
   "name": "python",
   "nbconvert_exporter": "python",
   "pygments_lexer": "ipython2",
   "version": "2.7.6"
  }
 },
 "nbformat": 4,
 "nbformat_minor": 0
}
